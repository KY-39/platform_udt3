{
  "nbformat": 4,
  "nbformat_minor": 0,
  "metadata": {
    "colab": {
      "name": "my \"Использование_функций_и_библиотек_Python - д.з.\"",
      "provenance": [],
      "collapsed_sections": [],
      "include_colab_link": true
    },
    "kernelspec": {
      "name": "python3",
      "display_name": "Python 3"
    }
  },
  "cells": [
    {
      "cell_type": "markdown",
      "metadata": {
        "id": "view-in-github",
        "colab_type": "text"
      },
      "source": [
        "<a href=\"https://colab.research.google.com/github/KY-39/platforma_udt/blob/main/%D0%98%D1%81%D0%BF%D0%BE%D0%BB%D1%8C%D0%B7%D0%BE%D0%B2%D0%B0%D0%BD%D0%B8%D0%B5_%D1%84%D1%83%D0%BD%D0%BA%D1%86%D0%B8%D0%B9_%D0%B8_%D0%B1%D0%B8%D0%B1%D0%BB%D0%B8%D0%BE%D1%82%D0%B5%D0%BA_Python.ipynb\" target=\"_parent\"><img src=\"https://colab.research.google.com/assets/colab-badge.svg\" alt=\"Open In Colab\"/></a>"
      ]
    },
    {
      "cell_type": "markdown",
      "metadata": {
        "id": "uVQjRFc6abYJ"
      },
      "source": [
        "## ООО \"Университет Цифровых Технологий платформа 3\""
      ]
    },
    {
      "cell_type": "markdown",
      "metadata": {
        "id": "5LB-4aJy2rsx"
      },
      "source": [
        "# Использование функций и библиотек Python\n"
      ]
    },
    {
      "cell_type": "markdown",
      "metadata": {
        "id": "RTjE4HXMMxpC"
      },
      "source": [
        "#Домашнее задание"
      ]
    },
    {
      "cell_type": "markdown",
      "metadata": {
        "id": "eaaY57bK496-"
      },
      "source": [
        "## Базовый"
      ]
    },
    {
      "cell_type": "markdown",
      "metadata": {
        "id": "W8FbiV-4sFyc"
      },
      "source": [
        "1. Напишите лямбда функцию, которая возвращает строку в обратном порядке и объединяет её саму с собой, но не перевёрнутой. Пример: \"перевёртыш фразы\" -> \"ызарф шытрёверепперевёртыш фразы\""
      ]
    },
    {
      "cell_type": "code",
      "metadata": {
        "colab": {
          "base_uri": "https://localhost:8080/",
          "height": 35
        },
        "id": "WtRZCaRABn0Y",
        "outputId": "a9976800-1bd4-4c41-840f-e987d19e9edc"
      },
      "source": [
        "string = 'лямбда функция'\n",
        "(lambda x: x[::-1] + x)(string)"
      ],
      "execution_count": null,
      "outputs": [
        {
          "output_type": "execute_result",
          "data": {
            "application/vnd.google.colaboratory.intrinsic+json": {
              "type": "string"
            },
            "text/plain": [
              "'яицкнуф адбмяллямбда функция'"
            ]
          },
          "metadata": {},
          "execution_count": 11
        }
      ]
    },
    {
      "cell_type": "markdown",
      "metadata": {
        "id": "oEOyyaaW6YPW"
      },
      "source": [
        "2. Напишите функцию, которая при получении высоты и радиуса на вход, считает и печатает и записывает в переменную объём цилиндра. При этом, необходимо число Пи импортировать из библиотеки math всеми доступными для данной задачи из описанных в разделе модули способами (можно сделать разные функции)."
      ]
    },
    {
      "cell_type": "code",
      "metadata": {
        "colab": {
          "base_uri": "https://localhost:8080/"
        },
        "id": "52DoP4QGEJw_",
        "outputId": "03a60bd0-e2f6-4a26-a2e3-3b9def147456"
      },
      "source": [
        "from math import pi\n",
        "\n",
        "def value(h, r):\n",
        "  return pi * r ** 2 * h\n",
        "\n",
        "def in_out():\n",
        "\n",
        "  x = input('высота = ')\n",
        "  y = input('радиус = ')\n",
        "  \n",
        "  val = value(int(x), int(y))\n",
        "  \n",
        "  return val\n",
        "\n",
        "\n",
        "in_out()\n"
      ],
      "execution_count": null,
      "outputs": [
        {
          "name": "stdout",
          "output_type": "stream",
          "text": [
            "высота = 3\n",
            "радиус = 3\n"
          ]
        },
        {
          "output_type": "execute_result",
          "data": {
            "text/plain": [
              "84.82300164692441"
            ]
          },
          "metadata": {},
          "execution_count": 18
        }
      ]
    },
    {
      "cell_type": "markdown",
      "metadata": {
        "id": "elQUqDZ90dLD"
      },
      "source": [
        "3. Напишите функцию, которая принимает на вход строку и отдельно выдаёт содержащиеся в ней цифры от 0 до 9, конкатенировав их, отдельно - остальной текст, с двоеточием на конце. Пример строки: 'Дом построен в 2021 году'. Выдача: Дом построен в  году: 2021. \n",
        "    Примечание: переменные можно как отдельно получить и распечатать, так и взять из кортежа, возвращённого функцией, по индексу."
      ]
    },
    {
      "cell_type": "code",
      "metadata": {
        "colab": {
          "base_uri": "https://localhost:8080/"
        },
        "id": "zwAe-GySIuzF",
        "outputId": "eafbf81e-abf5-42bb-f269-ef124f98addf"
      },
      "source": [
        "def segregator(string):\n",
        "    number = ''\n",
        "    symbols = ''\n",
        "    for i in string:\n",
        "        if i.isdigit():\n",
        "            number += i\n",
        "        else:\n",
        "            symbols += i\n",
        "    return symbols + ':', number\n",
        "\n",
        "\n",
        "string = 'Дом построен в 2021 году'\n",
        "print(' '.join(segregator(string)))\n"
      ],
      "execution_count": null,
      "outputs": [
        {
          "output_type": "stream",
          "name": "stdout",
          "text": [
            "Дом построен в  году: 2021\n"
          ]
        }
      ]
    },
    {
      "cell_type": "markdown",
      "metadata": {
        "id": "mlI4ERg6iu1h"
      },
      "source": [
        "4. Напишите генератор, выдающий последовательность чисел арифметической прогрессии (первое число - 3, каждое последующее на 4 больше предыдущего). Главное в решении задачи - чтобы числа печатались в строку, при этом чтобы массив не формировался и была экономия памяти, а числа просто выдавались генератором последовательно и тут же печатались. Необходимо ввести предел, числа выше которого не выводятся на печать."
      ]
    },
    {
      "cell_type": "code",
      "metadata": {
        "colab": {
          "base_uri": "https://localhost:8080/"
        },
        "id": "_-P9PITiK3jd",
        "outputId": "97eae028-834b-4962-90e1-3400a6f5b3f2"
      },
      "source": [
        "x, y = 3, 4\n",
        "\n",
        "def progres(limit):\n",
        "  z = x\n",
        "  while z < limit:\n",
        "    yield str(z)\n",
        "    z += y\n",
        "\n",
        "limit = int(input('введите верхний предел прогрессии - '))\n",
        "\n",
        "print(', '.join(progres(limit)))"
      ],
      "execution_count": null,
      "outputs": [
        {
          "output_type": "stream",
          "name": "stdout",
          "text": [
            "введите верхний предел прогрессии - 555\n",
            "3, 7, 11, 15, 19, 23, 27, 31, 35, 39, 43, 47, 51, 55, 59, 63, 67, 71, 75, 79, 83, 87, 91, 95, 99, 103, 107, 111, 115, 119, 123, 127, 131, 135, 139, 143, 147, 151, 155, 159, 163, 167, 171, 175, 179, 183, 187, 191, 195, 199, 203, 207, 211, 215, 219, 223, 227, 231, 235, 239, 243, 247, 251, 255, 259, 263, 267, 271, 275, 279, 283, 287, 291, 295, 299, 303, 307, 311, 315, 319, 323, 327, 331, 335, 339, 343, 347, 351, 355, 359, 363, 367, 371, 375, 379, 383, 387, 391, 395, 399, 403, 407, 411, 415, 419, 423, 427, 431, 435, 439, 443, 447, 451, 455, 459, 463, 467, 471, 475, 479, 483, 487, 491, 495, 499, 503, 507, 511, 515, 519, 523, 527, 531, 535, 539, 543, 547, 551\n"
          ]
        }
      ]
    },
    {
      "cell_type": "markdown",
      "metadata": {
        "id": "LoEwuPsl49A_"
      },
      "source": [
        "## Основной"
      ]
    },
    {
      "cell_type": "markdown",
      "metadata": {
        "id": "vHcJBZXMst5C"
      },
      "source": [
        "1. Напишите функцию `mult_str()`, которая в качестве параметров принимает строковую переменную inp_str и число n, а возвращает строку, в которой повторяется inp_str ровно n раз через пробел ' '. Функция должна возвращать пустую строку если `n = 0`"
      ]
    },
    {
      "cell_type": "code",
      "metadata": {
        "colab": {
          "base_uri": "https://localhost:8080/",
          "height": 35
        },
        "id": "zR97oYncRI1U",
        "outputId": "0a43d6ed-8939-4d39-ee31-01d0ec08b676"
      },
      "source": [
        "def mult_str(inp_str, n):\n",
        "  return ((inp_str + ' ') * n).rstrip()\n",
        "\n",
        "mult_str('биба и боба', 3)"
      ],
      "execution_count": null,
      "outputs": [
        {
          "output_type": "execute_result",
          "data": {
            "application/vnd.google.colaboratory.intrinsic+json": {
              "type": "string"
            },
            "text/plain": [
              "'биба и боба биба и боба биба и боба'"
            ]
          },
          "metadata": {},
          "execution_count": 58
        }
      ]
    },
    {
      "cell_type": "markdown",
      "metadata": {
        "id": "CtNMznvit5nP"
      },
      "source": [
        "2. Создайте функцию-генератор, возвращающую случайное равновероятное значение из множества {0,10}, тип float. Сгенерируйте с ее помощью N значений (N - параметр генератора, сделайте проверку, чтобы это число можно было вводить в пределах 500...10000). Найдите среднее арифметическое этих значений."
      ]
    },
    {
      "cell_type": "code",
      "metadata": {
        "colab": {
          "base_uri": "https://localhost:8080/"
        },
        "id": "9XYmp1bEuZj7",
        "outputId": "b73f9360-50b5-4ded-d417-93ee5ed66e65"
      },
      "source": [
        "import random\n",
        "import numpy as np\n",
        "\n",
        "def rng(n):\n",
        "  for i in range(n):\n",
        "    yield random.random() * 10\n",
        "\n",
        "N = 0\n",
        "while N < 500 or 10000 < N:\n",
        "  N = int(input('Введите число в интервале 500...10000 - '))\n",
        "\n",
        "np.mean([i for i in rng(N)])\n"
      ],
      "execution_count": null,
      "outputs": [
        {
          "name": "stdout",
          "output_type": "stream",
          "text": [
            "Введите число в интервале 500...10000 - 555\n"
          ]
        },
        {
          "output_type": "execute_result",
          "data": {
            "text/plain": [
              "4.762892784697513"
            ]
          },
          "metadata": {},
          "execution_count": 14
        }
      ]
    },
    {
      "cell_type": "markdown",
      "metadata": {
        "id": "2bZKmhlu0Sy7"
      },
      "source": [
        "3. Напишите функцию, которая считает отношение периметра правильного N-угольника, вписанного в окружность, к длине окружности, при количестве углов от 3 до 100."
      ]
    },
    {
      "cell_type": "code",
      "metadata": {
        "colab": {
          "base_uri": "https://localhost:8080/"
        },
        "id": "UCPVy45Qxk1r",
        "outputId": "5df520f3-9a2d-4ef1-8c23-10da3912a4bd"
      },
      "source": [
        "import math\n",
        "\n",
        "N = 0\n",
        "while N < 3 or 100 < N:\n",
        "  N = int(input('Введите число углов в интервале 3...100 - '))\n",
        "\n",
        "def calculate(n):\n",
        "  return 2 * n * math.sin(math.pi / n) / (2 * math.pi)\n",
        "\n",
        "calculate(N)"
      ],
      "execution_count": null,
      "outputs": [
        {
          "name": "stdout",
          "output_type": "stream",
          "text": [
            "Введите число углов в интервале 3...100 - 55\n"
          ]
        },
        {
          "output_type": "execute_result",
          "data": {
            "text/plain": [
              "0.9994563088452595"
            ]
          },
          "metadata": {},
          "execution_count": 18
        }
      ]
    },
    {
      "cell_type": "markdown",
      "metadata": {
        "id": "XJa3VEja2IjL"
      },
      "source": [
        "## Продвинутый"
      ]
    },
    {
      "cell_type": "markdown",
      "metadata": {
        "id": "YrxZkORBzAYa"
      },
      "source": [
        "1. Напишите функцию, содержащую в себе вложенные функции. Функция должна принимать температуру в градусах Цельсия, а вложенные функции должны выводить: одна - Градусы Фаренгейта, другая - Реомюра. Возврат значений должен быть в общую функцию, а из неё уже вывод осуществляться с помощью печати (print).\n"
      ]
    },
    {
      "cell_type": "code",
      "metadata": {
        "colab": {
          "base_uri": "https://localhost:8080/"
        },
        "id": "irubKcX7ypXa",
        "outputId": "5fd44a3b-8a32-4146-d5a0-16722051276f"
      },
      "source": [
        "def temperature(t):\n",
        "  def fahrenheit(t):\n",
        "    return t * 9 / 5 + 32\n",
        "  def reomur(t):\n",
        "    return t * 4 / 5\n",
        "  print(f'{t} градусов Цельсия составляет {fahrenheit(t)} по Фаренгейту и {reomur(t)} по Реомюру.')\n",
        "\n",
        "temperature(int(input('Введите температуру в градусах Цельсия - ')))"
      ],
      "execution_count": null,
      "outputs": [
        {
          "output_type": "stream",
          "name": "stdout",
          "text": [
            "Введите температуру в градусах Цельсия - 55\n",
            "55 градусов Цельсия составляет 131.0 по Фаренгейту и 44.0 по Реомюру.\n"
          ]
        }
      ]
    },
    {
      "cell_type": "markdown",
      "metadata": {
        "id": "wJuj03mj5lmU"
      },
      "source": [
        "2. Придумайте и напишите декоратор, принимающий температуру в градусах Цельсия, переводящий её в градусы Фаренгейта и выводящий результат из всей конструкции. Вызовите его с помощью @, распечатайте результат выполнения. Также, в качестве альтернативы, можете написать собственный декоратор функции. Код должен быть работоспособным."
      ]
    },
    {
      "cell_type": "code",
      "metadata": {
        "id": "23ddQk7X15SA"
      },
      "source": [
        "def decorate(func):\n",
        "  def temperature(t):\n",
        "    def fahrenheit(t):\n",
        "      return t * 9 / 5 + 32\n",
        "    def reomur(t):\n",
        "      return t * 4 / 5\n",
        "    print(f'{t} градусов Цельсия составляет {fahrenheit(t)} по Фаренгейту и {reomur(t)} по Реомюру.')\n",
        "    return fahrenheit(t)\n",
        "  return temperature"
      ],
      "execution_count": null,
      "outputs": []
    },
    {
      "cell_type": "code",
      "metadata": {
        "colab": {
          "base_uri": "https://localhost:8080/"
        },
        "id": "mphWfnUQIRd2",
        "outputId": "7ee1bc65-93ce-4f7a-b9e6-ab2ee379cf4c"
      },
      "source": [
        "@decorate\n",
        "def result(t):\n",
        "  return\n",
        "\n",
        "result(55)"
      ],
      "execution_count": null,
      "outputs": [
        {
          "output_type": "stream",
          "name": "stdout",
          "text": [
            "55 градусов Цельсия составляет 131.0 по Фаренгейту и 44.0 по Реомюру.\n"
          ]
        },
        {
          "output_type": "execute_result",
          "data": {
            "text/plain": [
              "131.0"
            ]
          },
          "metadata": {},
          "execution_count": 122
        }
      ]
    },
    {
      "cell_type": "markdown",
      "metadata": {
        "id": "R_3wJxDrvObW"
      },
      "source": [
        "3. Напишите функцию-генератор get_prime(N) простых чисел. \n",
        "\n",
        "    Вариант 1: параметр N - сколько нужно получить простых чисел.\n",
        "\n",
        "    Вариант 2: параметр N означает \"получить все простые числа, не превосходящие N\""
      ]
    },
    {
      "cell_type": "code",
      "metadata": {
        "colab": {
          "base_uri": "https://localhost:8080/"
        },
        "id": "8WdtO9BL5pOR",
        "outputId": "f7c9d76d-eeb0-4480-aa91-996bb1b319d8"
      },
      "source": [
        "def gen_prime(N):\n",
        "  primes = []\n",
        "  n = 2\n",
        "  while len(primes) < N:\n",
        "    prime = True\n",
        "    for i in primes:\n",
        "      if n % i == 0:\n",
        "        prime = False\n",
        "        break\n",
        "      if i * i > n:\n",
        "        break\n",
        "    if prime:\n",
        "      primes.append(n)\n",
        "      yield n\n",
        "    n += 1\n",
        "\n",
        "N = 10\n",
        "list(gen_prime(N))"
      ],
      "execution_count": null,
      "outputs": [
        {
          "output_type": "execute_result",
          "data": {
            "text/plain": [
              "[2, 3, 5, 7, 11, 13, 17, 19, 23, 29]"
            ]
          },
          "metadata": {},
          "execution_count": 46
        }
      ]
    },
    {
      "cell_type": "code",
      "metadata": {
        "colab": {
          "base_uri": "https://localhost:8080/"
        },
        "id": "XdcE-Hgw6u54",
        "outputId": "7392a9b3-a3ca-4107-cf3a-cbc4b53ea837"
      },
      "source": [
        "def gen_prime(N):\n",
        "  primes = []\n",
        "  for n in range(2, N + 1):\n",
        "    prime = True\n",
        "    for i in primes:\n",
        "      if n % i == 0:\n",
        "        prime = False\n",
        "        break\n",
        "      if i * i > n:\n",
        "        break\n",
        "    if prime:\n",
        "      primes.append(n)\n",
        "      yield n\n",
        "\n",
        "N = 50\n",
        "list(gen_prime(N))"
      ],
      "execution_count": null,
      "outputs": [
        {
          "output_type": "execute_result",
          "data": {
            "text/plain": [
              "[2, 3, 5, 7, 11, 13, 17, 19, 23, 29, 31, 37, 41, 43, 47]"
            ]
          },
          "metadata": {},
          "execution_count": 49
        }
      ]
    },
    {
      "cell_type": "markdown",
      "metadata": {
        "id": "WjSc3mMt2WmL"
      },
      "source": [
        "## Профессиональный"
      ]
    },
    {
      "cell_type": "markdown",
      "metadata": {
        "id": "xZTFNWS72eaA"
      },
      "source": [
        "1. Найдите в Интернет примеры и разберитесь, как с помощью декоратора Numba обернуть какое-либо математическое или программное действие (например, многократное суммирование корней чисел). С помощью timeit или time оцените время выполнения кода с декоратором и без него. При правильном выполнении, время с декоратором должно быть меньше."
      ]
    },
    {
      "cell_type": "code",
      "metadata": {
        "colab": {
          "base_uri": "https://localhost:8080/"
        },
        "id": "rs268gciEAJv",
        "outputId": "60bc419a-3a67-41e3-9ef9-b4b64fb99bfe"
      },
      "source": [
        "from numba import njit\n",
        "\n",
        "@njit\n",
        "def f(n):\n",
        "  sum = 0.\n",
        "  for i in range(n):\n",
        "    sum += i ** i\n",
        "  return sum\n",
        "\n",
        "%timeit f(40)"
      ],
      "execution_count": null,
      "outputs": [
        {
          "output_type": "stream",
          "name": "stdout",
          "text": [
            "The slowest run took 213877.81 times longer than the fastest. This could mean that an intermediate result is being cached.\n",
            "1000000 loops, best of 5: 422 ns per loop\n"
          ]
        }
      ]
    },
    {
      "cell_type": "code",
      "metadata": {
        "colab": {
          "base_uri": "https://localhost:8080/"
        },
        "id": "TcOBKp3XEejr",
        "outputId": "a039f232-40ee-4d78-d396-a013dca05304"
      },
      "source": [
        "def f(n):\n",
        "  sum = 0.\n",
        "  for i in range(n):\n",
        "    sum += i ** i\n",
        "  return sum\n",
        "\n",
        "%timeit f(40)"
      ],
      "execution_count": null,
      "outputs": [
        {
          "output_type": "stream",
          "name": "stdout",
          "text": [
            "The slowest run took 5.01 times longer than the fastest. This could mean that an intermediate result is being cached.\n",
            "100000 loops, best of 5: 17 µs per loop\n"
          ]
        }
      ]
    },
    {
      "cell_type": "markdown",
      "metadata": {
        "id": "eVSBhX0o3rpe"
      },
      "source": [
        "2. Напишите полиморфную функцию, принимающую один позиционный аргумент и произвольное число аргументов и возвращающая сумму произвольных (или конкатенацию, в зависимости от типа данных), умноженную на позиционный аргумент. При вызове без аргументов должно возвращаться `None`. \n",
        "\n",
        "    Посчитайте таким образом сумму налога за год, считая, что налог 13%, а список начислений за месяц Вы получаете в цикле, используя генератор списков.\n",
        "\n",
        "    Подразумевается, что все переданные произвольные параметры принадлежат одному и тому же типу данных, а позиционный - числовой."
      ]
    },
    {
      "cell_type": "code",
      "metadata": {
        "id": "il7No4gl_Fy_"
      },
      "source": [
        "def nalod_sum(num, *arg_list):\n",
        "  if not arg_list:\n",
        "    return\n",
        "  sum = arg_list[0]\n",
        "  for i in arg_list[1:]:\n",
        "    sum += i\n",
        "  return sum * num"
      ],
      "execution_count": null,
      "outputs": []
    },
    {
      "cell_type": "code",
      "metadata": {
        "colab": {
          "base_uri": "https://localhost:8080/"
        },
        "id": "Wz6zRGoF_SUp",
        "outputId": "011dddf0-438d-453a-93ec-1624fbebbdba"
      },
      "source": [
        "persent = .13\n",
        "per_month = 25000\n",
        "months = 12\n",
        "\n",
        "nalod_sum(persent, *[per_month for _ in range(months)])"
      ],
      "execution_count": null,
      "outputs": [
        {
          "output_type": "execute_result",
          "data": {
            "text/plain": [
              "39000.0"
            ]
          },
          "metadata": {},
          "execution_count": 77
        }
      ]
    },
    {
      "cell_type": "markdown",
      "metadata": {
        "id": "PkjLizLTDGwa"
      },
      "source": [
        "3. Используя список литературы в тексте блокнота занятия, либо поиск в сети Интернет, найдите совместное использование filter и lambda. Найдите в списке слова, содержащие `ов`: ['марина', 'рекогносцировка', 'ярослава', 'иванов', 'костров', 'ольга',  'котлов', 'топоров', 'рябинина'], и выведите результат отдельным списком.\n"
      ]
    },
    {
      "cell_type": "code",
      "metadata": {
        "colab": {
          "base_uri": "https://localhost:8080/"
        },
        "id": "ycAM80AZ9iEn",
        "outputId": "3e37a2bc-364f-4f31-d134-0c1d4fce8b6f"
      },
      "source": [
        "search = 'ов'\n",
        "word_list = ['марина', 'рекогносцировка', 'ярослава', 'иванов', 'костров', 'ольга',  'котлов', 'топоров', 'рябинина']\n",
        "\n",
        "list(filter(lambda x: search in x, word_list))"
      ],
      "execution_count": null,
      "outputs": [
        {
          "output_type": "execute_result",
          "data": {
            "text/plain": [
              "['рекогносцировка', 'иванов', 'костров', 'котлов', 'топоров']"
            ]
          },
          "metadata": {},
          "execution_count": 52
        }
      ]
    },
    {
      "cell_type": "markdown",
      "metadata": {
        "id": "8rs9yzPQBkg5"
      },
      "source": [
        "4. Используя список литературы в тексте блокнота занятия, либо поиск в сети Интернет, найдите совместное использование map и lambda. Измените имена в данном списке так, чтобы они начинались с заглавных букв: ['марина', 'ольга', 'ярослава'], и выведите результат отдельным списком."
      ]
    },
    {
      "cell_type": "code",
      "metadata": {
        "colab": {
          "base_uri": "https://localhost:8080/"
        },
        "id": "9q60oKJc8vHA",
        "outputId": "290e4de2-e675-447d-d9d0-a4ddf3f044b0"
      },
      "source": [
        "names = ['марина', 'ольга', 'ярослава']\n",
        "\n",
        "list(map(lambda x: x.title(), names))\n"
      ],
      "execution_count": null,
      "outputs": [
        {
          "output_type": "execute_result",
          "data": {
            "text/plain": [
              "['Марина', 'Ольга', 'Ярослава']"
            ]
          },
          "metadata": {},
          "execution_count": 50
        }
      ]
    },
    {
      "cell_type": "markdown",
      "metadata": {
        "id": "5kdd7pPIesQj"
      },
      "source": [
        "# Литература\n",
        "\n"
      ]
    },
    {
      "cell_type": "markdown",
      "metadata": {
        "id": "UuqC13bafBuq"
      },
      "source": [
        "1. https://yandex.ru/turbo/nuancesprog.ru/s/p/11182/\n",
        "2. https://all-python.ru/osnovy/funktsii.html\n",
        "3. https://pythonchik.ru/osnovy/funkcii-v-python\n",
        "4. http://pythonicway.com/python-functions\n",
        "5. https://pythonworld.ru/tipy-dannyx-v-python/vse-o-funkciyax-i-ix-argumentax.html\n",
        "6. https://devpractice.ru/python-modules-and-packages/\n",
        "7. https://pythonworld.ru/moduli\n",
        "8. https://pythonru.com/osnovy/funkcija-map-v-python\n",
        "9. https://dev-gang.ru/article/lambda-map-i-filter-v-python/\n",
        "10. https://pythonru.com/uroki/funkcija-filter-dlja-nachinajushhih\n",
        "\n",
        "\n",
        "---\n",
        "\n"
      ]
    },
    {
      "cell_type": "markdown",
      "metadata": {
        "id": "Y64QY1Hv-R_K"
      },
      "source": [
        "# The End"
      ]
    }
  ]
}