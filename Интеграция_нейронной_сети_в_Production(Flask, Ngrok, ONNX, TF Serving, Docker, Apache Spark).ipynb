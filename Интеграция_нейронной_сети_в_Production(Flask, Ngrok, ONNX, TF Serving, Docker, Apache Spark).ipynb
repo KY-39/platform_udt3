{
  "nbformat": 4,
  "nbformat_minor": 0,
  "metadata": {
    "colab": {
      "name": "my Интеграция нейронной сети в Production.ipynb",
      "provenance": [],
      "collapsed_sections": [],
      "include_colab_link": true
    },
    "kernelspec": {
      "name": "python3",
      "display_name": "Python 3"
    },
    "language_info": {
      "name": "python"
    },
    "widgets": {
      "application/vnd.jupyter.widget-state+json": {
        "a912fe122ce048aaa2eee98612f6330f": {
          "model_module": "@jupyter-widgets/controls",
          "model_name": "HBoxModel",
          "model_module_version": "1.5.0",
          "state": {
            "_view_name": "HBoxView",
            "_dom_classes": [],
            "_model_name": "HBoxModel",
            "_view_module": "@jupyter-widgets/controls",
            "_model_module_version": "1.5.0",
            "_view_count": null,
            "_view_module_version": "1.5.0",
            "box_style": "",
            "layout": "IPY_MODEL_f2bdc16476834bfba06a4b42ac912352",
            "_model_module": "@jupyter-widgets/controls",
            "children": [
              "IPY_MODEL_aeeb2e630b534cadbd200fa7536b0a85",
              "IPY_MODEL_5ea25e8db94e4bb7a1a6726f65414186",
              "IPY_MODEL_d79744b4354d4dcbaf43540b09be3577"
            ]
          }
        },
        "f2bdc16476834bfba06a4b42ac912352": {
          "model_module": "@jupyter-widgets/base",
          "model_name": "LayoutModel",
          "model_module_version": "1.2.0",
          "state": {
            "_view_name": "LayoutView",
            "grid_template_rows": null,
            "right": null,
            "justify_content": null,
            "_view_module": "@jupyter-widgets/base",
            "overflow": null,
            "_model_module_version": "1.2.0",
            "_view_count": null,
            "flex_flow": null,
            "width": null,
            "min_width": null,
            "border": null,
            "align_items": null,
            "bottom": null,
            "_model_module": "@jupyter-widgets/base",
            "top": null,
            "grid_column": null,
            "overflow_y": null,
            "overflow_x": null,
            "grid_auto_flow": null,
            "grid_area": null,
            "grid_template_columns": null,
            "flex": null,
            "_model_name": "LayoutModel",
            "justify_items": null,
            "grid_row": null,
            "max_height": null,
            "align_content": null,
            "visibility": null,
            "align_self": null,
            "height": null,
            "min_height": null,
            "padding": null,
            "grid_auto_rows": null,
            "grid_gap": null,
            "max_width": null,
            "order": null,
            "_view_module_version": "1.2.0",
            "grid_template_areas": null,
            "object_position": null,
            "object_fit": null,
            "grid_auto_columns": null,
            "margin": null,
            "display": null,
            "left": null
          }
        },
        "aeeb2e630b534cadbd200fa7536b0a85": {
          "model_module": "@jupyter-widgets/controls",
          "model_name": "HTMLModel",
          "model_module_version": "1.5.0",
          "state": {
            "_view_name": "HTMLView",
            "style": "IPY_MODEL_96b0b7806fd54a2f8957896ea131b7d9",
            "_dom_classes": [],
            "description": "",
            "_model_name": "HTMLModel",
            "placeholder": "​",
            "_view_module": "@jupyter-widgets/controls",
            "_model_module_version": "1.5.0",
            "value": "",
            "_view_count": null,
            "_view_module_version": "1.5.0",
            "description_tooltip": null,
            "_model_module": "@jupyter-widgets/controls",
            "layout": "IPY_MODEL_78acf2bf27de4a93b9bdf4cacbd837c1"
          }
        },
        "5ea25e8db94e4bb7a1a6726f65414186": {
          "model_module": "@jupyter-widgets/controls",
          "model_name": "FloatProgressModel",
          "model_module_version": "1.5.0",
          "state": {
            "_view_name": "ProgressView",
            "style": "IPY_MODEL_edbc807519fa49269b3e5891a1a52cff",
            "_dom_classes": [],
            "description": "",
            "_model_name": "FloatProgressModel",
            "bar_style": "success",
            "max": 9912422,
            "_view_module": "@jupyter-widgets/controls",
            "_model_module_version": "1.5.0",
            "value": 9912422,
            "_view_count": null,
            "_view_module_version": "1.5.0",
            "orientation": "horizontal",
            "min": 0,
            "description_tooltip": null,
            "_model_module": "@jupyter-widgets/controls",
            "layout": "IPY_MODEL_1ed4d2c910b34e76863d9b6ec59ea4f1"
          }
        },
        "d79744b4354d4dcbaf43540b09be3577": {
          "model_module": "@jupyter-widgets/controls",
          "model_name": "HTMLModel",
          "model_module_version": "1.5.0",
          "state": {
            "_view_name": "HTMLView",
            "style": "IPY_MODEL_73be865da4f54e9182da4f8d8aae9e21",
            "_dom_classes": [],
            "description": "",
            "_model_name": "HTMLModel",
            "placeholder": "​",
            "_view_module": "@jupyter-widgets/controls",
            "_model_module_version": "1.5.0",
            "value": " 9913344/? [00:00&lt;00:00, 15258660.90it/s]",
            "_view_count": null,
            "_view_module_version": "1.5.0",
            "description_tooltip": null,
            "_model_module": "@jupyter-widgets/controls",
            "layout": "IPY_MODEL_e5faa5826ef0490e92065f04ba22504f"
          }
        },
        "96b0b7806fd54a2f8957896ea131b7d9": {
          "model_module": "@jupyter-widgets/controls",
          "model_name": "DescriptionStyleModel",
          "model_module_version": "1.5.0",
          "state": {
            "_view_name": "StyleView",
            "_model_name": "DescriptionStyleModel",
            "description_width": "",
            "_view_module": "@jupyter-widgets/base",
            "_model_module_version": "1.5.0",
            "_view_count": null,
            "_view_module_version": "1.2.0",
            "_model_module": "@jupyter-widgets/controls"
          }
        },
        "78acf2bf27de4a93b9bdf4cacbd837c1": {
          "model_module": "@jupyter-widgets/base",
          "model_name": "LayoutModel",
          "model_module_version": "1.2.0",
          "state": {
            "_view_name": "LayoutView",
            "grid_template_rows": null,
            "right": null,
            "justify_content": null,
            "_view_module": "@jupyter-widgets/base",
            "overflow": null,
            "_model_module_version": "1.2.0",
            "_view_count": null,
            "flex_flow": null,
            "width": null,
            "min_width": null,
            "border": null,
            "align_items": null,
            "bottom": null,
            "_model_module": "@jupyter-widgets/base",
            "top": null,
            "grid_column": null,
            "overflow_y": null,
            "overflow_x": null,
            "grid_auto_flow": null,
            "grid_area": null,
            "grid_template_columns": null,
            "flex": null,
            "_model_name": "LayoutModel",
            "justify_items": null,
            "grid_row": null,
            "max_height": null,
            "align_content": null,
            "visibility": null,
            "align_self": null,
            "height": null,
            "min_height": null,
            "padding": null,
            "grid_auto_rows": null,
            "grid_gap": null,
            "max_width": null,
            "order": null,
            "_view_module_version": "1.2.0",
            "grid_template_areas": null,
            "object_position": null,
            "object_fit": null,
            "grid_auto_columns": null,
            "margin": null,
            "display": null,
            "left": null
          }
        },
        "edbc807519fa49269b3e5891a1a52cff": {
          "model_module": "@jupyter-widgets/controls",
          "model_name": "ProgressStyleModel",
          "model_module_version": "1.5.0",
          "state": {
            "_view_name": "StyleView",
            "_model_name": "ProgressStyleModel",
            "description_width": "",
            "_view_module": "@jupyter-widgets/base",
            "_model_module_version": "1.5.0",
            "_view_count": null,
            "_view_module_version": "1.2.0",
            "bar_color": null,
            "_model_module": "@jupyter-widgets/controls"
          }
        },
        "1ed4d2c910b34e76863d9b6ec59ea4f1": {
          "model_module": "@jupyter-widgets/base",
          "model_name": "LayoutModel",
          "model_module_version": "1.2.0",
          "state": {
            "_view_name": "LayoutView",
            "grid_template_rows": null,
            "right": null,
            "justify_content": null,
            "_view_module": "@jupyter-widgets/base",
            "overflow": null,
            "_model_module_version": "1.2.0",
            "_view_count": null,
            "flex_flow": null,
            "width": null,
            "min_width": null,
            "border": null,
            "align_items": null,
            "bottom": null,
            "_model_module": "@jupyter-widgets/base",
            "top": null,
            "grid_column": null,
            "overflow_y": null,
            "overflow_x": null,
            "grid_auto_flow": null,
            "grid_area": null,
            "grid_template_columns": null,
            "flex": null,
            "_model_name": "LayoutModel",
            "justify_items": null,
            "grid_row": null,
            "max_height": null,
            "align_content": null,
            "visibility": null,
            "align_self": null,
            "height": null,
            "min_height": null,
            "padding": null,
            "grid_auto_rows": null,
            "grid_gap": null,
            "max_width": null,
            "order": null,
            "_view_module_version": "1.2.0",
            "grid_template_areas": null,
            "object_position": null,
            "object_fit": null,
            "grid_auto_columns": null,
            "margin": null,
            "display": null,
            "left": null
          }
        },
        "73be865da4f54e9182da4f8d8aae9e21": {
          "model_module": "@jupyter-widgets/controls",
          "model_name": "DescriptionStyleModel",
          "model_module_version": "1.5.0",
          "state": {
            "_view_name": "StyleView",
            "_model_name": "DescriptionStyleModel",
            "description_width": "",
            "_view_module": "@jupyter-widgets/base",
            "_model_module_version": "1.5.0",
            "_view_count": null,
            "_view_module_version": "1.2.0",
            "_model_module": "@jupyter-widgets/controls"
          }
        },
        "e5faa5826ef0490e92065f04ba22504f": {
          "model_module": "@jupyter-widgets/base",
          "model_name": "LayoutModel",
          "model_module_version": "1.2.0",
          "state": {
            "_view_name": "LayoutView",
            "grid_template_rows": null,
            "right": null,
            "justify_content": null,
            "_view_module": "@jupyter-widgets/base",
            "overflow": null,
            "_model_module_version": "1.2.0",
            "_view_count": null,
            "flex_flow": null,
            "width": null,
            "min_width": null,
            "border": null,
            "align_items": null,
            "bottom": null,
            "_model_module": "@jupyter-widgets/base",
            "top": null,
            "grid_column": null,
            "overflow_y": null,
            "overflow_x": null,
            "grid_auto_flow": null,
            "grid_area": null,
            "grid_template_columns": null,
            "flex": null,
            "_model_name": "LayoutModel",
            "justify_items": null,
            "grid_row": null,
            "max_height": null,
            "align_content": null,
            "visibility": null,
            "align_self": null,
            "height": null,
            "min_height": null,
            "padding": null,
            "grid_auto_rows": null,
            "grid_gap": null,
            "max_width": null,
            "order": null,
            "_view_module_version": "1.2.0",
            "grid_template_areas": null,
            "object_position": null,
            "object_fit": null,
            "grid_auto_columns": null,
            "margin": null,
            "display": null,
            "left": null
          }
        },
        "ffacfca223904712955d894140a4ad0b": {
          "model_module": "@jupyter-widgets/controls",
          "model_name": "HBoxModel",
          "model_module_version": "1.5.0",
          "state": {
            "_view_name": "HBoxView",
            "_dom_classes": [],
            "_model_name": "HBoxModel",
            "_view_module": "@jupyter-widgets/controls",
            "_model_module_version": "1.5.0",
            "_view_count": null,
            "_view_module_version": "1.5.0",
            "box_style": "",
            "layout": "IPY_MODEL_b4e1b3ab345649f39c350e4dc817f8af",
            "_model_module": "@jupyter-widgets/controls",
            "children": [
              "IPY_MODEL_de0c7256931b4e9d91b98ef3eb51e7a2",
              "IPY_MODEL_397a8a505baa4e99af480b19110ec0b7",
              "IPY_MODEL_e80535e9dbd943f19d193703cb1d0485"
            ]
          }
        },
        "b4e1b3ab345649f39c350e4dc817f8af": {
          "model_module": "@jupyter-widgets/base",
          "model_name": "LayoutModel",
          "model_module_version": "1.2.0",
          "state": {
            "_view_name": "LayoutView",
            "grid_template_rows": null,
            "right": null,
            "justify_content": null,
            "_view_module": "@jupyter-widgets/base",
            "overflow": null,
            "_model_module_version": "1.2.0",
            "_view_count": null,
            "flex_flow": null,
            "width": null,
            "min_width": null,
            "border": null,
            "align_items": null,
            "bottom": null,
            "_model_module": "@jupyter-widgets/base",
            "top": null,
            "grid_column": null,
            "overflow_y": null,
            "overflow_x": null,
            "grid_auto_flow": null,
            "grid_area": null,
            "grid_template_columns": null,
            "flex": null,
            "_model_name": "LayoutModel",
            "justify_items": null,
            "grid_row": null,
            "max_height": null,
            "align_content": null,
            "visibility": null,
            "align_self": null,
            "height": null,
            "min_height": null,
            "padding": null,
            "grid_auto_rows": null,
            "grid_gap": null,
            "max_width": null,
            "order": null,
            "_view_module_version": "1.2.0",
            "grid_template_areas": null,
            "object_position": null,
            "object_fit": null,
            "grid_auto_columns": null,
            "margin": null,
            "display": null,
            "left": null
          }
        },
        "de0c7256931b4e9d91b98ef3eb51e7a2": {
          "model_module": "@jupyter-widgets/controls",
          "model_name": "HTMLModel",
          "model_module_version": "1.5.0",
          "state": {
            "_view_name": "HTMLView",
            "style": "IPY_MODEL_bbd20aeb20ed4954ad98b62d7fbb69b8",
            "_dom_classes": [],
            "description": "",
            "_model_name": "HTMLModel",
            "placeholder": "​",
            "_view_module": "@jupyter-widgets/controls",
            "_model_module_version": "1.5.0",
            "value": "",
            "_view_count": null,
            "_view_module_version": "1.5.0",
            "description_tooltip": null,
            "_model_module": "@jupyter-widgets/controls",
            "layout": "IPY_MODEL_ae6e32f3cd024b90b7ebc0b32f2bdd10"
          }
        },
        "397a8a505baa4e99af480b19110ec0b7": {
          "model_module": "@jupyter-widgets/controls",
          "model_name": "FloatProgressModel",
          "model_module_version": "1.5.0",
          "state": {
            "_view_name": "ProgressView",
            "style": "IPY_MODEL_1210a3bc37034c7a886394d55ea4972d",
            "_dom_classes": [],
            "description": "",
            "_model_name": "FloatProgressModel",
            "bar_style": "success",
            "max": 28881,
            "_view_module": "@jupyter-widgets/controls",
            "_model_module_version": "1.5.0",
            "value": 28881,
            "_view_count": null,
            "_view_module_version": "1.5.0",
            "orientation": "horizontal",
            "min": 0,
            "description_tooltip": null,
            "_model_module": "@jupyter-widgets/controls",
            "layout": "IPY_MODEL_92c15e5707154827ae4ac325e8c952f6"
          }
        },
        "e80535e9dbd943f19d193703cb1d0485": {
          "model_module": "@jupyter-widgets/controls",
          "model_name": "HTMLModel",
          "model_module_version": "1.5.0",
          "state": {
            "_view_name": "HTMLView",
            "style": "IPY_MODEL_ed560f1549004945b1bed0051ed24161",
            "_dom_classes": [],
            "description": "",
            "_model_name": "HTMLModel",
            "placeholder": "​",
            "_view_module": "@jupyter-widgets/controls",
            "_model_module_version": "1.5.0",
            "value": " 29696/? [00:00&lt;00:00, 716449.63it/s]",
            "_view_count": null,
            "_view_module_version": "1.5.0",
            "description_tooltip": null,
            "_model_module": "@jupyter-widgets/controls",
            "layout": "IPY_MODEL_f0a24fbf54024c44a639feea3b6e3aba"
          }
        },
        "bbd20aeb20ed4954ad98b62d7fbb69b8": {
          "model_module": "@jupyter-widgets/controls",
          "model_name": "DescriptionStyleModel",
          "model_module_version": "1.5.0",
          "state": {
            "_view_name": "StyleView",
            "_model_name": "DescriptionStyleModel",
            "description_width": "",
            "_view_module": "@jupyter-widgets/base",
            "_model_module_version": "1.5.0",
            "_view_count": null,
            "_view_module_version": "1.2.0",
            "_model_module": "@jupyter-widgets/controls"
          }
        },
        "ae6e32f3cd024b90b7ebc0b32f2bdd10": {
          "model_module": "@jupyter-widgets/base",
          "model_name": "LayoutModel",
          "model_module_version": "1.2.0",
          "state": {
            "_view_name": "LayoutView",
            "grid_template_rows": null,
            "right": null,
            "justify_content": null,
            "_view_module": "@jupyter-widgets/base",
            "overflow": null,
            "_model_module_version": "1.2.0",
            "_view_count": null,
            "flex_flow": null,
            "width": null,
            "min_width": null,
            "border": null,
            "align_items": null,
            "bottom": null,
            "_model_module": "@jupyter-widgets/base",
            "top": null,
            "grid_column": null,
            "overflow_y": null,
            "overflow_x": null,
            "grid_auto_flow": null,
            "grid_area": null,
            "grid_template_columns": null,
            "flex": null,
            "_model_name": "LayoutModel",
            "justify_items": null,
            "grid_row": null,
            "max_height": null,
            "align_content": null,
            "visibility": null,
            "align_self": null,
            "height": null,
            "min_height": null,
            "padding": null,
            "grid_auto_rows": null,
            "grid_gap": null,
            "max_width": null,
            "order": null,
            "_view_module_version": "1.2.0",
            "grid_template_areas": null,
            "object_position": null,
            "object_fit": null,
            "grid_auto_columns": null,
            "margin": null,
            "display": null,
            "left": null
          }
        },
        "1210a3bc37034c7a886394d55ea4972d": {
          "model_module": "@jupyter-widgets/controls",
          "model_name": "ProgressStyleModel",
          "model_module_version": "1.5.0",
          "state": {
            "_view_name": "StyleView",
            "_model_name": "ProgressStyleModel",
            "description_width": "",
            "_view_module": "@jupyter-widgets/base",
            "_model_module_version": "1.5.0",
            "_view_count": null,
            "_view_module_version": "1.2.0",
            "bar_color": null,
            "_model_module": "@jupyter-widgets/controls"
          }
        },
        "92c15e5707154827ae4ac325e8c952f6": {
          "model_module": "@jupyter-widgets/base",
          "model_name": "LayoutModel",
          "model_module_version": "1.2.0",
          "state": {
            "_view_name": "LayoutView",
            "grid_template_rows": null,
            "right": null,
            "justify_content": null,
            "_view_module": "@jupyter-widgets/base",
            "overflow": null,
            "_model_module_version": "1.2.0",
            "_view_count": null,
            "flex_flow": null,
            "width": null,
            "min_width": null,
            "border": null,
            "align_items": null,
            "bottom": null,
            "_model_module": "@jupyter-widgets/base",
            "top": null,
            "grid_column": null,
            "overflow_y": null,
            "overflow_x": null,
            "grid_auto_flow": null,
            "grid_area": null,
            "grid_template_columns": null,
            "flex": null,
            "_model_name": "LayoutModel",
            "justify_items": null,
            "grid_row": null,
            "max_height": null,
            "align_content": null,
            "visibility": null,
            "align_self": null,
            "height": null,
            "min_height": null,
            "padding": null,
            "grid_auto_rows": null,
            "grid_gap": null,
            "max_width": null,
            "order": null,
            "_view_module_version": "1.2.0",
            "grid_template_areas": null,
            "object_position": null,
            "object_fit": null,
            "grid_auto_columns": null,
            "margin": null,
            "display": null,
            "left": null
          }
        },
        "ed560f1549004945b1bed0051ed24161": {
          "model_module": "@jupyter-widgets/controls",
          "model_name": "DescriptionStyleModel",
          "model_module_version": "1.5.0",
          "state": {
            "_view_name": "StyleView",
            "_model_name": "DescriptionStyleModel",
            "description_width": "",
            "_view_module": "@jupyter-widgets/base",
            "_model_module_version": "1.5.0",
            "_view_count": null,
            "_view_module_version": "1.2.0",
            "_model_module": "@jupyter-widgets/controls"
          }
        },
        "f0a24fbf54024c44a639feea3b6e3aba": {
          "model_module": "@jupyter-widgets/base",
          "model_name": "LayoutModel",
          "model_module_version": "1.2.0",
          "state": {
            "_view_name": "LayoutView",
            "grid_template_rows": null,
            "right": null,
            "justify_content": null,
            "_view_module": "@jupyter-widgets/base",
            "overflow": null,
            "_model_module_version": "1.2.0",
            "_view_count": null,
            "flex_flow": null,
            "width": null,
            "min_width": null,
            "border": null,
            "align_items": null,
            "bottom": null,
            "_model_module": "@jupyter-widgets/base",
            "top": null,
            "grid_column": null,
            "overflow_y": null,
            "overflow_x": null,
            "grid_auto_flow": null,
            "grid_area": null,
            "grid_template_columns": null,
            "flex": null,
            "_model_name": "LayoutModel",
            "justify_items": null,
            "grid_row": null,
            "max_height": null,
            "align_content": null,
            "visibility": null,
            "align_self": null,
            "height": null,
            "min_height": null,
            "padding": null,
            "grid_auto_rows": null,
            "grid_gap": null,
            "max_width": null,
            "order": null,
            "_view_module_version": "1.2.0",
            "grid_template_areas": null,
            "object_position": null,
            "object_fit": null,
            "grid_auto_columns": null,
            "margin": null,
            "display": null,
            "left": null
          }
        },
        "34d403e23530496d8e668b42f7be762f": {
          "model_module": "@jupyter-widgets/controls",
          "model_name": "HBoxModel",
          "model_module_version": "1.5.0",
          "state": {
            "_view_name": "HBoxView",
            "_dom_classes": [],
            "_model_name": "HBoxModel",
            "_view_module": "@jupyter-widgets/controls",
            "_model_module_version": "1.5.0",
            "_view_count": null,
            "_view_module_version": "1.5.0",
            "box_style": "",
            "layout": "IPY_MODEL_46b8a06425c440bfb9d914f1904f783a",
            "_model_module": "@jupyter-widgets/controls",
            "children": [
              "IPY_MODEL_2e07cc02ae5c411abae2b394978ea173",
              "IPY_MODEL_2887c528714248a3ade21568ebfa3d28",
              "IPY_MODEL_37cd173d40124ed3a80628bbe371d486"
            ]
          }
        },
        "46b8a06425c440bfb9d914f1904f783a": {
          "model_module": "@jupyter-widgets/base",
          "model_name": "LayoutModel",
          "model_module_version": "1.2.0",
          "state": {
            "_view_name": "LayoutView",
            "grid_template_rows": null,
            "right": null,
            "justify_content": null,
            "_view_module": "@jupyter-widgets/base",
            "overflow": null,
            "_model_module_version": "1.2.0",
            "_view_count": null,
            "flex_flow": null,
            "width": null,
            "min_width": null,
            "border": null,
            "align_items": null,
            "bottom": null,
            "_model_module": "@jupyter-widgets/base",
            "top": null,
            "grid_column": null,
            "overflow_y": null,
            "overflow_x": null,
            "grid_auto_flow": null,
            "grid_area": null,
            "grid_template_columns": null,
            "flex": null,
            "_model_name": "LayoutModel",
            "justify_items": null,
            "grid_row": null,
            "max_height": null,
            "align_content": null,
            "visibility": null,
            "align_self": null,
            "height": null,
            "min_height": null,
            "padding": null,
            "grid_auto_rows": null,
            "grid_gap": null,
            "max_width": null,
            "order": null,
            "_view_module_version": "1.2.0",
            "grid_template_areas": null,
            "object_position": null,
            "object_fit": null,
            "grid_auto_columns": null,
            "margin": null,
            "display": null,
            "left": null
          }
        },
        "2e07cc02ae5c411abae2b394978ea173": {
          "model_module": "@jupyter-widgets/controls",
          "model_name": "HTMLModel",
          "model_module_version": "1.5.0",
          "state": {
            "_view_name": "HTMLView",
            "style": "IPY_MODEL_70d5c4060ad44e30a7194d7fef550fff",
            "_dom_classes": [],
            "description": "",
            "_model_name": "HTMLModel",
            "placeholder": "​",
            "_view_module": "@jupyter-widgets/controls",
            "_model_module_version": "1.5.0",
            "value": "",
            "_view_count": null,
            "_view_module_version": "1.5.0",
            "description_tooltip": null,
            "_model_module": "@jupyter-widgets/controls",
            "layout": "IPY_MODEL_4ee76e33347e41a9b6ac545385adcce5"
          }
        },
        "2887c528714248a3ade21568ebfa3d28": {
          "model_module": "@jupyter-widgets/controls",
          "model_name": "FloatProgressModel",
          "model_module_version": "1.5.0",
          "state": {
            "_view_name": "ProgressView",
            "style": "IPY_MODEL_b3416a0410aa4950a8f0abb52a1b502c",
            "_dom_classes": [],
            "description": "",
            "_model_name": "FloatProgressModel",
            "bar_style": "success",
            "max": 1648877,
            "_view_module": "@jupyter-widgets/controls",
            "_model_module_version": "1.5.0",
            "value": 1648877,
            "_view_count": null,
            "_view_module_version": "1.5.0",
            "orientation": "horizontal",
            "min": 0,
            "description_tooltip": null,
            "_model_module": "@jupyter-widgets/controls",
            "layout": "IPY_MODEL_38c865f60c7540ed816f6e06a93fe9ca"
          }
        },
        "37cd173d40124ed3a80628bbe371d486": {
          "model_module": "@jupyter-widgets/controls",
          "model_name": "HTMLModel",
          "model_module_version": "1.5.0",
          "state": {
            "_view_name": "HTMLView",
            "style": "IPY_MODEL_869528246f04437ea95249845879cdc6",
            "_dom_classes": [],
            "description": "",
            "_model_name": "HTMLModel",
            "placeholder": "​",
            "_view_module": "@jupyter-widgets/controls",
            "_model_module_version": "1.5.0",
            "value": " 1649664/? [00:00&lt;00:00, 5563774.03it/s]",
            "_view_count": null,
            "_view_module_version": "1.5.0",
            "description_tooltip": null,
            "_model_module": "@jupyter-widgets/controls",
            "layout": "IPY_MODEL_1c0b0bd342204d9088fdc8ffd667bd3a"
          }
        },
        "70d5c4060ad44e30a7194d7fef550fff": {
          "model_module": "@jupyter-widgets/controls",
          "model_name": "DescriptionStyleModel",
          "model_module_version": "1.5.0",
          "state": {
            "_view_name": "StyleView",
            "_model_name": "DescriptionStyleModel",
            "description_width": "",
            "_view_module": "@jupyter-widgets/base",
            "_model_module_version": "1.5.0",
            "_view_count": null,
            "_view_module_version": "1.2.0",
            "_model_module": "@jupyter-widgets/controls"
          }
        },
        "4ee76e33347e41a9b6ac545385adcce5": {
          "model_module": "@jupyter-widgets/base",
          "model_name": "LayoutModel",
          "model_module_version": "1.2.0",
          "state": {
            "_view_name": "LayoutView",
            "grid_template_rows": null,
            "right": null,
            "justify_content": null,
            "_view_module": "@jupyter-widgets/base",
            "overflow": null,
            "_model_module_version": "1.2.0",
            "_view_count": null,
            "flex_flow": null,
            "width": null,
            "min_width": null,
            "border": null,
            "align_items": null,
            "bottom": null,
            "_model_module": "@jupyter-widgets/base",
            "top": null,
            "grid_column": null,
            "overflow_y": null,
            "overflow_x": null,
            "grid_auto_flow": null,
            "grid_area": null,
            "grid_template_columns": null,
            "flex": null,
            "_model_name": "LayoutModel",
            "justify_items": null,
            "grid_row": null,
            "max_height": null,
            "align_content": null,
            "visibility": null,
            "align_self": null,
            "height": null,
            "min_height": null,
            "padding": null,
            "grid_auto_rows": null,
            "grid_gap": null,
            "max_width": null,
            "order": null,
            "_view_module_version": "1.2.0",
            "grid_template_areas": null,
            "object_position": null,
            "object_fit": null,
            "grid_auto_columns": null,
            "margin": null,
            "display": null,
            "left": null
          }
        },
        "b3416a0410aa4950a8f0abb52a1b502c": {
          "model_module": "@jupyter-widgets/controls",
          "model_name": "ProgressStyleModel",
          "model_module_version": "1.5.0",
          "state": {
            "_view_name": "StyleView",
            "_model_name": "ProgressStyleModel",
            "description_width": "",
            "_view_module": "@jupyter-widgets/base",
            "_model_module_version": "1.5.0",
            "_view_count": null,
            "_view_module_version": "1.2.0",
            "bar_color": null,
            "_model_module": "@jupyter-widgets/controls"
          }
        },
        "38c865f60c7540ed816f6e06a93fe9ca": {
          "model_module": "@jupyter-widgets/base",
          "model_name": "LayoutModel",
          "model_module_version": "1.2.0",
          "state": {
            "_view_name": "LayoutView",
            "grid_template_rows": null,
            "right": null,
            "justify_content": null,
            "_view_module": "@jupyter-widgets/base",
            "overflow": null,
            "_model_module_version": "1.2.0",
            "_view_count": null,
            "flex_flow": null,
            "width": null,
            "min_width": null,
            "border": null,
            "align_items": null,
            "bottom": null,
            "_model_module": "@jupyter-widgets/base",
            "top": null,
            "grid_column": null,
            "overflow_y": null,
            "overflow_x": null,
            "grid_auto_flow": null,
            "grid_area": null,
            "grid_template_columns": null,
            "flex": null,
            "_model_name": "LayoutModel",
            "justify_items": null,
            "grid_row": null,
            "max_height": null,
            "align_content": null,
            "visibility": null,
            "align_self": null,
            "height": null,
            "min_height": null,
            "padding": null,
            "grid_auto_rows": null,
            "grid_gap": null,
            "max_width": null,
            "order": null,
            "_view_module_version": "1.2.0",
            "grid_template_areas": null,
            "object_position": null,
            "object_fit": null,
            "grid_auto_columns": null,
            "margin": null,
            "display": null,
            "left": null
          }
        },
        "869528246f04437ea95249845879cdc6": {
          "model_module": "@jupyter-widgets/controls",
          "model_name": "DescriptionStyleModel",
          "model_module_version": "1.5.0",
          "state": {
            "_view_name": "StyleView",
            "_model_name": "DescriptionStyleModel",
            "description_width": "",
            "_view_module": "@jupyter-widgets/base",
            "_model_module_version": "1.5.0",
            "_view_count": null,
            "_view_module_version": "1.2.0",
            "_model_module": "@jupyter-widgets/controls"
          }
        },
        "1c0b0bd342204d9088fdc8ffd667bd3a": {
          "model_module": "@jupyter-widgets/base",
          "model_name": "LayoutModel",
          "model_module_version": "1.2.0",
          "state": {
            "_view_name": "LayoutView",
            "grid_template_rows": null,
            "right": null,
            "justify_content": null,
            "_view_module": "@jupyter-widgets/base",
            "overflow": null,
            "_model_module_version": "1.2.0",
            "_view_count": null,
            "flex_flow": null,
            "width": null,
            "min_width": null,
            "border": null,
            "align_items": null,
            "bottom": null,
            "_model_module": "@jupyter-widgets/base",
            "top": null,
            "grid_column": null,
            "overflow_y": null,
            "overflow_x": null,
            "grid_auto_flow": null,
            "grid_area": null,
            "grid_template_columns": null,
            "flex": null,
            "_model_name": "LayoutModel",
            "justify_items": null,
            "grid_row": null,
            "max_height": null,
            "align_content": null,
            "visibility": null,
            "align_self": null,
            "height": null,
            "min_height": null,
            "padding": null,
            "grid_auto_rows": null,
            "grid_gap": null,
            "max_width": null,
            "order": null,
            "_view_module_version": "1.2.0",
            "grid_template_areas": null,
            "object_position": null,
            "object_fit": null,
            "grid_auto_columns": null,
            "margin": null,
            "display": null,
            "left": null
          }
        },
        "aaebd89b69584dd5aa098394252a60f8": {
          "model_module": "@jupyter-widgets/controls",
          "model_name": "HBoxModel",
          "model_module_version": "1.5.0",
          "state": {
            "_view_name": "HBoxView",
            "_dom_classes": [],
            "_model_name": "HBoxModel",
            "_view_module": "@jupyter-widgets/controls",
            "_model_module_version": "1.5.0",
            "_view_count": null,
            "_view_module_version": "1.5.0",
            "box_style": "",
            "layout": "IPY_MODEL_25bf0479c6104032a862d9b18e6bcd1e",
            "_model_module": "@jupyter-widgets/controls",
            "children": [
              "IPY_MODEL_7c5c37e43ead4e3c812f08c2a9011b50",
              "IPY_MODEL_ecf36d03fd5841d7a654d77c31c87305",
              "IPY_MODEL_bbdc626fdb124065bd3c69a375108f13"
            ]
          }
        },
        "25bf0479c6104032a862d9b18e6bcd1e": {
          "model_module": "@jupyter-widgets/base",
          "model_name": "LayoutModel",
          "model_module_version": "1.2.0",
          "state": {
            "_view_name": "LayoutView",
            "grid_template_rows": null,
            "right": null,
            "justify_content": null,
            "_view_module": "@jupyter-widgets/base",
            "overflow": null,
            "_model_module_version": "1.2.0",
            "_view_count": null,
            "flex_flow": null,
            "width": null,
            "min_width": null,
            "border": null,
            "align_items": null,
            "bottom": null,
            "_model_module": "@jupyter-widgets/base",
            "top": null,
            "grid_column": null,
            "overflow_y": null,
            "overflow_x": null,
            "grid_auto_flow": null,
            "grid_area": null,
            "grid_template_columns": null,
            "flex": null,
            "_model_name": "LayoutModel",
            "justify_items": null,
            "grid_row": null,
            "max_height": null,
            "align_content": null,
            "visibility": null,
            "align_self": null,
            "height": null,
            "min_height": null,
            "padding": null,
            "grid_auto_rows": null,
            "grid_gap": null,
            "max_width": null,
            "order": null,
            "_view_module_version": "1.2.0",
            "grid_template_areas": null,
            "object_position": null,
            "object_fit": null,
            "grid_auto_columns": null,
            "margin": null,
            "display": null,
            "left": null
          }
        },
        "7c5c37e43ead4e3c812f08c2a9011b50": {
          "model_module": "@jupyter-widgets/controls",
          "model_name": "HTMLModel",
          "model_module_version": "1.5.0",
          "state": {
            "_view_name": "HTMLView",
            "style": "IPY_MODEL_34e6b097f52a4527824fcb2f04425a85",
            "_dom_classes": [],
            "description": "",
            "_model_name": "HTMLModel",
            "placeholder": "​",
            "_view_module": "@jupyter-widgets/controls",
            "_model_module_version": "1.5.0",
            "value": "",
            "_view_count": null,
            "_view_module_version": "1.5.0",
            "description_tooltip": null,
            "_model_module": "@jupyter-widgets/controls",
            "layout": "IPY_MODEL_5652a19e2acd467a9c6622c3975f37b6"
          }
        },
        "ecf36d03fd5841d7a654d77c31c87305": {
          "model_module": "@jupyter-widgets/controls",
          "model_name": "FloatProgressModel",
          "model_module_version": "1.5.0",
          "state": {
            "_view_name": "ProgressView",
            "style": "IPY_MODEL_9787210fc3974fcf9ac0d16ce9f0b099",
            "_dom_classes": [],
            "description": "",
            "_model_name": "FloatProgressModel",
            "bar_style": "success",
            "max": 4542,
            "_view_module": "@jupyter-widgets/controls",
            "_model_module_version": "1.5.0",
            "value": 4542,
            "_view_count": null,
            "_view_module_version": "1.5.0",
            "orientation": "horizontal",
            "min": 0,
            "description_tooltip": null,
            "_model_module": "@jupyter-widgets/controls",
            "layout": "IPY_MODEL_b7b9dc4c913041fc9b0c3e0b54de5e5d"
          }
        },
        "bbdc626fdb124065bd3c69a375108f13": {
          "model_module": "@jupyter-widgets/controls",
          "model_name": "HTMLModel",
          "model_module_version": "1.5.0",
          "state": {
            "_view_name": "HTMLView",
            "style": "IPY_MODEL_4ab741976a224413964ca9d8f8bd9eaa",
            "_dom_classes": [],
            "description": "",
            "_model_name": "HTMLModel",
            "placeholder": "​",
            "_view_module": "@jupyter-widgets/controls",
            "_model_module_version": "1.5.0",
            "value": " 5120/? [00:00&lt;00:00, 141227.93it/s]",
            "_view_count": null,
            "_view_module_version": "1.5.0",
            "description_tooltip": null,
            "_model_module": "@jupyter-widgets/controls",
            "layout": "IPY_MODEL_0b87d9b4d2d64262a0493e98b7aafcdb"
          }
        },
        "34e6b097f52a4527824fcb2f04425a85": {
          "model_module": "@jupyter-widgets/controls",
          "model_name": "DescriptionStyleModel",
          "model_module_version": "1.5.0",
          "state": {
            "_view_name": "StyleView",
            "_model_name": "DescriptionStyleModel",
            "description_width": "",
            "_view_module": "@jupyter-widgets/base",
            "_model_module_version": "1.5.0",
            "_view_count": null,
            "_view_module_version": "1.2.0",
            "_model_module": "@jupyter-widgets/controls"
          }
        },
        "5652a19e2acd467a9c6622c3975f37b6": {
          "model_module": "@jupyter-widgets/base",
          "model_name": "LayoutModel",
          "model_module_version": "1.2.0",
          "state": {
            "_view_name": "LayoutView",
            "grid_template_rows": null,
            "right": null,
            "justify_content": null,
            "_view_module": "@jupyter-widgets/base",
            "overflow": null,
            "_model_module_version": "1.2.0",
            "_view_count": null,
            "flex_flow": null,
            "width": null,
            "min_width": null,
            "border": null,
            "align_items": null,
            "bottom": null,
            "_model_module": "@jupyter-widgets/base",
            "top": null,
            "grid_column": null,
            "overflow_y": null,
            "overflow_x": null,
            "grid_auto_flow": null,
            "grid_area": null,
            "grid_template_columns": null,
            "flex": null,
            "_model_name": "LayoutModel",
            "justify_items": null,
            "grid_row": null,
            "max_height": null,
            "align_content": null,
            "visibility": null,
            "align_self": null,
            "height": null,
            "min_height": null,
            "padding": null,
            "grid_auto_rows": null,
            "grid_gap": null,
            "max_width": null,
            "order": null,
            "_view_module_version": "1.2.0",
            "grid_template_areas": null,
            "object_position": null,
            "object_fit": null,
            "grid_auto_columns": null,
            "margin": null,
            "display": null,
            "left": null
          }
        },
        "9787210fc3974fcf9ac0d16ce9f0b099": {
          "model_module": "@jupyter-widgets/controls",
          "model_name": "ProgressStyleModel",
          "model_module_version": "1.5.0",
          "state": {
            "_view_name": "StyleView",
            "_model_name": "ProgressStyleModel",
            "description_width": "",
            "_view_module": "@jupyter-widgets/base",
            "_model_module_version": "1.5.0",
            "_view_count": null,
            "_view_module_version": "1.2.0",
            "bar_color": null,
            "_model_module": "@jupyter-widgets/controls"
          }
        },
        "b7b9dc4c913041fc9b0c3e0b54de5e5d": {
          "model_module": "@jupyter-widgets/base",
          "model_name": "LayoutModel",
          "model_module_version": "1.2.0",
          "state": {
            "_view_name": "LayoutView",
            "grid_template_rows": null,
            "right": null,
            "justify_content": null,
            "_view_module": "@jupyter-widgets/base",
            "overflow": null,
            "_model_module_version": "1.2.0",
            "_view_count": null,
            "flex_flow": null,
            "width": null,
            "min_width": null,
            "border": null,
            "align_items": null,
            "bottom": null,
            "_model_module": "@jupyter-widgets/base",
            "top": null,
            "grid_column": null,
            "overflow_y": null,
            "overflow_x": null,
            "grid_auto_flow": null,
            "grid_area": null,
            "grid_template_columns": null,
            "flex": null,
            "_model_name": "LayoutModel",
            "justify_items": null,
            "grid_row": null,
            "max_height": null,
            "align_content": null,
            "visibility": null,
            "align_self": null,
            "height": null,
            "min_height": null,
            "padding": null,
            "grid_auto_rows": null,
            "grid_gap": null,
            "max_width": null,
            "order": null,
            "_view_module_version": "1.2.0",
            "grid_template_areas": null,
            "object_position": null,
            "object_fit": null,
            "grid_auto_columns": null,
            "margin": null,
            "display": null,
            "left": null
          }
        },
        "4ab741976a224413964ca9d8f8bd9eaa": {
          "model_module": "@jupyter-widgets/controls",
          "model_name": "DescriptionStyleModel",
          "model_module_version": "1.5.0",
          "state": {
            "_view_name": "StyleView",
            "_model_name": "DescriptionStyleModel",
            "description_width": "",
            "_view_module": "@jupyter-widgets/base",
            "_model_module_version": "1.5.0",
            "_view_count": null,
            "_view_module_version": "1.2.0",
            "_model_module": "@jupyter-widgets/controls"
          }
        },
        "0b87d9b4d2d64262a0493e98b7aafcdb": {
          "model_module": "@jupyter-widgets/base",
          "model_name": "LayoutModel",
          "model_module_version": "1.2.0",
          "state": {
            "_view_name": "LayoutView",
            "grid_template_rows": null,
            "right": null,
            "justify_content": null,
            "_view_module": "@jupyter-widgets/base",
            "overflow": null,
            "_model_module_version": "1.2.0",
            "_view_count": null,
            "flex_flow": null,
            "width": null,
            "min_width": null,
            "border": null,
            "align_items": null,
            "bottom": null,
            "_model_module": "@jupyter-widgets/base",
            "top": null,
            "grid_column": null,
            "overflow_y": null,
            "overflow_x": null,
            "grid_auto_flow": null,
            "grid_area": null,
            "grid_template_columns": null,
            "flex": null,
            "_model_name": "LayoutModel",
            "justify_items": null,
            "grid_row": null,
            "max_height": null,
            "align_content": null,
            "visibility": null,
            "align_self": null,
            "height": null,
            "min_height": null,
            "padding": null,
            "grid_auto_rows": null,
            "grid_gap": null,
            "max_width": null,
            "order": null,
            "_view_module_version": "1.2.0",
            "grid_template_areas": null,
            "object_position": null,
            "object_fit": null,
            "grid_auto_columns": null,
            "margin": null,
            "display": null,
            "left": null
          }
        }
      }
    }
  },
  "cells": [
    {
      "cell_type": "markdown",
      "metadata": {
        "id": "view-in-github",
        "colab_type": "text"
      },
      "source": [
        "<a href=\"https://colab.research.google.com/github/KY-39/platform_udt3/blob/main/%D0%98%D0%BD%D1%82%D0%B5%D0%B3%D1%80%D0%B0%D1%86%D0%B8%D1%8F_%D0%BD%D0%B5%D0%B9%D1%80%D0%BE%D0%BD%D0%BD%D0%BE%D0%B9_%D1%81%D0%B5%D1%82%D0%B8_%D0%B2_Production(Flask%2C%20Ngrok%2C%20ONNX%2C%20TF%20Serving%2C%20Docker%2C%20Apache%20Spark).ipynb\" target=\"_parent\"><img src=\"https://colab.research.google.com/assets/colab-badge.svg\" alt=\"Open In Colab\"/></a>"
      ]
    },
    {
      "cell_type": "markdown",
      "metadata": {
        "id": "xkQgaJXa7PHS"
      },
      "source": [
        "# Интеграция нейронной сети в Production. Flask, Spark.\n",
        "\n",
        "В этом уроке мы создадим учебное web-приложение, которое будет распознавать рукописную цифру, нарисованную мышкой в браузере. Распознаванием будет заниматься нейронная сеть, предварительно обученная на стандартном наборе MNIST.\n",
        "\n",
        "Мы напишем и обучим 2 функционально одинаковые сети/модели - одну на Keras, другую на PyTorch. \n",
        "\n",
        "Далее мы перенесем наши модели на условную production-машину, предназначенную для \"промышленной\" эксплуатации нашей системы. В качестве production-среды мы будем также использовать colab, возможно другую сессию виртуальной машины. В качестве web-сервера будем использовать тестовый сервер, встроенный в фреймворк Flask. \n",
        "\n"
      ]
    },
    {
      "cell_type": "markdown",
      "metadata": {
        "id": "eogDOtn-OE6d"
      },
      "source": [
        "## Обучение модели keras"
      ]
    },
    {
      "cell_type": "code",
      "metadata": {
        "colab": {
          "base_uri": "https://localhost:8080/"
        },
        "id": "BkfLdmwpPN4R",
        "outputId": "ae7be379-2658-420f-f98f-57c05ba1a760"
      },
      "source": [
        "import tensorflow as tf\n",
        "from tensorflow.keras.models import Sequential\n",
        "from tensorflow.keras.layers import Dense, Dropout, Flatten\n",
        "from tensorflow.keras.layers import Conv2D, MaxPooling2D\n",
        "from tensorflow.keras import backend as K\n",
        "print(tf.__version__)\n",
        "print(tf.keras.__version__)"
      ],
      "execution_count": 11,
      "outputs": [
        {
          "output_type": "stream",
          "name": "stdout",
          "text": [
            "2.8.0\n",
            "2.8.0\n"
          ]
        }
      ]
    },
    {
      "cell_type": "markdown",
      "metadata": {
        "id": "9zLF1U9QLd3H"
      },
      "source": [
        "Загружаем стандартный набор MNIST, приводим данные к типу float32 и диапазону от 0 до 1."
      ]
    },
    {
      "cell_type": "code",
      "metadata": {
        "colab": {
          "base_uri": "https://localhost:8080/"
        },
        "id": "iZnZ_-GaPNpX",
        "outputId": "b37b8c7b-4a22-442b-a67c-081cd126b859"
      },
      "source": [
        "(x_train, y_train), (x_test, y_test) = tf.keras.datasets.mnist.load_data()\n",
        "\n",
        "x_train = x_train.reshape(x_train.shape[0], 28, 28, 1)\n",
        "x_test = x_test.reshape(x_test.shape[0], 28, 28, 1)\n",
        "input_shape = (28, 28, 1)\n",
        "\n",
        "# Нормализуем значения пикселей (от 0 до 1)\n",
        "x_train = x_train.astype('float32')\n",
        "x_test = x_test.astype('float32')\n",
        "x_train /= 255\n",
        "x_test /= 255\n",
        "\n",
        "print(x_train.shape, y_train.shape)"
      ],
      "execution_count": 2,
      "outputs": [
        {
          "output_type": "stream",
          "name": "stdout",
          "text": [
            "Downloading data from https://storage.googleapis.com/tensorflow/tf-keras-datasets/mnist.npz\n",
            "11493376/11490434 [==============================] - 0s 0us/step\n",
            "11501568/11490434 [==============================] - 0s 0us/step\n",
            "(60000, 28, 28, 1) (60000,)\n"
          ]
        }
      ]
    },
    {
      "cell_type": "markdown",
      "metadata": {
        "id": "TohPTIEzMPnj"
      },
      "source": [
        "Наша модель будет содержать 2 каскада сверточных слоев и 2 полносвязных слоя классификатора. "
      ]
    },
    {
      "cell_type": "code",
      "metadata": {
        "id": "b8PjAJo2PNca"
      },
      "source": [
        "model = Sequential([\n",
        "        Conv2D(32, kernel_size=(3, 3), activation='relu', input_shape=input_shape),\n",
        "        Conv2D(32, (3, 3), activation='relu'),\n",
        "        MaxPooling2D(pool_size=(2, 2)),\n",
        "        Conv2D(64, kernel_size=(3, 3), activation='relu'),\n",
        "        Conv2D(64, (3, 3), activation='relu'),\n",
        "        MaxPooling2D(pool_size=(2, 2)),\n",
        "        Flatten(),\n",
        "        Dense(128, activation='relu'),\n",
        "        Dense(10, activation='softmax')])\n",
        "\n",
        "model.compile(loss='sparse_categorical_crossentropy',\n",
        "              optimizer='adam',\n",
        "              metrics=['accuracy'])"
      ],
      "execution_count": 3,
      "outputs": []
    },
    {
      "cell_type": "code",
      "metadata": {
        "colab": {
          "base_uri": "https://localhost:8080/"
        },
        "id": "qHBKZLprPNPy",
        "outputId": "1201dc7f-6310-46d0-be00-a18b48379af0"
      },
      "source": [
        "model.summary()"
      ],
      "execution_count": 4,
      "outputs": [
        {
          "output_type": "stream",
          "name": "stdout",
          "text": [
            "Model: \"sequential\"\n",
            "_________________________________________________________________\n",
            " Layer (type)                Output Shape              Param #   \n",
            "=================================================================\n",
            " conv2d (Conv2D)             (None, 26, 26, 32)        320       \n",
            "                                                                 \n",
            " conv2d_1 (Conv2D)           (None, 24, 24, 32)        9248      \n",
            "                                                                 \n",
            " max_pooling2d (MaxPooling2D  (None, 12, 12, 32)       0         \n",
            " )                                                               \n",
            "                                                                 \n",
            " conv2d_2 (Conv2D)           (None, 10, 10, 64)        18496     \n",
            "                                                                 \n",
            " conv2d_3 (Conv2D)           (None, 8, 8, 64)          36928     \n",
            "                                                                 \n",
            " max_pooling2d_1 (MaxPooling  (None, 4, 4, 64)         0         \n",
            " 2D)                                                             \n",
            "                                                                 \n",
            " flatten (Flatten)           (None, 1024)              0         \n",
            "                                                                 \n",
            " dense (Dense)               (None, 128)               131200    \n",
            "                                                                 \n",
            " dense_1 (Dense)             (None, 10)                1290      \n",
            "                                                                 \n",
            "=================================================================\n",
            "Total params: 197,482\n",
            "Trainable params: 197,482\n",
            "Non-trainable params: 0\n",
            "_________________________________________________________________\n"
          ]
        }
      ]
    },
    {
      "cell_type": "code",
      "metadata": {
        "colab": {
          "base_uri": "https://localhost:8080/"
        },
        "id": "iW-KAOUKPNBh",
        "outputId": "12e7a1ea-9ff1-4db6-871d-b1ca92c559ba"
      },
      "source": [
        "%%time\n",
        "history = model.fit(x_train, y_train, batch_size=200, epochs=20, validation_data=(x_test, y_test))"
      ],
      "execution_count": 5,
      "outputs": [
        {
          "output_type": "stream",
          "name": "stdout",
          "text": [
            "Epoch 1/20\n",
            "300/300 [==============================] - 17s 23ms/step - loss: 0.2288 - accuracy: 0.9330 - val_loss: 0.0448 - val_accuracy: 0.9844\n",
            "Epoch 2/20\n",
            "300/300 [==============================] - 7s 22ms/step - loss: 0.0489 - accuracy: 0.9855 - val_loss: 0.0408 - val_accuracy: 0.9868\n",
            "Epoch 3/20\n",
            "300/300 [==============================] - 7s 23ms/step - loss: 0.0335 - accuracy: 0.9895 - val_loss: 0.0316 - val_accuracy: 0.9887\n",
            "Epoch 4/20\n",
            "300/300 [==============================] - 7s 22ms/step - loss: 0.0259 - accuracy: 0.9914 - val_loss: 0.0322 - val_accuracy: 0.9902\n",
            "Epoch 5/20\n",
            "300/300 [==============================] - 7s 23ms/step - loss: 0.0207 - accuracy: 0.9934 - val_loss: 0.0328 - val_accuracy: 0.9895\n",
            "Epoch 6/20\n",
            "300/300 [==============================] - 7s 23ms/step - loss: 0.0165 - accuracy: 0.9950 - val_loss: 0.0265 - val_accuracy: 0.9920\n",
            "Epoch 7/20\n",
            "300/300 [==============================] - 7s 23ms/step - loss: 0.0125 - accuracy: 0.9957 - val_loss: 0.0248 - val_accuracy: 0.9912\n",
            "Epoch 8/20\n",
            "300/300 [==============================] - 7s 24ms/step - loss: 0.0103 - accuracy: 0.9968 - val_loss: 0.0238 - val_accuracy: 0.9931\n",
            "Epoch 9/20\n",
            "300/300 [==============================] - 7s 24ms/step - loss: 0.0103 - accuracy: 0.9965 - val_loss: 0.0226 - val_accuracy: 0.9922\n",
            "Epoch 10/20\n",
            "300/300 [==============================] - 7s 23ms/step - loss: 0.0102 - accuracy: 0.9963 - val_loss: 0.0252 - val_accuracy: 0.9921\n",
            "Epoch 11/20\n",
            "300/300 [==============================] - 7s 23ms/step - loss: 0.0076 - accuracy: 0.9976 - val_loss: 0.0237 - val_accuracy: 0.9933\n",
            "Epoch 12/20\n",
            "300/300 [==============================] - 7s 22ms/step - loss: 0.0059 - accuracy: 0.9980 - val_loss: 0.0347 - val_accuracy: 0.9916\n",
            "Epoch 13/20\n",
            "300/300 [==============================] - 7s 23ms/step - loss: 0.0059 - accuracy: 0.9982 - val_loss: 0.0283 - val_accuracy: 0.9932\n",
            "Epoch 14/20\n",
            "300/300 [==============================] - 8s 25ms/step - loss: 0.0061 - accuracy: 0.9979 - val_loss: 0.0269 - val_accuracy: 0.9921\n",
            "Epoch 15/20\n",
            "300/300 [==============================] - 7s 24ms/step - loss: 0.0046 - accuracy: 0.9985 - val_loss: 0.0252 - val_accuracy: 0.9919\n",
            "Epoch 16/20\n",
            "300/300 [==============================] - 7s 23ms/step - loss: 0.0065 - accuracy: 0.9977 - val_loss: 0.0289 - val_accuracy: 0.9925\n",
            "Epoch 17/20\n",
            "300/300 [==============================] - 7s 23ms/step - loss: 0.0049 - accuracy: 0.9981 - val_loss: 0.0301 - val_accuracy: 0.9919\n",
            "Epoch 18/20\n",
            "300/300 [==============================] - 7s 23ms/step - loss: 0.0051 - accuracy: 0.9982 - val_loss: 0.0269 - val_accuracy: 0.9920\n",
            "Epoch 19/20\n",
            "300/300 [==============================] - 7s 22ms/step - loss: 0.0033 - accuracy: 0.9988 - val_loss: 0.0368 - val_accuracy: 0.9918\n",
            "Epoch 20/20\n",
            "300/300 [==============================] - 7s 23ms/step - loss: 0.0032 - accuracy: 0.9991 - val_loss: 0.0435 - val_accuracy: 0.9904\n",
            "CPU times: user 2min 18s, sys: 4.97 s, total: 2min 23s\n",
            "Wall time: 3min 23s\n"
          ]
        }
      ]
    },
    {
      "cell_type": "code",
      "metadata": {
        "colab": {
          "base_uri": "https://localhost:8080/"
        },
        "id": "lxIK83jXUbns",
        "outputId": "04b8dde2-e4b5-409f-eafa-c79ec8b6fe00"
      },
      "source": [
        "score = model.evaluate(x_test, y_test, verbose=0)\n",
        "print('Test loss:', score[0])\n",
        "print('Test accuracy:', score[1])"
      ],
      "execution_count": 6,
      "outputs": [
        {
          "output_type": "stream",
          "name": "stdout",
          "text": [
            "Test loss: 0.04351092502474785\n",
            "Test accuracy: 0.9904000163078308\n"
          ]
        }
      ]
    },
    {
      "cell_type": "markdown",
      "metadata": {
        "id": "E_-z2SDKUq-a"
      },
      "source": [
        "Сделалем описание модели в формате JSON и запишем в его файл:"
      ]
    },
    {
      "cell_type": "code",
      "metadata": {
        "id": "oCoK5-MQU3Z_"
      },
      "source": [
        "model_json = model.to_json() \n",
        "with open(\"model.json\", \"w\") as json_file: \n",
        "    json_file.write(model_json)"
      ],
      "execution_count": 7,
      "outputs": []
    },
    {
      "cell_type": "markdown",
      "metadata": {
        "id": "wn7tHvAtVEi-"
      },
      "source": [
        "Отдельно сохраним веса обученной модели:"
      ]
    },
    {
      "cell_type": "code",
      "metadata": {
        "id": "SBbs0QYwVEGp"
      },
      "source": [
        "model.save_weights(\"model.h5\")"
      ],
      "execution_count": 8,
      "outputs": []
    },
    {
      "cell_type": "markdown",
      "metadata": {
        "id": "ZFTsvnFFVZly"
      },
      "source": [
        "Теперь файлы `model.json` и `model.h5` следует скопировать на production-машину. Но в нашем случае мы будем использовать в качестве production тот же colab. Перенесем файлы на другую виртуальную машину через google-drive:"
      ]
    },
    {
      "cell_type": "code",
      "source": [
        "from google.colab import drive\n",
        "drive.mount('/content/drive')"
      ],
      "metadata": {
        "colab": {
          "base_uri": "https://localhost:8080/"
        },
        "id": "GS68lCwR58np",
        "outputId": "3fa42fa7-51e2-4f3f-c908-533095fc419d"
      },
      "execution_count": 8,
      "outputs": [
        {
          "output_type": "stream",
          "name": "stdout",
          "text": [
            "Mounted at /content/drive\n"
          ]
        }
      ]
    },
    {
      "cell_type": "code",
      "metadata": {
        "id": "18MjVYfnWLJt"
      },
      "source": [
        "!cp model.json model.h5 /content/drive/MyDrive/Models/"
      ],
      "execution_count": 11,
      "outputs": []
    },
    {
      "cell_type": "markdown",
      "metadata": {
        "id": "7LlLTxamMWGK"
      },
      "source": [
        "## Обучение модели на PyTorch\n",
        "\n",
        "Создадим аналогичную модель на PyTorch. Особенностью PyTorch является другой порядок следования размерностей в тензоре входных данных - (B, C, H, W)\n",
        "\n",
        "B - batch, C - color channel, H - height, W - width.\n",
        "\n",
        "В keras последовательность (B, H, W, C)"
      ]
    },
    {
      "cell_type": "code",
      "metadata": {
        "id": "pU8sQfJaMoc1"
      },
      "source": [
        "import torch\n",
        "import torch.onnx as onnx\n",
        "import torch.nn as nn\n",
        "import torch.nn.functional as F\n",
        "from torch.utils.data import Dataset, DataLoader\n",
        "from torchvision import datasets\n",
        "from torchvision.transforms import ToTensor, Lambda\n",
        "import numpy as np\n",
        "import os"
      ],
      "execution_count": 12,
      "outputs": []
    },
    {
      "cell_type": "markdown",
      "metadata": {
        "id": "YvTsPXgjR83m"
      },
      "source": [
        "Загружаем стандартный набор MNIST из `torchvision.datasets`"
      ]
    },
    {
      "cell_type": "code",
      "metadata": {
        "id": "ZVEic19LOpXx",
        "colab": {
          "base_uri": "https://localhost:8080/",
          "height": 443,
          "referenced_widgets": [
            "a912fe122ce048aaa2eee98612f6330f",
            "f2bdc16476834bfba06a4b42ac912352",
            "aeeb2e630b534cadbd200fa7536b0a85",
            "5ea25e8db94e4bb7a1a6726f65414186",
            "d79744b4354d4dcbaf43540b09be3577",
            "96b0b7806fd54a2f8957896ea131b7d9",
            "78acf2bf27de4a93b9bdf4cacbd837c1",
            "edbc807519fa49269b3e5891a1a52cff",
            "1ed4d2c910b34e76863d9b6ec59ea4f1",
            "73be865da4f54e9182da4f8d8aae9e21",
            "e5faa5826ef0490e92065f04ba22504f",
            "ffacfca223904712955d894140a4ad0b",
            "b4e1b3ab345649f39c350e4dc817f8af",
            "de0c7256931b4e9d91b98ef3eb51e7a2",
            "397a8a505baa4e99af480b19110ec0b7",
            "e80535e9dbd943f19d193703cb1d0485",
            "bbd20aeb20ed4954ad98b62d7fbb69b8",
            "ae6e32f3cd024b90b7ebc0b32f2bdd10",
            "1210a3bc37034c7a886394d55ea4972d",
            "92c15e5707154827ae4ac325e8c952f6",
            "ed560f1549004945b1bed0051ed24161",
            "f0a24fbf54024c44a639feea3b6e3aba",
            "34d403e23530496d8e668b42f7be762f",
            "46b8a06425c440bfb9d914f1904f783a",
            "2e07cc02ae5c411abae2b394978ea173",
            "2887c528714248a3ade21568ebfa3d28",
            "37cd173d40124ed3a80628bbe371d486",
            "70d5c4060ad44e30a7194d7fef550fff",
            "4ee76e33347e41a9b6ac545385adcce5",
            "b3416a0410aa4950a8f0abb52a1b502c",
            "38c865f60c7540ed816f6e06a93fe9ca",
            "869528246f04437ea95249845879cdc6",
            "1c0b0bd342204d9088fdc8ffd667bd3a",
            "aaebd89b69584dd5aa098394252a60f8",
            "25bf0479c6104032a862d9b18e6bcd1e",
            "7c5c37e43ead4e3c812f08c2a9011b50",
            "ecf36d03fd5841d7a654d77c31c87305",
            "bbdc626fdb124065bd3c69a375108f13",
            "34e6b097f52a4527824fcb2f04425a85",
            "5652a19e2acd467a9c6622c3975f37b6",
            "9787210fc3974fcf9ac0d16ce9f0b099",
            "b7b9dc4c913041fc9b0c3e0b54de5e5d",
            "4ab741976a224413964ca9d8f8bd9eaa",
            "0b87d9b4d2d64262a0493e98b7aafcdb"
          ]
        },
        "outputId": "dd506f11-2d7f-47d0-f52e-6aa11925d38f"
      },
      "source": [
        "training_data = datasets.MNIST(\n",
        "    root=\"data\",\n",
        "    train=True,\n",
        "    download=True,\n",
        "    transform=ToTensor()\n",
        ")\n",
        "\n",
        "test_data = datasets.MNIST(\n",
        "    root=\"data\",\n",
        "    train=False,\n",
        "    download=True,\n",
        "    transform=ToTensor()\n",
        ")\n",
        "\n",
        "train_dataloader = DataLoader(training_data, batch_size=200, shuffle=True)\n",
        "test_dataloader = DataLoader(test_data, batch_size=200)"
      ],
      "execution_count": 13,
      "outputs": [
        {
          "output_type": "stream",
          "name": "stdout",
          "text": [
            "Downloading http://yann.lecun.com/exdb/mnist/train-images-idx3-ubyte.gz\n",
            "Downloading http://yann.lecun.com/exdb/mnist/train-images-idx3-ubyte.gz to data/MNIST/raw/train-images-idx3-ubyte.gz\n"
          ]
        },
        {
          "output_type": "display_data",
          "data": {
            "application/vnd.jupyter.widget-view+json": {
              "model_id": "a912fe122ce048aaa2eee98612f6330f",
              "version_minor": 0,
              "version_major": 2
            },
            "text/plain": [
              "  0%|          | 0/9912422 [00:00<?, ?it/s]"
            ]
          },
          "metadata": {}
        },
        {
          "output_type": "stream",
          "name": "stdout",
          "text": [
            "Extracting data/MNIST/raw/train-images-idx3-ubyte.gz to data/MNIST/raw\n",
            "\n",
            "Downloading http://yann.lecun.com/exdb/mnist/train-labels-idx1-ubyte.gz\n",
            "Downloading http://yann.lecun.com/exdb/mnist/train-labels-idx1-ubyte.gz to data/MNIST/raw/train-labels-idx1-ubyte.gz\n"
          ]
        },
        {
          "output_type": "display_data",
          "data": {
            "application/vnd.jupyter.widget-view+json": {
              "model_id": "ffacfca223904712955d894140a4ad0b",
              "version_minor": 0,
              "version_major": 2
            },
            "text/plain": [
              "  0%|          | 0/28881 [00:00<?, ?it/s]"
            ]
          },
          "metadata": {}
        },
        {
          "output_type": "stream",
          "name": "stdout",
          "text": [
            "Extracting data/MNIST/raw/train-labels-idx1-ubyte.gz to data/MNIST/raw\n",
            "\n",
            "Downloading http://yann.lecun.com/exdb/mnist/t10k-images-idx3-ubyte.gz\n",
            "Downloading http://yann.lecun.com/exdb/mnist/t10k-images-idx3-ubyte.gz to data/MNIST/raw/t10k-images-idx3-ubyte.gz\n"
          ]
        },
        {
          "output_type": "display_data",
          "data": {
            "application/vnd.jupyter.widget-view+json": {
              "model_id": "34d403e23530496d8e668b42f7be762f",
              "version_minor": 0,
              "version_major": 2
            },
            "text/plain": [
              "  0%|          | 0/1648877 [00:00<?, ?it/s]"
            ]
          },
          "metadata": {}
        },
        {
          "output_type": "stream",
          "name": "stdout",
          "text": [
            "Extracting data/MNIST/raw/t10k-images-idx3-ubyte.gz to data/MNIST/raw\n",
            "\n",
            "Downloading http://yann.lecun.com/exdb/mnist/t10k-labels-idx1-ubyte.gz\n",
            "Downloading http://yann.lecun.com/exdb/mnist/t10k-labels-idx1-ubyte.gz to data/MNIST/raw/t10k-labels-idx1-ubyte.gz\n"
          ]
        },
        {
          "output_type": "display_data",
          "data": {
            "application/vnd.jupyter.widget-view+json": {
              "model_id": "aaebd89b69584dd5aa098394252a60f8",
              "version_minor": 0,
              "version_major": 2
            },
            "text/plain": [
              "  0%|          | 0/4542 [00:00<?, ?it/s]"
            ]
          },
          "metadata": {}
        },
        {
          "output_type": "stream",
          "name": "stdout",
          "text": [
            "Extracting data/MNIST/raw/t10k-labels-idx1-ubyte.gz to data/MNIST/raw\n",
            "\n"
          ]
        }
      ]
    },
    {
      "cell_type": "code",
      "metadata": {
        "colab": {
          "base_uri": "https://localhost:8080/"
        },
        "id": "_VlPbmPZPVt5",
        "outputId": "6193bad5-c45c-4676-e265-af5031237f3b"
      },
      "source": [
        "device = 'cuda' if torch.cuda.is_available() else 'cpu'\n",
        "print('Using {} device'.format(device))"
      ],
      "execution_count": 14,
      "outputs": [
        {
          "output_type": "stream",
          "name": "stdout",
          "text": [
            "Using cuda device\n"
          ]
        }
      ]
    },
    {
      "cell_type": "code",
      "metadata": {
        "id": "t9vgQqGVMoMC"
      },
      "source": [
        "class NeuralNetwork(nn.Module):\n",
        "    def __init__(self):\n",
        "        super().__init__()\n",
        "        self.linear_relu_stack = nn.Sequential(\n",
        "            nn.Conv2d(1, 32, kernel_size=(3, 3)),\n",
        "            nn.ReLU(),\n",
        "            nn.Conv2d(32, 32, kernel_size=(3, 3)),\n",
        "            nn.ReLU(),\n",
        "            nn.MaxPool2d(kernel_size=(2, 2)),\n",
        "            nn.Conv2d(32, 64, kernel_size=(3, 3)),\n",
        "            nn.ReLU(),\n",
        "            nn.Conv2d(64, 64, kernel_size=(3, 3)),\n",
        "            nn.ReLU(),\n",
        "            nn.MaxPool2d(kernel_size=(2, 2)),\n",
        "            nn.Flatten(),\n",
        "            nn.Linear(4*4*64, 128),\n",
        "            nn.ReLU(),\n",
        "            nn.Linear(128, 10),\n",
        "        )\n",
        "\n",
        "    def forward(self, x):\n",
        "        return self.linear_relu_stack(x)"
      ],
      "execution_count": 15,
      "outputs": []
    },
    {
      "cell_type": "code",
      "metadata": {
        "colab": {
          "base_uri": "https://localhost:8080/"
        },
        "id": "DzQ65nPGcaj8",
        "outputId": "23c00d2e-ca29-4fb8-d09a-6a5946e44d30"
      },
      "source": [
        "model = NeuralNetwork()\n",
        "model.to(device)"
      ],
      "execution_count": 16,
      "outputs": [
        {
          "output_type": "execute_result",
          "data": {
            "text/plain": [
              "NeuralNetwork(\n",
              "  (linear_relu_stack): Sequential(\n",
              "    (0): Conv2d(1, 32, kernel_size=(3, 3), stride=(1, 1))\n",
              "    (1): ReLU()\n",
              "    (2): Conv2d(32, 32, kernel_size=(3, 3), stride=(1, 1))\n",
              "    (3): ReLU()\n",
              "    (4): MaxPool2d(kernel_size=(2, 2), stride=(2, 2), padding=0, dilation=1, ceil_mode=False)\n",
              "    (5): Conv2d(32, 64, kernel_size=(3, 3), stride=(1, 1))\n",
              "    (6): ReLU()\n",
              "    (7): Conv2d(64, 64, kernel_size=(3, 3), stride=(1, 1))\n",
              "    (8): ReLU()\n",
              "    (9): MaxPool2d(kernel_size=(2, 2), stride=(2, 2), padding=0, dilation=1, ceil_mode=False)\n",
              "    (10): Flatten(start_dim=1, end_dim=-1)\n",
              "    (11): Linear(in_features=1024, out_features=128, bias=True)\n",
              "    (12): ReLU()\n",
              "    (13): Linear(in_features=128, out_features=10, bias=True)\n",
              "  )\n",
              ")"
            ]
          },
          "metadata": {},
          "execution_count": 16
        }
      ]
    },
    {
      "cell_type": "code",
      "metadata": {
        "colab": {
          "base_uri": "https://localhost:8080/"
        },
        "id": "nnpOPSt2Mn8d",
        "outputId": "34f91b39-af14-4412-db46-cd5a047be729"
      },
      "source": [
        "%%time\n",
        "epochs = 20\n",
        "optimizer = torch.optim.Adam(model.parameters(), lr=0.001)\n",
        "criterion = nn.CrossEntropyLoss()\n",
        "\n",
        "for epoch in range(epochs):\n",
        "    losses, val_losses = [], []\n",
        "    for x, y in train_dataloader:\n",
        "        optimizer.zero_grad()\n",
        "        logits = model(x.to(device))\n",
        "        loss = criterion(logits, y.to(device))\n",
        "        loss.backward()\n",
        "        losses.append(loss.item())\n",
        "        optimizer.step()\n",
        "    avg_loss = np.array(losses).mean()\n",
        "    \n",
        "    for x, y in test_dataloader:\n",
        "        logits = model(x.to(device))\n",
        "        loss = criterion(logits, y.to(device))\n",
        "        val_losses.append(loss.item())\n",
        "    avg_val_loss = np.array(val_losses).mean()\n",
        "\n",
        "    print(\"Epoch %d/%d, loss %.4f, val_loss %.4f\" % \n",
        "          (epoch+1, epochs, avg_loss, avg_val_loss))"
      ],
      "execution_count": 17,
      "outputs": [
        {
          "output_type": "stream",
          "name": "stdout",
          "text": [
            "Epoch 1/20, loss 0.2596, val_loss 0.0631\n",
            "Epoch 2/20, loss 0.0564, val_loss 0.0497\n",
            "Epoch 3/20, loss 0.0394, val_loss 0.0441\n",
            "Epoch 4/20, loss 0.0295, val_loss 0.0336\n",
            "Epoch 5/20, loss 0.0240, val_loss 0.0309\n",
            "Epoch 6/20, loss 0.0185, val_loss 0.0268\n",
            "Epoch 7/20, loss 0.0152, val_loss 0.0309\n",
            "Epoch 8/20, loss 0.0137, val_loss 0.0294\n",
            "Epoch 9/20, loss 0.0118, val_loss 0.0357\n",
            "Epoch 10/20, loss 0.0098, val_loss 0.0277\n",
            "Epoch 11/20, loss 0.0101, val_loss 0.0325\n",
            "Epoch 12/20, loss 0.0077, val_loss 0.0455\n",
            "Epoch 13/20, loss 0.0066, val_loss 0.0287\n",
            "Epoch 14/20, loss 0.0077, val_loss 0.0337\n",
            "Epoch 15/20, loss 0.0058, val_loss 0.0385\n",
            "Epoch 16/20, loss 0.0056, val_loss 0.0329\n",
            "Epoch 17/20, loss 0.0053, val_loss 0.0324\n",
            "Epoch 18/20, loss 0.0048, val_loss 0.0317\n",
            "Epoch 19/20, loss 0.0045, val_loss 0.0378\n",
            "Epoch 20/20, loss 0.0046, val_loss 0.0424\n",
            "CPU times: user 6min 1s, sys: 1.84 s, total: 6min 3s\n",
            "Wall time: 6min 2s\n"
          ]
        }
      ]
    },
    {
      "cell_type": "markdown",
      "metadata": {
        "id": "gwlALALWbM_L"
      },
      "source": [
        "Оценим точность на тестовом наборе:"
      ]
    },
    {
      "cell_type": "code",
      "metadata": {
        "colab": {
          "base_uri": "https://localhost:8080/"
        },
        "id": "b5cLfxHyVQMo",
        "outputId": "45032f85-6128-427b-be0d-ab5dc9bd3822"
      },
      "source": [
        "total, correct = 0, 0\n",
        "for x, y in test_dataloader:\n",
        "    logits = model(x.to(device))\n",
        "    _,pred_t = torch.max(logits, dim=1)\n",
        "    correct += torch.sum(pred_t == y.to(device)).item()\n",
        "    total += y.size(0)\n",
        "test_acc = (100 * correct / total)\n",
        "print(test_acc)"
      ],
      "execution_count": 18,
      "outputs": [
        {
          "output_type": "stream",
          "name": "stdout",
          "text": [
            "99.13\n"
          ]
        }
      ]
    },
    {
      "cell_type": "markdown",
      "metadata": {
        "id": "gjwy_hr6beLa"
      },
      "source": [
        "Cкопируем веса модели на google-drive"
      ]
    },
    {
      "cell_type": "code",
      "metadata": {
        "id": "BYmmCXAKMnvI"
      },
      "source": [
        "path = os.path.join('/content/drive/MyDrive/Models', 'model_weights.pth')\n",
        "torch.save(model.state_dict(), path)"
      ],
      "execution_count": 19,
      "outputs": []
    },
    {
      "cell_type": "markdown",
      "metadata": {
        "id": "DTKY1jhXcBxA"
      },
      "source": [
        "Попробуем восстановить веса модели:"
      ]
    },
    {
      "cell_type": "code",
      "metadata": {
        "colab": {
          "base_uri": "https://localhost:8080/"
        },
        "id": "_Od1N3YbMngj",
        "outputId": "e3732ba9-866b-4781-de81-0045c65ab41f"
      },
      "source": [
        "model.load_state_dict(torch.load(path))\n",
        "model.eval()"
      ],
      "execution_count": 20,
      "outputs": [
        {
          "output_type": "execute_result",
          "data": {
            "text/plain": [
              "NeuralNetwork(\n",
              "  (linear_relu_stack): Sequential(\n",
              "    (0): Conv2d(1, 32, kernel_size=(3, 3), stride=(1, 1))\n",
              "    (1): ReLU()\n",
              "    (2): Conv2d(32, 32, kernel_size=(3, 3), stride=(1, 1))\n",
              "    (3): ReLU()\n",
              "    (4): MaxPool2d(kernel_size=(2, 2), stride=(2, 2), padding=0, dilation=1, ceil_mode=False)\n",
              "    (5): Conv2d(32, 64, kernel_size=(3, 3), stride=(1, 1))\n",
              "    (6): ReLU()\n",
              "    (7): Conv2d(64, 64, kernel_size=(3, 3), stride=(1, 1))\n",
              "    (8): ReLU()\n",
              "    (9): MaxPool2d(kernel_size=(2, 2), stride=(2, 2), padding=0, dilation=1, ceil_mode=False)\n",
              "    (10): Flatten(start_dim=1, end_dim=-1)\n",
              "    (11): Linear(in_features=1024, out_features=128, bias=True)\n",
              "    (12): ReLU()\n",
              "    (13): Linear(in_features=128, out_features=10, bias=True)\n",
              "  )\n",
              ")"
            ]
          },
          "metadata": {},
          "execution_count": 20
        }
      ]
    },
    {
      "cell_type": "markdown",
      "metadata": {
        "id": "-FSZ3MCAbt-b"
      },
      "source": [
        "Преобразуем модель в формат ONNX и запишем на google-drive:"
      ]
    },
    {
      "cell_type": "code",
      "metadata": {
        "id": "9FnbmT0ahiYj"
      },
      "source": [
        "path_onnx = os.path.join('/content/drive/MyDrive/Models', 'model.onnx')\n",
        "input_image = torch.zeros((1, 1, 28, 28))\n",
        "onnx.export(model.to('cpu'), input_image, path_onnx)"
      ],
      "execution_count": 21,
      "outputs": []
    },
    {
      "cell_type": "markdown",
      "metadata": {
        "id": "NxcKsXrXPZAr"
      },
      "source": [
        "## Flask\n",
        "\n",
        "![image.png](data:image/png;base64,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)\n",
        "Здесь можно запустить новую сессию (без GPU) для эмуляции работы production-машины\n",
        "\n"
      ]
    },
    {
      "cell_type": "markdown",
      "metadata": {
        "id": "llz-4LzNRQOV"
      },
      "source": [
        "[Flask](https://flask.palletsprojects.com/en/1.1.x/quickstart/) - фреймворк на Python для создания Web-приложений.\n",
        "\n",
        "Альтернативные фреймворки на Python, решающие те же задачи - [Django](https://www.djangoproject.com/) и [FastAPI](https://fastapi.tiangolo.com/)\n"
      ]
    },
    {
      "cell_type": "markdown",
      "metadata": {
        "id": "QzK7GnBBu5Nl"
      },
      "source": [
        "Импортируем Flask и создадим простейшее приложение"
      ]
    },
    {
      "cell_type": "code",
      "metadata": {
        "id": "EkpUvPiCSV3r"
      },
      "source": [
        "from flask import Flask, render_template\n",
        "\n",
        "app = Flask(__name__)\n",
        "\n",
        "@app.route('/')\n",
        "def hello_world():\n",
        "    # return render_template('index.html')\n",
        "    return 'Hello, World!'"
      ],
      "execution_count": 1,
      "outputs": []
    },
    {
      "cell_type": "markdown",
      "metadata": {
        "id": "vApi9ofaT3f_"
      },
      "source": [
        "Декоратор `@app.route(uri)` связывает ссылку, по которой обратились к сайту, с функцией, создающей контент web-страницы.\n",
        "\n",
        "Существует несколько способов запустить web-приложение (или _сервер_).\n",
        "\n",
        "Один из них - запустить сервер как отдельный _поток_ (Thread) в текущем процессе. Это можно сделать с помощью пакета `threading`:"
      ]
    },
    {
      "cell_type": "code",
      "metadata": {
        "id": "u7jqsNXlSVli"
      },
      "source": [
        "import threading"
      ],
      "execution_count": 2,
      "outputs": []
    },
    {
      "cell_type": "markdown",
      "metadata": {
        "id": "lOSblPpRAIZE"
      },
      "source": [
        "Запуск сервера в отдельном потоке не заблокирует выполнение ячейки и мы сможем работать дальше."
      ]
    },
    {
      "cell_type": "code",
      "metadata": {
        "colab": {
          "base_uri": "https://localhost:8080/"
        },
        "id": "dMfWWj7-SVZC",
        "outputId": "8a095c37-b5e0-4707-ed3c-e6dfdb754da4"
      },
      "source": [
        "threading.Thread(target=app.run, kwargs={'host' : 'localhost', 'port':5001}).start()"
      ],
      "execution_count": 3,
      "outputs": [
        {
          "output_type": "stream",
          "name": "stdout",
          "text": [
            " * Serving Flask app \"__main__\" (lazy loading)\n",
            " * Environment: production\n",
            "\u001b[31m   WARNING: This is a development server. Do not use it in a production deployment.\u001b[0m\n",
            "\u001b[2m   Use a production WSGI server instead.\u001b[0m\n",
            " * Debug mode: off\n"
          ]
        },
        {
          "output_type": "stream",
          "name": "stderr",
          "text": [
            " * Running on http://localhost:5001/ (Press CTRL+C to quit)\n"
          ]
        }
      ]
    },
    {
      "cell_type": "markdown",
      "metadata": {
        "id": "sQG613DoVkNO"
      },
      "source": [
        "К сожалению, браузер не может соединиться с нашим сервером, так как его IP-адрес нам недоступен.\n",
        "\n",
        "Можно делать к нему HTTP-запросы из colab-ноутбука, для этого импортируем библиотеку `requests`"
      ]
    },
    {
      "cell_type": "code",
      "metadata": {
        "colab": {
          "base_uri": "https://localhost:8080/"
        },
        "id": "GeIv3gV7SVNT",
        "outputId": "e6c27c98-9c5f-419d-ce2b-54b416ae8a3e"
      },
      "source": [
        "import requests\n",
        "\n",
        "r = requests.get('http://localhost:5001') \n",
        "print(r.status_code) \n",
        "print(r.text) "
      ],
      "execution_count": 4,
      "outputs": [
        {
          "output_type": "stream",
          "name": "stderr",
          "text": [
            "127.0.0.1 - - [28/Feb/2022 18:08:42] \"\u001b[37mGET / HTTP/1.1\u001b[0m\" 200 -\n"
          ]
        },
        {
          "output_type": "stream",
          "name": "stdout",
          "text": [
            "200\n",
            "Hello, World!\n"
          ]
        }
      ]
    },
    {
      "cell_type": "markdown",
      "metadata": {
        "id": "SZbaoSlhA5S7"
      },
      "source": [
        "Существует способ достучаться до сервера извне (например подключиться браузером) - создать туннельный канал. Запускаем сервер еще раз, обычным способом (без отдельного потока). При этом выполнение \"зависнет\" на этой ячейке."
      ]
    },
    {
      "cell_type": "markdown",
      "metadata": {
        "id": "JydV-UYbfEfc"
      },
      "source": [
        "Для доступа к нашему серверу через браузер можно воспользоваться сервисом https://ngrok.com\n",
        "\n",
        "Для запуска *ngrok* в фоновом режиме будем использовать библиотеку *pyngrok*"
      ]
    },
    {
      "cell_type": "code",
      "source": [
        "# Запускаем ngrok в фоновом режиме\n",
        "!pip install pyngrok --quiet\n",
        "from pyngrok import ngrok\n",
        "\n",
        "# Если существуют открытые туннели, закрыть \n",
        "ngrok.kill()\n",
        "\n",
        "# Получить свой токен авторизации можно здесь https://dashboard.ngrok.com/auth\n",
        "NGROK_AUTH_TOKEN = \"21QlgIEfuwFXFC70kUkgqXzJE7g_3ojazBsnHiKH18WJCJ5U2\"\n",
        "ngrok.set_auth_token(NGROK_AUTH_TOKEN)\n",
        "\n",
        "# Открыть туннель HTTP на порту 80 для http://localhost:80\n",
        "public_url = ngrok.connect(port=\"80\", proto=\"http\", options={\"bind_tls\": True})\n",
        "public_url"
      ],
      "metadata": {
        "colab": {
          "base_uri": "https://localhost:8080/"
        },
        "id": "Rnrt4GfEFkiq",
        "outputId": "155e6f8e-a979-45ac-9857-e24e1ff4f9c1"
      },
      "execution_count": 17,
      "outputs": [
        {
          "output_type": "execute_result",
          "data": {
            "text/plain": [
              "<NgrokTunnel: \"http://3aeb-34-90-131-53.ngrok.io\" -> \"http://localhost:80\">"
            ]
          },
          "metadata": {},
          "execution_count": 17
        }
      ]
    },
    {
      "cell_type": "markdown",
      "metadata": {
        "id": "9jmMyQFgG6mt"
      },
      "source": [
        "Для соединения с нашим сервером наберите в браузере адрес, который выдает программа\n",
        "\n",
        "Но сначала нам надо загрузить статические файлы нашего приложения "
      ]
    },
    {
      "cell_type": "markdown",
      "metadata": {
        "id": "Qr1mJdgnJsSG"
      },
      "source": [
        "Загрузим статические файлы для нашего web-приложения flask:"
      ]
    },
    {
      "cell_type": "code",
      "metadata": {
        "colab": {
          "base_uri": "https://localhost:8080/"
        },
        "id": "Rt7cTzm0e4NA",
        "outputId": "2c666e13-fce7-454b-d011-03feebd4aa6e"
      },
      "source": [
        "!wget http://dataudt.ru/datasets/flask-app.tar"
      ],
      "execution_count": 6,
      "outputs": [
        {
          "output_type": "stream",
          "name": "stdout",
          "text": [
            "--2022-02-28 18:09:59--  http://dataudt.ru/datasets/flask-app.tar\n",
            "Resolving dataudt.ru (dataudt.ru)... 37.228.117.130\n",
            "Connecting to dataudt.ru (dataudt.ru)|37.228.117.130|:80... connected.\n",
            "HTTP request sent, awaiting response... 200 OK\n",
            "Length: 71680 (70K) [application/octet-stream]\n",
            "Saving to: ‘flask-app.tar’\n",
            "\n",
            "flask-app.tar       100%[===================>]  70.00K  --.-KB/s    in 0.08s   \n",
            "\n",
            "2022-02-28 18:09:59 (885 KB/s) - ‘flask-app.tar’ saved [71680/71680]\n",
            "\n"
          ]
        }
      ]
    },
    {
      "cell_type": "markdown",
      "metadata": {
        "id": "9rYFI3JjxWWK"
      },
      "source": [
        "Развернем tar-архив в текущем каталоге "
      ]
    },
    {
      "cell_type": "code",
      "metadata": {
        "colab": {
          "base_uri": "https://localhost:8080/"
        },
        "id": "zkIqpw_Ue3uI",
        "outputId": "c81991e9-2564-4275-9630-faa49b85ba8a"
      },
      "source": [
        "!tar xvf flask-app.tar"
      ],
      "execution_count": 7,
      "outputs": [
        {
          "output_type": "stream",
          "name": "stdout",
          "text": [
            "./\n",
            "./static/\n",
            "./static/index.js\n",
            "./static/jquery-1.3.2.min.js\n",
            "./static/style.css\n",
            "./templates/\n",
            "./templates/index.html\n"
          ]
        }
      ]
    },
    {
      "cell_type": "markdown",
      "metadata": {
        "id": "uSkhljYgx_Ia"
      },
      "source": [
        "Копируем файлы keras-модели с гугл-драйва в текущий каталог:"
      ]
    },
    {
      "cell_type": "code",
      "metadata": {
        "id": "l7KoBbAuXr9E"
      },
      "source": [
        "!cp /content/drive/MyDrive/Models/model.json .\n",
        "!cp /content/drive/MyDrive/Models/model.h5 ."
      ],
      "execution_count": 9,
      "outputs": []
    },
    {
      "cell_type": "markdown",
      "metadata": {
        "id": "eGDq-IUqYIHt"
      },
      "source": [
        "Восстанавливаем модель на production-машине:"
      ]
    },
    {
      "cell_type": "code",
      "metadata": {
        "colab": {
          "base_uri": "https://localhost:8080/"
        },
        "id": "TI2fh7SKXi4D",
        "outputId": "80ec81ee-0ba6-4781-a7d1-3c38104421fc"
      },
      "source": [
        "with open('model.json','r') as json_file: \n",
        "    loaded_model_json = json_file.read()\n",
        "\n",
        "loaded_model = tf.keras.models.model_from_json(loaded_model_json)\n",
        "loaded_model.load_weights(\"model.h5\")\n",
        "loaded_model.summary()"
      ],
      "execution_count": 12,
      "outputs": [
        {
          "output_type": "stream",
          "name": "stdout",
          "text": [
            "Model: \"sequential\"\n",
            "_________________________________________________________________\n",
            " Layer (type)                Output Shape              Param #   \n",
            "=================================================================\n",
            " conv2d (Conv2D)             (None, 26, 26, 32)        320       \n",
            "                                                                 \n",
            " conv2d_1 (Conv2D)           (None, 24, 24, 32)        9248      \n",
            "                                                                 \n",
            " max_pooling2d (MaxPooling2D  (None, 12, 12, 32)       0         \n",
            " )                                                               \n",
            "                                                                 \n",
            " conv2d_2 (Conv2D)           (None, 10, 10, 64)        18496     \n",
            "                                                                 \n",
            " conv2d_3 (Conv2D)           (None, 8, 8, 64)          36928     \n",
            "                                                                 \n",
            " max_pooling2d_1 (MaxPooling  (None, 4, 4, 64)         0         \n",
            " 2D)                                                             \n",
            "                                                                 \n",
            " flatten (Flatten)           (None, 1024)              0         \n",
            "                                                                 \n",
            " dense (Dense)               (None, 128)               131200    \n",
            "                                                                 \n",
            " dense_1 (Dense)             (None, 10)                1290      \n",
            "                                                                 \n",
            "=================================================================\n",
            "Total params: 197,482\n",
            "Trainable params: 197,482\n",
            "Non-trainable params: 0\n",
            "_________________________________________________________________\n"
          ]
        }
      ]
    },
    {
      "cell_type": "markdown",
      "metadata": {
        "id": "ySTgkQjiyXw4"
      },
      "source": [
        "Браузер передает изображение, закодировав данные в base64\n",
        "\n",
        "Нам нужно преобразовать большое изображение (рисунок цифры) в маленькое, размера 28х28. Проще всего это сделать, предварительно записав изображение во временный PNG-файл."
      ]
    },
    {
      "cell_type": "markdown",
      "metadata": {
        "id": "jTCLypioZD8G"
      },
      "source": [
        "Следующая функция создает png-файл из строки, кодирующей изображение в кодировке base64.\n",
        "\n",
        "Пример изображения ![image.png](data:image/png;base64,iVBORw0KGgoAAAANSUhEUgAAACkAAAAhCAYAAABEM4KbAAAA7UlEQVRYCe2WsQrEIAyG+6pd29nVrp2dnTv7DvoOnTt3ds6RA49yeBCtBsqlEApF5ePLr3aABzzDAxhBIFt1SUyKyVYGWq1DzuRxHLBtGzjnigvnhRCqmcmQ0zTBOI636jzPKlAy5F1AnL/vu0DeanPqAqvJ2nyyQWqtIcYI1tpiu2yQy7K8IXEHlIKyQWK+akFZIVPLS22yQf4CXNc1ewbiTcW+u1Orv/OolMpel9dxbCbRyjzPHzvJEuXdHbL2bLzCd7+7MVvYOsxeaRljwHufzSzlI/kHg7JYrzEC2cqsmBSTrQy0Wkcy+VcmX6Y7dZxZk6XHAAAAAElFTkSuQmCC) в кодировке base64:\n",
        "```\n",
        "data:image/png;base64,iVBORw0KGgoAAAANSUhEUgAAACkAAAAhCAYAAABEM4KbAAAA7UlEQVRYCe2WsQrEIAyG+6pd29nVrp2dnTv7DvoOnTt3ds6RA49yeBCtBsqlEApF5ePLr3aABzzDAxhBIFt1SUyKyVYGWq1DzuRxHLBtGzjnigvnhRCqmcmQ0zTBOI636jzPKlAy5F1AnL/vu0DeanPqAqvJ2nyyQWqtIcYI1tpiu2yQy7K8IXEHlIKyQWK+akFZIVPLS22yQf4CXNc1ewbiTcW+u1Orv/OolMpel9dxbCbRyjzPHzvJEuXdHbL2bLzCd7+7MVvYOsxeaRljwHufzSzlI/kHg7JYrzEC2cqsmBSTrQy0Wkcy+VcmX6Y7dZxZk6XHAAAAAElFTkSuQmCC\n",
        "```"
      ]
    },
    {
      "cell_type": "code",
      "metadata": {
        "id": "6WP1PYWhZAlj"
      },
      "source": [
        "import base64\n",
        "def convertImage(img):\n",
        "    imgstr = re.search(b'base64,(.*)', img).group(1)\n",
        "    with open('output.png','wb') as output: # временный файл, в который записываем декодированное представление\n",
        "        output.write(base64.b64decode(imgstr))"
      ],
      "execution_count": 13,
      "outputs": []
    },
    {
      "cell_type": "markdown",
      "metadata": {
        "id": "WtstNWJa2hof"
      },
      "source": [
        "Это - наше приложение на Flask. По адресу `/` (или `/index`) выводится страница изображения с холстом (canvas) для рисования цифры.\n",
        "\n",
        "После нажатия кнопки 'predict' браузер посылает на сервер AJAX-запрос по адресу `/predict`. В качестве данных передается изображение в кодировке base64.\n",
        "\n",
        "Наш сервер преобразует полученное изображение в 28х28 и запускает модель на инференс. Полученный результат (с указанием вероятности) возвращается в качестве ответа на AJAX-запрос и далее выводится на странице."
      ]
    },
    {
      "cell_type": "code",
      "metadata": {
        "id": "XOgeOh1NqjtS"
      },
      "source": [
        "from flask import Flask, request, render_template\n",
        "from tensorflow.keras.preprocessing import image\n",
        "import numpy as np\n",
        "\n",
        "app = Flask(__name__)\n",
        "\n",
        "@app.route('/')\n",
        "@app.route('/index')\n",
        "def index():\n",
        "    return render_template(\"index.html\") # темплейты берутся из каталога templates\n",
        "\n",
        "# здесь будут обрабатываться AJAX-запросы на распознавание цифры\n",
        "@app.route('/predict/', methods=['GET','POST'])\n",
        "def predict():\n",
        "    imgData = request.get_data()\n",
        "    convertImage(imgData) # сохраняем во временный файл output.png\n",
        "    img = image.load_img('output.png', target_size=(28, 28), color_mode='grayscale')\n",
        "    x = np.array(img)\n",
        "    x = np.reshape(x, (1, 28, 28, 1))\n",
        "    x = 1. - (x / 255.) \n",
        "    pred = loaded_model.predict(x) \n",
        "    digit = np.argmax(pred, axis=1)[0] \n",
        "    prob = pred[0, digit]             \n",
        "    print(pred, digit) # для отладки (вывод в консоль)\n",
        "    # response = np.array_str(np.argmax(pred, axis=1))\n",
        "    response = '%d probability:%.3f' % (digit, prob)\n",
        "    return response"
      ],
      "execution_count": 14,
      "outputs": []
    },
    {
      "cell_type": "markdown",
      "metadata": {
        "id": "XAotVEFTKAaP"
      },
      "source": [
        "Запустим приложение flask и обратимся в браузере по соответсвующему адресу (NgrokTunnel)"
      ]
    },
    {
      "cell_type": "code",
      "metadata": {
        "colab": {
          "base_uri": "https://localhost:8080/"
        },
        "id": "hgMPQpjRrnDQ",
        "outputId": "33348a8d-8e05-4ebe-e1cb-5297995a8b67"
      },
      "source": [
        "import os\n",
        "import re\n",
        "\n",
        "print(public_url)\n",
        "\n",
        "port = int(os.environ.get('PORT', 80))\n",
        "app.run(host='localhost', port=port, debug=True, use_reloader=False)"
      ],
      "execution_count": 18,
      "outputs": [
        {
          "output_type": "stream",
          "name": "stdout",
          "text": [
            "NgrokTunnel: \"http://3aeb-34-90-131-53.ngrok.io\" -> \"http://localhost:80\"\n",
            " * Serving Flask app \"__main__\" (lazy loading)\n",
            " * Environment: production\n",
            "\u001b[31m   WARNING: This is a development server. Do not use it in a production deployment.\u001b[0m\n",
            "\u001b[2m   Use a production WSGI server instead.\u001b[0m\n",
            " * Debug mode: on\n"
          ]
        },
        {
          "output_type": "stream",
          "name": "stderr",
          "text": [
            " * Running on http://localhost:80/ (Press CTRL+C to quit)\n",
            "127.0.0.1 - - [28/Feb/2022 18:24:08] \"\u001b[37mGET / HTTP/1.1\u001b[0m\" 200 -\n",
            "127.0.0.1 - - [28/Feb/2022 18:24:09] \"\u001b[37mGET /static/index.js HTTP/1.1\u001b[0m\" 200 -\n",
            "127.0.0.1 - - [28/Feb/2022 18:24:09] \"\u001b[37mGET /static/style.css HTTP/1.1\u001b[0m\" 200 -\n",
            "127.0.0.1 - - [28/Feb/2022 18:24:09] \"\u001b[37mGET / HTTP/1.1\u001b[0m\" 200 -\n",
            "127.0.0.1 - - [28/Feb/2022 18:24:09] \"\u001b[37mGET /static/style.css HTTP/1.1\u001b[0m\" 200 -\n",
            "127.0.0.1 - - [28/Feb/2022 18:24:10] \"\u001b[37mGET /static/index.js HTTP/1.1\u001b[0m\" 200 -\n",
            "127.0.0.1 - - [28/Feb/2022 18:24:11] \"\u001b[33mGET /favicon.ico HTTP/1.1\u001b[0m\" 404 -\n",
            "127.0.0.1 - - [28/Feb/2022 18:24:15] \"\u001b[37mPOST /predict/ HTTP/1.1\u001b[0m\" 200 -\n"
          ]
        },
        {
          "output_type": "stream",
          "name": "stdout",
          "text": [
            "[[1.1223200e-05 4.6018013e-05 1.9456700e-06 1.9187022e-05 7.5840310e-04\n",
            "  3.5727990e-05 3.0097915e-09 9.9622500e-01 1.8441345e-03 1.0583083e-03]] 7\n"
          ]
        },
        {
          "output_type": "stream",
          "name": "stderr",
          "text": [
            "127.0.0.1 - - [28/Feb/2022 18:24:47] \"\u001b[37mPOST /predict/ HTTP/1.1\u001b[0m\" 200 -\n"
          ]
        },
        {
          "output_type": "stream",
          "name": "stdout",
          "text": [
            "[[5.0931612e-07 2.8479638e-04 3.8063179e-06 2.7247069e-07 9.8827446e-01\n",
            "  5.3707263e-05 1.1344564e-02 4.1355648e-09 3.7621438e-05 2.0867256e-07]] 4\n"
          ]
        }
      ]
    },
    {
      "cell_type": "markdown",
      "metadata": {
        "id": "k2ykk6qF5Erc"
      },
      "source": [
        "Пример работы:![screen.png](data:image/png;base64,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)"
      ]
    },
    {
      "cell_type": "markdown",
      "metadata": {
        "id": "_-23C1088-1A"
      },
      "source": [
        "# ONNX\n",
        "\n",
        "В предыдущем примере мы запустили на production модель, созданную с помощью keras и восстановленную из ее описания в формате JSON. Иногда такой подход неудобен или невозможен, например если у нас используется несколько моделей, созданных в разных фреймворках.\n",
        "\n",
        "Возможное решение этой проблемы - использование [ONNX](https://onnx.ai/)\n",
        "\n",
        "**ONNX** (Open Neural Network Exchange) — открытая библиотека программного обеспечения для построения нейронных сетей глубокого обучения. С помощью ONNX ИИ-разработчики могут обмениваться моделями между различными инструментами и выбирать наилучшую комбинацию этих инструментов. ONNX разрабатывается и поддерживается совместно компаниями Microsoft, Facebook, Amazon и другими партнерами как проект с открытым исходным кодом"
      ]
    },
    {
      "cell_type": "markdown",
      "metadata": {
        "id": "KxdUPC0UGIok"
      },
      "source": [
        "### ONNX - PyTorch model\n",
        "\n",
        "Запустим нашу модель, используя ONNX."
      ]
    },
    {
      "cell_type": "code",
      "metadata": {
        "colab": {
          "base_uri": "https://localhost:8080/"
        },
        "id": "F3eTD8TULB4A",
        "outputId": "8ec8e030-544e-47d2-b75a-a3981e225b7c"
      },
      "source": [
        "!pip install onnxruntime\n",
        "!pip install onnx"
      ],
      "execution_count": 19,
      "outputs": [
        {
          "output_type": "stream",
          "name": "stdout",
          "text": [
            "Collecting onnxruntime\n",
            "  Downloading onnxruntime-1.10.0-cp37-cp37m-manylinux_2_17_x86_64.manylinux2014_x86_64.whl (4.9 MB)\n",
            "\u001b[K     |████████████████████████████████| 4.9 MB 13.2 MB/s \n",
            "\u001b[?25hRequirement already satisfied: numpy>=1.16.6 in /usr/local/lib/python3.7/dist-packages (from onnxruntime) (1.21.5)\n",
            "Requirement already satisfied: protobuf in /usr/local/lib/python3.7/dist-packages (from onnxruntime) (3.17.3)\n",
            "Requirement already satisfied: flatbuffers in /usr/local/lib/python3.7/dist-packages (from onnxruntime) (2.0)\n",
            "Requirement already satisfied: six>=1.9 in /usr/local/lib/python3.7/dist-packages (from protobuf->onnxruntime) (1.15.0)\n",
            "Installing collected packages: onnxruntime\n",
            "Successfully installed onnxruntime-1.10.0\n",
            "Collecting onnx\n",
            "  Downloading onnx-1.11.0-cp37-cp37m-manylinux_2_12_x86_64.manylinux2010_x86_64.whl (12.8 MB)\n",
            "\u001b[K     |████████████████████████████████| 12.8 MB 13.2 MB/s \n",
            "\u001b[?25hRequirement already satisfied: typing-extensions>=3.6.2.1 in /usr/local/lib/python3.7/dist-packages (from onnx) (3.10.0.2)\n",
            "Requirement already satisfied: protobuf>=3.12.2 in /usr/local/lib/python3.7/dist-packages (from onnx) (3.17.3)\n",
            "Requirement already satisfied: numpy>=1.16.6 in /usr/local/lib/python3.7/dist-packages (from onnx) (1.21.5)\n",
            "Requirement already satisfied: six>=1.9 in /usr/local/lib/python3.7/dist-packages (from protobuf>=3.12.2->onnx) (1.15.0)\n",
            "Installing collected packages: onnx\n",
            "Successfully installed onnx-1.11.0\n"
          ]
        }
      ]
    },
    {
      "cell_type": "code",
      "metadata": {
        "colab": {
          "base_uri": "https://localhost:8080/"
        },
        "id": "oNVKEwyTJ4rE",
        "outputId": "e26ba858-d5d9-4fbb-d2e2-bdeab90d2680"
      },
      "source": [
        "import onnx\n",
        "import onnxruntime\n",
        "import tensorflow as tf  # только для конвертации картинки\n",
        "import numpy as np\n",
        "import os\n",
        "\n",
        "print(tf.__version__)"
      ],
      "execution_count": 20,
      "outputs": [
        {
          "output_type": "stream",
          "name": "stdout",
          "text": [
            "2.8.0\n"
          ]
        }
      ]
    },
    {
      "cell_type": "code",
      "metadata": {
        "id": "3UFjnxpLGgdD"
      },
      "source": [
        "path_onnx = os.path.join('/content/drive/MyDrive/Models', 'model.onnx')\n",
        "onnx_model = onnx.load(path_onnx)"
      ],
      "execution_count": 21,
      "outputs": []
    },
    {
      "cell_type": "code",
      "metadata": {
        "id": "DJIFrOMNJu9N"
      },
      "source": [
        "def convertImage(img):\n",
        "    imgstr = re.search(b'base64,(.*)', img).group(1)\n",
        "    with open('output.png','wb') as output: # временный файл, в который записываем декодированное представление\n",
        "        output.write(base64.b64decode(imgstr))"
      ],
      "execution_count": 22,
      "outputs": []
    },
    {
      "cell_type": "code",
      "metadata": {
        "id": "EC04SEeMGt1S"
      },
      "source": [
        "from flask import Flask, request, render_template\n",
        "from tensorflow.keras.preprocessing import image\n",
        "import numpy as np\n",
        "import base64\n",
        "from scipy.special import softmax\n",
        "\n",
        "app = Flask(__name__)\n",
        "content = onnx_model.SerializeToString() \n",
        "sess = onnxruntime.InferenceSession(content)\n",
        "\n",
        "@app.route('/')\n",
        "@app.route('/index')\n",
        "def index():\n",
        "    return render_template(\"index.html\") # темплейты берутся из каталога templates\n",
        "\n",
        "# здесь будут обрабатываться AJAX-запросы на распознавание цифры\n",
        "@app.route('/predict/', methods=['GET','POST'])\n",
        "def predict():\n",
        "    imgData = request.get_data()\n",
        "    convertImage(imgData) # сохраняем во временный файл output.png\n",
        "    img = image.load_img('output.png', target_size=(28, 28), color_mode='grayscale')\n",
        "    x = np.array(img)\n",
        "    x = np.reshape(x, (1, 1, 28, 28))\n",
        "    x = 1. - (x / 255.) \n",
        "    x = x.astype(np.float32)\n",
        "    feed = dict([(inputs.name, x) for inputs in sess.get_inputs()])\n",
        "    logits = sess.run(None, feed)[0]\n",
        "    digit = np.argmax(logits, axis=1)[0] \n",
        "    prob = softmax(logits, axis=1)[0, digit]             \n",
        "    print(digit, prob) # для отладки (вывод в консоль)\n",
        "    response = '%d probability:%.3f' % (digit, prob)\n",
        "    return response"
      ],
      "execution_count": 23,
      "outputs": []
    },
    {
      "cell_type": "code",
      "metadata": {
        "colab": {
          "base_uri": "https://localhost:8080/"
        },
        "id": "0b66M2RCNMwG",
        "outputId": "895f09c3-706f-47a9-802e-16f9d22b6240"
      },
      "source": [
        "import os\n",
        "import re\n",
        "\n",
        "ngrok.kill()\n",
        "public_url = ngrok.connect(port=\"80\", proto=\"http\", options={\"bind_tls\": True})\n",
        "print(public_url)\n",
        "\n",
        "port = int(os.environ.get('PORT', 80))\n",
        "app.run(host='localhost', port=port, debug=True, use_reloader=False)"
      ],
      "execution_count": 25,
      "outputs": [
        {
          "output_type": "stream",
          "name": "stdout",
          "text": [
            "NgrokTunnel: \"http://b89c-34-90-131-53.ngrok.io\" -> \"http://localhost:80\"\n",
            " * Serving Flask app \"__main__\" (lazy loading)\n",
            " * Environment: production\n",
            "\u001b[31m   WARNING: This is a development server. Do not use it in a production deployment.\u001b[0m\n",
            "\u001b[2m   Use a production WSGI server instead.\u001b[0m\n",
            " * Debug mode: on\n"
          ]
        },
        {
          "output_type": "stream",
          "name": "stderr",
          "text": [
            " * Running on http://localhost:80/ (Press CTRL+C to quit)\n",
            "127.0.0.1 - - [28/Feb/2022 18:58:39] \"\u001b[37mGET / HTTP/1.1\u001b[0m\" 200 -\n",
            "127.0.0.1 - - [28/Feb/2022 18:58:42] \"\u001b[37mGET /static/style.css HTTP/1.1\u001b[0m\" 200 -\n",
            "127.0.0.1 - - [28/Feb/2022 18:58:42] \"\u001b[37mGET /static/index.js HTTP/1.1\u001b[0m\" 200 -\n",
            "127.0.0.1 - - [28/Feb/2022 18:59:40] \"\u001b[37mGET / HTTP/1.1\u001b[0m\" 200 -\n",
            "127.0.0.1 - - [28/Feb/2022 18:59:41] \"\u001b[37mGET /static/style.css HTTP/1.1\u001b[0m\" 200 -\n",
            "127.0.0.1 - - [28/Feb/2022 18:59:41] \"\u001b[37mGET /static/index.js HTTP/1.1\u001b[0m\" 200 -\n",
            "127.0.0.1 - - [28/Feb/2022 18:59:41] \"\u001b[33mGET /favicon.ico HTTP/1.1\u001b[0m\" 404 -\n",
            "127.0.0.1 - - [28/Feb/2022 18:59:46] \"\u001b[37mPOST /predict/ HTTP/1.1\u001b[0m\" 200 -\n"
          ]
        },
        {
          "output_type": "stream",
          "name": "stdout",
          "text": [
            "8 0.94436514\n"
          ]
        },
        {
          "output_type": "stream",
          "name": "stderr",
          "text": [
            "127.0.0.1 - - [28/Feb/2022 18:59:50] \"\u001b[37mPOST /predict/ HTTP/1.1\u001b[0m\" 200 -\n"
          ]
        },
        {
          "output_type": "stream",
          "name": "stdout",
          "text": [
            "5 0.7061271\n"
          ]
        }
      ]
    },
    {
      "cell_type": "markdown",
      "metadata": {
        "id": "-WbP1c9Z9bjm"
      },
      "source": [
        "# TensorFlow Serving\n",
        "\n",
        "Это еще один вариант для запуска моделей в production."
      ]
    },
    {
      "cell_type": "markdown",
      "metadata": {
        "id": "KSQZgYTQiDM8"
      },
      "source": [
        "### SavedModel формат"
      ]
    },
    {
      "cell_type": "markdown",
      "metadata": {
        "id": "spOzPtNq-CnX"
      },
      "source": [
        "Давайте посмотрим, как запустить нашу keras-модель в среде TensorFlow Serving.\n",
        "\n",
        "Прежде всего мы должны преобразовать нашу модель в специальный формат, т.н. [SavedModel](https://www.tensorflow.org/versions/r1.15/api_docs/python/tf/saved_model)\n",
        "\n",
        "Восстановим модель по ее JSON описанию и сохраненным весам:"
      ]
    },
    {
      "cell_type": "code",
      "metadata": {
        "id": "cYbBXV8E-BJG"
      },
      "source": [
        "import os\n",
        "import tensorflow as tf\n",
        "import json"
      ],
      "execution_count": 26,
      "outputs": []
    },
    {
      "cell_type": "code",
      "metadata": {
        "colab": {
          "base_uri": "https://localhost:8080/"
        },
        "id": "GSGDSmu0-A-t",
        "outputId": "9b7ad11a-6b81-427e-ee98-9f9a4c967b94"
      },
      "source": [
        "gdir = '/content/drive/MyDrive/Models'\n",
        "path_h5 = os.path.join(gdir, 'model.h5')\n",
        "path_json = os.path.join(gdir, 'model.json')\n",
        "\n",
        "with open(path_json,'r') as json_file: \n",
        "    model_json = json_file.read()\n",
        "\n",
        "model = tf.keras.models.model_from_json(model_json)\n",
        "model.load_weights(path_h5)\n",
        "model.summary()"
      ],
      "execution_count": 27,
      "outputs": [
        {
          "output_type": "stream",
          "name": "stdout",
          "text": [
            "Model: \"sequential\"\n",
            "_________________________________________________________________\n",
            " Layer (type)                Output Shape              Param #   \n",
            "=================================================================\n",
            " conv2d (Conv2D)             (None, 26, 26, 32)        320       \n",
            "                                                                 \n",
            " conv2d_1 (Conv2D)           (None, 24, 24, 32)        9248      \n",
            "                                                                 \n",
            " max_pooling2d (MaxPooling2D  (None, 12, 12, 32)       0         \n",
            " )                                                               \n",
            "                                                                 \n",
            " conv2d_2 (Conv2D)           (None, 10, 10, 64)        18496     \n",
            "                                                                 \n",
            " conv2d_3 (Conv2D)           (None, 8, 8, 64)          36928     \n",
            "                                                                 \n",
            " max_pooling2d_1 (MaxPooling  (None, 4, 4, 64)         0         \n",
            " 2D)                                                             \n",
            "                                                                 \n",
            " flatten (Flatten)           (None, 1024)              0         \n",
            "                                                                 \n",
            " dense (Dense)               (None, 128)               131200    \n",
            "                                                                 \n",
            " dense_1 (Dense)             (None, 10)                1290      \n",
            "                                                                 \n",
            "=================================================================\n",
            "Total params: 197,482\n",
            "Trainable params: 197,482\n",
            "Non-trainable params: 0\n",
            "_________________________________________________________________\n"
          ]
        }
      ]
    },
    {
      "cell_type": "markdown",
      "metadata": {
        "id": "gCu2c2Zp_2nL"
      },
      "source": [
        "Так выполняется преобразование модели в формат `SavedModel`. Подробнее об аргументах можно прочесть [здесь](https://www.tensorflow.org/api_docs/python/tf/keras/models/save_model) \n",
        "\n",
        "Можно записать несколько версий модели, каждую свой подкаталог. "
      ]
    },
    {
      "cell_type": "code",
      "metadata": {
        "colab": {
          "base_uri": "https://localhost:8080/"
        },
        "id": "dUNqicTP_rfW",
        "outputId": "39a5c4ec-c0d3-477d-ba19-3e561261a6d1"
      },
      "source": [
        "MODEL_DIR = '/content/mnist'\n",
        "version = 1  \n",
        "export_path = os.path.join(MODEL_DIR, str(version)) \n",
        "tf.keras.models.save_model(\n",
        "    model,\n",
        "    export_path,\n",
        "    overwrite=True,\n",
        "    include_optimizer=True,\n",
        "    save_format='tf', \n",
        "    signatures=None,\n",
        "    options=None\n",
        ")\n",
        "\n",
        "print('\\nСохраненная модель:')\n",
        "!ls -l {export_path}\n",
        "print('Путь для экспорта = {}\\n'.format(export_path))"
      ],
      "execution_count": 28,
      "outputs": [
        {
          "output_type": "stream",
          "name": "stdout",
          "text": [
            "WARNING:tensorflow:Compiled the loaded model, but the compiled metrics have yet to be built. `model.compile_metrics` will be empty until you train or evaluate the model.\n",
            "INFO:tensorflow:Assets written to: /content/mnist/1/assets\n",
            "\n",
            "Сохраненная модель:\n",
            "total 152\n",
            "drwxr-xr-x 2 root root   4096 Feb 28 19:16 assets\n",
            "-rw-r--r-- 1 root root  19552 Feb 28 19:16 keras_metadata.pb\n",
            "-rw-r--r-- 1 root root 125251 Feb 28 19:16 saved_model.pb\n",
            "drwxr-xr-x 2 root root   4096 Feb 28 19:16 variables\n",
            "Путь для экспорта = /content/mnist/1\n",
            "\n"
          ]
        }
      ]
    },
    {
      "cell_type": "markdown",
      "metadata": {
        "id": "Mmuybpg4qo37"
      },
      "source": [
        "Модели в формате `SavedModel` могут быть проанализированы утилитой `saved_model_cli`."
      ]
    },
    {
      "cell_type": "code",
      "metadata": {
        "colab": {
          "base_uri": "https://localhost:8080/"
        },
        "id": "fKqrS-TiqLI8",
        "outputId": "9bee00b1-0600-46b0-cb11-cb5c0a898957"
      },
      "source": [
        "!saved_model_cli show --dir {export_path} --all\n"
      ],
      "execution_count": 29,
      "outputs": [
        {
          "output_type": "stream",
          "name": "stdout",
          "text": [
            "\n",
            "MetaGraphDef with tag-set: 'serve' contains the following SignatureDefs:\n",
            "\n",
            "signature_def['__saved_model_init_op']:\n",
            "  The given SavedModel SignatureDef contains the following input(s):\n",
            "  The given SavedModel SignatureDef contains the following output(s):\n",
            "    outputs['__saved_model_init_op'] tensor_info:\n",
            "        dtype: DT_INVALID\n",
            "        shape: unknown_rank\n",
            "        name: NoOp\n",
            "  Method name is: \n",
            "\n",
            "signature_def['serving_default']:\n",
            "  The given SavedModel SignatureDef contains the following input(s):\n",
            "    inputs['conv2d_input'] tensor_info:\n",
            "        dtype: DT_FLOAT\n",
            "        shape: (-1, 28, 28, 1)\n",
            "        name: serving_default_conv2d_input:0\n",
            "  The given SavedModel SignatureDef contains the following output(s):\n",
            "    outputs['dense_1'] tensor_info:\n",
            "        dtype: DT_FLOAT\n",
            "        shape: (-1, 10)\n",
            "        name: StatefulPartitionedCall:0\n",
            "  Method name is: tensorflow/serving/predict\n",
            "\n",
            "Concrete Functions:\n",
            "  Function Name: '__call__'\n",
            "    Option #1\n",
            "      Callable with:\n",
            "        Argument #1\n",
            "          conv2d_input: TensorSpec(shape=(None, 28, 28, 1), dtype=tf.float32, name='conv2d_input')\n",
            "        Argument #2\n",
            "          DType: bool\n",
            "          Value: True\n",
            "        Argument #3\n",
            "          DType: NoneType\n",
            "          Value: None\n",
            "    Option #2\n",
            "      Callable with:\n",
            "        Argument #1\n",
            "          inputs: TensorSpec(shape=(None, 28, 28, 1), dtype=tf.float32, name='inputs')\n",
            "        Argument #2\n",
            "          DType: bool\n",
            "          Value: True\n",
            "        Argument #3\n",
            "          DType: NoneType\n",
            "          Value: None\n",
            "    Option #3\n",
            "      Callable with:\n",
            "        Argument #1\n",
            "          inputs: TensorSpec(shape=(None, 28, 28, 1), dtype=tf.float32, name='inputs')\n",
            "        Argument #2\n",
            "          DType: bool\n",
            "          Value: False\n",
            "        Argument #3\n",
            "          DType: NoneType\n",
            "          Value: None\n",
            "    Option #4\n",
            "      Callable with:\n",
            "        Argument #1\n",
            "          conv2d_input: TensorSpec(shape=(None, 28, 28, 1), dtype=tf.float32, name='conv2d_input')\n",
            "        Argument #2\n",
            "          DType: bool\n",
            "          Value: False\n",
            "        Argument #3\n",
            "          DType: NoneType\n",
            "          Value: None\n",
            "\n",
            "  Function Name: '_default_save_signature'\n",
            "    Option #1\n",
            "      Callable with:\n",
            "        Argument #1\n",
            "          conv2d_input: TensorSpec(shape=(None, 28, 28, 1), dtype=tf.float32, name='conv2d_input')\n",
            "\n",
            "  Function Name: 'call_and_return_all_conditional_losses'\n",
            "    Option #1\n",
            "      Callable with:\n",
            "        Argument #1\n",
            "          inputs: TensorSpec(shape=(None, 28, 28, 1), dtype=tf.float32, name='inputs')\n",
            "        Argument #2\n",
            "          DType: bool\n",
            "          Value: False\n",
            "        Argument #3\n",
            "          DType: NoneType\n",
            "          Value: None\n",
            "    Option #2\n",
            "      Callable with:\n",
            "        Argument #1\n",
            "          conv2d_input: TensorSpec(shape=(None, 28, 28, 1), dtype=tf.float32, name='conv2d_input')\n",
            "        Argument #2\n",
            "          DType: bool\n",
            "          Value: True\n",
            "        Argument #3\n",
            "          DType: NoneType\n",
            "          Value: None\n",
            "    Option #3\n",
            "      Callable with:\n",
            "        Argument #1\n",
            "          conv2d_input: TensorSpec(shape=(None, 28, 28, 1), dtype=tf.float32, name='conv2d_input')\n",
            "        Argument #2\n",
            "          DType: bool\n",
            "          Value: False\n",
            "        Argument #3\n",
            "          DType: NoneType\n",
            "          Value: None\n",
            "    Option #4\n",
            "      Callable with:\n",
            "        Argument #1\n",
            "          inputs: TensorSpec(shape=(None, 28, 28, 1), dtype=tf.float32, name='inputs')\n",
            "        Argument #2\n",
            "          DType: bool\n",
            "          Value: True\n",
            "        Argument #3\n",
            "          DType: NoneType\n",
            "          Value: None\n"
          ]
        }
      ]
    },
    {
      "cell_type": "markdown",
      "metadata": {
        "id": "LPdVsvwYuDO0"
      },
      "source": [
        "Есть и другие команды, позволяющие инспектировать и запускать модели."
      ]
    },
    {
      "cell_type": "code",
      "metadata": {
        "colab": {
          "base_uri": "https://localhost:8080/"
        },
        "id": "VOJLccoHreIR",
        "outputId": "5c4c9e6e-314e-4ef4-8102-0f7594b75750"
      },
      "source": [
        "!saved_model_cli -h\n"
      ],
      "execution_count": 30,
      "outputs": [
        {
          "output_type": "stream",
          "name": "stdout",
          "text": [
            "usage: saved_model_cli [-h] [-v]\n",
            "                       {show,run,scan,convert,aot_compile_cpu,freeze_model}\n",
            "                       ...\n",
            "\n",
            "saved_model_cli: Command-line interface for SavedModel\n",
            "\n",
            "optional arguments:\n",
            "  -h, --help            show this help message and exit\n",
            "  -v, --version         show program's version number and exit\n",
            "\n",
            "commands:\n",
            "  valid commands\n",
            "\n",
            "  {show,run,scan,convert,aot_compile_cpu,freeze_model}\n",
            "                        additional help\n"
          ]
        }
      ]
    },
    {
      "cell_type": "markdown",
      "metadata": {
        "id": "emTTJ9N9s00q"
      },
      "source": [
        "Подробнее об утилите `saved_model_cli` можно прочесть [здесь](https://www.tensorflow.org/guide/saved_model#details_of_the_savedmodel_command_line_interface)"
      ]
    },
    {
      "cell_type": "markdown",
      "metadata": {
        "id": "OzjrV8eJB6JY"
      },
      "source": [
        "Для удобства переноса на другую машину запишем каталог с моделью (или с версиями модели) в сжатый tar-архив"
      ]
    },
    {
      "cell_type": "code",
      "metadata": {
        "colab": {
          "base_uri": "https://localhost:8080/"
        },
        "id": "1Ubi4vMh-Aym",
        "outputId": "4311611f-baf4-4e50-8bf3-695ee190babb"
      },
      "source": [
        "!tar cvfz tfs_model.tgz mnist"
      ],
      "execution_count": 31,
      "outputs": [
        {
          "output_type": "stream",
          "name": "stdout",
          "text": [
            "mnist/\n",
            "mnist/1/\n",
            "mnist/1/variables/\n",
            "mnist/1/variables/variables.data-00000-of-00001\n",
            "mnist/1/variables/variables.index\n",
            "mnist/1/keras_metadata.pb\n",
            "mnist/1/assets/\n",
            "mnist/1/saved_model.pb\n"
          ]
        }
      ]
    },
    {
      "cell_type": "markdown",
      "metadata": {
        "id": "j9Bm5fB5Crmr"
      },
      "source": [
        "Считаем набор данных MNIST для тестирования результатов работы модели в среде TF Serving"
      ]
    },
    {
      "cell_type": "code",
      "metadata": {
        "id": "844WEB30-Anu"
      },
      "source": [
        "(train_images, train_labels), (test_images, test_labels) = tf.keras.datasets.mnist.load_data()\n",
        "\n",
        "# Нормализуем значения пикселей до интервала от 0 до 1\n",
        "train_images = train_images / 255.0\n",
        "test_images = test_images / 255.0\n",
        "\n",
        "# Приводим к виду 4D тензора\n",
        "train_images = train_images.reshape(train_images.shape[0], 28, 28, 1)\n",
        "test_images = test_images.reshape(test_images.shape[0], 28, 28, 1)"
      ],
      "execution_count": 33,
      "outputs": []
    },
    {
      "cell_type": "markdown",
      "metadata": {
        "id": "5HOKkY9NDCfZ"
      },
      "source": [
        "Создадим тестовые данные из 3-х картинок в виде JSON-файла. "
      ]
    },
    {
      "cell_type": "code",
      "metadata": {
        "id": "FZui0Jz2-AjL"
      },
      "source": [
        "data = {\"signature_name\": \"serving_default\", \"instances\": test_images[:3].tolist()}\n",
        "with open(\"data_mnist.json\", \"w\") as write_file:\n",
        "    json.dump(data, write_file)"
      ],
      "execution_count": 34,
      "outputs": []
    },
    {
      "cell_type": "markdown",
      "metadata": {
        "id": "U9Bscn8ViPnI"
      },
      "source": [
        "### Docker"
      ]
    },
    {
      "cell_type": "markdown",
      "metadata": {
        "id": "zD5-v8ezu2-9"
      },
      "source": [
        "Удобно запускать сервис TF Serving как контейнер Docker.\n",
        "Есть готовые образы, которые могут быть скачаны:\n",
        "```\n",
        "# Download the TensorFlow Serving Docker image and repo\n",
        "docker pull tensorflow/serving\n",
        "```\n",
        "Это приведет к загрузке минимального образа Docker с установленным TensorFlow Serving. \n",
        "\n",
        "**Запуск образа Docker для обслуживания**\n",
        "\n",
        "Обслуживающие образы (как CPU, так и GPU) имеют следующие свойства: \n",
        "* Порт 8500 открыт для gRPC \n",
        "* Порт 8501 доступен для REST API \n",
        "* Необязательная переменная среды MODEL_NAME (по умолчанию `model`) \n",
        "* Необязательная переменная среды MODEL_BASE_PATH (по умолчанию `/models`) \n",
        "\n",
        "Обслуживающий сервис запускается следующим образом:\n",
        "```\n",
        "docker run -p 8501:8501 --mount type=bind,source=путь,target=/models/<имя_модели> -e MODEL_NAME=<имя_модели> -t tensorflow/serving\n",
        "```\n"
      ]
    },
    {
      "cell_type": "markdown",
      "metadata": {
        "id": "fgvbf4g2kTvp"
      },
      "source": [
        "Пример запроса к сервису:\n",
        "```\n",
        "curl -X POST -H \"Content-Type: application/json\" -d @data_mnist.json http://host.domain:8501/v1/models/модель:predict\n",
        "```"
      ]
    },
    {
      "cell_type": "markdown",
      "metadata": {
        "id": "6vbEqerGPcoK"
      },
      "source": [
        "# Apache Spark"
      ]
    },
    {
      "cell_type": "markdown",
      "metadata": {
        "id": "FrWEfrFYWTDd"
      },
      "source": [
        "![image.png](data:image/png;base64,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)"
      ]
    },
    {
      "cell_type": "markdown",
      "metadata": {
        "id": "MTpVGsjL43zx"
      },
      "source": [
        "Зачастую данных бывает так много, или они поступают так быстро, что один компьютер не может справиться. В таких случаях прибегают к _распределенным_ вычислениям, когда данные располагаются на _нодах_ (nodes) _кластера_ и вычисления делаются параллельно, одновременно на многих компьютерах.\n",
        "\n",
        "Для распределенных вычислений требуется специализированное программное обеспечение. Apache Spark как раз и является примером такого ПО.\n",
        "\n"
      ]
    },
    {
      "cell_type": "markdown",
      "metadata": {
        "id": "HaMwsJnfZMQj"
      },
      "source": [
        "[Spark](https://spark.apache.org/) – это проект Apache, который позиционируется как инструмент для «молниеносных кластерных вычислений». Spark предоставляет быструю и универсальную платформу для обработки Big Data. Spark применяется во многих крупнейших компаниях, таких, как Amazon, eBay и Yahoo! Многие организации эксплуатируют Spark в кластерах, включающих тысячи узлов. \n",
        "\n",
        "Spark написан на языке Scala.\n",
        "\n",
        "Есть готовая интерактивная оболочка (REPL). При помощи REPL можно протестировать результат выполнения каждой строки кода без необходимости сначала программировать и выполнять все задание целиком.\n",
        "\n",
        "Spark имеет следующие ключевые черты:\n",
        "\n",
        "* В настоящее время предоставляет API для Scala, Java и Python, также готовится поддержка других языков (например, R)\n",
        "* Хорошо интегрируется с экосистемой Hadoop и источниками данных (HDFS, Amazon S3, Hive, HBase, Cassandra, etc.)\n",
        "* Может работать на кластерах под управлением Hadoop YARN или Apache Mesos, а также работать в автономном режиме\n",
        "\n",
        "Ядро Spark дополняется набором мощных высокоуровневых библиотек, которые бесшовно стыкуются с ним в рамках того же приложения. В настоящее время к таким библиотекам относятся SparkSQL, Spark Streaming, MLlib (для машинного обучения) и GraphX"
      ]
    },
    {
      "cell_type": "markdown",
      "metadata": {
        "id": "0vPU5Qhrw6v7"
      },
      "source": [
        "В Spark есть 3 API для работы с распределенными по узлам кластера данными:"
      ]
    },
    {
      "cell_type": "markdown",
      "metadata": {
        "id": "2_l9tGUNtw8B"
      },
      "source": [
        "**RRD**\n",
        "\n",
        "Устойчивый распределенный набор данных (Resilient Distributed Dataset, RDD) RDD был основным пользовательским API в Spark с момента его создания. RDD - это неизменяемая распределенная коллекция элементов данных, распределенная по узлам в кластере. С данными можно работать параллельно через низкоуровневый API."
      ]
    },
    {
      "cell_type": "markdown",
      "metadata": {
        "id": "_Mw78H4_vGAP"
      },
      "source": [
        "**DataFrames**\n",
        "\n",
        "Как и RDD, DataFrame представляет собой неизменяемую распределенную коллекцию данных. В отличие от RDD, данные организованы в именованные столбцы, как таблица в реляционной базе данных. DataFrame, разработанный для упрощения обработки больших наборов данных, позволяет разработчикам накладывать структуру на распределенный набор данных, обеспечивая абстракцию на более высоком уровне; он предоставляет специфичный для предметной области языковой API для управления распределенными данными."
      ]
    },
    {
      "cell_type": "markdown",
      "metadata": {
        "id": "wit1DrQIwKqA"
      },
      "source": [
        "**Datasets**\n",
        "\n",
        "Datasets - третий API для работы с данными. Он подразумевает строгую типизацию данных, как в языке Java. Python не поддерживает строгую типизацию, поэтому при работе с ним лучше использовать API DataFrame или RRD, если требуется больший контроль."
      ]
    },
    {
      "cell_type": "markdown",
      "metadata": {
        "id": "bs3kyn2IxI4G"
      },
      "source": [
        "Spark состоит из 4-х основных компонентов:"
      ]
    },
    {
      "cell_type": "markdown",
      "metadata": {
        "id": "MFnwH-x4b9Qb"
      },
      "source": [
        "**SparkSQL**\n",
        "\n",
        "[SparkSQL](https://spark.apache.org/sql/) – это компонент Spark, поддерживающий запрашивание данных либо при помощи SQL, либо посредством Hive Query Language."
      ]
    },
    {
      "cell_type": "markdown",
      "metadata": {
        "id": "-BgST8n7ccbI"
      },
      "source": [
        "**Spark Streaming**\n",
        "\n",
        "[Spark Streaming](https://spark.apache.org/streaming/) поддерживает обработку потоковых данных в реальном времени; такими данными могут быть файлы логов рабочего веб-сервера (напр. Apache Flume и HDFS/S3), информация из соцсетей, например, Twitter, а также различные очереди сообщений вроде Kafka. «Под капотом» Spark Streaming получает входные потоки данных и разбивает данные на пакеты. Далее они обрабатываются движком Spark, после чего генерируется конечный поток данных (также в пакетной форме)"
      ]
    },
    {
      "cell_type": "markdown",
      "metadata": {
        "id": "82d7_1Fbc23j"
      },
      "source": [
        "**MLlib**\n",
        "\n",
        "[MLlib](https://spark.apache.org/mllib/) – это библиотека для машинного обучения, предоставляющая различные алгоритмы, разработанные для горизонтального масштабирования на кластере в целях классификации, регрессии, кластеризации, совместной фильтрации и т.д. Некоторые из этих алгоритмов работают и с потоковыми данными — например, линейная регрессия с использованием обычного метода наименьших квадратов или кластеризация по методу k-средних (список вскоре расширится)."
      ]
    },
    {
      "cell_type": "markdown",
      "metadata": {
        "id": "VpNBCVxBdFo-"
      },
      "source": [
        "**GraphX**\n",
        "\n",
        "[GraphX](https://spark.apache.org/graphx/) – это библиотека для манипуляций над графами и выполнения с ними параллельных операций. Библиотека предоставляет универсальный инструмент для ETL, исследовательского анализа и итерационных вычислений на основе графов. Кроме встроенных операций для манипуляций над графами здесь также предоставляется библиотека обычных алгоритмов для работы с графами, например, PageRank."
      ]
    },
    {
      "cell_type": "markdown",
      "metadata": {
        "id": "wkhdY-bLjjXF"
      },
      "source": [
        "### Установка\n",
        "[источник](https://towardsdatascience.com/a-neanderthals-guide-to-apache-spark-in-python-9ef1f156d427)"
      ]
    },
    {
      "cell_type": "code",
      "metadata": {
        "colab": {
          "base_uri": "https://localhost:8080/"
        },
        "id": "XdfzJ6VohpUJ",
        "outputId": "8badc5a9-0802-4dad-bb87-85cef14a6f2b"
      },
      "source": [
        "!apt-get update\n",
        "!apt-get install openjdk-8-jdk-headless -qq > /dev/null\n",
        "!wget -q https://downloads.apache.org/spark/spark-3.2.1/spark-3.2.1-bin-hadoop3.2.tgz\n",
        "!tar xf spark-3.2.1-bin-hadoop3.2.tgz\n",
        "!pip install -q findspark"
      ],
      "execution_count": 1,
      "outputs": [
        {
          "output_type": "stream",
          "name": "stdout",
          "text": [
            "\r0% [Working]\r            \rGet:1 http://security.ubuntu.com/ubuntu bionic-security InRelease [88.7 kB]\n",
            "\r0% [Connecting to archive.ubuntu.com] [1 InRelease 14.2 kB/88.7 kB 16%] [Waitin\r                                                                               \rGet:2 https://cloud.r-project.org/bin/linux/ubuntu bionic-cran40/ InRelease [3,626 B]\n",
            "Ign:3 https://developer.download.nvidia.com/compute/cuda/repos/ubuntu1804/x86_64  InRelease\n",
            "Get:4 http://ppa.launchpad.net/c2d4u.team/c2d4u4.0+/ubuntu bionic InRelease [15.9 kB]\n",
            "Ign:5 https://developer.download.nvidia.com/compute/machine-learning/repos/ubuntu1804/x86_64  InRelease\n",
            "Get:6 https://developer.download.nvidia.com/compute/cuda/repos/ubuntu1804/x86_64  Release [696 B]\n",
            "Hit:7 https://developer.download.nvidia.com/compute/machine-learning/repos/ubuntu1804/x86_64  Release\n",
            "Get:8 https://developer.download.nvidia.com/compute/cuda/repos/ubuntu1804/x86_64  Release.gpg [836 B]\n",
            "Hit:9 http://archive.ubuntu.com/ubuntu bionic InRelease\n",
            "Get:10 http://archive.ubuntu.com/ubuntu bionic-updates InRelease [88.7 kB]\n",
            "Hit:11 http://ppa.launchpad.net/cran/libgit2/ubuntu bionic InRelease\n",
            "Get:12 https://cloud.r-project.org/bin/linux/ubuntu bionic-cran40/ Packages [76.8 kB]\n",
            "Hit:13 http://ppa.launchpad.net/deadsnakes/ppa/ubuntu bionic InRelease\n",
            "Get:14 http://archive.ubuntu.com/ubuntu bionic-backports InRelease [74.6 kB]\n",
            "Get:15 http://ppa.launchpad.net/graphics-drivers/ppa/ubuntu bionic InRelease [21.3 kB]\n",
            "Get:16 http://security.ubuntu.com/ubuntu bionic-security/restricted amd64 Packages [806 kB]\n",
            "Get:17 http://security.ubuntu.com/ubuntu bionic-security/main amd64 Packages [2,596 kB]\n",
            "Get:18 http://security.ubuntu.com/ubuntu bionic-security/universe amd64 Packages [1,474 kB]\n",
            "Get:20 https://developer.download.nvidia.com/compute/cuda/repos/ubuntu1804/x86_64  Packages [930 kB]\n",
            "Get:21 http://ppa.launchpad.net/c2d4u.team/c2d4u4.0+/ubuntu bionic/main Sources [1,827 kB]\n",
            "Get:22 http://ppa.launchpad.net/c2d4u.team/c2d4u4.0+/ubuntu bionic/main amd64 Packages [936 kB]\n",
            "Get:23 http://archive.ubuntu.com/ubuntu bionic-updates/main amd64 Packages [3,035 kB]\n",
            "Get:24 http://archive.ubuntu.com/ubuntu bionic-updates/universe amd64 Packages [2,252 kB]\n",
            "Get:25 http://archive.ubuntu.com/ubuntu bionic-updates/restricted amd64 Packages [840 kB]\n",
            "Get:26 http://ppa.launchpad.net/graphics-drivers/ppa/ubuntu bionic/main amd64 Packages [42.8 kB]\n",
            "Fetched 15.1 MB in 6s (2,390 kB/s)\n",
            "Reading package lists... Done\n"
          ]
        }
      ]
    },
    {
      "cell_type": "code",
      "metadata": {
        "id": "Rvs5we2Rad6j"
      },
      "source": [
        "import os\n",
        "os.environ[\"JAVA_HOME\"] = \"/usr/lib/jvm/java-8-openjdk-amd64\"\n",
        "os.environ[\"SPARK_HOME\"] = \"/content/spark-3.2.1-bin-hadoop3.2\""
      ],
      "execution_count": 2,
      "outputs": []
    },
    {
      "cell_type": "code",
      "metadata": {
        "id": "XpLpk4FUlv5k"
      },
      "source": [
        "import findspark\n",
        "findspark.init() "
      ],
      "execution_count": 3,
      "outputs": []
    },
    {
      "cell_type": "markdown",
      "metadata": {
        "id": "CdX6IvAakyb7"
      },
      "source": [
        "Вычисления в Spark делаются в контексте _сессий_. Пример создания сессии с именем 'spark':\n",
        "(Более подробно см. [Builder API](https://spark.apache.org/docs/2.2.0/api/java/index.html?org/apache/spark/sql/SparkSession.Builder.html) )"
      ]
    },
    {
      "cell_type": "code",
      "metadata": {
        "id": "gWAZY3t8hpPY"
      },
      "source": [
        "from pyspark.sql import SparkSession\n",
        "\n",
        "spark = SparkSession.builder \\\n",
        "    .master(\"local[*]\") \\\n",
        "    .appName(\"Learning_Spark\") \\\n",
        "    .getOrCreate()"
      ],
      "execution_count": 4,
      "outputs": []
    },
    {
      "cell_type": "markdown",
      "metadata": {
        "id": "IEz5WtwKjwOc"
      },
      "source": [
        "### SparkSQL\n",
        "\n",
        "В качестве примера возьмем данные по продажам видеоигр с [Kaggle](https://www.kaggle.com/gregorut/videogamesales)"
      ]
    },
    {
      "cell_type": "code",
      "metadata": {
        "colab": {
          "base_uri": "https://localhost:8080/"
        },
        "id": "7nOIuWhOhpKK",
        "outputId": "4ad302ce-cf22-438c-c106-66d804145e78"
      },
      "source": [
        "!wget http://dataudt.ru/datasets/vgsales.csv"
      ],
      "execution_count": 5,
      "outputs": [
        {
          "output_type": "stream",
          "name": "stdout",
          "text": [
            "--2022-02-28 20:15:04--  http://dataudt.ru/datasets/vgsales.csv\n",
            "Resolving dataudt.ru (dataudt.ru)... 37.228.117.130\n",
            "Connecting to dataudt.ru (dataudt.ru)|37.228.117.130|:80... connected.\n",
            "HTTP request sent, awaiting response... 200 OK\n",
            "Length: 1355781 (1.3M) [application/octet-stream]\n",
            "Saving to: ‘vgsales.csv’\n",
            "\n",
            "vgsales.csv         100%[===================>]   1.29M  1.59MB/s    in 0.8s    \n",
            "\n",
            "2022-02-28 20:15:06 (1.59 MB/s) - ‘vgsales.csv’ saved [1355781/1355781]\n",
            "\n"
          ]
        }
      ]
    },
    {
      "cell_type": "markdown",
      "metadata": {
        "id": "3PxORmuJicWq"
      },
      "source": [
        "Считываем данные из CSV файла в дата фрейм Spark:"
      ]
    },
    {
      "cell_type": "code",
      "metadata": {
        "id": "TDJEBQcShpDG"
      },
      "source": [
        "data = spark.read.csv('vgsales.csv', inferSchema=True, header=True)"
      ],
      "execution_count": 6,
      "outputs": []
    },
    {
      "cell_type": "markdown",
      "metadata": {
        "id": "WD36HlKy7hMo"
      },
      "source": [
        "Датафреймы Spark аналогичны датафреймам Pandas, названия многих методов совпадают, но поведение может отличаться. Более подробно об отличиях можно прочитать в [статье](https://medium.com/@chris_bour/6-differences-between-pandas-and-spark-dataframes-1380cec394d2) "
      ]
    },
    {
      "cell_type": "code",
      "metadata": {
        "colab": {
          "base_uri": "https://localhost:8080/"
        },
        "id": "lK8un--3ho7-",
        "outputId": "aceac6c3-d21c-4d06-c48a-d0a791c6beac"
      },
      "source": [
        "data"
      ],
      "execution_count": 7,
      "outputs": [
        {
          "output_type": "execute_result",
          "data": {
            "text/plain": [
              "DataFrame[Rank: int, Name: string, Platform: string, Year: string, Genre: string, Publisher: string, NA_Sales: double, EU_Sales: double, JP_Sales: double, Other_Sales: double, Global_Sales: double]"
            ]
          },
          "metadata": {},
          "execution_count": 7
        }
      ]
    },
    {
      "cell_type": "markdown",
      "metadata": {
        "id": "dgzqL5SkjpVe"
      },
      "source": [
        "Выведем число строк и столбцов:"
      ]
    },
    {
      "cell_type": "code",
      "metadata": {
        "colab": {
          "base_uri": "https://localhost:8080/"
        },
        "id": "G8qCCVOTpJvX",
        "outputId": "9d3d58b2-8b61-4dc0-8ad2-3f4e596b835b"
      },
      "source": [
        "data.count(), len(data.columns)"
      ],
      "execution_count": 8,
      "outputs": [
        {
          "output_type": "execute_result",
          "data": {
            "text/plain": [
              "(16598, 11)"
            ]
          },
          "metadata": {},
          "execution_count": 8
        }
      ]
    },
    {
      "cell_type": "markdown",
      "metadata": {
        "id": "eI6rrTryl2-A"
      },
      "source": [
        "Выведем первые 5 строк (если не указывать число строк, выводится 20)"
      ]
    },
    {
      "cell_type": "code",
      "metadata": {
        "colab": {
          "base_uri": "https://localhost:8080/"
        },
        "id": "7esSYvdPpbER",
        "outputId": "c7e8ffc6-6372-4f57-8435-6a66b3d5dce0"
      },
      "source": [
        "data.show(5)"
      ],
      "execution_count": 9,
      "outputs": [
        {
          "output_type": "stream",
          "name": "stdout",
          "text": [
            "+----+--------------------+--------+----+------------+---------+--------+--------+--------+-----------+------------+\n",
            "|Rank|                Name|Platform|Year|       Genre|Publisher|NA_Sales|EU_Sales|JP_Sales|Other_Sales|Global_Sales|\n",
            "+----+--------------------+--------+----+------------+---------+--------+--------+--------+-----------+------------+\n",
            "|   1|          Wii Sports|     Wii|2006|      Sports| Nintendo|   41.49|   29.02|    3.77|       8.46|       82.74|\n",
            "|   2|   Super Mario Bros.|     NES|1985|    Platform| Nintendo|   29.08|    3.58|    6.81|       0.77|       40.24|\n",
            "|   3|      Mario Kart Wii|     Wii|2008|      Racing| Nintendo|   15.85|   12.88|    3.79|       3.31|       35.82|\n",
            "|   4|   Wii Sports Resort|     Wii|2009|      Sports| Nintendo|   15.75|   11.01|    3.28|       2.96|        33.0|\n",
            "|   5|Pokemon Red/Pokem...|      GB|1996|Role-Playing| Nintendo|   11.27|    8.89|   10.22|        1.0|       31.37|\n",
            "+----+--------------------+--------+----+------------+---------+--------+--------+--------+-----------+------------+\n",
            "only showing top 5 rows\n",
            "\n"
          ]
        }
      ]
    },
    {
      "cell_type": "markdown",
      "metadata": {
        "id": "PMJ5jwDJmItZ"
      },
      "source": [
        "Структура датафрейма описываются _схемой_"
      ]
    },
    {
      "cell_type": "code",
      "metadata": {
        "colab": {
          "base_uri": "https://localhost:8080/"
        },
        "id": "40vk064JpgdO",
        "outputId": "c2903259-bfa1-4764-c33e-c501b60ad8ca"
      },
      "source": [
        "data.printSchema()"
      ],
      "execution_count": 10,
      "outputs": [
        {
          "output_type": "stream",
          "name": "stdout",
          "text": [
            "root\n",
            " |-- Rank: integer (nullable = true)\n",
            " |-- Name: string (nullable = true)\n",
            " |-- Platform: string (nullable = true)\n",
            " |-- Year: string (nullable = true)\n",
            " |-- Genre: string (nullable = true)\n",
            " |-- Publisher: string (nullable = true)\n",
            " |-- NA_Sales: double (nullable = true)\n",
            " |-- EU_Sales: double (nullable = true)\n",
            " |-- JP_Sales: double (nullable = true)\n",
            " |-- Other_Sales: double (nullable = true)\n",
            " |-- Global_Sales: double (nullable = true)\n",
            "\n"
          ]
        }
      ]
    },
    {
      "cell_type": "markdown",
      "metadata": {
        "id": "gZ2eATa6mcOd"
      },
      "source": [
        "Можно вывести только указанные столбцы"
      ]
    },
    {
      "cell_type": "code",
      "metadata": {
        "colab": {
          "base_uri": "https://localhost:8080/"
        },
        "id": "i79LiC4GpgWA",
        "outputId": "cb24c57a-fcac-47bc-b691-be2b6dd0ee0c"
      },
      "source": [
        "data.select(\"Name\", \"Platform\", \"Genre\", \"Publisher\").show(15, truncate=False)"
      ],
      "execution_count": 11,
      "outputs": [
        {
          "output_type": "stream",
          "name": "stdout",
          "text": [
            "+---------------------------+--------+------------+---------+\n",
            "|Name                       |Platform|Genre       |Publisher|\n",
            "+---------------------------+--------+------------+---------+\n",
            "|Wii Sports                 |Wii     |Sports      |Nintendo |\n",
            "|Super Mario Bros.          |NES     |Platform    |Nintendo |\n",
            "|Mario Kart Wii             |Wii     |Racing      |Nintendo |\n",
            "|Wii Sports Resort          |Wii     |Sports      |Nintendo |\n",
            "|Pokemon Red/Pokemon Blue   |GB      |Role-Playing|Nintendo |\n",
            "|Tetris                     |GB      |Puzzle      |Nintendo |\n",
            "|New Super Mario Bros.      |DS      |Platform    |Nintendo |\n",
            "|Wii Play                   |Wii     |Misc        |Nintendo |\n",
            "|New Super Mario Bros. Wii  |Wii     |Platform    |Nintendo |\n",
            "|Duck Hunt                  |NES     |Shooter     |Nintendo |\n",
            "|Nintendogs                 |DS      |Simulation  |Nintendo |\n",
            "|Mario Kart DS              |DS      |Racing      |Nintendo |\n",
            "|Pokemon Gold/Pokemon Silver|GB      |Role-Playing|Nintendo |\n",
            "|Wii Fit                    |Wii     |Sports      |Nintendo |\n",
            "|Wii Fit Plus               |Wii     |Sports      |Nintendo |\n",
            "+---------------------------+--------+------------+---------+\n",
            "only showing top 15 rows\n",
            "\n"
          ]
        }
      ]
    },
    {
      "cell_type": "markdown",
      "metadata": {
        "id": "mqRKWjE8Ba8L"
      },
      "source": [
        "Применяем фильтр к набору данных. \n",
        "\n",
        "Это эквивалентно `SQL select Name, Global_Sales from data where Global_Sales > 20 order by Global_Sales desc limit 5` "
      ]
    },
    {
      "cell_type": "code",
      "metadata": {
        "colab": {
          "base_uri": "https://localhost:8080/"
        },
        "id": "-plOdobAA-LV",
        "outputId": "6b6dc31e-0d42-4eb7-f4c0-f32600a06c99"
      },
      "source": [
        "\n",
        "data.select(\"Name\", \"Global_Sales\").where('Global_Sales > 20').orderBy(\"Global_Sales\", ascending=False).show(5) "
      ],
      "execution_count": 12,
      "outputs": [
        {
          "output_type": "stream",
          "name": "stdout",
          "text": [
            "+--------------------+------------+\n",
            "|                Name|Global_Sales|\n",
            "+--------------------+------------+\n",
            "|          Wii Sports|       82.74|\n",
            "|   Super Mario Bros.|       40.24|\n",
            "|      Mario Kart Wii|       35.82|\n",
            "|   Wii Sports Resort|        33.0|\n",
            "|Pokemon Red/Pokem...|       31.37|\n",
            "+--------------------+------------+\n",
            "only showing top 5 rows\n",
            "\n"
          ]
        }
      ]
    },
    {
      "cell_type": "markdown",
      "metadata": {
        "id": "t7nbkum1mm_K"
      },
      "source": [
        "Есть возможность вывести статистические показатели по интересующим столбцам:"
      ]
    },
    {
      "cell_type": "code",
      "metadata": {
        "colab": {
          "base_uri": "https://localhost:8080/"
        },
        "id": "yziUCnbYpgQy",
        "outputId": "014644bf-c364-4508-8b07-7c909f429896"
      },
      "source": [
        "data.describe([\"NA_Sales\", \"Global_Sales\"]).show()"
      ],
      "execution_count": 13,
      "outputs": [
        {
          "output_type": "stream",
          "name": "stdout",
          "text": [
            "+-------+-------------------+------------------+\n",
            "|summary|           NA_Sales|      Global_Sales|\n",
            "+-------+-------------------+------------------+\n",
            "|  count|              16598|             16598|\n",
            "|   mean|0.26466742981084057|  0.53744065550074|\n",
            "| stddev| 0.8166830292988798|1.5550279355699066|\n",
            "|    min|                0.0|              0.01|\n",
            "|    max|              41.49|             82.74|\n",
            "+-------+-------------------+------------------+\n",
            "\n"
          ]
        }
      ]
    },
    {
      "cell_type": "markdown",
      "metadata": {
        "id": "558ZgeE6nTch"
      },
      "source": [
        "Пример операции groupBy (в данном случае - для подсчета количества вхождений)"
      ]
    },
    {
      "cell_type": "code",
      "metadata": {
        "colab": {
          "base_uri": "https://localhost:8080/"
        },
        "id": "-Srf7xngpgLd",
        "outputId": "6730f918-0344-4461-d0d3-1a4ee243380d"
      },
      "source": [
        "data.groupBy(\"Platform\") \\\n",
        ".count() \\\n",
        ".orderBy(\"count\", ascending=False) \\\n",
        ".show(10)"
      ],
      "execution_count": 14,
      "outputs": [
        {
          "output_type": "stream",
          "name": "stdout",
          "text": [
            "+--------+-----+\n",
            "|Platform|count|\n",
            "+--------+-----+\n",
            "|      DS| 2163|\n",
            "|     PS2| 2161|\n",
            "|     PS3| 1329|\n",
            "|     Wii| 1325|\n",
            "|    X360| 1265|\n",
            "|     PSP| 1213|\n",
            "|      PS| 1196|\n",
            "|      PC|  960|\n",
            "|      XB|  824|\n",
            "|     GBA|  822|\n",
            "+--------+-----+\n",
            "only showing top 10 rows\n",
            "\n"
          ]
        }
      ]
    },
    {
      "cell_type": "markdown",
      "metadata": {
        "id": "rHmaDKONpWUn"
      },
      "source": [
        "Поддерживаются параллельнные вычисления и партиционирование данных.\n",
        "\n",
        "В качестве примера вычислим число $\\pi$ методом Монте-Карло. Возьмем большое число случайных точек в квадрате со стророной 1 и вычислим долю точек, попавших в круг единичного радиуса, у которых расстояние до точки (0, 0) меньше 1."
      ]
    },
    {
      "cell_type": "code",
      "metadata": {
        "id": "fwpd8uHDpgGX"
      },
      "source": [
        "partitions = 2\n",
        "n = 1000000 * partitions"
      ],
      "execution_count": 15,
      "outputs": []
    },
    {
      "cell_type": "code",
      "metadata": {
        "id": "BAd-pM2Ypf_c"
      },
      "source": [
        "from random import random\n",
        "\n",
        "def f(_):\n",
        "    x = random() \n",
        "    y = random()\n",
        "    return 1 if x ** 2 + y ** 2 <= 1 else 0"
      ],
      "execution_count": 16,
      "outputs": []
    },
    {
      "cell_type": "markdown",
      "metadata": {
        "id": "mGGhKmj06pah"
      },
      "source": [
        "В данном примере вычисление функции `f(_)` распараллеливается на несколько _partitions_ и результаты вычислений _аггрегируются_ (суммируются в данном случае)"
      ]
    },
    {
      "cell_type": "code",
      "metadata": {
        "colab": {
          "base_uri": "https://localhost:8080/"
        },
        "id": "OUhUX0cxpf22",
        "outputId": "8560d4ee-faed-4c5e-f626-682ce5aadccb"
      },
      "source": [
        "%%time\n",
        "from operator import add\n",
        "\n",
        "count = spark.sparkContext.parallelize(range(n), partitions).map(f).reduce(add)\n",
        "print(\"Pi is roughly %f\" % (4.0 * count / n))"
      ],
      "execution_count": 17,
      "outputs": [
        {
          "output_type": "stream",
          "name": "stdout",
          "text": [
            "Pi is roughly 3.144076\n",
            "CPU times: user 35.7 ms, sys: 5.92 ms, total: 41.6 ms\n",
            "Wall time: 2.36 s\n"
          ]
        }
      ]
    },
    {
      "cell_type": "markdown",
      "metadata": {
        "id": "2X0AnSp57Tq7"
      },
      "source": [
        "#End"
      ]
    }
  ]
}