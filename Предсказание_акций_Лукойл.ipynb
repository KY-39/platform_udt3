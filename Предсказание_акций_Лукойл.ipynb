{
  "nbformat": 4,
  "nbformat_minor": 0,
  "metadata": {
    "colab": {
      "name": "my  \" Предсказание акций Лукойл.\" - на Kaggle\"",
      "provenance": [],
      "collapsed_sections": [],
      "include_colab_link": true
    },
    "kernelspec": {
      "display_name": "Python 3",
      "name": "python3"
    },
    "language_info": {
      "name": "python"
    },
    "accelerator": "GPU"
  },
  "cells": [
    {
      "cell_type": "markdown",
      "metadata": {
        "id": "view-in-github",
        "colab_type": "text"
      },
      "source": [
        "<a href=\"https://colab.research.google.com/github/KY-39/platform_udt3/blob/main/%D0%9F%D1%80%D0%B5%D0%B4%D1%81%D0%BA%D0%B0%D0%B7%D0%B0%D0%BD%D0%B8%D0%B5_%D0%B0%D0%BA%D1%86%D0%B8%D0%B9_%D0%9B%D1%83%D0%BA%D0%BE%D0%B9%D0%BB.ipynb\" target=\"_parent\"><img src=\"https://colab.research.google.com/assets/colab-badge.svg\" alt=\"Open In Colab\"/></a>"
      ]
    },
    {
      "cell_type": "markdown",
      "metadata": {
        "id": "We9z4ERyi95C"
      },
      "source": [
        "# ООО \"Университет Цифровых Технологий платформа 3\""
      ]
    },
    {
      "cell_type": "markdown",
      "metadata": {
        "id": "E6vuXjYmw4Dn"
      },
      "source": [
        "###Подключаем необходимые модули."
      ]
    },
    {
      "cell_type": "code",
      "metadata": {
        "id": "BvKZgeLhzBnJ",
        "colab": {
          "base_uri": "https://localhost:8080/"
        },
        "outputId": "c29e97ce-c34b-485c-a814-da89ed0676bc"
      },
      "source": [
        "from tensorflow.keras.models import Sequential, load_model # Подлючаем класс создания модели Sequential\n",
        "from tensorflow.keras.layers import Dense, Flatten, Dropout, BatchNormalization, LSTM, Conv1D # Подключаем слои\n",
        "from tensorflow.keras.optimizers import Adam, RMSprop # Подключаем оптимизатор Adam\n",
        "from tensorflow.keras import utils # Утилиты для to_categorical\n",
        "from tensorflow.keras.preprocessing.sequence import TimeseriesGenerator # для генерации выборки временных рядов\n",
        "\n",
        "import tensorflow as tf # импортируем tensorflow\n",
        "\n",
        "# sklearn - популярная библиотека для машинного обучения\n",
        "# train_test_split - функция разделения на обучающую и проверочную/тестовую выборку\n",
        "from sklearn.model_selection import train_test_split\n",
        "from sklearn.metrics import confusion_matrix # для построения матрицы ошибок\n",
        "from sklearn.preprocessing import StandardScaler, MinMaxScaler  # для нормализации данных\n",
        "\n",
        "import numpy as np # Подключаем библиотеку numpy\n",
        "import pandas as pd # Библиотека pandas\n",
        "import zipfile # для работы с архивами zip\n",
        "import matplotlib as mpl\n",
        "import matplotlib.pyplot as plt #Отрисовка изображений\n",
        "\n",
        "import os\n",
        "#Отрисовывать изображения в ноутбуке, а не в консоль или файл\n",
        "%matplotlib inline\n",
        "# устанавливаем свежий Kaggle API\n",
        "!pip install --upgrade --force-reinstall --no-deps kaggle"
      ],
      "execution_count": 2,
      "outputs": [
        {
          "output_type": "stream",
          "name": "stdout",
          "text": [
            "Collecting kaggle\n",
            "  Downloading kaggle-1.5.12.tar.gz (58 kB)\n",
            "\u001b[?25l\r\u001b[K     |█████▋                          | 10 kB 11.7 MB/s eta 0:00:01\r\u001b[K     |███████████▏                    | 20 kB 10.6 MB/s eta 0:00:01\r\u001b[K     |████████████████▊               | 30 kB 8.0 MB/s eta 0:00:01\r\u001b[K     |██████████████████████▎         | 40 kB 7.1 MB/s eta 0:00:01\r\u001b[K     |███████████████████████████▉    | 51 kB 5.3 MB/s eta 0:00:01\r\u001b[K     |████████████████████████████████| 58 kB 2.5 MB/s \n",
            "\u001b[?25hBuilding wheels for collected packages: kaggle\n",
            "  Building wheel for kaggle (setup.py) ... \u001b[?25l\u001b[?25hdone\n",
            "  Created wheel for kaggle: filename=kaggle-1.5.12-py3-none-any.whl size=73051 sha256=1bdbbef62ed8b4aa9d255787c2e493d01ee9f1c0e0b54a847e56670643bbd746\n",
            "  Stored in directory: /root/.cache/pip/wheels/62/d6/58/5853130f941e75b2177d281eb7e44b4a98ed46dd155f556dc5\n",
            "Successfully built kaggle\n",
            "Installing collected packages: kaggle\n",
            "  Attempting uninstall: kaggle\n",
            "    Found existing installation: kaggle 1.5.12\n",
            "    Uninstalling kaggle-1.5.12:\n",
            "      Successfully uninstalled kaggle-1.5.12\n",
            "Successfully installed kaggle-1.5.12\n"
          ]
        }
      ]
    },
    {
      "cell_type": "code",
      "metadata": {
        "colab": {
          "base_uri": "https://localhost:8080/"
        },
        "id": "RQxs3E-E9A_4",
        "outputId": "97630cfd-40f6-42a5-81b4-90a358e19d24"
      },
      "source": [
        "#запускаем - подключаем Google Drive - В случае если будет необходимость сохранять обученные модели.\n",
        "#после запуска переходим по ссылке, которая появится, для идентификации\n",
        "#копируем оттуда код authorization code и вставляем здесь в окошко\n",
        "from google.colab import drive\n",
        "drive.mount('/content/drive')"
      ],
      "execution_count": 3,
      "outputs": [
        {
          "output_type": "stream",
          "name": "stdout",
          "text": [
            "Mounted at /content/drive\n"
          ]
        }
      ]
    },
    {
      "cell_type": "markdown",
      "metadata": {
        "id": "7o01JurRyKIi"
      },
      "source": [
        "## Прогнозирование акций Лукойл"
      ]
    },
    {
      "cell_type": "markdown",
      "metadata": {
        "id": "Q0Bly1KQeLPK"
      },
      "source": [
        "### Ссылка на сревнование: \n",
        "https://www.kaggle.com/t/955ebc36acc64c7ba29da4136f53f4eb\n"
      ]
    },
    {
      "cell_type": "markdown",
      "metadata": {
        "id": "mfP7gPKeeUmD"
      },
      "source": [
        "Вход на соревнование. Перейдя на сайт, справа находим чёрную кнопку Join Competition. Нажимаем, читаем правила участия (Университет Цифровых Технологий платформа 3 Rules), соглашаемся с условиями соревнований, нажимая: I Understand and agree."
      ]
    },
    {
      "cell_type": "markdown",
      "metadata": {
        "id": "SWscBFb7eeUU"
      },
      "source": [
        "###Устанавливаем ключ Каггл, чтобы участвовать в соревнованиях. Это нужно сделать один раз.\n",
        "Нужно зарегистрироваться на Каггл (https://www.kaggle.com/) и скачать ключ для взаимодействия с API соревновательной системы Каггла. После регистрации, справа появятся Ваши имя и фамилия - ссылка на персональную страницу. Нажмите на них. Когда страница загрузится, справа увидите Account. Нажимаете на надпись, затем прокручиваете страницу вниз, до вкладки API, там нажимаете Create New API Token. Ключ - это файл kaggle.json, который скачается после нажатия. Нужно скопировать его в папку Google Drive, предварительно её создав: My Drive/datasets/kaggle/ (из Колаба её адрес, который будем указывать для загрузки, такой: /content/drive/My Drive/datasets/kaggle/)."
      ]
    },
    {
      "cell_type": "code",
      "metadata": {
        "id": "QL75IMqdfIeF"
      },
      "source": [
        "def Init_Kaggle():\n",
        "    try:\n",
        "        # Создаём правильную папку для ключа Каггл\n",
        "        # в Колабе, она должна быть такой по требованию Каггл\n",
        "        !mkdir ~/.kaggle\n",
        "        # переходим в папку, теперь это путь по умолчанию\n",
        "        %cd ~/.kaggle\n",
        "        # запускаем - подключаем Google Drive - будем скачивать с него, так намного быстрее и удобнее\n",
        "        # после запуска переходим по ссылке, которая появится, для идентификации\n",
        "        # копируем оттуда код authorization code и вставляем здесь в окошко\n",
        "        drive.mount('/content/drive')\n",
        "        # нужно зарегистрироваться на Каггл и скачать ключ для взаимодействия с API\n",
        "        # соревновательной системы Каггла kaggle.json. Нужно скопировать его в папку\n",
        "        # Google Drive, предварительно её создав: /content/drive/My Drive/datasets/kaggle/\n",
        "        !cp '/content/drive/My Drive/datasets/kaggle/kaggle.json' '/root/.kaggle/kaggle.json'\n",
        "        # выводим версию API Kaggle:\n",
        "        !kaggle --version\n",
        "        !ls\n",
        "        print(' Ключи Kaggle успешно установлены! ')\n",
        "    except:\n",
        "        print(' При установке ключей Kaggle произошла ошибка! ') "
      ],
      "execution_count": 4,
      "outputs": []
    },
    {
      "cell_type": "code",
      "metadata": {
        "id": "rwXPLEd4fW_N"
      },
      "source": [
        "def Load_data_from_Kaggle():\n",
        "    # считаем заполненную базу данных из kaggle\n",
        "    %cd ~/.kaggle\n",
        "    print('скачиваем данные с Каггл:')\n",
        "    !kaggle competitions download -c udt-3-timeseries\n",
        "    print('загружаем из архива, распаковываем:')\n",
        "    z = zipfile.ZipFile('udt-3-timeseries.zip', 'r')\n",
        "    z.extractall()\n",
        "    # удаляем архив, чтобы не занимал место на диске\n",
        "    !rm udt-3-timeseries.zip\n",
        "    #Считываем данные с помощью pandas из двух файлов\n",
        "    l_data1 = pd.read_csv('18_19.csv', sep=';')\n",
        "    l_data2 = pd.read_csv('16_17.csv', sep=';')\n",
        "    xTest = np.load('x_test.npy')\n",
        "    #Объединяем базы из двух файлов\n",
        "    lukoil_data = l_data2.append(l_data1)\n",
        "    lukoil_data.drop(columns=['DATE', 'TIME'], axis=1, inplace=True)\n",
        "    return lukoil_data, xTest"
      ],
      "execution_count": 5,
      "outputs": []
    },
    {
      "cell_type": "code",
      "metadata": {
        "colab": {
          "base_uri": "https://localhost:8080/"
        },
        "id": "Q8_ooFYX9jdY",
        "outputId": "5a52597b-9fb3-46e2-a75a-f1415eea900e"
      },
      "source": [
        "Init_Kaggle() # устанаовка ключей Kaggle"
      ],
      "execution_count": 6,
      "outputs": [
        {
          "output_type": "stream",
          "name": "stdout",
          "text": [
            "/root/.kaggle\n",
            "Drive already mounted at /content/drive; to attempt to forcibly remount, call drive.mount(\"/content/drive\", force_remount=True).\n",
            "Kaggle API 1.5.12\n",
            "kaggle.json\n",
            " Ключи Kaggle успешно установлены! \n"
          ]
        }
      ]
    },
    {
      "cell_type": "code",
      "metadata": {
        "colab": {
          "base_uri": "https://localhost:8080/",
          "height": 310
        },
        "id": "yp0GDrTC9xTA",
        "outputId": "9b5f2019-6beb-4aa2-891c-1fdb8ead9985"
      },
      "source": [
        "lukoil_data, xTest = Load_data_from_Kaggle() # считаем  базу данных из kaggle\n",
        "lukoil_data.head()"
      ],
      "execution_count": 7,
      "outputs": [
        {
          "output_type": "stream",
          "name": "stdout",
          "text": [
            "/root/.kaggle\n",
            "скачиваем данные с Каггл:\n",
            "Downloading udt-3-timeseries.zip to /root/.kaggle\n",
            "  0% 0.00/7.49M [00:00<?, ?B/s]\n",
            "100% 7.49M/7.49M [00:00<00:00, 91.9MB/s]\n",
            "загружаем из архива, распаковываем:\n"
          ]
        },
        {
          "output_type": "execute_result",
          "data": {
            "text/html": [
              "\n",
              "  <div id=\"df-c3305280-1fdd-45c1-9ced-c3a99e5d361c\">\n",
              "    <div class=\"colab-df-container\">\n",
              "      <div>\n",
              "<style scoped>\n",
              "    .dataframe tbody tr th:only-of-type {\n",
              "        vertical-align: middle;\n",
              "    }\n",
              "\n",
              "    .dataframe tbody tr th {\n",
              "        vertical-align: top;\n",
              "    }\n",
              "\n",
              "    .dataframe thead th {\n",
              "        text-align: right;\n",
              "    }\n",
              "</style>\n",
              "<table border=\"1\" class=\"dataframe\">\n",
              "  <thead>\n",
              "    <tr style=\"text-align: right;\">\n",
              "      <th></th>\n",
              "      <th>OPEN</th>\n",
              "      <th>MAX</th>\n",
              "      <th>MIN</th>\n",
              "      <th>CLOSE</th>\n",
              "      <th>VOLUME</th>\n",
              "    </tr>\n",
              "  </thead>\n",
              "  <tbody>\n",
              "    <tr>\n",
              "      <th>0</th>\n",
              "      <td>2351.0</td>\n",
              "      <td>2355.8</td>\n",
              "      <td>2350.0</td>\n",
              "      <td>2350.0</td>\n",
              "      <td>2547</td>\n",
              "    </tr>\n",
              "    <tr>\n",
              "      <th>1</th>\n",
              "      <td>2352.9</td>\n",
              "      <td>2355.7</td>\n",
              "      <td>2350.0</td>\n",
              "      <td>2355.7</td>\n",
              "      <td>195</td>\n",
              "    </tr>\n",
              "    <tr>\n",
              "      <th>2</th>\n",
              "      <td>2355.6</td>\n",
              "      <td>2356.0</td>\n",
              "      <td>2351.4</td>\n",
              "      <td>2354.1</td>\n",
              "      <td>257</td>\n",
              "    </tr>\n",
              "    <tr>\n",
              "      <th>3</th>\n",
              "      <td>2354.5</td>\n",
              "      <td>2355.0</td>\n",
              "      <td>2351.2</td>\n",
              "      <td>2353.7</td>\n",
              "      <td>763</td>\n",
              "    </tr>\n",
              "    <tr>\n",
              "      <th>4</th>\n",
              "      <td>2353.1</td>\n",
              "      <td>2353.9</td>\n",
              "      <td>2353.1</td>\n",
              "      <td>2353.6</td>\n",
              "      <td>231</td>\n",
              "    </tr>\n",
              "  </tbody>\n",
              "</table>\n",
              "</div>\n",
              "      <button class=\"colab-df-convert\" onclick=\"convertToInteractive('df-c3305280-1fdd-45c1-9ced-c3a99e5d361c')\"\n",
              "              title=\"Convert this dataframe to an interactive table.\"\n",
              "              style=\"display:none;\">\n",
              "        \n",
              "  <svg xmlns=\"http://www.w3.org/2000/svg\" height=\"24px\"viewBox=\"0 0 24 24\"\n",
              "       width=\"24px\">\n",
              "    <path d=\"M0 0h24v24H0V0z\" fill=\"none\"/>\n",
              "    <path d=\"M18.56 5.44l.94 2.06.94-2.06 2.06-.94-2.06-.94-.94-2.06-.94 2.06-2.06.94zm-11 1L8.5 8.5l.94-2.06 2.06-.94-2.06-.94L8.5 2.5l-.94 2.06-2.06.94zm10 10l.94 2.06.94-2.06 2.06-.94-2.06-.94-.94-2.06-.94 2.06-2.06.94z\"/><path d=\"M17.41 7.96l-1.37-1.37c-.4-.4-.92-.59-1.43-.59-.52 0-1.04.2-1.43.59L10.3 9.45l-7.72 7.72c-.78.78-.78 2.05 0 2.83L4 21.41c.39.39.9.59 1.41.59.51 0 1.02-.2 1.41-.59l7.78-7.78 2.81-2.81c.8-.78.8-2.07 0-2.86zM5.41 20L4 18.59l7.72-7.72 1.47 1.35L5.41 20z\"/>\n",
              "  </svg>\n",
              "      </button>\n",
              "      \n",
              "  <style>\n",
              "    .colab-df-container {\n",
              "      display:flex;\n",
              "      flex-wrap:wrap;\n",
              "      gap: 12px;\n",
              "    }\n",
              "\n",
              "    .colab-df-convert {\n",
              "      background-color: #E8F0FE;\n",
              "      border: none;\n",
              "      border-radius: 50%;\n",
              "      cursor: pointer;\n",
              "      display: none;\n",
              "      fill: #1967D2;\n",
              "      height: 32px;\n",
              "      padding: 0 0 0 0;\n",
              "      width: 32px;\n",
              "    }\n",
              "\n",
              "    .colab-df-convert:hover {\n",
              "      background-color: #E2EBFA;\n",
              "      box-shadow: 0px 1px 2px rgba(60, 64, 67, 0.3), 0px 1px 3px 1px rgba(60, 64, 67, 0.15);\n",
              "      fill: #174EA6;\n",
              "    }\n",
              "\n",
              "    [theme=dark] .colab-df-convert {\n",
              "      background-color: #3B4455;\n",
              "      fill: #D2E3FC;\n",
              "    }\n",
              "\n",
              "    [theme=dark] .colab-df-convert:hover {\n",
              "      background-color: #434B5C;\n",
              "      box-shadow: 0px 1px 3px 1px rgba(0, 0, 0, 0.15);\n",
              "      filter: drop-shadow(0px 1px 2px rgba(0, 0, 0, 0.3));\n",
              "      fill: #FFFFFF;\n",
              "    }\n",
              "  </style>\n",
              "\n",
              "      <script>\n",
              "        const buttonEl =\n",
              "          document.querySelector('#df-c3305280-1fdd-45c1-9ced-c3a99e5d361c button.colab-df-convert');\n",
              "        buttonEl.style.display =\n",
              "          google.colab.kernel.accessAllowed ? 'block' : 'none';\n",
              "\n",
              "        async function convertToInteractive(key) {\n",
              "          const element = document.querySelector('#df-c3305280-1fdd-45c1-9ced-c3a99e5d361c');\n",
              "          const dataTable =\n",
              "            await google.colab.kernel.invokeFunction('convertToInteractive',\n",
              "                                                     [key], {});\n",
              "          if (!dataTable) return;\n",
              "\n",
              "          const docLinkHtml = 'Like what you see? Visit the ' +\n",
              "            '<a target=\"_blank\" href=https://colab.research.google.com/notebooks/data_table.ipynb>data table notebook</a>'\n",
              "            + ' to learn more about interactive tables.';\n",
              "          element.innerHTML = '';\n",
              "          dataTable['output_type'] = 'display_data';\n",
              "          await google.colab.output.renderOutput(dataTable, element);\n",
              "          const docLink = document.createElement('div');\n",
              "          docLink.innerHTML = docLinkHtml;\n",
              "          element.appendChild(docLink);\n",
              "        }\n",
              "      </script>\n",
              "    </div>\n",
              "  </div>\n",
              "  "
            ],
            "text/plain": [
              "     OPEN     MAX     MIN   CLOSE  VOLUME\n",
              "0  2351.0  2355.8  2350.0  2350.0    2547\n",
              "1  2352.9  2355.7  2350.0  2355.7     195\n",
              "2  2355.6  2356.0  2351.4  2354.1     257\n",
              "3  2354.5  2355.0  2351.2  2353.7     763\n",
              "4  2353.1  2353.9  2353.1  2353.6     231"
            ]
          },
          "metadata": {},
          "execution_count": 7
        }
      ]
    },
    {
      "cell_type": "markdown",
      "metadata": {
        "id": "8N57F8tE9jr8"
      },
      "source": [
        "### Анализ и обработка данных."
      ]
    },
    {
      "cell_type": "code",
      "metadata": {
        "id": "mBV_5XaqHAmJ"
      },
      "source": [
        "def Normalization_data(lukoil_data): # нормализуем данные\n",
        "    global xScaler\n",
        "    global yScaler\n",
        "    global xLen\n",
        "    global vallen\n",
        "\n",
        "    xLen = 300                                                # Анализируем по xLen прошедшим точкам \n",
        "    valLen = 30000                                            # Используем valLen записей для проверки\n",
        "    lukoil_data = np.array(lukoil_data)\n",
        "    trainLen = lukoil_data.shape[0]-valLen  # Размер обучающей выборки\n",
        "    xTrain,xTest = lukoil_data[:trainLen], lukoil_data[trainLen+xLen+2:] # Делим данные на обучающую и валидационную выборки \n",
        "    # Масштабируем данные (отдельно для X и Y), чтобы их легче было скормить сетке\n",
        "    xScaler = MinMaxScaler()\n",
        "    xScaler.fit(xTrain)\n",
        "    xTrain = xScaler.transform(xTrain)\n",
        "    xTest = xScaler.transform(xTest)\n",
        "    # Сделаем reshape,т.к. у нас только один столбец по одному значению\n",
        "    yTrain,yTest = np.reshape(lukoil_data[:trainLen,3],(-1,1)), np.reshape(lukoil_data[trainLen+xLen+2:,3],(-1,1)) \n",
        "    yScaler = MinMaxScaler()\n",
        "    yScaler.fit(yTrain)\n",
        "    yTrain = yScaler.transform(yTrain)\n",
        "    yTest = yScaler.transform(yTest)\n",
        "    print('Данные нормализованы успешно! ')\n",
        "    return xTrain,xTest,yTrain,yTest"
      ],
      "execution_count": 8,
      "outputs": []
    },
    {
      "cell_type": "code",
      "metadata": {
        "id": "sATWLFku_iNw"
      },
      "source": [
        "def Timeseries_data(xyTrain, parametr = 20): # метод для выборок с помощью генератора\n",
        "    xTrain = xyTrain[0]\n",
        "    xTest = xyTrain[1]\n",
        "    yTrain = xyTrain[2]\n",
        "    yTest = xyTrain[3]\n",
        "    # С помощью генератора создаем выборку для обучения\n",
        "    trainDataGen = TimeseriesGenerator(xTrain, yTrain,           # Параметров нашей выборки\n",
        "                                length=xLen, stride=1,        # Для каждой точки (из промежутка длины xLen)\n",
        "                                batch_size=parametr)                # Размер batch, который будем подавать для модели\n",
        "    # Аналогичный генератор создадим для валидации при обучении\n",
        "    testDataGen = TimeseriesGenerator(xTest, yTest,\n",
        "                                length=xLen, stride=1,\n",
        "                                batch_size=parametr)\n",
        "    print('Данные успешно сформированы! ')\n",
        "    return trainDataGen, testDataGen"
      ],
      "execution_count": 9,
      "outputs": []
    },
    {
      "cell_type": "code",
      "metadata": {
        "id": "qmCOPDxSGuIJ"
      },
      "source": [
        "def plot_train_history(history, title): # метод для отрисовки графиков ошибки\n",
        "  loss = history.history['loss']\n",
        "  val_loss = history.history['val_loss']\n",
        "\n",
        "  epochs = range(len(loss))\n",
        "\n",
        "  plt.figure()\n",
        "\n",
        "  plt.plot(epochs, loss, 'b', label='Ошибка на этапе обучения')\n",
        "  plt.plot(epochs, val_loss, 'r', label='Ошибка на этапе проверки')\n",
        "  plt.title(title)\n",
        "  plt.legend()\n",
        "\n",
        "  plt.show()"
      ],
      "execution_count": 10,
      "outputs": []
    },
    {
      "cell_type": "code",
      "metadata": {
        "colab": {
          "base_uri": "https://localhost:8080/"
        },
        "id": "XWUyo3tmAJ8Y",
        "outputId": "7468da77-6985-47f1-b82f-bf1d65d39491"
      },
      "source": [
        "Data_normal = Normalization_data(lukoil_data)"
      ],
      "execution_count": 11,
      "outputs": [
        {
          "output_type": "stream",
          "name": "stdout",
          "text": [
            "Данные нормализованы успешно! \n"
          ]
        }
      ]
    },
    {
      "cell_type": "code",
      "metadata": {
        "colab": {
          "base_uri": "https://localhost:8080/"
        },
        "id": "O7j2Zyw0APSP",
        "outputId": "798e2be9-5655-4a5d-a674-bac2e289f266"
      },
      "source": [
        "trainDataGen, testDataGen = Timeseries_data(Data_normal)"
      ],
      "execution_count": 12,
      "outputs": [
        {
          "output_type": "stream",
          "name": "stdout",
          "text": [
            "Данные успешно сформированы! \n"
          ]
        }
      ]
    },
    {
      "cell_type": "code",
      "metadata": {
        "colab": {
          "base_uri": "https://localhost:8080/"
        },
        "id": "OSawnqKCBEqP",
        "outputId": "c0709aa2-c3aa-4a5b-a4e1-da0194252d9d"
      },
      "source": [
        "print(trainDataGen[0][0].shape)\n",
        "print(trainDataGen[0][1].shape)"
      ],
      "execution_count": 13,
      "outputs": [
        {
          "output_type": "stream",
          "name": "stdout",
          "text": [
            "(20, 300, 5)\n",
            "(20, 1)\n"
          ]
        }
      ]
    },
    {
      "cell_type": "markdown",
      "metadata": {
        "id": "yzOmR60ZbP6p"
      },
      "source": [
        "Создадим модель нейронной сети на основе одномерной свертки."
      ]
    },
    {
      "cell_type": "code",
      "metadata": {
        "id": "eRPVp0KWYhm-"
      },
      "source": [
        "# Создадим модель\n",
        "def Conv1D_model():\n",
        "    model = Sequential()\n",
        "    model.add(Conv1D(200, 5, input_shape = (xLen,5), activation=\"linear\"))\n",
        "    model.add(Flatten())\n",
        "    model.add(Dense(100, activation=\"linear\"))\n",
        "    model.add(Dense(1))\n",
        "\n",
        "    model.compile(loss=\"mse\", optimizer=Adam(learning_rate=1e-4))\n",
        "    return model\n"
      ],
      "execution_count": 14,
      "outputs": []
    },
    {
      "cell_type": "code",
      "metadata": {
        "colab": {
          "base_uri": "https://localhost:8080/"
        },
        "id": "ROGffpzNYov7",
        "outputId": "65d0c6d8-a8c6-42be-f524-0f02f947b8ea"
      },
      "source": [
        "# Обучаем модель полученными данными\n",
        "model_Convalution = Conv1D_model()\n",
        "history = model_Convalution.fit(trainDataGen,\n",
        "                    epochs=10, \n",
        "                    validation_data=testDataGen,\n",
        "                    verbose=1)"
      ],
      "execution_count": 15,
      "outputs": [
        {
          "output_type": "stream",
          "name": "stdout",
          "text": [
            "Epoch 1/10\n",
            "22579/22579 [==============================] - 200s 8ms/step - loss: 0.0357 - val_loss: 0.4222\n",
            "Epoch 2/10\n",
            "22579/22579 [==============================] - 186s 8ms/step - loss: 9.7621e-04 - val_loss: 1.2531e-04\n",
            "Epoch 3/10\n",
            "22579/22579 [==============================] - 184s 8ms/step - loss: 2.8364e-04 - val_loss: 2.7075e-05\n",
            "Epoch 4/10\n",
            "22579/22579 [==============================] - 184s 8ms/step - loss: 5.0870e-04 - val_loss: 2.0597e-04\n",
            "Epoch 5/10\n",
            "22579/22579 [==============================] - 182s 8ms/step - loss: 9.4154e-05 - val_loss: 9.6891e-05\n",
            "Epoch 6/10\n",
            "22579/22579 [==============================] - 182s 8ms/step - loss: 8.2759e-05 - val_loss: 2.4861e-04\n",
            "Epoch 7/10\n",
            "22579/22579 [==============================] - 182s 8ms/step - loss: 5.6236e-05 - val_loss: 5.0132e-05\n",
            "Epoch 8/10\n",
            "22579/22579 [==============================] - 182s 8ms/step - loss: 3.1616e-05 - val_loss: 2.1594e-05\n",
            "Epoch 9/10\n",
            "22579/22579 [==============================] - 181s 8ms/step - loss: 4.4043e-05 - val_loss: 1.2626e-05\n",
            "Epoch 10/10\n",
            "22579/22579 [==============================] - 179s 8ms/step - loss: 2.5751e-05 - val_loss: 1.4555e-05\n"
          ]
        }
      ]
    },
    {
      "cell_type": "code",
      "metadata": {
        "id": "S1lbbvMwta0b",
        "colab": {
          "base_uri": "https://localhost:8080/",
          "height": 281
        },
        "outputId": "33d1720c-a1be-4d54-923c-fcd5e7ef8c5f"
      },
      "source": [
        "plot_train_history(history, 'Потери на этапах обучения и проверки модели')"
      ],
      "execution_count": 16,
      "outputs": [
        {
          "output_type": "display_data",
          "data": {
            "image/png": "[encoded data removed]",
            "text/plain": [
              "<Figure size 432x288 with 1 Axes>"
            ]
          },
          "metadata": {
            "needs_background": "light"
          }
        }
      ]
    },
    {
      "cell_type": "code",
      "metadata": {
        "id": "Kngix4_WqKPN"
      },
      "source": [
        "# сохраним модель при необходимости\n",
        "model_Convalution.save('/content/drive/MyDrive/datasets/model_Convalution.h5') "
      ],
      "execution_count": 17,
      "outputs": []
    },
    {
      "cell_type": "code",
      "metadata": {
        "id": "sh7ImkrvqMwd"
      },
      "source": [
        "# загрузим сохраненную модель при необходимости\n",
        "model_Convalution = load_model('/content/drive/MyDrive/datasets/model_Convalution.h5')"
      ],
      "execution_count": 18,
      "outputs": []
    },
    {
      "cell_type": "markdown",
      "metadata": {
        "id": "RahB7nVmM8b0"
      },
      "source": [
        "### Создадим предсказание обученной модели."
      ]
    },
    {
      "cell_type": "code",
      "metadata": {
        "id": "5pEvKfoHuGBx"
      },
      "source": [
        "# получим прогноз на тестовой выбоке\n",
        "def Predict_Model(xTest,currModel): \n",
        "    #Предсказываем ответ сети по тестовой выборке и возвращаем исходные масштаб данных, до нормализации\n",
        "    predTest = yScaler.inverse_transform(currModel.predict(xTest[0]))\n",
        "    print('Созданы спрогнозированные значения, на части выделенных тестовых данных ')\n",
        "    return predTest"
      ],
      "execution_count": 19,
      "outputs": []
    },
    {
      "cell_type": "code",
      "metadata": {
        "id": "Ot91he-5xe6j"
      },
      "source": [
        "# оформить результат и отправить на Kaggle\n",
        "def Send_results(pred_data_my):\n",
        "    try:\n",
        "        predUnscaled = pred_data_my.squeeze()\n",
        "        # создаём датафрейм в нужном формате\n",
        "        submission = pd.DataFrame({\"Id\":range(1,len(predUnscaled)+1),\"Label\":predUnscaled})\n",
        "        submission.head()\n",
        "        # сохраняем его как csv\n",
        "        submission = submission.to_csv('./Submission_Shared_Lukoil.csv', sep=',', index=False, header=True)\n",
        "        # отправляем на соревнование\n",
        "        !kaggle competitions submit -c udt-3-timeseries -f Submission_Shared_Lukoil.csv -m \"Message\"\n",
        "        print('\\n Расчитанные данные успешно отправлены! ')\n",
        "    except:\n",
        "        print('Отправка расчетных данных не прошла! ')"
      ],
      "execution_count": 20,
      "outputs": []
    },
    {
      "cell_type": "code",
      "metadata": {
        "colab": {
          "base_uri": "https://localhost:8080/"
        },
        "id": "rPBQC0g8ybKa",
        "outputId": "7dcc4c68-1cb2-43b6-adb8-ea81d138b869"
      },
      "source": [
        "prediction_data = Predict_Model(xTest, model_Convalution) # получим прогноз на тестовой выбоке"
      ],
      "execution_count": 21,
      "outputs": [
        {
          "output_type": "stream",
          "name": "stdout",
          "text": [
            "Созданы спрогнозированные значения, на части выделенных тестовых данных \n"
          ]
        }
      ]
    },
    {
      "cell_type": "code",
      "metadata": {
        "colab": {
          "base_uri": "https://localhost:8080/"
        },
        "id": "OU0C3CF7ykPb",
        "outputId": "d61a7f6a-758e-4f2c-9992-8df572132468"
      },
      "source": [
        "Send_results(prediction_data) # оформить результат и отправить на Kaggle"
      ],
      "execution_count": 22,
      "outputs": [
        {
          "output_type": "stream",
          "name": "stdout",
          "text": [
            "100% 433k/433k [00:00<00:00, 530kB/s]\n",
            "Successfully submitted to Университет Цифровых Технологий платформа 3\n",
            " Расчитанные данные успешно отправлены! \n"
          ]
        }
      ]
    },
    {
      "cell_type": "markdown",
      "metadata": {
        "id": "X2OrarFaEENY"
      },
      "source": [
        "###Переходим по ссылке, чтобы увидеть таблицу лидеров.\n",
        "\n",
        "https://www.kaggle.com/c/udt-3-timeseries/leaderboard"
      ]
    },
    {
      "cell_type": "markdown",
      "metadata": {
        "id": "d8_ik4kH3jFL"
      },
      "source": [
        "# Литература:"
      ]
    },
    {
      "cell_type": "markdown",
      "metadata": {
        "id": "f7F7hTfbeMTK"
      },
      "source": [
        "\n",
        "\n",
        "1. Шмойлова Р. А. \"Общая теория статистики: Учебник.\" — М.: Финансы и статистика, 2002.\n",
        "2. Мишулина О. А. \"Статистический анализ и обработка временных рядов.\" — М.: МИФИ, 2004. — С. 180. — ISBN 5-7262-0536-7\n",
        "\n",
        "3. Губарева Е.А. \"Нейронные сети в анализе временных рядов.\" ФГБОУ ВО \"Государственный университет управления\"\n",
        "\n",
        "4. Франсуа Шолле, «Глубокое обучение на Python»\n",
        "\n",
        "5. Орельен Жерон, «Прикладное машинное обучение с помощью Scikit-Learn, Keras и TensorFlow», 2-е издание\n",
        "\n",
        "6. Автокорреляция.\n",
        "https://dic.academic.ru/dic.nsf/ruwiki/761557\n",
        "\n",
        "7. LSTM - сети долгой краткосрочной памяти. https://habr.com/ru/company/wunderfund/blog/331310/\n",
        "\n",
        "8. Основные оценки точности прогнозирования временных рядов. https://www.mbureau.ru/blog/osnovnye-ocenki-tochnosti-prognozirovaniya-vremennyh-ryadov\n",
        "\n",
        "\n",
        "\n",
        "\n",
        "\n",
        "\n",
        "\n"
      ]
    }
  ]
}