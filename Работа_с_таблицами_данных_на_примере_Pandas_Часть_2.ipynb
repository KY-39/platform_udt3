{
  "nbformat": 4,
  "nbformat_minor": 0,
  "metadata": {
    "colab": {
      "name": "my \"Работа с таблицами данных на примере Pandas. Часть 2 - д.з.\"",
      "provenance": [],
      "collapsed_sections": [],
      "include_colab_link": true
    },
    "kernelspec": {
      "name": "python3",
      "display_name": "Python 3"
    }
  },
  "cells": [
    {
      "cell_type": "markdown",
      "metadata": {
        "id": "view-in-github",
        "colab_type": "text"
      },
      "source": [
        "<a href=\"https://colab.research.google.com/github/KY-39/platforma_udt/blob/main/%D0%A0%D0%B0%D0%B1%D0%BE%D1%82%D0%B0_%D1%81_%D1%82%D0%B0%D0%B1%D0%BB%D0%B8%D1%86%D0%B0%D0%BC%D0%B8_%D0%B4%D0%B0%D0%BD%D0%BD%D1%8B%D1%85_%D0%BD%D0%B0_%D0%BF%D1%80%D0%B8%D0%BC%D0%B5%D1%80%D0%B5_Pandas_%D0%A7%D0%B0%D1%81%D1%82%D1%8C_2.ipynb\" target=\"_parent\"><img src=\"https://colab.research.google.com/assets/colab-badge.svg\" alt=\"Open In Colab\"/></a>"
      ]
    },
    {
      "cell_type": "markdown",
      "metadata": {
        "id": "uVQjRFc6abYJ"
      },
      "source": [
        "## ООО \"Университет Цифровых Технологий платформа 3\""
      ]
    },
    {
      "cell_type": "markdown",
      "metadata": {
        "id": "3JdCLwlxw-ff"
      },
      "source": [
        "#Работа с таблицами данных на примере Pandas. Часть 2 - д.з."
      ]
    },
    {
      "cell_type": "markdown",
      "metadata": {
        "id": "8USkuMZaxQP0"
      },
      "source": [
        "#Домашнее задание"
      ]
    },
    {
      "cell_type": "markdown",
      "metadata": {
        "id": "vlGDl6cOAhPk"
      },
      "source": [
        "## Уровень базовый\n"
      ]
    },
    {
      "cell_type": "markdown",
      "metadata": {
        "id": "hYZEzgFdAhHr"
      },
      "source": [
        "### Задание 1"
      ]
    },
    {
      "cell_type": "markdown",
      "metadata": {
        "id": "lo1aAuRSA8Iv"
      },
      "source": [
        "1. Загрузите в DataFrame данные по количеству выборщиков в США по штатам за 1788 - 2020 год:\n",
        "http://dataudt.ru/datasets/Electoral_College.csv\n",
        "2. Выведите размерность DataFrame\n",
        "3. Выведите инфомрацию о колонках(виды колонок, количество непустых значений, тип данных)"
      ]
    },
    {
      "cell_type": "code",
      "metadata": {
        "id": "ijJdtAgBsvyx",
        "colab": {
          "base_uri": "https://localhost:8080/"
        },
        "outputId": "354fb1f5-3009-4549-d259-b0b54d6709b7"
      },
      "source": [
        "!wget http://dataudt.ru/datasets/Electoral_College.csv"
      ],
      "execution_count": null,
      "outputs": [
        {
          "output_type": "stream",
          "name": "stdout",
          "text": [
            "--2021-11-28 05:11:25--  http://dataudt.ru/datasets/Electoral_College.csv\n",
            "Resolving dataudt.ru (dataudt.ru)... 37.228.117.130\n",
            "Connecting to dataudt.ru (dataudt.ru)|37.228.117.130|:80... connected.\n",
            "HTTP request sent, awaiting response... 200 OK\n",
            "Length: 52503 (51K) [application/octet-stream]\n",
            "Saving to: ‘Electoral_College.csv.1’\n",
            "\n",
            "Electoral_College.c 100%[===================>]  51.27K   208KB/s    in 0.2s    \n",
            "\n",
            "2021-11-28 05:11:25 (208 KB/s) - ‘Electoral_College.csv.1’ saved [52503/52503]\n",
            "\n"
          ]
        }
      ]
    },
    {
      "cell_type": "code",
      "metadata": {
        "id": "AQ2220h7svmx",
        "colab": {
          "base_uri": "https://localhost:8080/",
          "height": 423
        },
        "outputId": "605afad9-381e-40da-e074-00608f2da9d2"
      },
      "source": [
        "import pandas as pd\n",
        "\n",
        "df = pd.read_csv('/content/Electoral_College.csv')\n",
        "df"
      ],
      "execution_count": null,
      "outputs": [
        {
          "output_type": "execute_result",
          "data": {
            "text/html": [
              "<div>\n",
              "<style scoped>\n",
              "    .dataframe tbody tr th:only-of-type {\n",
              "        vertical-align: middle;\n",
              "    }\n",
              "\n",
              "    .dataframe tbody tr th {\n",
              "        vertical-align: top;\n",
              "    }\n",
              "\n",
              "    .dataframe thead th {\n",
              "        text-align: right;\n",
              "    }\n",
              "</style>\n",
              "<table border=\"1\" class=\"dataframe\">\n",
              "  <thead>\n",
              "    <tr style=\"text-align: right;\">\n",
              "      <th></th>\n",
              "      <th>Year</th>\n",
              "      <th>State</th>\n",
              "      <th>Votes</th>\n",
              "    </tr>\n",
              "  </thead>\n",
              "  <tbody>\n",
              "    <tr>\n",
              "      <th>0</th>\n",
              "      <td>1788</td>\n",
              "      <td>Alabama</td>\n",
              "      <td>NaN</td>\n",
              "    </tr>\n",
              "    <tr>\n",
              "      <th>1</th>\n",
              "      <td>1792</td>\n",
              "      <td>Alabama</td>\n",
              "      <td>NaN</td>\n",
              "    </tr>\n",
              "    <tr>\n",
              "      <th>2</th>\n",
              "      <td>1796</td>\n",
              "      <td>Alabama</td>\n",
              "      <td>NaN</td>\n",
              "    </tr>\n",
              "    <tr>\n",
              "      <th>3</th>\n",
              "      <td>1800</td>\n",
              "      <td>Alabama</td>\n",
              "      <td>NaN</td>\n",
              "    </tr>\n",
              "    <tr>\n",
              "      <th>4</th>\n",
              "      <td>1804</td>\n",
              "      <td>Alabama</td>\n",
              "      <td>NaN</td>\n",
              "    </tr>\n",
              "    <tr>\n",
              "      <th>...</th>\n",
              "      <td>...</td>\n",
              "      <td>...</td>\n",
              "      <td>...</td>\n",
              "    </tr>\n",
              "    <tr>\n",
              "      <th>3004</th>\n",
              "      <td>2004</td>\n",
              "      <td>Wyoming</td>\n",
              "      <td>3.0</td>\n",
              "    </tr>\n",
              "    <tr>\n",
              "      <th>3005</th>\n",
              "      <td>2008</td>\n",
              "      <td>Wyoming</td>\n",
              "      <td>3.0</td>\n",
              "    </tr>\n",
              "    <tr>\n",
              "      <th>3006</th>\n",
              "      <td>2012</td>\n",
              "      <td>Wyoming</td>\n",
              "      <td>3.0</td>\n",
              "    </tr>\n",
              "    <tr>\n",
              "      <th>3007</th>\n",
              "      <td>2016</td>\n",
              "      <td>Wyoming</td>\n",
              "      <td>3.0</td>\n",
              "    </tr>\n",
              "    <tr>\n",
              "      <th>3008</th>\n",
              "      <td>2020</td>\n",
              "      <td>Wyoming</td>\n",
              "      <td>3.0</td>\n",
              "    </tr>\n",
              "  </tbody>\n",
              "</table>\n",
              "<p>3009 rows × 3 columns</p>\n",
              "</div>"
            ],
            "text/plain": [
              "      Year    State  Votes\n",
              "0     1788  Alabama    NaN\n",
              "1     1792  Alabama    NaN\n",
              "2     1796  Alabama    NaN\n",
              "3     1800  Alabama    NaN\n",
              "4     1804  Alabama    NaN\n",
              "...    ...      ...    ...\n",
              "3004  2004  Wyoming    3.0\n",
              "3005  2008  Wyoming    3.0\n",
              "3006  2012  Wyoming    3.0\n",
              "3007  2016  Wyoming    3.0\n",
              "3008  2020  Wyoming    3.0\n",
              "\n",
              "[3009 rows x 3 columns]"
            ]
          },
          "metadata": {},
          "execution_count": 2
        }
      ]
    },
    {
      "cell_type": "code",
      "metadata": {
        "colab": {
          "base_uri": "https://localhost:8080/"
        },
        "id": "tue0UIBIhn2m",
        "outputId": "b99f68d2-baab-4896-d39b-6e5a3832970d"
      },
      "source": [
        "df.info()"
      ],
      "execution_count": null,
      "outputs": [
        {
          "output_type": "stream",
          "name": "stdout",
          "text": [
            "<class 'pandas.core.frame.DataFrame'>\n",
            "RangeIndex: 3009 entries, 0 to 3008\n",
            "Data columns (total 3 columns):\n",
            " #   Column  Non-Null Count  Dtype  \n",
            "---  ------  --------------  -----  \n",
            " 0   Year    3009 non-null   int64  \n",
            " 1   State   3009 non-null   object \n",
            " 2   Votes   2306 non-null   float64\n",
            "dtypes: float64(1), int64(1), object(1)\n",
            "memory usage: 70.6+ KB\n"
          ]
        }
      ]
    },
    {
      "cell_type": "markdown",
      "metadata": {
        "id": "GaVya8DoAg5O"
      },
      "source": [
        "### Задание 2"
      ]
    },
    {
      "cell_type": "markdown",
      "metadata": {
        "id": "P7I6ppn4A867"
      },
      "source": [
        "Удалите строки, содержащие пропуски в колонке Votes.\n",
        "\n",
        "Посмотрите на  результат с помощью head()"
      ]
    },
    {
      "cell_type": "code",
      "metadata": {
        "id": "4vJP6-3ZsyOQ",
        "colab": {
          "base_uri": "https://localhost:8080/",
          "height": 206
        },
        "outputId": "905cb521-a685-4a0e-cf27-09a0825fe84b"
      },
      "source": [
        "df.dropna(subset=['Votes'], inplace=True)\n",
        "df.head()"
      ],
      "execution_count": null,
      "outputs": [
        {
          "output_type": "execute_result",
          "data": {
            "text/html": [
              "<div>\n",
              "<style scoped>\n",
              "    .dataframe tbody tr th:only-of-type {\n",
              "        vertical-align: middle;\n",
              "    }\n",
              "\n",
              "    .dataframe tbody tr th {\n",
              "        vertical-align: top;\n",
              "    }\n",
              "\n",
              "    .dataframe thead th {\n",
              "        text-align: right;\n",
              "    }\n",
              "</style>\n",
              "<table border=\"1\" class=\"dataframe\">\n",
              "  <thead>\n",
              "    <tr style=\"text-align: right;\">\n",
              "      <th></th>\n",
              "      <th>Year</th>\n",
              "      <th>State</th>\n",
              "      <th>Votes</th>\n",
              "    </tr>\n",
              "  </thead>\n",
              "  <tbody>\n",
              "    <tr>\n",
              "      <th>8</th>\n",
              "      <td>1820</td>\n",
              "      <td>Alabama</td>\n",
              "      <td>3.0</td>\n",
              "    </tr>\n",
              "    <tr>\n",
              "      <th>9</th>\n",
              "      <td>1824</td>\n",
              "      <td>Alabama</td>\n",
              "      <td>5.0</td>\n",
              "    </tr>\n",
              "    <tr>\n",
              "      <th>10</th>\n",
              "      <td>1828</td>\n",
              "      <td>Alabama</td>\n",
              "      <td>5.0</td>\n",
              "    </tr>\n",
              "    <tr>\n",
              "      <th>11</th>\n",
              "      <td>1832</td>\n",
              "      <td>Alabama</td>\n",
              "      <td>7.0</td>\n",
              "    </tr>\n",
              "    <tr>\n",
              "      <th>12</th>\n",
              "      <td>1836</td>\n",
              "      <td>Alabama</td>\n",
              "      <td>7.0</td>\n",
              "    </tr>\n",
              "  </tbody>\n",
              "</table>\n",
              "</div>"
            ],
            "text/plain": [
              "    Year    State  Votes\n",
              "8   1820  Alabama    3.0\n",
              "9   1824  Alabama    5.0\n",
              "10  1828  Alabama    5.0\n",
              "11  1832  Alabama    7.0\n",
              "12  1836  Alabama    7.0"
            ]
          },
          "metadata": {},
          "execution_count": 4
        }
      ]
    },
    {
      "cell_type": "markdown",
      "metadata": {
        "id": "zO7WJGnZA2fx"
      },
      "source": [
        "### Задание 3"
      ]
    },
    {
      "cell_type": "markdown",
      "metadata": {
        "id": "Nc-3cKmuA9zq"
      },
      "source": [
        "Соберите информацию:\n",
        "1. Узнайте количество уникальных штатов, из которых избираются выборщики.\n",
        "2. Выведите эти штаты (в виде list или nd.array)\n",
        "3. Выведите информацию, сколько раз проходили выборы (количество уникальных записей в Year)\n",
        "4. Найдите год первых и последних выборов, о которых у нас есть записи."
      ]
    },
    {
      "cell_type": "code",
      "metadata": {
        "id": "l3OJfiuNs1eU",
        "colab": {
          "base_uri": "https://localhost:8080/"
        },
        "outputId": "360b1177-e901-4344-eab3-63c19b9e9f4a"
      },
      "source": [
        "df.State.nunique()"
      ],
      "execution_count": null,
      "outputs": [
        {
          "output_type": "execute_result",
          "data": {
            "text/plain": [
              "51"
            ]
          },
          "metadata": {},
          "execution_count": 5
        }
      ]
    },
    {
      "cell_type": "code",
      "metadata": {
        "id": "QoPHK7Ims1SQ",
        "colab": {
          "base_uri": "https://localhost:8080/"
        },
        "outputId": "0ba3d1cd-4610-46f3-92fc-512921f903a1"
      },
      "source": [
        "df.State.unique()"
      ],
      "execution_count": null,
      "outputs": [
        {
          "output_type": "execute_result",
          "data": {
            "text/plain": [
              "array(['Alabama', 'Alaska', 'Arizona', 'Arkansas', 'California',\n",
              "       'Colorado', 'Connecticut', 'D.C.', 'Delaware', 'Florida',\n",
              "       'Georgia', 'Hawaii', 'Idaho', 'Illinois', 'Indiana', 'Iowa',\n",
              "       'Kansas', 'Kentucky', 'Louisiana', 'Maine', 'Maryland',\n",
              "       'Massachusetts', 'Michigan', 'Minnesota', 'Mississippi',\n",
              "       'Missouri', 'Montana', 'Nebraska', 'Nevada', 'New Hampshire',\n",
              "       'New Jersey', 'New Mexico', 'New York', 'North Carolina',\n",
              "       'North Dakota', 'Ohio', 'Oklahoma', 'Oregon', 'Pennsylvania',\n",
              "       'Rhode Island', 'South Carolina', 'South Dakota', 'Tennessee',\n",
              "       'Texas', 'Utah', 'Vermont', 'Virginia', 'Washington',\n",
              "       'West Virginia', 'Wisconsin', 'Wyoming'], dtype=object)"
            ]
          },
          "metadata": {},
          "execution_count": 6
        }
      ]
    },
    {
      "cell_type": "code",
      "metadata": {
        "colab": {
          "base_uri": "https://localhost:8080/"
        },
        "id": "xQIseSKkmClc",
        "outputId": "aea9bff6-87b4-4a34-f75d-a655b41cdbd8"
      },
      "source": [
        "df.Year.nunique()"
      ],
      "execution_count": null,
      "outputs": [
        {
          "output_type": "execute_result",
          "data": {
            "text/plain": [
              "59"
            ]
          },
          "metadata": {},
          "execution_count": 7
        }
      ]
    },
    {
      "cell_type": "code",
      "metadata": {
        "colab": {
          "base_uri": "https://localhost:8080/"
        },
        "id": "o9L0CcmmmLlk",
        "outputId": "8f93d265-481c-4469-aa33-2f6bd1493d65"
      },
      "source": [
        "df.Year.min()"
      ],
      "execution_count": null,
      "outputs": [
        {
          "output_type": "execute_result",
          "data": {
            "text/plain": [
              "1788"
            ]
          },
          "metadata": {},
          "execution_count": 8
        }
      ]
    },
    {
      "cell_type": "code",
      "metadata": {
        "colab": {
          "base_uri": "https://localhost:8080/"
        },
        "id": "B74QwquNmMJE",
        "outputId": "42b74c13-f601-410d-aa5b-a44c39faa273"
      },
      "source": [
        "df.Year.max()"
      ],
      "execution_count": null,
      "outputs": [
        {
          "output_type": "execute_result",
          "data": {
            "text/plain": [
              "2020"
            ]
          },
          "metadata": {},
          "execution_count": 9
        }
      ]
    },
    {
      "cell_type": "markdown",
      "metadata": {
        "id": "MKQiPmk3A2gG"
      },
      "source": [
        "### Задание 4"
      ]
    },
    {
      "cell_type": "markdown",
      "metadata": {
        "id": "k4Mf6r_hA-vc"
      },
      "source": [
        "1. Сформируйте отчет, отражающий количество выборщиков на каждых выборах.\n",
        "    Подсказка - используйте groupby.sum()\n",
        "2. Сформируйте отчет, отражающий количество штатов на каждых выборах.\n",
        "3. Сформируйте таблицу, отражающую количество штатов и выборщиков на каждых выборах"
      ]
    },
    {
      "cell_type": "code",
      "metadata": {
        "id": "-0LMNobHs5FA",
        "colab": {
          "base_uri": "https://localhost:8080/",
          "height": 237
        },
        "outputId": "82d616d3-b67c-458b-bbce-4dc532d701f8"
      },
      "source": [
        "report1 = df.groupby('Year')[['Votes']].sum()\n",
        "report1.head()"
      ],
      "execution_count": null,
      "outputs": [
        {
          "output_type": "execute_result",
          "data": {
            "text/html": [
              "<div>\n",
              "<style scoped>\n",
              "    .dataframe tbody tr th:only-of-type {\n",
              "        vertical-align: middle;\n",
              "    }\n",
              "\n",
              "    .dataframe tbody tr th {\n",
              "        vertical-align: top;\n",
              "    }\n",
              "\n",
              "    .dataframe thead th {\n",
              "        text-align: right;\n",
              "    }\n",
              "</style>\n",
              "<table border=\"1\" class=\"dataframe\">\n",
              "  <thead>\n",
              "    <tr style=\"text-align: right;\">\n",
              "      <th></th>\n",
              "      <th>Votes</th>\n",
              "    </tr>\n",
              "    <tr>\n",
              "      <th>Year</th>\n",
              "      <th></th>\n",
              "    </tr>\n",
              "  </thead>\n",
              "  <tbody>\n",
              "    <tr>\n",
              "      <th>1788</th>\n",
              "      <td>81.0</td>\n",
              "    </tr>\n",
              "    <tr>\n",
              "      <th>1792</th>\n",
              "      <td>135.0</td>\n",
              "    </tr>\n",
              "    <tr>\n",
              "      <th>1796</th>\n",
              "      <td>138.0</td>\n",
              "    </tr>\n",
              "    <tr>\n",
              "      <th>1800</th>\n",
              "      <td>138.0</td>\n",
              "    </tr>\n",
              "    <tr>\n",
              "      <th>1804</th>\n",
              "      <td>176.0</td>\n",
              "    </tr>\n",
              "  </tbody>\n",
              "</table>\n",
              "</div>"
            ],
            "text/plain": [
              "      Votes\n",
              "Year       \n",
              "1788   81.0\n",
              "1792  135.0\n",
              "1796  138.0\n",
              "1800  138.0\n",
              "1804  176.0"
            ]
          },
          "metadata": {},
          "execution_count": 10
        }
      ]
    },
    {
      "cell_type": "code",
      "metadata": {
        "colab": {
          "base_uri": "https://localhost:8080/",
          "height": 237
        },
        "id": "rBcYNrRTuBCr",
        "outputId": "7b2ddad7-d7dc-49e3-b8d6-ea5a68b4c665"
      },
      "source": [
        "report2 = df.groupby('Year')[['Votes']].count()\n",
        "report2.head()"
      ],
      "execution_count": null,
      "outputs": [
        {
          "output_type": "execute_result",
          "data": {
            "text/html": [
              "<div>\n",
              "<style scoped>\n",
              "    .dataframe tbody tr th:only-of-type {\n",
              "        vertical-align: middle;\n",
              "    }\n",
              "\n",
              "    .dataframe tbody tr th {\n",
              "        vertical-align: top;\n",
              "    }\n",
              "\n",
              "    .dataframe thead th {\n",
              "        text-align: right;\n",
              "    }\n",
              "</style>\n",
              "<table border=\"1\" class=\"dataframe\">\n",
              "  <thead>\n",
              "    <tr style=\"text-align: right;\">\n",
              "      <th></th>\n",
              "      <th>Votes</th>\n",
              "    </tr>\n",
              "    <tr>\n",
              "      <th>Year</th>\n",
              "      <th></th>\n",
              "    </tr>\n",
              "  </thead>\n",
              "  <tbody>\n",
              "    <tr>\n",
              "      <th>1788</th>\n",
              "      <td>11</td>\n",
              "    </tr>\n",
              "    <tr>\n",
              "      <th>1792</th>\n",
              "      <td>15</td>\n",
              "    </tr>\n",
              "    <tr>\n",
              "      <th>1796</th>\n",
              "      <td>16</td>\n",
              "    </tr>\n",
              "    <tr>\n",
              "      <th>1800</th>\n",
              "      <td>16</td>\n",
              "    </tr>\n",
              "    <tr>\n",
              "      <th>1804</th>\n",
              "      <td>17</td>\n",
              "    </tr>\n",
              "  </tbody>\n",
              "</table>\n",
              "</div>"
            ],
            "text/plain": [
              "      Votes\n",
              "Year       \n",
              "1788     11\n",
              "1792     15\n",
              "1796     16\n",
              "1800     16\n",
              "1804     17"
            ]
          },
          "metadata": {},
          "execution_count": 11
        }
      ]
    },
    {
      "cell_type": "code",
      "metadata": {
        "colab": {
          "base_uri": "https://localhost:8080/",
          "height": 269
        },
        "id": "e-M8aZtguPvy",
        "outputId": "07c7390f-3f5f-4214-abff-2156a3201dd1"
      },
      "source": [
        "report = df.groupby('Year')[['Votes']].agg(['count', 'sum'])\n",
        "report.head()"
      ],
      "execution_count": null,
      "outputs": [
        {
          "output_type": "execute_result",
          "data": {
            "text/html": [
              "<div>\n",
              "<style scoped>\n",
              "    .dataframe tbody tr th:only-of-type {\n",
              "        vertical-align: middle;\n",
              "    }\n",
              "\n",
              "    .dataframe tbody tr th {\n",
              "        vertical-align: top;\n",
              "    }\n",
              "\n",
              "    .dataframe thead tr th {\n",
              "        text-align: left;\n",
              "    }\n",
              "\n",
              "    .dataframe thead tr:last-of-type th {\n",
              "        text-align: right;\n",
              "    }\n",
              "</style>\n",
              "<table border=\"1\" class=\"dataframe\">\n",
              "  <thead>\n",
              "    <tr>\n",
              "      <th></th>\n",
              "      <th colspan=\"2\" halign=\"left\">Votes</th>\n",
              "    </tr>\n",
              "    <tr>\n",
              "      <th></th>\n",
              "      <th>count</th>\n",
              "      <th>sum</th>\n",
              "    </tr>\n",
              "    <tr>\n",
              "      <th>Year</th>\n",
              "      <th></th>\n",
              "      <th></th>\n",
              "    </tr>\n",
              "  </thead>\n",
              "  <tbody>\n",
              "    <tr>\n",
              "      <th>1788</th>\n",
              "      <td>11</td>\n",
              "      <td>81.0</td>\n",
              "    </tr>\n",
              "    <tr>\n",
              "      <th>1792</th>\n",
              "      <td>15</td>\n",
              "      <td>135.0</td>\n",
              "    </tr>\n",
              "    <tr>\n",
              "      <th>1796</th>\n",
              "      <td>16</td>\n",
              "      <td>138.0</td>\n",
              "    </tr>\n",
              "    <tr>\n",
              "      <th>1800</th>\n",
              "      <td>16</td>\n",
              "      <td>138.0</td>\n",
              "    </tr>\n",
              "    <tr>\n",
              "      <th>1804</th>\n",
              "      <td>17</td>\n",
              "      <td>176.0</td>\n",
              "    </tr>\n",
              "  </tbody>\n",
              "</table>\n",
              "</div>"
            ],
            "text/plain": [
              "     Votes       \n",
              "     count    sum\n",
              "Year             \n",
              "1788    11   81.0\n",
              "1792    15  135.0\n",
              "1796    16  138.0\n",
              "1800    16  138.0\n",
              "1804    17  176.0"
            ]
          },
          "metadata": {},
          "execution_count": 12
        }
      ]
    },
    {
      "cell_type": "markdown",
      "metadata": {
        "id": "m2REtnWCGfM_"
      },
      "source": [
        "### Задание 5"
      ]
    },
    {
      "cell_type": "markdown",
      "metadata": {
        "id": "WI9q7CQsGfYl"
      },
      "source": [
        "Найдите, в каком году в выборах впервые участвовали выборщики из Аляски (Alaska)"
      ]
    },
    {
      "cell_type": "code",
      "metadata": {
        "id": "cMqJL5w8s-sT",
        "colab": {
          "base_uri": "https://localhost:8080/"
        },
        "outputId": "cfc6a43d-66f6-435a-f600-eedb0e29ab92"
      },
      "source": [
        "df[df.State == 'Alaska'].Year.min()"
      ],
      "execution_count": null,
      "outputs": [
        {
          "output_type": "execute_result",
          "data": {
            "text/plain": [
              "1960"
            ]
          },
          "metadata": {},
          "execution_count": 13
        }
      ]
    },
    {
      "cell_type": "markdown",
      "metadata": {
        "id": "HUpIXjuqtR1a"
      },
      "source": [
        "## Уровень основной"
      ]
    },
    {
      "cell_type": "markdown",
      "metadata": {
        "id": "4e0XGZoHtVCf"
      },
      "source": [
        "### Задание 1"
      ]
    },
    {
      "cell_type": "markdown",
      "metadata": {
        "id": "W9vgmv8St0uK"
      },
      "source": [
        "1. Прочитайте DataFrame c результатами всех футбольных матчей с 1872 по 2021 год:\n",
        "http://dataudt.ru/datasets/results.csv\n",
        "2. Выведите 5 первых и 3 последних строки DataFrame.\n",
        "3. Выведите размерности DataFrame\n",
        "4. Выведите информацию о количестве, типе колонок и количестве не пустых значений. Сделайте выводы,есть ли в нашем DataFrame пропуски.\n",
        "\n"
      ]
    },
    {
      "cell_type": "code",
      "metadata": {
        "id": "pxrXlfSetblI",
        "colab": {
          "base_uri": "https://localhost:8080/"
        },
        "outputId": "c92c26c0-9b14-45c2-c6ad-a1e280e505ae"
      },
      "source": [
        "!wget http://dataudt.ru/datasets/results.csv"
      ],
      "execution_count": null,
      "outputs": [
        {
          "output_type": "stream",
          "name": "stdout",
          "text": [
            "--2021-11-28 05:11:26--  http://dataudt.ru/datasets/results.csv\n",
            "Resolving dataudt.ru (dataudt.ru)... 37.228.117.130\n",
            "Connecting to dataudt.ru (dataudt.ru)|37.228.117.130|:80... connected.\n",
            "HTTP request sent, awaiting response... 200 OK\n",
            "Length: 3141528 (3.0M) [application/octet-stream]\n",
            "Saving to: ‘results.csv.1’\n",
            "\n",
            "results.csv.1       100%[===================>]   3.00M  3.02MB/s    in 1.0s    \n",
            "\n",
            "2021-11-28 05:11:27 (3.02 MB/s) - ‘results.csv.1’ saved [3141528/3141528]\n",
            "\n"
          ]
        }
      ]
    },
    {
      "cell_type": "code",
      "metadata": {
        "id": "X4m_VBmOtbU0",
        "colab": {
          "base_uri": "https://localhost:8080/",
          "height": 597
        },
        "outputId": "0d2430ae-5668-4dea-c754-7b144d697908"
      },
      "source": [
        "df = pd.read_csv('/content/results.csv')\n",
        "df"
      ],
      "execution_count": null,
      "outputs": [
        {
          "output_type": "execute_result",
          "data": {
            "text/html": [
              "<div>\n",
              "<style scoped>\n",
              "    .dataframe tbody tr th:only-of-type {\n",
              "        vertical-align: middle;\n",
              "    }\n",
              "\n",
              "    .dataframe tbody tr th {\n",
              "        vertical-align: top;\n",
              "    }\n",
              "\n",
              "    .dataframe thead th {\n",
              "        text-align: right;\n",
              "    }\n",
              "</style>\n",
              "<table border=\"1\" class=\"dataframe\">\n",
              "  <thead>\n",
              "    <tr style=\"text-align: right;\">\n",
              "      <th></th>\n",
              "      <th>date</th>\n",
              "      <th>home_team</th>\n",
              "      <th>away_team</th>\n",
              "      <th>home_score</th>\n",
              "      <th>away_score</th>\n",
              "      <th>tournament</th>\n",
              "      <th>city</th>\n",
              "      <th>country</th>\n",
              "      <th>neutral</th>\n",
              "    </tr>\n",
              "  </thead>\n",
              "  <tbody>\n",
              "    <tr>\n",
              "      <th>0</th>\n",
              "      <td>1872-11-30</td>\n",
              "      <td>Scotland</td>\n",
              "      <td>England</td>\n",
              "      <td>0</td>\n",
              "      <td>0</td>\n",
              "      <td>Friendly</td>\n",
              "      <td>Glasgow</td>\n",
              "      <td>Scotland</td>\n",
              "      <td>False</td>\n",
              "    </tr>\n",
              "    <tr>\n",
              "      <th>1</th>\n",
              "      <td>1873-03-08</td>\n",
              "      <td>England</td>\n",
              "      <td>Scotland</td>\n",
              "      <td>4</td>\n",
              "      <td>2</td>\n",
              "      <td>Friendly</td>\n",
              "      <td>London</td>\n",
              "      <td>England</td>\n",
              "      <td>False</td>\n",
              "    </tr>\n",
              "    <tr>\n",
              "      <th>2</th>\n",
              "      <td>1874-03-07</td>\n",
              "      <td>Scotland</td>\n",
              "      <td>England</td>\n",
              "      <td>2</td>\n",
              "      <td>1</td>\n",
              "      <td>Friendly</td>\n",
              "      <td>Glasgow</td>\n",
              "      <td>Scotland</td>\n",
              "      <td>False</td>\n",
              "    </tr>\n",
              "    <tr>\n",
              "      <th>3</th>\n",
              "      <td>1875-03-06</td>\n",
              "      <td>England</td>\n",
              "      <td>Scotland</td>\n",
              "      <td>2</td>\n",
              "      <td>2</td>\n",
              "      <td>Friendly</td>\n",
              "      <td>London</td>\n",
              "      <td>England</td>\n",
              "      <td>False</td>\n",
              "    </tr>\n",
              "    <tr>\n",
              "      <th>4</th>\n",
              "      <td>1876-03-04</td>\n",
              "      <td>Scotland</td>\n",
              "      <td>England</td>\n",
              "      <td>3</td>\n",
              "      <td>0</td>\n",
              "      <td>Friendly</td>\n",
              "      <td>Glasgow</td>\n",
              "      <td>Scotland</td>\n",
              "      <td>False</td>\n",
              "    </tr>\n",
              "    <tr>\n",
              "      <th>...</th>\n",
              "      <td>...</td>\n",
              "      <td>...</td>\n",
              "      <td>...</td>\n",
              "      <td>...</td>\n",
              "      <td>...</td>\n",
              "      <td>...</td>\n",
              "      <td>...</td>\n",
              "      <td>...</td>\n",
              "      <td>...</td>\n",
              "    </tr>\n",
              "    <tr>\n",
              "      <th>42079</th>\n",
              "      <td>2021-03-31</td>\n",
              "      <td>Andorra</td>\n",
              "      <td>Hungary</td>\n",
              "      <td>1</td>\n",
              "      <td>4</td>\n",
              "      <td>FIFA World Cup qualification</td>\n",
              "      <td>Andorra la Vella</td>\n",
              "      <td>Andorra</td>\n",
              "      <td>False</td>\n",
              "    </tr>\n",
              "    <tr>\n",
              "      <th>42080</th>\n",
              "      <td>2021-03-31</td>\n",
              "      <td>San Marino</td>\n",
              "      <td>Albania</td>\n",
              "      <td>0</td>\n",
              "      <td>2</td>\n",
              "      <td>FIFA World Cup qualification</td>\n",
              "      <td>Serravalle</td>\n",
              "      <td>San Marino</td>\n",
              "      <td>False</td>\n",
              "    </tr>\n",
              "    <tr>\n",
              "      <th>42081</th>\n",
              "      <td>2021-03-31</td>\n",
              "      <td>Armenia</td>\n",
              "      <td>Romania</td>\n",
              "      <td>3</td>\n",
              "      <td>2</td>\n",
              "      <td>FIFA World Cup qualification</td>\n",
              "      <td>Yerevan</td>\n",
              "      <td>Armenia</td>\n",
              "      <td>False</td>\n",
              "    </tr>\n",
              "    <tr>\n",
              "      <th>42082</th>\n",
              "      <td>2021-03-31</td>\n",
              "      <td>Germany</td>\n",
              "      <td>North Macedonia</td>\n",
              "      <td>1</td>\n",
              "      <td>2</td>\n",
              "      <td>FIFA World Cup qualification</td>\n",
              "      <td>Duisburg</td>\n",
              "      <td>Germany</td>\n",
              "      <td>False</td>\n",
              "    </tr>\n",
              "    <tr>\n",
              "      <th>42083</th>\n",
              "      <td>2021-03-31</td>\n",
              "      <td>Liechtenstein</td>\n",
              "      <td>Iceland</td>\n",
              "      <td>1</td>\n",
              "      <td>4</td>\n",
              "      <td>FIFA World Cup qualification</td>\n",
              "      <td>Vaduz</td>\n",
              "      <td>Liechtenstein</td>\n",
              "      <td>False</td>\n",
              "    </tr>\n",
              "  </tbody>\n",
              "</table>\n",
              "<p>42084 rows × 9 columns</p>\n",
              "</div>"
            ],
            "text/plain": [
              "             date      home_team  ...        country  neutral\n",
              "0      1872-11-30       Scotland  ...       Scotland    False\n",
              "1      1873-03-08        England  ...        England    False\n",
              "2      1874-03-07       Scotland  ...       Scotland    False\n",
              "3      1875-03-06        England  ...        England    False\n",
              "4      1876-03-04       Scotland  ...       Scotland    False\n",
              "...           ...            ...  ...            ...      ...\n",
              "42079  2021-03-31        Andorra  ...        Andorra    False\n",
              "42080  2021-03-31     San Marino  ...     San Marino    False\n",
              "42081  2021-03-31        Armenia  ...        Armenia    False\n",
              "42082  2021-03-31        Germany  ...        Germany    False\n",
              "42083  2021-03-31  Liechtenstein  ...  Liechtenstein    False\n",
              "\n",
              "[42084 rows x 9 columns]"
            ]
          },
          "metadata": {},
          "execution_count": 15
        }
      ]
    },
    {
      "cell_type": "code",
      "metadata": {
        "colab": {
          "base_uri": "https://localhost:8080/"
        },
        "id": "RW7Alaf6wFIs",
        "outputId": "c0a0ba32-e2a7-4757-b747-72a1c6ec9219"
      },
      "source": [
        "df.info()"
      ],
      "execution_count": null,
      "outputs": [
        {
          "output_type": "stream",
          "name": "stdout",
          "text": [
            "<class 'pandas.core.frame.DataFrame'>\n",
            "RangeIndex: 42084 entries, 0 to 42083\n",
            "Data columns (total 9 columns):\n",
            " #   Column      Non-Null Count  Dtype \n",
            "---  ------      --------------  ----- \n",
            " 0   date        42084 non-null  object\n",
            " 1   home_team   42084 non-null  object\n",
            " 2   away_team   42084 non-null  object\n",
            " 3   home_score  42084 non-null  int64 \n",
            " 4   away_score  42084 non-null  int64 \n",
            " 5   tournament  42084 non-null  object\n",
            " 6   city        42084 non-null  object\n",
            " 7   country     42084 non-null  object\n",
            " 8   neutral     42084 non-null  bool  \n",
            "dtypes: bool(1), int64(2), object(6)\n",
            "memory usage: 2.6+ MB\n"
          ]
        }
      ]
    },
    {
      "cell_type": "markdown",
      "metadata": {
        "id": "coFqHuRYwSaD"
      },
      "source": [
        "Пропусков не обнаружено..."
      ]
    },
    {
      "cell_type": "markdown",
      "metadata": {
        "id": "aqamytiYt7Tq"
      },
      "source": [
        "### Задание 2"
      ]
    },
    {
      "cell_type": "markdown",
      "metadata": {
        "id": "mEQW5ak7t7UD"
      },
      "source": [
        "1. Создайте datetime index из колонки date и запишите его в index нашего DataFrame\n",
        "2. Удалите колонку date\n",
        "3. Покажите результат (5 первых строк)\n",
        "\n",
        "\n"
      ]
    },
    {
      "cell_type": "code",
      "metadata": {
        "id": "_RKMy-4mte02",
        "colab": {
          "base_uri": "https://localhost:8080/",
          "height": 237
        },
        "outputId": "d1f42be4-6b50-404e-8e7a-2ae783ea8710"
      },
      "source": [
        "df.index = pd.to_datetime(df.date)\n",
        "df.drop('date', axis=1, inplace=True)\n",
        "df.head()"
      ],
      "execution_count": null,
      "outputs": [
        {
          "output_type": "execute_result",
          "data": {
            "text/html": [
              "<div>\n",
              "<style scoped>\n",
              "    .dataframe tbody tr th:only-of-type {\n",
              "        vertical-align: middle;\n",
              "    }\n",
              "\n",
              "    .dataframe tbody tr th {\n",
              "        vertical-align: top;\n",
              "    }\n",
              "\n",
              "    .dataframe thead th {\n",
              "        text-align: right;\n",
              "    }\n",
              "</style>\n",
              "<table border=\"1\" class=\"dataframe\">\n",
              "  <thead>\n",
              "    <tr style=\"text-align: right;\">\n",
              "      <th></th>\n",
              "      <th>home_team</th>\n",
              "      <th>away_team</th>\n",
              "      <th>home_score</th>\n",
              "      <th>away_score</th>\n",
              "      <th>tournament</th>\n",
              "      <th>city</th>\n",
              "      <th>country</th>\n",
              "      <th>neutral</th>\n",
              "    </tr>\n",
              "    <tr>\n",
              "      <th>date</th>\n",
              "      <th></th>\n",
              "      <th></th>\n",
              "      <th></th>\n",
              "      <th></th>\n",
              "      <th></th>\n",
              "      <th></th>\n",
              "      <th></th>\n",
              "      <th></th>\n",
              "    </tr>\n",
              "  </thead>\n",
              "  <tbody>\n",
              "    <tr>\n",
              "      <th>1872-11-30</th>\n",
              "      <td>Scotland</td>\n",
              "      <td>England</td>\n",
              "      <td>0</td>\n",
              "      <td>0</td>\n",
              "      <td>Friendly</td>\n",
              "      <td>Glasgow</td>\n",
              "      <td>Scotland</td>\n",
              "      <td>False</td>\n",
              "    </tr>\n",
              "    <tr>\n",
              "      <th>1873-03-08</th>\n",
              "      <td>England</td>\n",
              "      <td>Scotland</td>\n",
              "      <td>4</td>\n",
              "      <td>2</td>\n",
              "      <td>Friendly</td>\n",
              "      <td>London</td>\n",
              "      <td>England</td>\n",
              "      <td>False</td>\n",
              "    </tr>\n",
              "    <tr>\n",
              "      <th>1874-03-07</th>\n",
              "      <td>Scotland</td>\n",
              "      <td>England</td>\n",
              "      <td>2</td>\n",
              "      <td>1</td>\n",
              "      <td>Friendly</td>\n",
              "      <td>Glasgow</td>\n",
              "      <td>Scotland</td>\n",
              "      <td>False</td>\n",
              "    </tr>\n",
              "    <tr>\n",
              "      <th>1875-03-06</th>\n",
              "      <td>England</td>\n",
              "      <td>Scotland</td>\n",
              "      <td>2</td>\n",
              "      <td>2</td>\n",
              "      <td>Friendly</td>\n",
              "      <td>London</td>\n",
              "      <td>England</td>\n",
              "      <td>False</td>\n",
              "    </tr>\n",
              "    <tr>\n",
              "      <th>1876-03-04</th>\n",
              "      <td>Scotland</td>\n",
              "      <td>England</td>\n",
              "      <td>3</td>\n",
              "      <td>0</td>\n",
              "      <td>Friendly</td>\n",
              "      <td>Glasgow</td>\n",
              "      <td>Scotland</td>\n",
              "      <td>False</td>\n",
              "    </tr>\n",
              "  </tbody>\n",
              "</table>\n",
              "</div>"
            ],
            "text/plain": [
              "           home_team away_team  home_score  ...     city   country neutral\n",
              "date                                        ...                           \n",
              "1872-11-30  Scotland   England           0  ...  Glasgow  Scotland   False\n",
              "1873-03-08   England  Scotland           4  ...   London   England   False\n",
              "1874-03-07  Scotland   England           2  ...  Glasgow  Scotland   False\n",
              "1875-03-06   England  Scotland           2  ...   London   England   False\n",
              "1876-03-04  Scotland   England           3  ...  Glasgow  Scotland   False\n",
              "\n",
              "[5 rows x 8 columns]"
            ]
          },
          "metadata": {},
          "execution_count": 17
        }
      ]
    },
    {
      "cell_type": "markdown",
      "metadata": {
        "id": "9QcZh76-ucQ6"
      },
      "source": [
        "### Задание 3"
      ]
    },
    {
      "cell_type": "markdown",
      "metadata": {
        "id": "c9rjv8feucRg"
      },
      "source": [
        "Создайте колонку delta как модуль разности между количеством голов в матче (home_score - away_score).\n",
        "\n",
        "Найдите какая максимальное значение в колонке delta"
      ]
    },
    {
      "cell_type": "code",
      "metadata": {
        "id": "zfHm3TkyvCNa",
        "colab": {
          "base_uri": "https://localhost:8080/",
          "height": 237
        },
        "outputId": "fc032bc6-fb62-446b-a376-df44ea056205"
      },
      "source": [
        "df['delta'] = (df.home_score - df.away_score).abs()\n",
        "df.head()"
      ],
      "execution_count": null,
      "outputs": [
        {
          "output_type": "execute_result",
          "data": {
            "text/html": [
              "<div>\n",
              "<style scoped>\n",
              "    .dataframe tbody tr th:only-of-type {\n",
              "        vertical-align: middle;\n",
              "    }\n",
              "\n",
              "    .dataframe tbody tr th {\n",
              "        vertical-align: top;\n",
              "    }\n",
              "\n",
              "    .dataframe thead th {\n",
              "        text-align: right;\n",
              "    }\n",
              "</style>\n",
              "<table border=\"1\" class=\"dataframe\">\n",
              "  <thead>\n",
              "    <tr style=\"text-align: right;\">\n",
              "      <th></th>\n",
              "      <th>home_team</th>\n",
              "      <th>away_team</th>\n",
              "      <th>home_score</th>\n",
              "      <th>away_score</th>\n",
              "      <th>tournament</th>\n",
              "      <th>city</th>\n",
              "      <th>country</th>\n",
              "      <th>neutral</th>\n",
              "      <th>delta</th>\n",
              "    </tr>\n",
              "    <tr>\n",
              "      <th>date</th>\n",
              "      <th></th>\n",
              "      <th></th>\n",
              "      <th></th>\n",
              "      <th></th>\n",
              "      <th></th>\n",
              "      <th></th>\n",
              "      <th></th>\n",
              "      <th></th>\n",
              "      <th></th>\n",
              "    </tr>\n",
              "  </thead>\n",
              "  <tbody>\n",
              "    <tr>\n",
              "      <th>1872-11-30</th>\n",
              "      <td>Scotland</td>\n",
              "      <td>England</td>\n",
              "      <td>0</td>\n",
              "      <td>0</td>\n",
              "      <td>Friendly</td>\n",
              "      <td>Glasgow</td>\n",
              "      <td>Scotland</td>\n",
              "      <td>False</td>\n",
              "      <td>0</td>\n",
              "    </tr>\n",
              "    <tr>\n",
              "      <th>1873-03-08</th>\n",
              "      <td>England</td>\n",
              "      <td>Scotland</td>\n",
              "      <td>4</td>\n",
              "      <td>2</td>\n",
              "      <td>Friendly</td>\n",
              "      <td>London</td>\n",
              "      <td>England</td>\n",
              "      <td>False</td>\n",
              "      <td>2</td>\n",
              "    </tr>\n",
              "    <tr>\n",
              "      <th>1874-03-07</th>\n",
              "      <td>Scotland</td>\n",
              "      <td>England</td>\n",
              "      <td>2</td>\n",
              "      <td>1</td>\n",
              "      <td>Friendly</td>\n",
              "      <td>Glasgow</td>\n",
              "      <td>Scotland</td>\n",
              "      <td>False</td>\n",
              "      <td>1</td>\n",
              "    </tr>\n",
              "    <tr>\n",
              "      <th>1875-03-06</th>\n",
              "      <td>England</td>\n",
              "      <td>Scotland</td>\n",
              "      <td>2</td>\n",
              "      <td>2</td>\n",
              "      <td>Friendly</td>\n",
              "      <td>London</td>\n",
              "      <td>England</td>\n",
              "      <td>False</td>\n",
              "      <td>0</td>\n",
              "    </tr>\n",
              "    <tr>\n",
              "      <th>1876-03-04</th>\n",
              "      <td>Scotland</td>\n",
              "      <td>England</td>\n",
              "      <td>3</td>\n",
              "      <td>0</td>\n",
              "      <td>Friendly</td>\n",
              "      <td>Glasgow</td>\n",
              "      <td>Scotland</td>\n",
              "      <td>False</td>\n",
              "      <td>3</td>\n",
              "    </tr>\n",
              "  </tbody>\n",
              "</table>\n",
              "</div>"
            ],
            "text/plain": [
              "           home_team away_team  home_score  ...   country neutral delta\n",
              "date                                        ...                        \n",
              "1872-11-30  Scotland   England           0  ...  Scotland   False     0\n",
              "1873-03-08   England  Scotland           4  ...   England   False     2\n",
              "1874-03-07  Scotland   England           2  ...  Scotland   False     1\n",
              "1875-03-06   England  Scotland           2  ...   England   False     0\n",
              "1876-03-04  Scotland   England           3  ...  Scotland   False     3\n",
              "\n",
              "[5 rows x 9 columns]"
            ]
          },
          "metadata": {},
          "execution_count": 18
        }
      ]
    },
    {
      "cell_type": "code",
      "metadata": {
        "id": "qf1ACOPdf4Hv",
        "colab": {
          "base_uri": "https://localhost:8080/"
        },
        "outputId": "2bdc9969-2c0d-4392-a10d-ec3ef6b3da08"
      },
      "source": [
        "df.delta.max()"
      ],
      "execution_count": null,
      "outputs": [
        {
          "output_type": "execute_result",
          "data": {
            "text/plain": [
              "31"
            ]
          },
          "metadata": {},
          "execution_count": 19
        }
      ]
    },
    {
      "cell_type": "markdown",
      "metadata": {
        "id": "riE2oYQ6vI_r"
      },
      "source": [
        "### Задание 4"
      ]
    },
    {
      "cell_type": "markdown",
      "metadata": {
        "id": "y3ijneJRvI_u"
      },
      "source": [
        "Найдите общее количество матчей, где команда Scotland принимала в гостях команду England.\n",
        "\n",
        "\n",
        "\n"
      ]
    },
    {
      "cell_type": "code",
      "metadata": {
        "id": "TfxcSTqAtme7",
        "colab": {
          "base_uri": "https://localhost:8080/"
        },
        "outputId": "c42bf160-369c-41ea-df8a-f24018fc49be"
      },
      "source": [
        "((df.home_team == 'Scotland') & (df.away_team == 'England')).sum()"
      ],
      "execution_count": null,
      "outputs": [
        {
          "output_type": "execute_result",
          "data": {
            "text/plain": [
              "58"
            ]
          },
          "metadata": {},
          "execution_count": 20
        }
      ]
    },
    {
      "cell_type": "markdown",
      "metadata": {
        "id": "IYFS93j7vQac"
      },
      "source": [
        "### Задание 5"
      ]
    },
    {
      "cell_type": "markdown",
      "metadata": {
        "id": "V1WwRarHvQad"
      },
      "source": [
        "Найдите общее количество голов, которые были забиты с 1875 по 1882 год включительно."
      ]
    },
    {
      "cell_type": "code",
      "metadata": {
        "id": "eX1wZREQtrgj",
        "colab": {
          "base_uri": "https://localhost:8080/"
        },
        "outputId": "730ec5bb-56c7-4b61-8a85-facf75742b36"
      },
      "source": [
        "df['1875':'1882'].home_score.sum() + df['1875':'1882'].away_score.sum()"
      ],
      "execution_count": null,
      "outputs": [
        {
          "output_type": "execute_result",
          "data": {
            "text/plain": [
              "124"
            ]
          },
          "metadata": {},
          "execution_count": 21
        }
      ]
    },
    {
      "cell_type": "markdown",
      "metadata": {
        "id": "RRgChVHIxhdG"
      },
      "source": [
        "## Уровень Продвинутый"
      ]
    },
    {
      "cell_type": "markdown",
      "metadata": {
        "id": "cdBA2Zv-wSKy"
      },
      "source": [
        "### Задание 1"
      ]
    },
    {
      "cell_type": "markdown",
      "metadata": {
        "id": "WRonwgJuwSKy"
      },
      "source": [
        "1. Загрузите информацию о запуске космических кораблей из файла Space_Corrected.csv\n",
        "http://dataudt.ru/datasets/Space_Corrected.csv\n",
        "2. Выведите первые пять строк полученного DataFrame\n",
        "3. Вывведите информацию о колонках, их типах, и количестве непустых значений.\n",
        "4. Выведите размерности полученного DataFrame\n",
        "5. Выведите наименования колонок, которые имеются в DataFrame\n"
      ]
    },
    {
      "cell_type": "code",
      "metadata": {
        "id": "wcO07vjGtviy",
        "colab": {
          "base_uri": "https://localhost:8080/"
        },
        "outputId": "5e8eb41c-af2c-4674-8af8-2121b87aabf5"
      },
      "source": [
        "!wget http://dataudt.ru/datasets/Space_Corrected.csv"
      ],
      "execution_count": null,
      "outputs": [
        {
          "output_type": "stream",
          "name": "stdout",
          "text": [
            "--2021-11-28 05:11:28--  http://dataudt.ru/datasets/Space_Corrected.csv\n",
            "Resolving dataudt.ru (dataudt.ru)... 37.228.117.130\n",
            "Connecting to dataudt.ru (dataudt.ru)|37.228.117.130|:80... connected.\n",
            "HTTP request sent, awaiting response... 200 OK\n",
            "Length: 632978 (618K) [application/octet-stream]\n",
            "Saving to: ‘Space_Corrected.csv.1’\n",
            "\n",
            "Space_Corrected.csv 100%[===================>] 618.14K   832KB/s    in 0.7s    \n",
            "\n",
            "2021-11-28 05:11:29 (832 KB/s) - ‘Space_Corrected.csv.1’ saved [632978/632978]\n",
            "\n"
          ]
        }
      ]
    },
    {
      "cell_type": "code",
      "metadata": {
        "id": "CqxAY4mBtvXq",
        "colab": {
          "base_uri": "https://localhost:8080/",
          "height": 788
        },
        "outputId": "db196ab5-5774-427f-f283-820cde2467d9"
      },
      "source": [
        "df = pd.read_csv('/content/Space_Corrected.csv')\n",
        "df"
      ],
      "execution_count": null,
      "outputs": [
        {
          "output_type": "execute_result",
          "data": {
            "text/html": [
              "<div>\n",
              "<style scoped>\n",
              "    .dataframe tbody tr th:only-of-type {\n",
              "        vertical-align: middle;\n",
              "    }\n",
              "\n",
              "    .dataframe tbody tr th {\n",
              "        vertical-align: top;\n",
              "    }\n",
              "\n",
              "    .dataframe thead th {\n",
              "        text-align: right;\n",
              "    }\n",
              "</style>\n",
              "<table border=\"1\" class=\"dataframe\">\n",
              "  <thead>\n",
              "    <tr style=\"text-align: right;\">\n",
              "      <th></th>\n",
              "      <th>Unnamed: 0</th>\n",
              "      <th>Unnamed: 0.1</th>\n",
              "      <th>Company Name</th>\n",
              "      <th>Location</th>\n",
              "      <th>Datum</th>\n",
              "      <th>Detail</th>\n",
              "      <th>Status Rocket</th>\n",
              "      <th>Rocket</th>\n",
              "      <th>Status Mission</th>\n",
              "    </tr>\n",
              "  </thead>\n",
              "  <tbody>\n",
              "    <tr>\n",
              "      <th>0</th>\n",
              "      <td>0</td>\n",
              "      <td>0</td>\n",
              "      <td>SpaceX</td>\n",
              "      <td>LC-39A, Kennedy Space Center, Florida, USA</td>\n",
              "      <td>Fri Aug 07, 2020 05:12 UTC</td>\n",
              "      <td>Falcon 9 Block 5 | Starlink V1 L9 &amp; BlackSky</td>\n",
              "      <td>StatusActive</td>\n",
              "      <td>50.0</td>\n",
              "      <td>Success</td>\n",
              "    </tr>\n",
              "    <tr>\n",
              "      <th>1</th>\n",
              "      <td>1</td>\n",
              "      <td>1</td>\n",
              "      <td>CASC</td>\n",
              "      <td>Site 9401 (SLS-2), Jiuquan Satellite Launch Ce...</td>\n",
              "      <td>Thu Aug 06, 2020 04:01 UTC</td>\n",
              "      <td>Long March 2D | Gaofen-9 04 &amp; Q-SAT</td>\n",
              "      <td>StatusActive</td>\n",
              "      <td>29.75</td>\n",
              "      <td>Success</td>\n",
              "    </tr>\n",
              "    <tr>\n",
              "      <th>2</th>\n",
              "      <td>2</td>\n",
              "      <td>2</td>\n",
              "      <td>SpaceX</td>\n",
              "      <td>Pad A, Boca Chica, Texas, USA</td>\n",
              "      <td>Tue Aug 04, 2020 23:57 UTC</td>\n",
              "      <td>Starship Prototype | 150 Meter Hop</td>\n",
              "      <td>StatusActive</td>\n",
              "      <td>NaN</td>\n",
              "      <td>Success</td>\n",
              "    </tr>\n",
              "    <tr>\n",
              "      <th>3</th>\n",
              "      <td>3</td>\n",
              "      <td>3</td>\n",
              "      <td>Roscosmos</td>\n",
              "      <td>Site 200/39, Baikonur Cosmodrome, Kazakhstan</td>\n",
              "      <td>Thu Jul 30, 2020 21:25 UTC</td>\n",
              "      <td>Proton-M/Briz-M | Ekspress-80 &amp; Ekspress-103</td>\n",
              "      <td>StatusActive</td>\n",
              "      <td>65.0</td>\n",
              "      <td>Success</td>\n",
              "    </tr>\n",
              "    <tr>\n",
              "      <th>4</th>\n",
              "      <td>4</td>\n",
              "      <td>4</td>\n",
              "      <td>ULA</td>\n",
              "      <td>SLC-41, Cape Canaveral AFS, Florida, USA</td>\n",
              "      <td>Thu Jul 30, 2020 11:50 UTC</td>\n",
              "      <td>Atlas V 541 | Perseverance</td>\n",
              "      <td>StatusActive</td>\n",
              "      <td>145.0</td>\n",
              "      <td>Success</td>\n",
              "    </tr>\n",
              "    <tr>\n",
              "      <th>...</th>\n",
              "      <td>...</td>\n",
              "      <td>...</td>\n",
              "      <td>...</td>\n",
              "      <td>...</td>\n",
              "      <td>...</td>\n",
              "      <td>...</td>\n",
              "      <td>...</td>\n",
              "      <td>...</td>\n",
              "      <td>...</td>\n",
              "    </tr>\n",
              "    <tr>\n",
              "      <th>4319</th>\n",
              "      <td>4319</td>\n",
              "      <td>4319</td>\n",
              "      <td>US Navy</td>\n",
              "      <td>LC-18A, Cape Canaveral AFS, Florida, USA</td>\n",
              "      <td>Wed Feb 05, 1958 07:33 UTC</td>\n",
              "      <td>Vanguard | Vanguard TV3BU</td>\n",
              "      <td>StatusRetired</td>\n",
              "      <td>NaN</td>\n",
              "      <td>Failure</td>\n",
              "    </tr>\n",
              "    <tr>\n",
              "      <th>4320</th>\n",
              "      <td>4320</td>\n",
              "      <td>4320</td>\n",
              "      <td>AMBA</td>\n",
              "      <td>LC-26A, Cape Canaveral AFS, Florida, USA</td>\n",
              "      <td>Sat Feb 01, 1958 03:48 UTC</td>\n",
              "      <td>Juno I | Explorer 1</td>\n",
              "      <td>StatusRetired</td>\n",
              "      <td>NaN</td>\n",
              "      <td>Success</td>\n",
              "    </tr>\n",
              "    <tr>\n",
              "      <th>4321</th>\n",
              "      <td>4321</td>\n",
              "      <td>4321</td>\n",
              "      <td>US Navy</td>\n",
              "      <td>LC-18A, Cape Canaveral AFS, Florida, USA</td>\n",
              "      <td>Fri Dec 06, 1957 16:44 UTC</td>\n",
              "      <td>Vanguard | Vanguard TV3</td>\n",
              "      <td>StatusRetired</td>\n",
              "      <td>NaN</td>\n",
              "      <td>Failure</td>\n",
              "    </tr>\n",
              "    <tr>\n",
              "      <th>4322</th>\n",
              "      <td>4322</td>\n",
              "      <td>4322</td>\n",
              "      <td>RVSN USSR</td>\n",
              "      <td>Site 1/5, Baikonur Cosmodrome, Kazakhstan</td>\n",
              "      <td>Sun Nov 03, 1957 02:30 UTC</td>\n",
              "      <td>Sputnik 8K71PS | Sputnik-2</td>\n",
              "      <td>StatusRetired</td>\n",
              "      <td>NaN</td>\n",
              "      <td>Success</td>\n",
              "    </tr>\n",
              "    <tr>\n",
              "      <th>4323</th>\n",
              "      <td>4323</td>\n",
              "      <td>4323</td>\n",
              "      <td>RVSN USSR</td>\n",
              "      <td>Site 1/5, Baikonur Cosmodrome, Kazakhstan</td>\n",
              "      <td>Fri Oct 04, 1957 19:28 UTC</td>\n",
              "      <td>Sputnik 8K71PS | Sputnik-1</td>\n",
              "      <td>StatusRetired</td>\n",
              "      <td>NaN</td>\n",
              "      <td>Success</td>\n",
              "    </tr>\n",
              "  </tbody>\n",
              "</table>\n",
              "<p>4324 rows × 9 columns</p>\n",
              "</div>"
            ],
            "text/plain": [
              "      Unnamed: 0  Unnamed: 0.1  ...  Rocket Status Mission\n",
              "0              0             0  ...   50.0         Success\n",
              "1              1             1  ...  29.75         Success\n",
              "2              2             2  ...     NaN        Success\n",
              "3              3             3  ...   65.0         Success\n",
              "4              4             4  ...  145.0         Success\n",
              "...          ...           ...  ...     ...            ...\n",
              "4319        4319          4319  ...     NaN        Failure\n",
              "4320        4320          4320  ...     NaN        Success\n",
              "4321        4321          4321  ...     NaN        Failure\n",
              "4322        4322          4322  ...     NaN        Success\n",
              "4323        4323          4323  ...     NaN        Success\n",
              "\n",
              "[4324 rows x 9 columns]"
            ]
          },
          "metadata": {},
          "execution_count": 23
        }
      ]
    },
    {
      "cell_type": "code",
      "metadata": {
        "colab": {
          "base_uri": "https://localhost:8080/"
        },
        "id": "lzhaDEIU11sx",
        "outputId": "0585bd17-287e-4b76-95b1-9052cfbd6ed9"
      },
      "source": [
        "df.info()"
      ],
      "execution_count": null,
      "outputs": [
        {
          "output_type": "stream",
          "name": "stdout",
          "text": [
            "<class 'pandas.core.frame.DataFrame'>\n",
            "RangeIndex: 4324 entries, 0 to 4323\n",
            "Data columns (total 9 columns):\n",
            " #   Column          Non-Null Count  Dtype \n",
            "---  ------          --------------  ----- \n",
            " 0   Unnamed: 0      4324 non-null   int64 \n",
            " 1   Unnamed: 0.1    4324 non-null   int64 \n",
            " 2   Company Name    4324 non-null   object\n",
            " 3   Location        4324 non-null   object\n",
            " 4   Datum           4324 non-null   object\n",
            " 5   Detail          4324 non-null   object\n",
            " 6   Status Rocket   4324 non-null   object\n",
            " 7    Rocket         964 non-null    object\n",
            " 8   Status Mission  4324 non-null   object\n",
            "dtypes: int64(2), object(7)\n",
            "memory usage: 304.2+ KB\n"
          ]
        }
      ]
    },
    {
      "cell_type": "code",
      "metadata": {
        "colab": {
          "base_uri": "https://localhost:8080/"
        },
        "id": "tzlknxGN17vK",
        "outputId": "f1cee042-2a40-4700-da9c-c1cd091b2896"
      },
      "source": [
        "df.columns"
      ],
      "execution_count": null,
      "outputs": [
        {
          "output_type": "execute_result",
          "data": {
            "text/plain": [
              "Index(['Unnamed: 0', 'Unnamed: 0.1', 'Company Name', 'Location', 'Datum',\n",
              "       'Detail', 'Status Rocket', ' Rocket', 'Status Mission'],\n",
              "      dtype='object')"
            ]
          },
          "metadata": {},
          "execution_count": 25
        }
      ]
    },
    {
      "cell_type": "markdown",
      "metadata": {
        "id": "flsKS_KewSOl"
      },
      "source": [
        "### Задание 2"
      ]
    },
    {
      "cell_type": "markdown",
      "metadata": {
        "id": "KUozhPGnwSOl"
      },
      "source": [
        "1. Удалите две первых колонки - они не несут необходимой информации.\n",
        "2. Создайте колонку \"Rocket_is_NA\", которая должа содержать 1, если в колонке \" Rocket\"  хранится NaN или 0, если в колонке \" Rocket\" хранится значение.\n",
        "3. Заполните пропуски в колонке \" Rocket\" значением 0"
      ]
    },
    {
      "cell_type": "code",
      "metadata": {
        "id": "g0IlwUv8tzr1",
        "colab": {
          "base_uri": "https://localhost:8080/",
          "height": 310
        },
        "outputId": "d5713402-f228-4af8-c637-a77b81ee71f5"
      },
      "source": [
        "df.drop(['Unnamed: 0', 'Unnamed: 0.1'], axis=1, inplace=True)\n",
        "df.head()"
      ],
      "execution_count": null,
      "outputs": [
        {
          "output_type": "execute_result",
          "data": {
            "text/html": [
              "<div>\n",
              "<style scoped>\n",
              "    .dataframe tbody tr th:only-of-type {\n",
              "        vertical-align: middle;\n",
              "    }\n",
              "\n",
              "    .dataframe tbody tr th {\n",
              "        vertical-align: top;\n",
              "    }\n",
              "\n",
              "    .dataframe thead th {\n",
              "        text-align: right;\n",
              "    }\n",
              "</style>\n",
              "<table border=\"1\" class=\"dataframe\">\n",
              "  <thead>\n",
              "    <tr style=\"text-align: right;\">\n",
              "      <th></th>\n",
              "      <th>Company Name</th>\n",
              "      <th>Location</th>\n",
              "      <th>Datum</th>\n",
              "      <th>Detail</th>\n",
              "      <th>Status Rocket</th>\n",
              "      <th>Rocket</th>\n",
              "      <th>Status Mission</th>\n",
              "    </tr>\n",
              "  </thead>\n",
              "  <tbody>\n",
              "    <tr>\n",
              "      <th>0</th>\n",
              "      <td>SpaceX</td>\n",
              "      <td>LC-39A, Kennedy Space Center, Florida, USA</td>\n",
              "      <td>Fri Aug 07, 2020 05:12 UTC</td>\n",
              "      <td>Falcon 9 Block 5 | Starlink V1 L9 &amp; BlackSky</td>\n",
              "      <td>StatusActive</td>\n",
              "      <td>50.0</td>\n",
              "      <td>Success</td>\n",
              "    </tr>\n",
              "    <tr>\n",
              "      <th>1</th>\n",
              "      <td>CASC</td>\n",
              "      <td>Site 9401 (SLS-2), Jiuquan Satellite Launch Ce...</td>\n",
              "      <td>Thu Aug 06, 2020 04:01 UTC</td>\n",
              "      <td>Long March 2D | Gaofen-9 04 &amp; Q-SAT</td>\n",
              "      <td>StatusActive</td>\n",
              "      <td>29.75</td>\n",
              "      <td>Success</td>\n",
              "    </tr>\n",
              "    <tr>\n",
              "      <th>2</th>\n",
              "      <td>SpaceX</td>\n",
              "      <td>Pad A, Boca Chica, Texas, USA</td>\n",
              "      <td>Tue Aug 04, 2020 23:57 UTC</td>\n",
              "      <td>Starship Prototype | 150 Meter Hop</td>\n",
              "      <td>StatusActive</td>\n",
              "      <td>NaN</td>\n",
              "      <td>Success</td>\n",
              "    </tr>\n",
              "    <tr>\n",
              "      <th>3</th>\n",
              "      <td>Roscosmos</td>\n",
              "      <td>Site 200/39, Baikonur Cosmodrome, Kazakhstan</td>\n",
              "      <td>Thu Jul 30, 2020 21:25 UTC</td>\n",
              "      <td>Proton-M/Briz-M | Ekspress-80 &amp; Ekspress-103</td>\n",
              "      <td>StatusActive</td>\n",
              "      <td>65.0</td>\n",
              "      <td>Success</td>\n",
              "    </tr>\n",
              "    <tr>\n",
              "      <th>4</th>\n",
              "      <td>ULA</td>\n",
              "      <td>SLC-41, Cape Canaveral AFS, Florida, USA</td>\n",
              "      <td>Thu Jul 30, 2020 11:50 UTC</td>\n",
              "      <td>Atlas V 541 | Perseverance</td>\n",
              "      <td>StatusActive</td>\n",
              "      <td>145.0</td>\n",
              "      <td>Success</td>\n",
              "    </tr>\n",
              "  </tbody>\n",
              "</table>\n",
              "</div>"
            ],
            "text/plain": [
              "  Company Name  ... Status Mission\n",
              "0       SpaceX  ...        Success\n",
              "1         CASC  ...        Success\n",
              "2       SpaceX  ...        Success\n",
              "3    Roscosmos  ...        Success\n",
              "4          ULA  ...        Success\n",
              "\n",
              "[5 rows x 7 columns]"
            ]
          },
          "metadata": {},
          "execution_count": 26
        }
      ]
    },
    {
      "cell_type": "code",
      "metadata": {
        "id": "BuL8kWyBtzf5",
        "colab": {
          "base_uri": "https://localhost:8080/",
          "height": 788
        },
        "outputId": "89a69c85-6429-4d9e-a7eb-1be97d92e7fd"
      },
      "source": [
        "df['Rocket_is_NA'] = df[' Rocket'].isna().astype(int)\n",
        "df[' Rocket'].fillna(0, inplace=True)\n",
        "df"
      ],
      "execution_count": null,
      "outputs": [
        {
          "output_type": "execute_result",
          "data": {
            "text/html": [
              "<div>\n",
              "<style scoped>\n",
              "    .dataframe tbody tr th:only-of-type {\n",
              "        vertical-align: middle;\n",
              "    }\n",
              "\n",
              "    .dataframe tbody tr th {\n",
              "        vertical-align: top;\n",
              "    }\n",
              "\n",
              "    .dataframe thead th {\n",
              "        text-align: right;\n",
              "    }\n",
              "</style>\n",
              "<table border=\"1\" class=\"dataframe\">\n",
              "  <thead>\n",
              "    <tr style=\"text-align: right;\">\n",
              "      <th></th>\n",
              "      <th>Company Name</th>\n",
              "      <th>Location</th>\n",
              "      <th>Datum</th>\n",
              "      <th>Detail</th>\n",
              "      <th>Status Rocket</th>\n",
              "      <th>Rocket</th>\n",
              "      <th>Status Mission</th>\n",
              "      <th>Rocket_is_NA</th>\n",
              "    </tr>\n",
              "  </thead>\n",
              "  <tbody>\n",
              "    <tr>\n",
              "      <th>0</th>\n",
              "      <td>SpaceX</td>\n",
              "      <td>LC-39A, Kennedy Space Center, Florida, USA</td>\n",
              "      <td>Fri Aug 07, 2020 05:12 UTC</td>\n",
              "      <td>Falcon 9 Block 5 | Starlink V1 L9 &amp; BlackSky</td>\n",
              "      <td>StatusActive</td>\n",
              "      <td>50.0</td>\n",
              "      <td>Success</td>\n",
              "      <td>0</td>\n",
              "    </tr>\n",
              "    <tr>\n",
              "      <th>1</th>\n",
              "      <td>CASC</td>\n",
              "      <td>Site 9401 (SLS-2), Jiuquan Satellite Launch Ce...</td>\n",
              "      <td>Thu Aug 06, 2020 04:01 UTC</td>\n",
              "      <td>Long March 2D | Gaofen-9 04 &amp; Q-SAT</td>\n",
              "      <td>StatusActive</td>\n",
              "      <td>29.75</td>\n",
              "      <td>Success</td>\n",
              "      <td>0</td>\n",
              "    </tr>\n",
              "    <tr>\n",
              "      <th>2</th>\n",
              "      <td>SpaceX</td>\n",
              "      <td>Pad A, Boca Chica, Texas, USA</td>\n",
              "      <td>Tue Aug 04, 2020 23:57 UTC</td>\n",
              "      <td>Starship Prototype | 150 Meter Hop</td>\n",
              "      <td>StatusActive</td>\n",
              "      <td>0</td>\n",
              "      <td>Success</td>\n",
              "      <td>1</td>\n",
              "    </tr>\n",
              "    <tr>\n",
              "      <th>3</th>\n",
              "      <td>Roscosmos</td>\n",
              "      <td>Site 200/39, Baikonur Cosmodrome, Kazakhstan</td>\n",
              "      <td>Thu Jul 30, 2020 21:25 UTC</td>\n",
              "      <td>Proton-M/Briz-M | Ekspress-80 &amp; Ekspress-103</td>\n",
              "      <td>StatusActive</td>\n",
              "      <td>65.0</td>\n",
              "      <td>Success</td>\n",
              "      <td>0</td>\n",
              "    </tr>\n",
              "    <tr>\n",
              "      <th>4</th>\n",
              "      <td>ULA</td>\n",
              "      <td>SLC-41, Cape Canaveral AFS, Florida, USA</td>\n",
              "      <td>Thu Jul 30, 2020 11:50 UTC</td>\n",
              "      <td>Atlas V 541 | Perseverance</td>\n",
              "      <td>StatusActive</td>\n",
              "      <td>145.0</td>\n",
              "      <td>Success</td>\n",
              "      <td>0</td>\n",
              "    </tr>\n",
              "    <tr>\n",
              "      <th>...</th>\n",
              "      <td>...</td>\n",
              "      <td>...</td>\n",
              "      <td>...</td>\n",
              "      <td>...</td>\n",
              "      <td>...</td>\n",
              "      <td>...</td>\n",
              "      <td>...</td>\n",
              "      <td>...</td>\n",
              "    </tr>\n",
              "    <tr>\n",
              "      <th>4319</th>\n",
              "      <td>US Navy</td>\n",
              "      <td>LC-18A, Cape Canaveral AFS, Florida, USA</td>\n",
              "      <td>Wed Feb 05, 1958 07:33 UTC</td>\n",
              "      <td>Vanguard | Vanguard TV3BU</td>\n",
              "      <td>StatusRetired</td>\n",
              "      <td>0</td>\n",
              "      <td>Failure</td>\n",
              "      <td>1</td>\n",
              "    </tr>\n",
              "    <tr>\n",
              "      <th>4320</th>\n",
              "      <td>AMBA</td>\n",
              "      <td>LC-26A, Cape Canaveral AFS, Florida, USA</td>\n",
              "      <td>Sat Feb 01, 1958 03:48 UTC</td>\n",
              "      <td>Juno I | Explorer 1</td>\n",
              "      <td>StatusRetired</td>\n",
              "      <td>0</td>\n",
              "      <td>Success</td>\n",
              "      <td>1</td>\n",
              "    </tr>\n",
              "    <tr>\n",
              "      <th>4321</th>\n",
              "      <td>US Navy</td>\n",
              "      <td>LC-18A, Cape Canaveral AFS, Florida, USA</td>\n",
              "      <td>Fri Dec 06, 1957 16:44 UTC</td>\n",
              "      <td>Vanguard | Vanguard TV3</td>\n",
              "      <td>StatusRetired</td>\n",
              "      <td>0</td>\n",
              "      <td>Failure</td>\n",
              "      <td>1</td>\n",
              "    </tr>\n",
              "    <tr>\n",
              "      <th>4322</th>\n",
              "      <td>RVSN USSR</td>\n",
              "      <td>Site 1/5, Baikonur Cosmodrome, Kazakhstan</td>\n",
              "      <td>Sun Nov 03, 1957 02:30 UTC</td>\n",
              "      <td>Sputnik 8K71PS | Sputnik-2</td>\n",
              "      <td>StatusRetired</td>\n",
              "      <td>0</td>\n",
              "      <td>Success</td>\n",
              "      <td>1</td>\n",
              "    </tr>\n",
              "    <tr>\n",
              "      <th>4323</th>\n",
              "      <td>RVSN USSR</td>\n",
              "      <td>Site 1/5, Baikonur Cosmodrome, Kazakhstan</td>\n",
              "      <td>Fri Oct 04, 1957 19:28 UTC</td>\n",
              "      <td>Sputnik 8K71PS | Sputnik-1</td>\n",
              "      <td>StatusRetired</td>\n",
              "      <td>0</td>\n",
              "      <td>Success</td>\n",
              "      <td>1</td>\n",
              "    </tr>\n",
              "  </tbody>\n",
              "</table>\n",
              "<p>4324 rows × 8 columns</p>\n",
              "</div>"
            ],
            "text/plain": [
              "     Company Name  ... Rocket_is_NA\n",
              "0          SpaceX  ...            0\n",
              "1            CASC  ...            0\n",
              "2          SpaceX  ...            1\n",
              "3       Roscosmos  ...            0\n",
              "4             ULA  ...            0\n",
              "...           ...  ...          ...\n",
              "4319      US Navy  ...            1\n",
              "4320         AMBA  ...            1\n",
              "4321      US Navy  ...            1\n",
              "4322    RVSN USSR  ...            1\n",
              "4323    RVSN USSR  ...            1\n",
              "\n",
              "[4324 rows x 8 columns]"
            ]
          },
          "metadata": {},
          "execution_count": 27
        }
      ]
    },
    {
      "cell_type": "markdown",
      "metadata": {
        "id": "gFMebwdWwSR1"
      },
      "source": [
        "### Задание 3"
      ]
    },
    {
      "cell_type": "markdown",
      "metadata": {
        "id": "j03Cn1rFwSR2"
      },
      "source": [
        "1. Создайте Datetime Index из колонки Datum\n",
        "2. Удалите колонку Datum\n",
        "3. Выведите первые 10 строк полученного DataFrame\n"
      ]
    },
    {
      "cell_type": "code",
      "metadata": {
        "id": "riNnmJ73t4XJ",
        "colab": {
          "base_uri": "https://localhost:8080/",
          "height": 341
        },
        "outputId": "ac9b9641-66b6-47d8-887b-b6b24132044b"
      },
      "source": [
        "df.index = pd.to_datetime(df.Datum, utc=True)\n",
        "df.drop('Datum', axis=1, inplace=True)\n",
        "df.head()"
      ],
      "execution_count": null,
      "outputs": [
        {
          "output_type": "execute_result",
          "data": {
            "text/html": [
              "<div>\n",
              "<style scoped>\n",
              "    .dataframe tbody tr th:only-of-type {\n",
              "        vertical-align: middle;\n",
              "    }\n",
              "\n",
              "    .dataframe tbody tr th {\n",
              "        vertical-align: top;\n",
              "    }\n",
              "\n",
              "    .dataframe thead th {\n",
              "        text-align: right;\n",
              "    }\n",
              "</style>\n",
              "<table border=\"1\" class=\"dataframe\">\n",
              "  <thead>\n",
              "    <tr style=\"text-align: right;\">\n",
              "      <th></th>\n",
              "      <th>Company Name</th>\n",
              "      <th>Location</th>\n",
              "      <th>Detail</th>\n",
              "      <th>Status Rocket</th>\n",
              "      <th>Rocket</th>\n",
              "      <th>Status Mission</th>\n",
              "      <th>Rocket_is_NA</th>\n",
              "    </tr>\n",
              "    <tr>\n",
              "      <th>Datum</th>\n",
              "      <th></th>\n",
              "      <th></th>\n",
              "      <th></th>\n",
              "      <th></th>\n",
              "      <th></th>\n",
              "      <th></th>\n",
              "      <th></th>\n",
              "    </tr>\n",
              "  </thead>\n",
              "  <tbody>\n",
              "    <tr>\n",
              "      <th>2020-08-07 05:12:00+00:00</th>\n",
              "      <td>SpaceX</td>\n",
              "      <td>LC-39A, Kennedy Space Center, Florida, USA</td>\n",
              "      <td>Falcon 9 Block 5 | Starlink V1 L9 &amp; BlackSky</td>\n",
              "      <td>StatusActive</td>\n",
              "      <td>50.0</td>\n",
              "      <td>Success</td>\n",
              "      <td>0</td>\n",
              "    </tr>\n",
              "    <tr>\n",
              "      <th>2020-08-06 04:01:00+00:00</th>\n",
              "      <td>CASC</td>\n",
              "      <td>Site 9401 (SLS-2), Jiuquan Satellite Launch Ce...</td>\n",
              "      <td>Long March 2D | Gaofen-9 04 &amp; Q-SAT</td>\n",
              "      <td>StatusActive</td>\n",
              "      <td>29.75</td>\n",
              "      <td>Success</td>\n",
              "      <td>0</td>\n",
              "    </tr>\n",
              "    <tr>\n",
              "      <th>2020-08-04 23:57:00+00:00</th>\n",
              "      <td>SpaceX</td>\n",
              "      <td>Pad A, Boca Chica, Texas, USA</td>\n",
              "      <td>Starship Prototype | 150 Meter Hop</td>\n",
              "      <td>StatusActive</td>\n",
              "      <td>0</td>\n",
              "      <td>Success</td>\n",
              "      <td>1</td>\n",
              "    </tr>\n",
              "    <tr>\n",
              "      <th>2020-07-30 21:25:00+00:00</th>\n",
              "      <td>Roscosmos</td>\n",
              "      <td>Site 200/39, Baikonur Cosmodrome, Kazakhstan</td>\n",
              "      <td>Proton-M/Briz-M | Ekspress-80 &amp; Ekspress-103</td>\n",
              "      <td>StatusActive</td>\n",
              "      <td>65.0</td>\n",
              "      <td>Success</td>\n",
              "      <td>0</td>\n",
              "    </tr>\n",
              "    <tr>\n",
              "      <th>2020-07-30 11:50:00+00:00</th>\n",
              "      <td>ULA</td>\n",
              "      <td>SLC-41, Cape Canaveral AFS, Florida, USA</td>\n",
              "      <td>Atlas V 541 | Perseverance</td>\n",
              "      <td>StatusActive</td>\n",
              "      <td>145.0</td>\n",
              "      <td>Success</td>\n",
              "      <td>0</td>\n",
              "    </tr>\n",
              "  </tbody>\n",
              "</table>\n",
              "</div>"
            ],
            "text/plain": [
              "                          Company Name  ... Rocket_is_NA\n",
              "Datum                                   ...             \n",
              "2020-08-07 05:12:00+00:00       SpaceX  ...            0\n",
              "2020-08-06 04:01:00+00:00         CASC  ...            0\n",
              "2020-08-04 23:57:00+00:00       SpaceX  ...            1\n",
              "2020-07-30 21:25:00+00:00    Roscosmos  ...            0\n",
              "2020-07-30 11:50:00+00:00          ULA  ...            0\n",
              "\n",
              "[5 rows x 7 columns]"
            ]
          },
          "metadata": {},
          "execution_count": 28
        }
      ]
    },
    {
      "cell_type": "markdown",
      "metadata": {
        "id": "nv4uOCSBwSed"
      },
      "source": [
        "### Задание 4"
      ]
    },
    {
      "cell_type": "markdown",
      "metadata": {
        "id": "k4sq0pJvwSed"
      },
      "source": [
        "1. Сделайте resample по календарным годам с подсчетом количества полетов в каждом календарном году.\n",
        "2. Выведите график, показывающий изменение количества полетов от года к году. Подсказка - попробуйте применить метод .plot()"
      ]
    },
    {
      "cell_type": "code",
      "metadata": {
        "id": "W7i_S4-Ot7zd",
        "colab": {
          "base_uri": "https://localhost:8080/",
          "height": 455
        },
        "outputId": "dbeb098c-fcfb-47a5-a9a4-2588281fea6e"
      },
      "source": [
        "missions_by_year = df[['Company Name']].resample('A').count()\n",
        "missions_by_year"
      ],
      "execution_count": null,
      "outputs": [
        {
          "output_type": "execute_result",
          "data": {
            "text/html": [
              "<div>\n",
              "<style scoped>\n",
              "    .dataframe tbody tr th:only-of-type {\n",
              "        vertical-align: middle;\n",
              "    }\n",
              "\n",
              "    .dataframe tbody tr th {\n",
              "        vertical-align: top;\n",
              "    }\n",
              "\n",
              "    .dataframe thead th {\n",
              "        text-align: right;\n",
              "    }\n",
              "</style>\n",
              "<table border=\"1\" class=\"dataframe\">\n",
              "  <thead>\n",
              "    <tr style=\"text-align: right;\">\n",
              "      <th></th>\n",
              "      <th>Company Name</th>\n",
              "    </tr>\n",
              "    <tr>\n",
              "      <th>Datum</th>\n",
              "      <th></th>\n",
              "    </tr>\n",
              "  </thead>\n",
              "  <tbody>\n",
              "    <tr>\n",
              "      <th>1957-12-31 00:00:00+00:00</th>\n",
              "      <td>3</td>\n",
              "    </tr>\n",
              "    <tr>\n",
              "      <th>1958-12-31 00:00:00+00:00</th>\n",
              "      <td>28</td>\n",
              "    </tr>\n",
              "    <tr>\n",
              "      <th>1959-12-31 00:00:00+00:00</th>\n",
              "      <td>20</td>\n",
              "    </tr>\n",
              "    <tr>\n",
              "      <th>1960-12-31 00:00:00+00:00</th>\n",
              "      <td>39</td>\n",
              "    </tr>\n",
              "    <tr>\n",
              "      <th>1961-12-31 00:00:00+00:00</th>\n",
              "      <td>52</td>\n",
              "    </tr>\n",
              "    <tr>\n",
              "      <th>...</th>\n",
              "      <td>...</td>\n",
              "    </tr>\n",
              "    <tr>\n",
              "      <th>2016-12-31 00:00:00+00:00</th>\n",
              "      <td>90</td>\n",
              "    </tr>\n",
              "    <tr>\n",
              "      <th>2017-12-31 00:00:00+00:00</th>\n",
              "      <td>92</td>\n",
              "    </tr>\n",
              "    <tr>\n",
              "      <th>2018-12-31 00:00:00+00:00</th>\n",
              "      <td>117</td>\n",
              "    </tr>\n",
              "    <tr>\n",
              "      <th>2019-12-31 00:00:00+00:00</th>\n",
              "      <td>109</td>\n",
              "    </tr>\n",
              "    <tr>\n",
              "      <th>2020-12-31 00:00:00+00:00</th>\n",
              "      <td>63</td>\n",
              "    </tr>\n",
              "  </tbody>\n",
              "</table>\n",
              "<p>64 rows × 1 columns</p>\n",
              "</div>"
            ],
            "text/plain": [
              "                           Company Name\n",
              "Datum                                  \n",
              "1957-12-31 00:00:00+00:00             3\n",
              "1958-12-31 00:00:00+00:00            28\n",
              "1959-12-31 00:00:00+00:00            20\n",
              "1960-12-31 00:00:00+00:00            39\n",
              "1961-12-31 00:00:00+00:00            52\n",
              "...                                 ...\n",
              "2016-12-31 00:00:00+00:00            90\n",
              "2017-12-31 00:00:00+00:00            92\n",
              "2018-12-31 00:00:00+00:00           117\n",
              "2019-12-31 00:00:00+00:00           109\n",
              "2020-12-31 00:00:00+00:00            63\n",
              "\n",
              "[64 rows x 1 columns]"
            ]
          },
          "metadata": {},
          "execution_count": 29
        }
      ]
    },
    {
      "cell_type": "code",
      "metadata": {
        "id": "mh9pTLUGt7jO",
        "colab": {
          "base_uri": "https://localhost:8080/",
          "height": 297
        },
        "outputId": "49c9e0d1-ec0a-49df-a00d-5d62f664c431"
      },
      "source": [
        "missions_by_year.plot()"
      ],
      "execution_count": null,
      "outputs": [
        {
          "output_type": "execute_result",
          "data": {
            "text/plain": [
              "<matplotlib.axes._subplots.AxesSubplot at 0x7f8b8abc1f90>"
            ]
          },
          "metadata": {},
          "execution_count": 30
        },
        {
          "output_type": "display_data",
          "data": {
            "image/png": "[encoded data removed]",
            "text/plain": [
              "<Figure size 432x288 with 1 Axes>"
            ]
          },
          "metadata": {
            "needs_background": "light"
          }
        }
      ]
    },
    {
      "cell_type": "markdown",
      "metadata": {
        "id": "iLYk4Q8mCd37"
      },
      "source": [
        "### Задание 5"
      ]
    },
    {
      "cell_type": "markdown",
      "metadata": {
        "id": "nfpTGw64Cn90"
      },
      "source": [
        "Для компании Роскосмос (Roscosmos) найдите:\n",
        "1. Общее количество полетов\n",
        "2. Список всех космодромов, с которых осуществлялся запуск\n",
        "3. Дату самого раннего и самого позднего старта\n",
        "4. Выведите информацию о количестве удачных/неудачных и частично-неудачных запусках (колонка Status Mission)"
      ]
    },
    {
      "cell_type": "code",
      "metadata": {
        "id": "clDC5vBuuBhi",
        "colab": {
          "base_uri": "https://localhost:8080/"
        },
        "outputId": "db205d71-710b-49d1-a62d-0f2fc4eb1024"
      },
      "source": [
        "ROSKOSMOS = df['Company Name']=='Roscosmos'\n",
        "ROSKOSMOS.sum()"
      ],
      "execution_count": null,
      "outputs": [
        {
          "output_type": "execute_result",
          "data": {
            "text/plain": [
              "55"
            ]
          },
          "metadata": {},
          "execution_count": 31
        }
      ]
    },
    {
      "cell_type": "code",
      "metadata": {
        "id": "6fCgDGHuuBWe",
        "colab": {
          "base_uri": "https://localhost:8080/"
        },
        "outputId": "a114acca-b935-4021-a8cc-41615436a6e8"
      },
      "source": [
        "df[ROSKOSMOS].Location.unique()"
      ],
      "execution_count": null,
      "outputs": [
        {
          "output_type": "execute_result",
          "data": {
            "text/plain": [
              "array(['Site 200/39, Baikonur Cosmodrome, Kazakhstan',\n",
              "       'Site 31/6, Baikonur Cosmodrome, Kazakhstan',\n",
              "       'Site 81/24, Baikonur Cosmodrome, Kazakhstan',\n",
              "       'Site 1/5, Baikonur Cosmodrome, Kazakhstan',\n",
              "       'Site 1S, Vostochny Cosmodrome, Russia',\n",
              "       'Site 43/4, Plesetsk Cosmodrome, Russia',\n",
              "       'Site 45/1, Baikonur Cosmodrome, Kazakhstan'], dtype=object)"
            ]
          },
          "metadata": {},
          "execution_count": 32
        }
      ]
    },
    {
      "cell_type": "code",
      "metadata": {
        "colab": {
          "base_uri": "https://localhost:8080/"
        },
        "id": "pxTM1Irj_uNR",
        "outputId": "075c6984-d20b-46f6-cdc1-8f2d711ebcb4"
      },
      "source": [
        "df[ROSKOSMOS].index.min()"
      ],
      "execution_count": null,
      "outputs": [
        {
          "output_type": "execute_result",
          "data": {
            "text/plain": [
              "Timestamp('1970-06-01 19:00:00+0000', tz='UTC')"
            ]
          },
          "metadata": {},
          "execution_count": 33
        }
      ]
    },
    {
      "cell_type": "code",
      "metadata": {
        "colab": {
          "base_uri": "https://localhost:8080/"
        },
        "id": "uTCu2zNQ_uTp",
        "outputId": "8479d9c2-aea4-49f0-bb07-d46424121740"
      },
      "source": [
        "df[ROSKOSMOS].index.max()"
      ],
      "execution_count": null,
      "outputs": [
        {
          "output_type": "execute_result",
          "data": {
            "text/plain": [
              "Timestamp('2020-07-30 21:25:00+0000', tz='UTC')"
            ]
          },
          "metadata": {},
          "execution_count": 34
        }
      ]
    },
    {
      "cell_type": "code",
      "metadata": {
        "colab": {
          "base_uri": "https://localhost:8080/"
        },
        "id": "3ucXBjn__ubg",
        "outputId": "2d921f66-117e-41d6-99e4-43cc23bacbc2"
      },
      "source": [
        "df[ROSKOSMOS].groupby('Status Mission')['Company Name'].agg('count')"
      ],
      "execution_count": null,
      "outputs": [
        {
          "output_type": "execute_result",
          "data": {
            "text/plain": [
              "Status Mission\n",
              "Failure             3\n",
              "Partial Failure     1\n",
              "Success            51\n",
              "Name: Company Name, dtype: int64"
            ]
          },
          "metadata": {},
          "execution_count": 35
        }
      ]
    },
    {
      "cell_type": "markdown",
      "metadata": {
        "id": "Bj4R50Zz3AYv"
      },
      "source": [
        "## Уровень Профессиональный"
      ]
    },
    {
      "cell_type": "markdown",
      "metadata": {
        "id": "RH2f70yKwSYN"
      },
      "source": [
        "### Задание 1"
      ]
    },
    {
      "cell_type": "markdown",
      "metadata": {
        "id": "RPENHhzKwSYO"
      },
      "source": [
        "1. Создайте 3 DataFrame sales, stores, features, загрузив из соответствующих файлов CSV:\n",
        "\n",
        "http://dataudt.ru/datasets/sales data-set.csv\n",
        "\n",
        "http://dataudt.ru/datasets/stores data-set.csv\n",
        "\n",
        "http://dataudt.ru/datasets/Features data set.csv\n",
        "\n",
        "(Подсказка: адреса читаются не полностью, если в имени файла - пробел, поэтому рекомендуем заключить адрес после !wget в кавычки) \n",
        "2. Для каждого DataFrame посмотрите хранящеся там данные (несколько строк), а также выведите размерности таблиц.\n",
        "3. Попробуйте разобраться в том, какая информация хранится в этих таблицах, как эти данные могут быть связаны между собой. \n"
      ]
    },
    {
      "cell_type": "code",
      "metadata": {
        "id": "kphG0oJouF3m",
        "colab": {
          "base_uri": "https://localhost:8080/"
        },
        "outputId": "fa1867d7-ab25-4b1d-97e8-aa0bca8dbf4f"
      },
      "source": [
        "!wget 'http://dataudt.ru/datasets/sales data-set.csv'\n",
        "!wget 'http://dataudt.ru/datasets/stores data-set.csv'\n",
        "!wget 'http://dataudt.ru/datasets/Features data set.csv'"
      ],
      "execution_count": null,
      "outputs": [
        {
          "output_type": "stream",
          "name": "stdout",
          "text": [
            "--2021-11-28 05:27:13--  http://dataudt.ru/datasets/sales%20data-set.csv\n",
            "Resolving dataudt.ru (dataudt.ru)... 37.228.117.130\n",
            "Connecting to dataudt.ru (dataudt.ru)|37.228.117.130|:80... connected.\n",
            "HTTP request sent, awaiting response... 200 OK\n",
            "Length: 13264115 (13M) [application/octet-stream]\n",
            "Saving to: ‘sales data-set.csv’\n",
            "\n",
            "sales data-set.csv  100%[===================>]  12.65M  7.84MB/s    in 1.6s    \n",
            "\n",
            "2021-11-28 05:27:15 (7.84 MB/s) - ‘sales data-set.csv’ saved [13264115/13264115]\n",
            "\n",
            "--2021-11-28 05:27:16--  http://dataudt.ru/datasets/stores%20data-set.csv\n",
            "Resolving dataudt.ru (dataudt.ru)... 37.228.117.130\n",
            "Connecting to dataudt.ru (dataudt.ru)|37.228.117.130|:80... connected.\n",
            "HTTP request sent, awaiting response... 200 OK\n",
            "Length: 577 [application/octet-stream]\n",
            "Saving to: ‘stores data-set.csv’\n",
            "\n",
            "stores data-set.csv 100%[===================>]     577  --.-KB/s    in 0s      \n",
            "\n",
            "2021-11-28 05:27:16 (80.1 MB/s) - ‘stores data-set.csv’ saved [577/577]\n",
            "\n",
            "--2021-11-28 05:27:16--  http://dataudt.ru/datasets/Features%20data%20set.csv\n",
            "Resolving dataudt.ru (dataudt.ru)... 37.228.117.130\n",
            "Connecting to dataudt.ru (dataudt.ru)|37.228.117.130|:80... connected.\n",
            "HTTP request sent, awaiting response... 200 OK\n",
            "Length: 600478 (586K) [application/octet-stream]\n",
            "Saving to: ‘Features data set.csv’\n",
            "\n",
            "Features data set.c 100%[===================>] 586.40K   791KB/s    in 0.7s    \n",
            "\n",
            "2021-11-28 05:27:17 (791 KB/s) - ‘Features data set.csv’ saved [600478/600478]\n",
            "\n"
          ]
        }
      ]
    },
    {
      "cell_type": "code",
      "metadata": {
        "id": "Ng1NpE-0uFp9"
      },
      "source": [
        "sales = pd.read_csv('/content/sales data-set.csv')\n",
        "stores = pd.read_csv('/content/stores data-set.csv')\n",
        "features = pd.read_csv('/content/Features data set.csv')"
      ],
      "execution_count": null,
      "outputs": []
    },
    {
      "cell_type": "code",
      "metadata": {
        "colab": {
          "base_uri": "https://localhost:8080/",
          "height": 206
        },
        "id": "68y6Nk2WBZMK",
        "outputId": "efe817f3-6986-4e70-d7d7-09a449eb0f84"
      },
      "source": [
        "sales.head()"
      ],
      "execution_count": null,
      "outputs": [
        {
          "output_type": "execute_result",
          "data": {
            "text/html": [
              "<div>\n",
              "<style scoped>\n",
              "    .dataframe tbody tr th:only-of-type {\n",
              "        vertical-align: middle;\n",
              "    }\n",
              "\n",
              "    .dataframe tbody tr th {\n",
              "        vertical-align: top;\n",
              "    }\n",
              "\n",
              "    .dataframe thead th {\n",
              "        text-align: right;\n",
              "    }\n",
              "</style>\n",
              "<table border=\"1\" class=\"dataframe\">\n",
              "  <thead>\n",
              "    <tr style=\"text-align: right;\">\n",
              "      <th></th>\n",
              "      <th>Store</th>\n",
              "      <th>Dept</th>\n",
              "      <th>Date</th>\n",
              "      <th>Weekly_Sales</th>\n",
              "      <th>IsHoliday</th>\n",
              "    </tr>\n",
              "  </thead>\n",
              "  <tbody>\n",
              "    <tr>\n",
              "      <th>0</th>\n",
              "      <td>1</td>\n",
              "      <td>1</td>\n",
              "      <td>05/02/2010</td>\n",
              "      <td>24924.50</td>\n",
              "      <td>False</td>\n",
              "    </tr>\n",
              "    <tr>\n",
              "      <th>1</th>\n",
              "      <td>1</td>\n",
              "      <td>1</td>\n",
              "      <td>12/02/2010</td>\n",
              "      <td>46039.49</td>\n",
              "      <td>True</td>\n",
              "    </tr>\n",
              "    <tr>\n",
              "      <th>2</th>\n",
              "      <td>1</td>\n",
              "      <td>1</td>\n",
              "      <td>19/02/2010</td>\n",
              "      <td>41595.55</td>\n",
              "      <td>False</td>\n",
              "    </tr>\n",
              "    <tr>\n",
              "      <th>3</th>\n",
              "      <td>1</td>\n",
              "      <td>1</td>\n",
              "      <td>26/02/2010</td>\n",
              "      <td>19403.54</td>\n",
              "      <td>False</td>\n",
              "    </tr>\n",
              "    <tr>\n",
              "      <th>4</th>\n",
              "      <td>1</td>\n",
              "      <td>1</td>\n",
              "      <td>05/03/2010</td>\n",
              "      <td>21827.90</td>\n",
              "      <td>False</td>\n",
              "    </tr>\n",
              "  </tbody>\n",
              "</table>\n",
              "</div>"
            ],
            "text/plain": [
              "   Store  Dept        Date  Weekly_Sales  IsHoliday\n",
              "0      1     1  05/02/2010      24924.50      False\n",
              "1      1     1  12/02/2010      46039.49       True\n",
              "2      1     1  19/02/2010      41595.55      False\n",
              "3      1     1  26/02/2010      19403.54      False\n",
              "4      1     1  05/03/2010      21827.90      False"
            ]
          },
          "metadata": {},
          "execution_count": 38
        }
      ]
    },
    {
      "cell_type": "code",
      "metadata": {
        "colab": {
          "base_uri": "https://localhost:8080/"
        },
        "id": "4XbQ9ZZdBZ-6",
        "outputId": "e78c4a18-d732-4d74-93f4-3f9de9aa0d56"
      },
      "source": [
        "sales.shape"
      ],
      "execution_count": null,
      "outputs": [
        {
          "output_type": "execute_result",
          "data": {
            "text/plain": [
              "(421570, 5)"
            ]
          },
          "metadata": {},
          "execution_count": 39
        }
      ]
    },
    {
      "cell_type": "code",
      "metadata": {
        "colab": {
          "base_uri": "https://localhost:8080/",
          "height": 206
        },
        "id": "vE5JMTyuBedK",
        "outputId": "2d357454-50a8-405d-806b-8c9a5e959b4c"
      },
      "source": [
        "stores.head()"
      ],
      "execution_count": null,
      "outputs": [
        {
          "output_type": "execute_result",
          "data": {
            "text/html": [
              "<div>\n",
              "<style scoped>\n",
              "    .dataframe tbody tr th:only-of-type {\n",
              "        vertical-align: middle;\n",
              "    }\n",
              "\n",
              "    .dataframe tbody tr th {\n",
              "        vertical-align: top;\n",
              "    }\n",
              "\n",
              "    .dataframe thead th {\n",
              "        text-align: right;\n",
              "    }\n",
              "</style>\n",
              "<table border=\"1\" class=\"dataframe\">\n",
              "  <thead>\n",
              "    <tr style=\"text-align: right;\">\n",
              "      <th></th>\n",
              "      <th>Store</th>\n",
              "      <th>Type</th>\n",
              "      <th>Size</th>\n",
              "    </tr>\n",
              "  </thead>\n",
              "  <tbody>\n",
              "    <tr>\n",
              "      <th>0</th>\n",
              "      <td>1</td>\n",
              "      <td>A</td>\n",
              "      <td>151315</td>\n",
              "    </tr>\n",
              "    <tr>\n",
              "      <th>1</th>\n",
              "      <td>2</td>\n",
              "      <td>A</td>\n",
              "      <td>202307</td>\n",
              "    </tr>\n",
              "    <tr>\n",
              "      <th>2</th>\n",
              "      <td>3</td>\n",
              "      <td>B</td>\n",
              "      <td>37392</td>\n",
              "    </tr>\n",
              "    <tr>\n",
              "      <th>3</th>\n",
              "      <td>4</td>\n",
              "      <td>A</td>\n",
              "      <td>205863</td>\n",
              "    </tr>\n",
              "    <tr>\n",
              "      <th>4</th>\n",
              "      <td>5</td>\n",
              "      <td>B</td>\n",
              "      <td>34875</td>\n",
              "    </tr>\n",
              "  </tbody>\n",
              "</table>\n",
              "</div>"
            ],
            "text/plain": [
              "   Store Type    Size\n",
              "0      1    A  151315\n",
              "1      2    A  202307\n",
              "2      3    B   37392\n",
              "3      4    A  205863\n",
              "4      5    B   34875"
            ]
          },
          "metadata": {},
          "execution_count": 40
        }
      ]
    },
    {
      "cell_type": "code",
      "metadata": {
        "colab": {
          "base_uri": "https://localhost:8080/"
        },
        "id": "tbNRfCnxBehK",
        "outputId": "823748a2-2ed1-4bd1-b677-12be63adb7f5"
      },
      "source": [
        "stores.shape"
      ],
      "execution_count": null,
      "outputs": [
        {
          "output_type": "execute_result",
          "data": {
            "text/plain": [
              "(45, 3)"
            ]
          },
          "metadata": {},
          "execution_count": 41
        }
      ]
    },
    {
      "cell_type": "code",
      "metadata": {
        "colab": {
          "base_uri": "https://localhost:8080/",
          "height": 226
        },
        "id": "B73BR9-rBeqH",
        "outputId": "8632536c-b575-45c3-f3d1-139dc7cca8bf"
      },
      "source": [
        "features.head()"
      ],
      "execution_count": null,
      "outputs": [
        {
          "output_type": "execute_result",
          "data": {
            "text/html": [
              "<div>\n",
              "<style scoped>\n",
              "    .dataframe tbody tr th:only-of-type {\n",
              "        vertical-align: middle;\n",
              "    }\n",
              "\n",
              "    .dataframe tbody tr th {\n",
              "        vertical-align: top;\n",
              "    }\n",
              "\n",
              "    .dataframe thead th {\n",
              "        text-align: right;\n",
              "    }\n",
              "</style>\n",
              "<table border=\"1\" class=\"dataframe\">\n",
              "  <thead>\n",
              "    <tr style=\"text-align: right;\">\n",
              "      <th></th>\n",
              "      <th>Store</th>\n",
              "      <th>Date</th>\n",
              "      <th>Temperature</th>\n",
              "      <th>Fuel_Price</th>\n",
              "      <th>MarkDown1</th>\n",
              "      <th>MarkDown2</th>\n",
              "      <th>MarkDown3</th>\n",
              "      <th>MarkDown4</th>\n",
              "      <th>MarkDown5</th>\n",
              "      <th>CPI</th>\n",
              "      <th>Unemployment</th>\n",
              "      <th>IsHoliday</th>\n",
              "    </tr>\n",
              "  </thead>\n",
              "  <tbody>\n",
              "    <tr>\n",
              "      <th>0</th>\n",
              "      <td>1</td>\n",
              "      <td>05/02/2010</td>\n",
              "      <td>42.31</td>\n",
              "      <td>2.572</td>\n",
              "      <td>NaN</td>\n",
              "      <td>NaN</td>\n",
              "      <td>NaN</td>\n",
              "      <td>NaN</td>\n",
              "      <td>NaN</td>\n",
              "      <td>211.096358</td>\n",
              "      <td>8.106</td>\n",
              "      <td>False</td>\n",
              "    </tr>\n",
              "    <tr>\n",
              "      <th>1</th>\n",
              "      <td>1</td>\n",
              "      <td>12/02/2010</td>\n",
              "      <td>38.51</td>\n",
              "      <td>2.548</td>\n",
              "      <td>NaN</td>\n",
              "      <td>NaN</td>\n",
              "      <td>NaN</td>\n",
              "      <td>NaN</td>\n",
              "      <td>NaN</td>\n",
              "      <td>211.242170</td>\n",
              "      <td>8.106</td>\n",
              "      <td>True</td>\n",
              "    </tr>\n",
              "    <tr>\n",
              "      <th>2</th>\n",
              "      <td>1</td>\n",
              "      <td>19/02/2010</td>\n",
              "      <td>39.93</td>\n",
              "      <td>2.514</td>\n",
              "      <td>NaN</td>\n",
              "      <td>NaN</td>\n",
              "      <td>NaN</td>\n",
              "      <td>NaN</td>\n",
              "      <td>NaN</td>\n",
              "      <td>211.289143</td>\n",
              "      <td>8.106</td>\n",
              "      <td>False</td>\n",
              "    </tr>\n",
              "    <tr>\n",
              "      <th>3</th>\n",
              "      <td>1</td>\n",
              "      <td>26/02/2010</td>\n",
              "      <td>46.63</td>\n",
              "      <td>2.561</td>\n",
              "      <td>NaN</td>\n",
              "      <td>NaN</td>\n",
              "      <td>NaN</td>\n",
              "      <td>NaN</td>\n",
              "      <td>NaN</td>\n",
              "      <td>211.319643</td>\n",
              "      <td>8.106</td>\n",
              "      <td>False</td>\n",
              "    </tr>\n",
              "    <tr>\n",
              "      <th>4</th>\n",
              "      <td>1</td>\n",
              "      <td>05/03/2010</td>\n",
              "      <td>46.50</td>\n",
              "      <td>2.625</td>\n",
              "      <td>NaN</td>\n",
              "      <td>NaN</td>\n",
              "      <td>NaN</td>\n",
              "      <td>NaN</td>\n",
              "      <td>NaN</td>\n",
              "      <td>211.350143</td>\n",
              "      <td>8.106</td>\n",
              "      <td>False</td>\n",
              "    </tr>\n",
              "  </tbody>\n",
              "</table>\n",
              "</div>"
            ],
            "text/plain": [
              "   Store        Date  Temperature  ...         CPI  Unemployment  IsHoliday\n",
              "0      1  05/02/2010        42.31  ...  211.096358         8.106      False\n",
              "1      1  12/02/2010        38.51  ...  211.242170         8.106       True\n",
              "2      1  19/02/2010        39.93  ...  211.289143         8.106      False\n",
              "3      1  26/02/2010        46.63  ...  211.319643         8.106      False\n",
              "4      1  05/03/2010        46.50  ...  211.350143         8.106      False\n",
              "\n",
              "[5 rows x 12 columns]"
            ]
          },
          "metadata": {},
          "execution_count": 42
        }
      ]
    },
    {
      "cell_type": "code",
      "metadata": {
        "colab": {
          "base_uri": "https://localhost:8080/"
        },
        "id": "VmfsxQicBetc",
        "outputId": "20aa3d62-ecd1-48a6-9456-d30e3c6e0dd3"
      },
      "source": [
        "features.shape"
      ],
      "execution_count": null,
      "outputs": [
        {
          "output_type": "execute_result",
          "data": {
            "text/plain": [
              "(8190, 12)"
            ]
          },
          "metadata": {},
          "execution_count": 43
        }
      ]
    },
    {
      "cell_type": "markdown",
      "metadata": {
        "id": "nuyutaKOPuRB"
      },
      "source": [
        "### Задание 2"
      ]
    },
    {
      "cell_type": "markdown",
      "metadata": {
        "id": "2HqF-109PuRC"
      },
      "source": [
        "Попробуем сделать небольшой анализ данных. хранящихся в наших таблицах. Для этого выведите:\n",
        "1. Описательные статистики для значения еженедельных продаж\n",
        "2. Минимальную и максимальную даты, за которые у нас имеется информация по продажам.\n",
        "3. Какие категории (типы) есть у магазинов\n",
        "4. Выведите описательные статистики для числовых колонок таблицы features\n"
      ]
    },
    {
      "cell_type": "code",
      "metadata": {
        "id": "vPICn9XnuSxZ",
        "colab": {
          "base_uri": "https://localhost:8080/"
        },
        "outputId": "a092be45-2ed9-4b87-9cd8-df5a7f12bfb5"
      },
      "source": [
        "sales.Weekly_Sales.describe()"
      ],
      "execution_count": null,
      "outputs": [
        {
          "output_type": "execute_result",
          "data": {
            "text/plain": [
              "count    421570.000000\n",
              "mean      15981.258123\n",
              "std       22711.183519\n",
              "min       -4988.940000\n",
              "25%        2079.650000\n",
              "50%        7612.030000\n",
              "75%       20205.852500\n",
              "max      693099.360000\n",
              "Name: Weekly_Sales, dtype: float64"
            ]
          },
          "metadata": {},
          "execution_count": 44
        }
      ]
    },
    {
      "cell_type": "code",
      "metadata": {
        "id": "KbBbgX3cuSjR",
        "colab": {
          "base_uri": "https://localhost:8080/"
        },
        "outputId": "544e81f8-efe0-4913-9a30-ca3072702ef9"
      },
      "source": [
        "sales['Date_DT'] = pd.to_datetime(sales.Date)\n",
        "sales.Date_DT.min()"
      ],
      "execution_count": null,
      "outputs": [
        {
          "output_type": "execute_result",
          "data": {
            "text/plain": [
              "Timestamp('2010-01-10 00:00:00')"
            ]
          },
          "metadata": {},
          "execution_count": 45
        }
      ]
    },
    {
      "cell_type": "code",
      "metadata": {
        "colab": {
          "base_uri": "https://localhost:8080/"
        },
        "id": "03pKqTZ4CsNy",
        "outputId": "ac90a2eb-12c1-4510-bddc-8fd4e1a5dd54"
      },
      "source": [
        "sales.Date_DT.max()"
      ],
      "execution_count": null,
      "outputs": [
        {
          "output_type": "execute_result",
          "data": {
            "text/plain": [
              "Timestamp('2012-12-10 00:00:00')"
            ]
          },
          "metadata": {},
          "execution_count": 46
        }
      ]
    },
    {
      "cell_type": "code",
      "metadata": {
        "colab": {
          "base_uri": "https://localhost:8080/"
        },
        "id": "_Zai-kamCzCn",
        "outputId": "cdc44ff7-1e0d-4660-9c27-4347b5a100bd"
      },
      "source": [
        "stores.Type.unique()"
      ],
      "execution_count": null,
      "outputs": [
        {
          "output_type": "execute_result",
          "data": {
            "text/plain": [
              "array(['A', 'B', 'C'], dtype=object)"
            ]
          },
          "metadata": {},
          "execution_count": 47
        }
      ]
    },
    {
      "cell_type": "code",
      "metadata": {
        "colab": {
          "base_uri": "https://localhost:8080/",
          "height": 320
        },
        "id": "nlVh4DsKC9PQ",
        "outputId": "7bfd54ee-d1bd-4df8-d82c-f411ec44d88d"
      },
      "source": [
        "features.describe()"
      ],
      "execution_count": null,
      "outputs": [
        {
          "output_type": "execute_result",
          "data": {
            "text/html": [
              "<div>\n",
              "<style scoped>\n",
              "    .dataframe tbody tr th:only-of-type {\n",
              "        vertical-align: middle;\n",
              "    }\n",
              "\n",
              "    .dataframe tbody tr th {\n",
              "        vertical-align: top;\n",
              "    }\n",
              "\n",
              "    .dataframe thead th {\n",
              "        text-align: right;\n",
              "    }\n",
              "</style>\n",
              "<table border=\"1\" class=\"dataframe\">\n",
              "  <thead>\n",
              "    <tr style=\"text-align: right;\">\n",
              "      <th></th>\n",
              "      <th>Store</th>\n",
              "      <th>Temperature</th>\n",
              "      <th>Fuel_Price</th>\n",
              "      <th>MarkDown1</th>\n",
              "      <th>MarkDown2</th>\n",
              "      <th>MarkDown3</th>\n",
              "      <th>MarkDown4</th>\n",
              "      <th>MarkDown5</th>\n",
              "      <th>CPI</th>\n",
              "      <th>Unemployment</th>\n",
              "    </tr>\n",
              "  </thead>\n",
              "  <tbody>\n",
              "    <tr>\n",
              "      <th>count</th>\n",
              "      <td>8190.000000</td>\n",
              "      <td>8190.000000</td>\n",
              "      <td>8190.000000</td>\n",
              "      <td>4032.000000</td>\n",
              "      <td>2921.000000</td>\n",
              "      <td>3613.000000</td>\n",
              "      <td>3464.000000</td>\n",
              "      <td>4050.000000</td>\n",
              "      <td>7605.000000</td>\n",
              "      <td>7605.000000</td>\n",
              "    </tr>\n",
              "    <tr>\n",
              "      <th>mean</th>\n",
              "      <td>23.000000</td>\n",
              "      <td>59.356198</td>\n",
              "      <td>3.405992</td>\n",
              "      <td>7032.371786</td>\n",
              "      <td>3384.176594</td>\n",
              "      <td>1760.100180</td>\n",
              "      <td>3292.935886</td>\n",
              "      <td>4132.216422</td>\n",
              "      <td>172.460809</td>\n",
              "      <td>7.826821</td>\n",
              "    </tr>\n",
              "    <tr>\n",
              "      <th>std</th>\n",
              "      <td>12.987966</td>\n",
              "      <td>18.678607</td>\n",
              "      <td>0.431337</td>\n",
              "      <td>9262.747448</td>\n",
              "      <td>8793.583016</td>\n",
              "      <td>11276.462208</td>\n",
              "      <td>6792.329861</td>\n",
              "      <td>13086.690278</td>\n",
              "      <td>39.738346</td>\n",
              "      <td>1.877259</td>\n",
              "    </tr>\n",
              "    <tr>\n",
              "      <th>min</th>\n",
              "      <td>1.000000</td>\n",
              "      <td>-7.290000</td>\n",
              "      <td>2.472000</td>\n",
              "      <td>-2781.450000</td>\n",
              "      <td>-265.760000</td>\n",
              "      <td>-179.260000</td>\n",
              "      <td>0.220000</td>\n",
              "      <td>-185.170000</td>\n",
              "      <td>126.064000</td>\n",
              "      <td>3.684000</td>\n",
              "    </tr>\n",
              "    <tr>\n",
              "      <th>25%</th>\n",
              "      <td>12.000000</td>\n",
              "      <td>45.902500</td>\n",
              "      <td>3.041000</td>\n",
              "      <td>1577.532500</td>\n",
              "      <td>68.880000</td>\n",
              "      <td>6.600000</td>\n",
              "      <td>304.687500</td>\n",
              "      <td>1440.827500</td>\n",
              "      <td>132.364839</td>\n",
              "      <td>6.634000</td>\n",
              "    </tr>\n",
              "    <tr>\n",
              "      <th>50%</th>\n",
              "      <td>23.000000</td>\n",
              "      <td>60.710000</td>\n",
              "      <td>3.513000</td>\n",
              "      <td>4743.580000</td>\n",
              "      <td>364.570000</td>\n",
              "      <td>36.260000</td>\n",
              "      <td>1176.425000</td>\n",
              "      <td>2727.135000</td>\n",
              "      <td>182.764003</td>\n",
              "      <td>7.806000</td>\n",
              "    </tr>\n",
              "    <tr>\n",
              "      <th>75%</th>\n",
              "      <td>34.000000</td>\n",
              "      <td>73.880000</td>\n",
              "      <td>3.743000</td>\n",
              "      <td>8923.310000</td>\n",
              "      <td>2153.350000</td>\n",
              "      <td>163.150000</td>\n",
              "      <td>3310.007500</td>\n",
              "      <td>4832.555000</td>\n",
              "      <td>213.932412</td>\n",
              "      <td>8.567000</td>\n",
              "    </tr>\n",
              "    <tr>\n",
              "      <th>max</th>\n",
              "      <td>45.000000</td>\n",
              "      <td>101.950000</td>\n",
              "      <td>4.468000</td>\n",
              "      <td>103184.980000</td>\n",
              "      <td>104519.540000</td>\n",
              "      <td>149483.310000</td>\n",
              "      <td>67474.850000</td>\n",
              "      <td>771448.100000</td>\n",
              "      <td>228.976456</td>\n",
              "      <td>14.313000</td>\n",
              "    </tr>\n",
              "  </tbody>\n",
              "</table>\n",
              "</div>"
            ],
            "text/plain": [
              "             Store  Temperature  ...          CPI  Unemployment\n",
              "count  8190.000000  8190.000000  ...  7605.000000   7605.000000\n",
              "mean     23.000000    59.356198  ...   172.460809      7.826821\n",
              "std      12.987966    18.678607  ...    39.738346      1.877259\n",
              "min       1.000000    -7.290000  ...   126.064000      3.684000\n",
              "25%      12.000000    45.902500  ...   132.364839      6.634000\n",
              "50%      23.000000    60.710000  ...   182.764003      7.806000\n",
              "75%      34.000000    73.880000  ...   213.932412      8.567000\n",
              "max      45.000000   101.950000  ...   228.976456     14.313000\n",
              "\n",
              "[8 rows x 10 columns]"
            ]
          },
          "metadata": {},
          "execution_count": 48
        }
      ]
    },
    {
      "cell_type": "markdown",
      "metadata": {
        "id": "PQlhgo7iPubJ"
      },
      "source": [
        "### Задание 3"
      ]
    },
    {
      "cell_type": "markdown",
      "metadata": {
        "id": "VHKF2f1hPubK"
      },
      "source": [
        "Проверьте теорию, что тип магазина связан с его площадью. Для этого подсчитайте среднюю площадь магазина в каждой категории (A, B, C)"
      ]
    },
    {
      "cell_type": "code",
      "metadata": {
        "id": "Klc4qJTFubHb",
        "colab": {
          "base_uri": "https://localhost:8080/",
          "height": 175
        },
        "outputId": "191f35e7-e58f-4dea-85a7-283da8ee1c4c"
      },
      "source": [
        "stores[['Type', 'Size']].groupby('Type').mean()"
      ],
      "execution_count": null,
      "outputs": [
        {
          "output_type": "execute_result",
          "data": {
            "text/html": [
              "<div>\n",
              "<style scoped>\n",
              "    .dataframe tbody tr th:only-of-type {\n",
              "        vertical-align: middle;\n",
              "    }\n",
              "\n",
              "    .dataframe tbody tr th {\n",
              "        vertical-align: top;\n",
              "    }\n",
              "\n",
              "    .dataframe thead th {\n",
              "        text-align: right;\n",
              "    }\n",
              "</style>\n",
              "<table border=\"1\" class=\"dataframe\">\n",
              "  <thead>\n",
              "    <tr style=\"text-align: right;\">\n",
              "      <th></th>\n",
              "      <th>Size</th>\n",
              "    </tr>\n",
              "    <tr>\n",
              "      <th>Type</th>\n",
              "      <th></th>\n",
              "    </tr>\n",
              "  </thead>\n",
              "  <tbody>\n",
              "    <tr>\n",
              "      <th>A</th>\n",
              "      <td>177247.727273</td>\n",
              "    </tr>\n",
              "    <tr>\n",
              "      <th>B</th>\n",
              "      <td>101190.705882</td>\n",
              "    </tr>\n",
              "    <tr>\n",
              "      <th>C</th>\n",
              "      <td>40541.666667</td>\n",
              "    </tr>\n",
              "  </tbody>\n",
              "</table>\n",
              "</div>"
            ],
            "text/plain": [
              "               Size\n",
              "Type               \n",
              "A     177247.727273\n",
              "B     101190.705882\n",
              "C      40541.666667"
            ]
          },
          "metadata": {},
          "execution_count": 49
        }
      ]
    },
    {
      "cell_type": "markdown",
      "metadata": {
        "id": "QKFubQf16mfT"
      },
      "source": [
        "### Задание 4"
      ]
    },
    {
      "cell_type": "markdown",
      "metadata": {
        "id": "b5y4bCQZ6rKw"
      },
      "source": [
        "Проверьте теорию, что тип магазина влияет на продажи. Для этого подсчитайте средние еженедельные продажи для каждого типа магазинов."
      ]
    },
    {
      "cell_type": "code",
      "metadata": {
        "id": "SwoWSs63uewj",
        "colab": {
          "base_uri": "https://localhost:8080/",
          "height": 206
        },
        "outputId": "18ea1762-d9be-4ef0-ae66-c2f719ff4347"
      },
      "source": [
        "sales_stores = sales.merge(stores, how='left', on='Store')\n",
        "sales_stores.sample(5)"
      ],
      "execution_count": null,
      "outputs": [
        {
          "output_type": "execute_result",
          "data": {
            "text/html": [
              "<div>\n",
              "<style scoped>\n",
              "    .dataframe tbody tr th:only-of-type {\n",
              "        vertical-align: middle;\n",
              "    }\n",
              "\n",
              "    .dataframe tbody tr th {\n",
              "        vertical-align: top;\n",
              "    }\n",
              "\n",
              "    .dataframe thead th {\n",
              "        text-align: right;\n",
              "    }\n",
              "</style>\n",
              "<table border=\"1\" class=\"dataframe\">\n",
              "  <thead>\n",
              "    <tr style=\"text-align: right;\">\n",
              "      <th></th>\n",
              "      <th>Store</th>\n",
              "      <th>Dept</th>\n",
              "      <th>Date</th>\n",
              "      <th>Weekly_Sales</th>\n",
              "      <th>IsHoliday</th>\n",
              "      <th>Date_DT</th>\n",
              "      <th>Type</th>\n",
              "      <th>Size</th>\n",
              "    </tr>\n",
              "  </thead>\n",
              "  <tbody>\n",
              "    <tr>\n",
              "      <th>209235</th>\n",
              "      <td>22</td>\n",
              "      <td>16</td>\n",
              "      <td>20/01/2012</td>\n",
              "      <td>5085.02</td>\n",
              "      <td>False</td>\n",
              "      <td>2012-01-20</td>\n",
              "      <td>B</td>\n",
              "      <td>119557</td>\n",
              "    </tr>\n",
              "    <tr>\n",
              "      <th>315249</th>\n",
              "      <td>33</td>\n",
              "      <td>10</td>\n",
              "      <td>01/04/2011</td>\n",
              "      <td>52.78</td>\n",
              "      <td>False</td>\n",
              "      <td>2011-01-04</td>\n",
              "      <td>A</td>\n",
              "      <td>39690</td>\n",
              "    </tr>\n",
              "    <tr>\n",
              "      <th>169494</th>\n",
              "      <td>18</td>\n",
              "      <td>17</td>\n",
              "      <td>02/07/2010</td>\n",
              "      <td>16828.47</td>\n",
              "      <td>False</td>\n",
              "      <td>2010-02-07</td>\n",
              "      <td>B</td>\n",
              "      <td>120653</td>\n",
              "    </tr>\n",
              "    <tr>\n",
              "      <th>186937</th>\n",
              "      <td>19</td>\n",
              "      <td>96</td>\n",
              "      <td>24/06/2011</td>\n",
              "      <td>18618.56</td>\n",
              "      <td>False</td>\n",
              "      <td>2011-06-24</td>\n",
              "      <td>A</td>\n",
              "      <td>203819</td>\n",
              "    </tr>\n",
              "    <tr>\n",
              "      <th>27162</th>\n",
              "      <td>3</td>\n",
              "      <td>60</td>\n",
              "      <td>17/12/2010</td>\n",
              "      <td>220.00</td>\n",
              "      <td>False</td>\n",
              "      <td>2010-12-17</td>\n",
              "      <td>B</td>\n",
              "      <td>37392</td>\n",
              "    </tr>\n",
              "  </tbody>\n",
              "</table>\n",
              "</div>"
            ],
            "text/plain": [
              "        Store  Dept        Date  ...    Date_DT  Type    Size\n",
              "209235     22    16  20/01/2012  ... 2012-01-20     B  119557\n",
              "315249     33    10  01/04/2011  ... 2011-01-04     A   39690\n",
              "169494     18    17  02/07/2010  ... 2010-02-07     B  120653\n",
              "186937     19    96  24/06/2011  ... 2011-06-24     A  203819\n",
              "27162       3    60  17/12/2010  ... 2010-12-17     B   37392\n",
              "\n",
              "[5 rows x 8 columns]"
            ]
          },
          "metadata": {},
          "execution_count": 52
        }
      ]
    },
    {
      "cell_type": "code",
      "metadata": {
        "id": "c7SQJEuRuelT",
        "colab": {
          "base_uri": "https://localhost:8080/",
          "height": 175
        },
        "outputId": "6da65b2a-c80a-40c2-c450-5bbf795978dd"
      },
      "source": [
        "sales_stores[['Weekly_Sales', 'Type']].groupby('Type').mean()"
      ],
      "execution_count": null,
      "outputs": [
        {
          "output_type": "execute_result",
          "data": {
            "text/html": [
              "<div>\n",
              "<style scoped>\n",
              "    .dataframe tbody tr th:only-of-type {\n",
              "        vertical-align: middle;\n",
              "    }\n",
              "\n",
              "    .dataframe tbody tr th {\n",
              "        vertical-align: top;\n",
              "    }\n",
              "\n",
              "    .dataframe thead th {\n",
              "        text-align: right;\n",
              "    }\n",
              "</style>\n",
              "<table border=\"1\" class=\"dataframe\">\n",
              "  <thead>\n",
              "    <tr style=\"text-align: right;\">\n",
              "      <th></th>\n",
              "      <th>Weekly_Sales</th>\n",
              "    </tr>\n",
              "    <tr>\n",
              "      <th>Type</th>\n",
              "      <th></th>\n",
              "    </tr>\n",
              "  </thead>\n",
              "  <tbody>\n",
              "    <tr>\n",
              "      <th>A</th>\n",
              "      <td>20099.568043</td>\n",
              "    </tr>\n",
              "    <tr>\n",
              "      <th>B</th>\n",
              "      <td>12237.075977</td>\n",
              "    </tr>\n",
              "    <tr>\n",
              "      <th>C</th>\n",
              "      <td>9519.532538</td>\n",
              "    </tr>\n",
              "  </tbody>\n",
              "</table>\n",
              "</div>"
            ],
            "text/plain": [
              "      Weekly_Sales\n",
              "Type              \n",
              "A     20099.568043\n",
              "B     12237.075977\n",
              "C      9519.532538"
            ]
          },
          "metadata": {},
          "execution_count": 53
        }
      ]
    },
    {
      "cell_type": "markdown",
      "metadata": {
        "id": "qvAlJeqCPu9Y"
      },
      "source": [
        "### Задание 5\n"
      ]
    },
    {
      "cell_type": "markdown",
      "metadata": {
        "id": "rD7mXqDMPu9Z"
      },
      "source": [
        "Проверьте теорию, что продажи в неделю, считающуюся праздничной и в обычную неделю отличаются. Для этого подсчитайте продажи  по каждому типу недель (колонка IsHoliday_y)."
      ]
    },
    {
      "cell_type": "code",
      "metadata": {
        "id": "uhXEqQz4ujFl",
        "colab": {
          "base_uri": "https://localhost:8080/",
          "height": 143
        },
        "outputId": "91119a0d-67f8-4b88-cae2-61b2299ef28c"
      },
      "source": [
        "sales[['Weekly_Sales', 'IsHoliday']].groupby('IsHoliday').mean()"
      ],
      "execution_count": null,
      "outputs": [
        {
          "output_type": "execute_result",
          "data": {
            "text/html": [
              "<div>\n",
              "<style scoped>\n",
              "    .dataframe tbody tr th:only-of-type {\n",
              "        vertical-align: middle;\n",
              "    }\n",
              "\n",
              "    .dataframe tbody tr th {\n",
              "        vertical-align: top;\n",
              "    }\n",
              "\n",
              "    .dataframe thead th {\n",
              "        text-align: right;\n",
              "    }\n",
              "</style>\n",
              "<table border=\"1\" class=\"dataframe\">\n",
              "  <thead>\n",
              "    <tr style=\"text-align: right;\">\n",
              "      <th></th>\n",
              "      <th>Weekly_Sales</th>\n",
              "    </tr>\n",
              "    <tr>\n",
              "      <th>IsHoliday</th>\n",
              "      <th></th>\n",
              "    </tr>\n",
              "  </thead>\n",
              "  <tbody>\n",
              "    <tr>\n",
              "      <th>False</th>\n",
              "      <td>15901.445069</td>\n",
              "    </tr>\n",
              "    <tr>\n",
              "      <th>True</th>\n",
              "      <td>17035.823187</td>\n",
              "    </tr>\n",
              "  </tbody>\n",
              "</table>\n",
              "</div>"
            ],
            "text/plain": [
              "           Weekly_Sales\n",
              "IsHoliday              \n",
              "False      15901.445069\n",
              "True       17035.823187"
            ]
          },
          "metadata": {},
          "execution_count": 54
        }
      ]
    },
    {
      "cell_type": "markdown",
      "metadata": {
        "id": "J4ke5MwTQyOo"
      },
      "source": [
        "# Литература"
      ]
    },
    {
      "cell_type": "markdown",
      "metadata": {
        "id": "4jIs3IT2Q2Nj"
      },
      "source": [
        "1. Несколько интересных статей про Pandas на русском языке [на сайте Devpractice](https://devpractice.ru/category/machine-learning-and-data-analysis/pandas/)\n",
        "\n",
        "2. Небольшой онлайн-курс по Pandas [от Kaggle](https://www.kaggle.com/learn/pandas)\n",
        "\n",
        "3. Туториалы для начинающих [на официальном сайте Pandas](https://pandas.pydata.org/pandas-docs/stable/getting_started/intro_tutorials/index.html)\n",
        "\n",
        "4. Шпаргалка по Pandas [на Habr](https://habr.com/ru/company/ruvds/blog/494720/)\n",
        "\n",
        "5. Еще одна шпаргалка по Pandas [с официального сайта ](https://pandas.pydata.org/Pandas_Cheat_Sheet.pdf)\n",
        "\n",
        "6. Лекция \"Первичный анализ данных с Pandas\" из [Открытого курса по машинному обучению от ODS на Habr](https://habr.com/ru/company/ods/blog/322626/) \n"
      ]
    },
    {
      "cell_type": "markdown",
      "metadata": {
        "id": "7apOr8ZvFrKS"
      },
      "source": [
        "# The End"
      ]
    }
  ]
}