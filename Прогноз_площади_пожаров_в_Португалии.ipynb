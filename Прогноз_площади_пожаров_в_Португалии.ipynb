{
  "nbformat": 4,
  "nbformat_minor": 0,
  "metadata": {
    "colab": {
      "name": "my  \"Прогноз площади пожаров в Португалии.\" - на Kaggle\"",
      "provenance": [],
      "collapsed_sections": [],
      "include_colab_link": true
    },
    "kernelspec": {
      "display_name": "Python 3",
      "name": "python3"
    },
    "language_info": {
      "name": "python"
    },
    "accelerator": "GPU"
  },
  "cells": [
    {
      "cell_type": "markdown",
      "metadata": {
        "id": "view-in-github",
        "colab_type": "text"
      },
      "source": [
        "<a href=\"https://colab.research.google.com/github/KY-39/platform_udt3/blob/main/%D0%9F%D1%80%D0%BE%D0%B3%D0%BD%D0%BE%D0%B7_%D0%BF%D0%BB%D0%BE%D1%89%D0%B0%D0%B4%D0%B8_%D0%BF%D0%BE%D0%B6%D0%B0%D1%80%D0%BE%D0%B2_%D0%B2_%D0%9F%D0%BE%D1%80%D1%82%D1%83%D0%B3%D0%B0%D0%BB%D0%B8%D0%B8.ipynb\" target=\"_parent\"><img src=\"https://colab.research.google.com/assets/colab-badge.svg\" alt=\"Open In Colab\"/></a>"
      ]
    },
    {
      "cell_type": "markdown",
      "metadata": {
        "id": "We9z4ERyi95C"
      },
      "source": [
        "# ООО \"Университет Цифровых Технологий платформа 3\""
      ]
    },
    {
      "cell_type": "markdown",
      "metadata": {
        "id": "E6vuXjYmw4Dn"
      },
      "source": [
        "###Подключаем необходимые модули."
      ]
    },
    {
      "cell_type": "code",
      "metadata": {
        "id": "BvKZgeLhzBnJ"
      },
      "source": [
        "from tensorflow.keras.models import Sequential, load_model # Подлючаем класс создания модели Sequential\n",
        "from tensorflow.keras.layers import Dense, Flatten, Dropout, BatchNormalization # Подключаем класс Dense - полносвязный слой, и Flatten - данные выстраиваем в линию, одномерные\n",
        "from tensorflow.keras.optimizers import Adam # Подключаем оптимизатор Adam\n",
        "from tensorflow.keras import utils #Утилиты для to_categorical\n",
        "\n",
        "import tensorflow as tf # импортируем tensorflow\n",
        "\n",
        "# sklearn - популярная библиотека для машинного обучения\n",
        "# train_test_split - функция разделения на обучающую и проверочную/тестовую выборку\n",
        "from sklearn.model_selection import train_test_split\n",
        "from sklearn.metrics import confusion_matrix # для построения матрицы ошибок\n",
        "from sklearn.preprocessing import StandardScaler, MinMaxScaler  # для нормализации данных\n",
        "\n",
        "import numpy as np # Подключаем библиотеку numpy\n",
        "import pandas as pd # Библиотека pandas\n",
        "\n",
        "import matplotlib.pyplot as plt #Отрисовка изображений\n",
        "from PIL import Image #Отрисовка изображений\n",
        "\n",
        "#Отрисовывать изображения в ноутбуке, а не в консоль или файл\n",
        "%matplotlib inline"
      ],
      "execution_count": 1,
      "outputs": []
    },
    {
      "cell_type": "code",
      "metadata": {
        "colab": {
          "base_uri": "https://localhost:8080/"
        },
        "id": "RQxs3E-E9A_4",
        "outputId": "7e746dab-77ae-4436-b0d0-ad054c19b670"
      },
      "source": [
        "#запускаем - подключаем Google Drive - будем скачивать с него, т.к. намного быстрее\n",
        "#после запуска переходим по ссылке, которая появится, для идентификации\n",
        "#копируем оттуда код authorization code и вставляем здесь в окошко\n",
        "from google.colab import drive\n",
        "drive.mount('/content/drive')"
      ],
      "execution_count": 2,
      "outputs": [
        {
          "output_type": "stream",
          "name": "stdout",
          "text": [
            "Mounted at /content/drive\n"
          ]
        }
      ]
    },
    {
      "cell_type": "markdown",
      "metadata": {
        "id": "-npmaayqnsMc"
      },
      "source": [
        "## Задача регрессии, цель которой состоит в том, чтобы спрогнозировать площадь выгоревших лесных пожаров в северо-восточном регионе Португалии с использованием метеорологических и других данных."
      ]
    },
    {
      "cell_type": "markdown",
      "metadata": {
        "id": "ZkCU7hzJHmk4"
      },
      "source": [
        "Загрузите из дата сета базы метеорологических и других данных - тренировочную и валидационную, а также базу для тестирования. Подайте дата сет в нейронную сеть, постаравшись добиться максимальной точности распознавания. Для улучшения обучения можно использовать также дополнительные методы, не рассмотренные в занятиях, слои, функции активации, менять параметры оптимизатора Adam и прочие гипер параметры. Результаты рекомендуется заносить в таблицу для себя, чтобы можно было потом воспроизвести лучший вариант. Предсказание Вашей сети необходимо отправить в виде специального файла с расширением csv, чтобы войти в рейтинговую таблицу соревнования. Ответ можно улучшить и подавать результат несколько раз."
      ]
    },
    {
      "cell_type": "markdown",
      "metadata": {
        "id": "yYGF17p_JIUi"
      },
      "source": [
        "Содержание датасета: Набор данных содержится в 3 массивах (train, test, val) и содержит метки размера площади пожара. Меток нет только в тестовом наборе, их нужно спрогнозировать нейронной сетью и отослать на соревнование в виде файла csv. Существует 517 наборов данных, из них 439 обучающая выборка и 78 тестовая.\n",
        "\n",
        "Наборы данных уже нормализованы и готовы к подачи, для обучения в нейронной сети."
      ]
    },
    {
      "cell_type": "markdown",
      "metadata": {
        "id": "Ud3M8jH7xKyD"
      },
      "source": [
        "### Наборы данных до нормализации выглядел следующим образом:\n",
        "\n",
        "1. Пространственная координата оси X - x на карте парка Монтесиньо: от 1 до 9\n",
        "2. Пространственная координата оси Y - y на карте парка Монтесиньо: от 2 до 9\n",
        "3. месяц - месяц года: с января по декабрь\n",
        "4. день - день недели: от \"пн\" до \"вс\"\n",
        "5. Индекс FFMC - FFMC из системы FWI: от 18,7 до 96,20\n",
        "6. Индекс DMC - DMC из системы FWI: от 1,1 до 291,3\n",
        "7. Индекс DC - DC от системы FWI: от 7,9 до 860,6\n",
        "8. Индекс ISI - ISI от системы FWI: от 0.0 до 56.10\n",
        "9. temp - температура в градусах Цельсия: от 2,2 до 33,30\n",
        "10. RH - относительная влажность воздуха в %: от 15,0 до 100\n",
        "11. ветер - скорость ветра в км/ч: от 0,40 до 9,40\n",
        "12. дождь - наружный дождь в мм/м2 : от 0,0 до 6,4\n",
        "13. площадь - сожженная площадь леса (в га): от 0,00 до 1090,84\n",
        "(эта выходная переменная очень смещена в сторону 0.0, поэтому имеет смысл моделировать с помощью логарифмического преобразования).\n",
        "\n"
      ]
    },
    {
      "cell_type": "markdown",
      "metadata": {
        "id": "4lETgAzkJnyR"
      },
      "source": [
        "Ссылка на задание: https://www.kaggle.com/t/e594f270a7554fe5b3ce37e557d9d883\n",
        "\n"
      ]
    },
    {
      "cell_type": "markdown",
      "metadata": {
        "id": "oi6PBbPFGGQ6"
      },
      "source": [
        "### Анализ и обработка данных"
      ]
    },
    {
      "cell_type": "code",
      "metadata": {
        "colab": {
          "base_uri": "https://localhost:8080/"
        },
        "id": "qVgbIXSTLRvc",
        "outputId": "55ce23ba-9b09-4cd5-d15d-eb6bcd2f49e8"
      },
      "source": [
        "!pip install --upgrade --force-reinstall --no-deps kaggle"
      ],
      "execution_count": 3,
      "outputs": [
        {
          "output_type": "stream",
          "name": "stdout",
          "text": [
            "Collecting kaggle\n",
            "  Downloading kaggle-1.5.12.tar.gz (58 kB)\n",
            "\u001b[?25l\r\u001b[K     |█████▋                          | 10 kB 20.3 MB/s eta 0:00:01\r\u001b[K     |███████████▏                    | 20 kB 21.3 MB/s eta 0:00:01\r\u001b[K     |████████████████▊               | 30 kB 10.6 MB/s eta 0:00:01\r\u001b[K     |██████████████████████▎         | 40 kB 8.5 MB/s eta 0:00:01\r\u001b[K     |███████████████████████████▉    | 51 kB 5.3 MB/s eta 0:00:01\r\u001b[K     |████████████████████████████████| 58 kB 3.2 MB/s \n",
            "\u001b[?25hBuilding wheels for collected packages: kaggle\n",
            "  Building wheel for kaggle (setup.py) ... \u001b[?25l\u001b[?25hdone\n",
            "  Created wheel for kaggle: filename=kaggle-1.5.12-py3-none-any.whl size=73051 sha256=0be685dea0063cd37c932ceab10726b59c3944508613ca895797335ef529b158\n",
            "  Stored in directory: /root/.cache/pip/wheels/62/d6/58/5853130f941e75b2177d281eb7e44b4a98ed46dd155f556dc5\n",
            "Successfully built kaggle\n",
            "Installing collected packages: kaggle\n",
            "  Attempting uninstall: kaggle\n",
            "    Found existing installation: kaggle 1.5.12\n",
            "    Uninstalling kaggle-1.5.12:\n",
            "      Successfully uninstalled kaggle-1.5.12\n",
            "Successfully installed kaggle-1.5.12\n"
          ]
        }
      ]
    },
    {
      "cell_type": "code",
      "metadata": {
        "colab": {
          "base_uri": "https://localhost:8080/"
        },
        "id": "VCi9U2FoM4Lo",
        "outputId": "6d58ba96-5cf0-423b-b84d-ae07507cb260"
      },
      "source": [
        "%ls"
      ],
      "execution_count": 4,
      "outputs": [
        {
          "output_type": "stream",
          "name": "stdout",
          "text": [
            "\u001b[0m\u001b[01;34mdrive\u001b[0m/  \u001b[01;34msample_data\u001b[0m/\n"
          ]
        }
      ]
    },
    {
      "cell_type": "code",
      "metadata": {
        "id": "YHTOfSzcX9V6",
        "colab": {
          "base_uri": "https://localhost:8080/"
        },
        "outputId": "38149715-01b9-41f1-feab-1e8337f03798"
      },
      "source": [
        "%cd /content/drive/MyDrive/datasets/kaggle/"
      ],
      "execution_count": 5,
      "outputs": [
        {
          "output_type": "stream",
          "name": "stdout",
          "text": [
            "/content/drive/MyDrive/datasets/kaggle\n"
          ]
        }
      ]
    },
    {
      "cell_type": "code",
      "metadata": {
        "id": "7wl2vV4COzs4"
      },
      "source": [
        "!mkdir /root/.kaggle"
      ],
      "execution_count": 6,
      "outputs": []
    },
    {
      "cell_type": "code",
      "metadata": {
        "id": "A6eSnS0QUFXJ"
      },
      "source": [
        "!cp './kaggle.json' '/root/.kaggle/kaggle.json' # установка ключей"
      ],
      "execution_count": 7,
      "outputs": []
    },
    {
      "cell_type": "code",
      "metadata": {
        "id": "hSXS4J5XIuuv"
      },
      "source": [
        "# !cp '/content/drive/MyDrive/datasets/kaggle/kaggle.json' '/root/.kaggle/kaggle.json' # альтернативный вариант"
      ],
      "execution_count": 8,
      "outputs": []
    },
    {
      "cell_type": "code",
      "metadata": {
        "colab": {
          "base_uri": "https://localhost:8080/"
        },
        "id": "ZLpyQD79Iowj",
        "outputId": "d85de319-e5a3-4aa4-a5ea-6b2c900d6cec"
      },
      "source": [
        "!kaggle competitions download -c udt-3-regression"
      ],
      "execution_count": 9,
      "outputs": [
        {
          "output_type": "stream",
          "name": "stdout",
          "text": [
            "Downloading udt-3-regression.zip to /content/drive/MyDrive/datasets/kaggle\n",
            "\r  0% 0.00/19.0k [00:00<?, ?B/s]\n",
            "\r100% 19.0k/19.0k [00:00<00:00, 3.37MB/s]\n"
          ]
        }
      ]
    },
    {
      "cell_type": "code",
      "source": [
        "!ls"
      ],
      "metadata": {
        "colab": {
          "base_uri": "https://localhost:8080/"
        },
        "id": "rCpHK9P0Ds9G",
        "outputId": "2f136a85-6363-43fd-c031-6f46712cc6c8"
      },
      "execution_count": 11,
      "outputs": [
        {
          "output_type": "stream",
          "name": "stdout",
          "text": [
            "kaggle.json  udt-3-regression.zip\n"
          ]
        }
      ]
    },
    {
      "cell_type": "code",
      "source": [
        "import zipfile\n",
        "zipfile.ZipFile('udt-3-regression.zip', 'r').extractall()\n",
        "!ls"
      ],
      "metadata": {
        "colab": {
          "base_uri": "https://localhost:8080/"
        },
        "id": "d2VgOWY-EVzH",
        "outputId": "0e702e38-1a7d-48cf-a62b-048d6724ea5d"
      },
      "execution_count": 12,
      "outputs": [
        {
          "output_type": "stream",
          "name": "stdout",
          "text": [
            "kaggle.json\t\t    udt-3-regression.zip  x_train.npy  yTrainScaled.bin\n",
            "sampleSubmissionForest.csv  x_test.npy\t\t  y_train.npy\n"
          ]
        }
      ]
    },
    {
      "cell_type": "code",
      "metadata": {
        "id": "umnMjvl4PRVi"
      },
      "source": [
        "x_train = np.load('x_train.npy')\n",
        "y_train = np.load('y_train.npy')\n",
        "x_test = np.load('x_test.npy')"
      ],
      "execution_count": 13,
      "outputs": []
    },
    {
      "cell_type": "markdown",
      "metadata": {
        "id": "5BxJf4JMHJHf"
      },
      "source": [
        "### Создаем нейронную сеть с полученными данными."
      ]
    },
    {
      "cell_type": "code",
      "metadata": {
        "id": "6p8U47eS8Cfc"
      },
      "source": [
        "# Обучаем модель полученными данными\n",
        "def createModel(inputmy):\n",
        "    model = Sequential()\n",
        "    model.add(BatchNormalization(input_shape=(inputmy,)))\n",
        "    model.add(Dense(128, activation='relu'))\n",
        "    model.add(BatchNormalization())\n",
        "    model.add(Dropout(0.3))\n",
        "    model.add(Dense(1000, activation='tanh'))\n",
        "    model.add(Dense(100, activation='relu'))\n",
        "    model.add(Dense(1, activation='linear'))\n",
        "    model.compile(optimizer=Adam(lr=1e-3), loss='mse', metrics=['accuracy'])\n",
        "    # model.compile(optimizer=Adam(lr=1e-3), loss='logcosh', metrics=['accuracy'])\n",
        "    return model\n"
      ],
      "execution_count": 14,
      "outputs": []
    },
    {
      "cell_type": "code",
      "metadata": {
        "colab": {
          "base_uri": "https://localhost:8080/"
        },
        "id": "sIM7FaDdKfky",
        "outputId": "fdfb30b8-8b06-4438-fb86-9e4abaf59f5b"
      },
      "source": [
        "# Создаём пустую сеть при помощи функции createModel() с заданным аргументом\n",
        "model = createModel(x_train.shape[1])\n",
        "# Обучаем сеть\n",
        "history = model.fit(x_train, \n",
        "                    y_train, \n",
        "                    epochs=30, # Количество эпох\n",
        "                    batch_size=50, # Размер батча\n",
        "                    validation_split=0.2, \n",
        "                    verbose=1) # Выводить процесс обучения на каждой эпохе\n"
      ],
      "execution_count": 15,
      "outputs": [
        {
          "output_type": "stream",
          "name": "stdout",
          "text": [
            "Epoch 1/30\n"
          ]
        },
        {
          "output_type": "stream",
          "name": "stderr",
          "text": [
            "/usr/local/lib/python3.7/dist-packages/keras/optimizer_v2/adam.py:105: UserWarning: The `lr` argument is deprecated, use `learning_rate` instead.\n",
            "  super(Adam, self).__init__(name, **kwargs)\n"
          ]
        },
        {
          "output_type": "stream",
          "name": "stdout",
          "text": [
            "8/8 [==============================] - 5s 88ms/step - loss: 0.2685 - accuracy: 0.3704 - val_loss: 0.0431 - val_accuracy: 0.4432\n",
            "Epoch 2/30\n",
            "8/8 [==============================] - 0s 9ms/step - loss: 0.2876 - accuracy: 0.3875 - val_loss: 0.0538 - val_accuracy: 0.4432\n",
            "Epoch 3/30\n",
            "8/8 [==============================] - 0s 9ms/step - loss: 0.2080 - accuracy: 0.3960 - val_loss: 0.0428 - val_accuracy: 0.4432\n",
            "Epoch 4/30\n",
            "8/8 [==============================] - 0s 11ms/step - loss: 0.2144 - accuracy: 0.3618 - val_loss: 0.0448 - val_accuracy: 0.4432\n",
            "Epoch 5/30\n",
            "8/8 [==============================] - 0s 8ms/step - loss: 0.1505 - accuracy: 0.4245 - val_loss: 0.0422 - val_accuracy: 0.4432\n",
            "Epoch 6/30\n",
            "8/8 [==============================] - 0s 9ms/step - loss: 0.1191 - accuracy: 0.4416 - val_loss: 0.0468 - val_accuracy: 0.4432\n",
            "Epoch 7/30\n",
            "8/8 [==============================] - 0s 9ms/step - loss: 0.1363 - accuracy: 0.4103 - val_loss: 0.0462 - val_accuracy: 0.4432\n",
            "Epoch 8/30\n",
            "8/8 [==============================] - 0s 9ms/step - loss: 0.1214 - accuracy: 0.4387 - val_loss: 0.0461 - val_accuracy: 0.4432\n",
            "Epoch 9/30\n",
            "8/8 [==============================] - 0s 9ms/step - loss: 0.1176 - accuracy: 0.4245 - val_loss: 0.0547 - val_accuracy: 0.4432\n",
            "Epoch 10/30\n",
            "8/8 [==============================] - 0s 9ms/step - loss: 0.1901 - accuracy: 0.4274 - val_loss: 0.0453 - val_accuracy: 0.4432\n",
            "Epoch 11/30\n",
            "8/8 [==============================] - 0s 10ms/step - loss: 0.1228 - accuracy: 0.4074 - val_loss: 0.0467 - val_accuracy: 0.4432\n",
            "Epoch 12/30\n",
            "8/8 [==============================] - 0s 9ms/step - loss: 0.1079 - accuracy: 0.4473 - val_loss: 0.0485 - val_accuracy: 0.4432\n",
            "Epoch 13/30\n",
            "8/8 [==============================] - 0s 10ms/step - loss: 0.1067 - accuracy: 0.4217 - val_loss: 0.0497 - val_accuracy: 0.4432\n",
            "Epoch 14/30\n",
            "8/8 [==============================] - 0s 10ms/step - loss: 0.0968 - accuracy: 0.4530 - val_loss: 0.0443 - val_accuracy: 0.4432\n",
            "Epoch 15/30\n",
            "8/8 [==============================] - 0s 9ms/step - loss: 0.0803 - accuracy: 0.4530 - val_loss: 0.0570 - val_accuracy: 0.4432\n",
            "Epoch 16/30\n",
            "8/8 [==============================] - 0s 9ms/step - loss: 0.0798 - accuracy: 0.4530 - val_loss: 0.0484 - val_accuracy: 0.4432\n",
            "Epoch 17/30\n",
            "8/8 [==============================] - 0s 9ms/step - loss: 0.0684 - accuracy: 0.4672 - val_loss: 0.0482 - val_accuracy: 0.4432\n",
            "Epoch 18/30\n",
            "8/8 [==============================] - 0s 9ms/step - loss: 0.0752 - accuracy: 0.4615 - val_loss: 0.0492 - val_accuracy: 0.4432\n",
            "Epoch 19/30\n",
            "8/8 [==============================] - 0s 10ms/step - loss: 0.0621 - accuracy: 0.4672 - val_loss: 0.0492 - val_accuracy: 0.4432\n",
            "Epoch 20/30\n",
            "8/8 [==============================] - 0s 9ms/step - loss: 0.0650 - accuracy: 0.4615 - val_loss: 0.0472 - val_accuracy: 0.4432\n",
            "Epoch 21/30\n",
            "8/8 [==============================] - 0s 9ms/step - loss: 0.0594 - accuracy: 0.4758 - val_loss: 0.0526 - val_accuracy: 0.4432\n",
            "Epoch 22/30\n",
            "8/8 [==============================] - 0s 11ms/step - loss: 0.0498 - accuracy: 0.4815 - val_loss: 0.0471 - val_accuracy: 0.4432\n",
            "Epoch 23/30\n",
            "8/8 [==============================] - 0s 9ms/step - loss: 0.0565 - accuracy: 0.4729 - val_loss: 0.0545 - val_accuracy: 0.4432\n",
            "Epoch 24/30\n",
            "8/8 [==============================] - 0s 12ms/step - loss: 0.0683 - accuracy: 0.4587 - val_loss: 0.0527 - val_accuracy: 0.4432\n",
            "Epoch 25/30\n",
            "8/8 [==============================] - 0s 10ms/step - loss: 0.0587 - accuracy: 0.4729 - val_loss: 0.0499 - val_accuracy: 0.4432\n",
            "Epoch 26/30\n",
            "8/8 [==============================] - 0s 8ms/step - loss: 0.0597 - accuracy: 0.4729 - val_loss: 0.0579 - val_accuracy: 0.4432\n",
            "Epoch 27/30\n",
            "8/8 [==============================] - 0s 10ms/step - loss: 0.0583 - accuracy: 0.4644 - val_loss: 0.0538 - val_accuracy: 0.4432\n",
            "Epoch 28/30\n",
            "8/8 [==============================] - 0s 11ms/step - loss: 0.0549 - accuracy: 0.4701 - val_loss: 0.0530 - val_accuracy: 0.4432\n",
            "Epoch 29/30\n",
            "8/8 [==============================] - 0s 9ms/step - loss: 0.0476 - accuracy: 0.4815 - val_loss: 0.0504 - val_accuracy: 0.4432\n",
            "Epoch 30/30\n",
            "8/8 [==============================] - 0s 9ms/step - loss: 0.0516 - accuracy: 0.4672 - val_loss: 0.0482 - val_accuracy: 0.4432\n"
          ]
        }
      ]
    },
    {
      "cell_type": "code",
      "metadata": {
        "colab": {
          "base_uri": "https://localhost:8080/",
          "height": 279
        },
        "id": "DfLsoFt18VsM",
        "outputId": "a13cd381-479b-4d64-eca0-b400d0e98e55"
      },
      "source": [
        "# графическое отображение работы сети\n",
        "plt.plot(history.history['loss'], \n",
        "         label='Средняя абсолютная ошибка на обучающем наборе')\n",
        "plt.plot(history.history['val_loss'], \n",
        "         label='Средняя абсолютная ошибка на проверочном наборе')\n",
        "plt.xlabel('Эпоха обучения')\n",
        "plt.ylabel('Средняя абсолютная ошибка')\n",
        "plt.legend()\n",
        "plt.show()"
      ],
      "execution_count": 16,
      "outputs": [
        {
          "output_type": "display_data",
          "data": {
            "image/png": "[encoded data removed]",
            "text/plain": [
              "<Figure size 432x288 with 1 Axes>"
            ]
          },
          "metadata": {
            "needs_background": "light"
          }
        }
      ]
    },
    {
      "cell_type": "markdown",
      "metadata": {
        "id": "nktR-EzWHZwx"
      },
      "source": [
        "### Проверим результат работы на тестовых данных"
      ]
    },
    {
      "cell_type": "code",
      "metadata": {
        "id": "0vMl8R9hqJFk"
      },
      "source": [
        "prediction = model.predict(x_test).flatten() # сделаем предсказание нашей моделью тестовой выборки\n",
        "# зададим ответ в нужном формате для соревнования в kaggle\n",
        "submission = pd.DataFrame({\"Id\":range(1,len(prediction)+1),\"Label\":prediction})"
      ],
      "execution_count": 17,
      "outputs": []
    },
    {
      "cell_type": "code",
      "metadata": {
        "colab": {
          "base_uri": "https://localhost:8080/",
          "height": 206
        },
        "id": "TZ4MYEK0VUEp",
        "outputId": "3cf84782-e34f-449b-f3e4-f7f0c2de31c3"
      },
      "source": [
        "submission.head()"
      ],
      "execution_count": 18,
      "outputs": [
        {
          "output_type": "execute_result",
          "data": {
            "text/html": [
              "\n",
              "  <div id=\"df-b29eed6e-06f4-431f-a5e4-fbad7f429d55\">\n",
              "    <div class=\"colab-df-container\">\n",
              "      <div>\n",
              "<style scoped>\n",
              "    .dataframe tbody tr th:only-of-type {\n",
              "        vertical-align: middle;\n",
              "    }\n",
              "\n",
              "    .dataframe tbody tr th {\n",
              "        vertical-align: top;\n",
              "    }\n",
              "\n",
              "    .dataframe thead th {\n",
              "        text-align: right;\n",
              "    }\n",
              "</style>\n",
              "<table border=\"1\" class=\"dataframe\">\n",
              "  <thead>\n",
              "    <tr style=\"text-align: right;\">\n",
              "      <th></th>\n",
              "      <th>Id</th>\n",
              "      <th>Label</th>\n",
              "    </tr>\n",
              "  </thead>\n",
              "  <tbody>\n",
              "    <tr>\n",
              "      <th>0</th>\n",
              "      <td>1</td>\n",
              "      <td>0.152674</td>\n",
              "    </tr>\n",
              "    <tr>\n",
              "      <th>1</th>\n",
              "      <td>2</td>\n",
              "      <td>0.157008</td>\n",
              "    </tr>\n",
              "    <tr>\n",
              "      <th>2</th>\n",
              "      <td>3</td>\n",
              "      <td>0.169043</td>\n",
              "    </tr>\n",
              "    <tr>\n",
              "      <th>3</th>\n",
              "      <td>4</td>\n",
              "      <td>0.103723</td>\n",
              "    </tr>\n",
              "    <tr>\n",
              "      <th>4</th>\n",
              "      <td>5</td>\n",
              "      <td>0.101498</td>\n",
              "    </tr>\n",
              "  </tbody>\n",
              "</table>\n",
              "</div>\n",
              "      <button class=\"colab-df-convert\" onclick=\"convertToInteractive('df-b29eed6e-06f4-431f-a5e4-fbad7f429d55')\"\n",
              "              title=\"Convert this dataframe to an interactive table.\"\n",
              "              style=\"display:none;\">\n",
              "        \n",
              "  <svg xmlns=\"http://www.w3.org/2000/svg\" height=\"24px\"viewBox=\"0 0 24 24\"\n",
              "       width=\"24px\">\n",
              "    <path d=\"M0 0h24v24H0V0z\" fill=\"none\"/>\n",
              "    <path d=\"M18.56 5.44l.94 2.06.94-2.06 2.06-.94-2.06-.94-.94-2.06-.94 2.06-2.06.94zm-11 1L8.5 8.5l.94-2.06 2.06-.94-2.06-.94L8.5 2.5l-.94 2.06-2.06.94zm10 10l.94 2.06.94-2.06 2.06-.94-2.06-.94-.94-2.06-.94 2.06-2.06.94z\"/><path d=\"M17.41 7.96l-1.37-1.37c-.4-.4-.92-.59-1.43-.59-.52 0-1.04.2-1.43.59L10.3 9.45l-7.72 7.72c-.78.78-.78 2.05 0 2.83L4 21.41c.39.39.9.59 1.41.59.51 0 1.02-.2 1.41-.59l7.78-7.78 2.81-2.81c.8-.78.8-2.07 0-2.86zM5.41 20L4 18.59l7.72-7.72 1.47 1.35L5.41 20z\"/>\n",
              "  </svg>\n",
              "      </button>\n",
              "      \n",
              "  <style>\n",
              "    .colab-df-container {\n",
              "      display:flex;\n",
              "      flex-wrap:wrap;\n",
              "      gap: 12px;\n",
              "    }\n",
              "\n",
              "    .colab-df-convert {\n",
              "      background-color: #E8F0FE;\n",
              "      border: none;\n",
              "      border-radius: 50%;\n",
              "      cursor: pointer;\n",
              "      display: none;\n",
              "      fill: #1967D2;\n",
              "      height: 32px;\n",
              "      padding: 0 0 0 0;\n",
              "      width: 32px;\n",
              "    }\n",
              "\n",
              "    .colab-df-convert:hover {\n",
              "      background-color: #E2EBFA;\n",
              "      box-shadow: 0px 1px 2px rgba(60, 64, 67, 0.3), 0px 1px 3px 1px rgba(60, 64, 67, 0.15);\n",
              "      fill: #174EA6;\n",
              "    }\n",
              "\n",
              "    [theme=dark] .colab-df-convert {\n",
              "      background-color: #3B4455;\n",
              "      fill: #D2E3FC;\n",
              "    }\n",
              "\n",
              "    [theme=dark] .colab-df-convert:hover {\n",
              "      background-color: #434B5C;\n",
              "      box-shadow: 0px 1px 3px 1px rgba(0, 0, 0, 0.15);\n",
              "      filter: drop-shadow(0px 1px 2px rgba(0, 0, 0, 0.3));\n",
              "      fill: #FFFFFF;\n",
              "    }\n",
              "  </style>\n",
              "\n",
              "      <script>\n",
              "        const buttonEl =\n",
              "          document.querySelector('#df-b29eed6e-06f4-431f-a5e4-fbad7f429d55 button.colab-df-convert');\n",
              "        buttonEl.style.display =\n",
              "          google.colab.kernel.accessAllowed ? 'block' : 'none';\n",
              "\n",
              "        async function convertToInteractive(key) {\n",
              "          const element = document.querySelector('#df-b29eed6e-06f4-431f-a5e4-fbad7f429d55');\n",
              "          const dataTable =\n",
              "            await google.colab.kernel.invokeFunction('convertToInteractive',\n",
              "                                                     [key], {});\n",
              "          if (!dataTable) return;\n",
              "\n",
              "          const docLinkHtml = 'Like what you see? Visit the ' +\n",
              "            '<a target=\"_blank\" href=https://colab.research.google.com/notebooks/data_table.ipynb>data table notebook</a>'\n",
              "            + ' to learn more about interactive tables.';\n",
              "          element.innerHTML = '';\n",
              "          dataTable['output_type'] = 'display_data';\n",
              "          await google.colab.output.renderOutput(dataTable, element);\n",
              "          const docLink = document.createElement('div');\n",
              "          docLink.innerHTML = docLinkHtml;\n",
              "          element.appendChild(docLink);\n",
              "        }\n",
              "      </script>\n",
              "    </div>\n",
              "  </div>\n",
              "  "
            ],
            "text/plain": [
              "   Id     Label\n",
              "0   1  0.152674\n",
              "1   2  0.157008\n",
              "2   3  0.169043\n",
              "3   4  0.103723\n",
              "4   5  0.101498"
            ]
          },
          "metadata": {},
          "execution_count": 18
        }
      ]
    },
    {
      "cell_type": "code",
      "metadata": {
        "id": "7OGNVpoMV2cc"
      },
      "source": [
        "# запишем ответ в файл\n",
        "submission = submission.to_csv('./submission01_forest_file.csv',index=False,header=True)"
      ],
      "execution_count": 19,
      "outputs": []
    },
    {
      "cell_type": "code",
      "metadata": {
        "id": "ZozVjgyMq5gy",
        "colab": {
          "base_uri": "https://localhost:8080/"
        },
        "outputId": "33bcb619-4c25-4ed8-9c83-61a333704c96"
      },
      "source": [
        "# передадим файл для участия в соревновании на kaggle\n",
        "!kaggle competitions submit -c udt-3-regression -f submission01_forest_file.csv -m \"Message\""
      ],
      "execution_count": 20,
      "outputs": [
        {
          "output_type": "stream",
          "name": "stdout",
          "text": [
            "100% 1.09k/1.09k [00:01<00:00, 754B/s]\n",
            "Successfully submitted to Университет Цифровых Технологий платформа 3"
          ]
        }
      ]
    },
    {
      "cell_type": "markdown",
      "metadata": {
        "id": "X2OrarFaEENY"
      },
      "source": [
        "###Переходим по ссылке, чтобы увидеть таблицу лидеров.\n",
        "\n",
        "https://www.kaggle.com/c/udt-3-regression/leaderboard"
      ]
    }
  ]
}