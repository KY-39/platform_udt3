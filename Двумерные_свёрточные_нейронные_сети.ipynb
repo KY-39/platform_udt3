{
  "nbformat": 4,
  "nbformat_minor": 0,
  "metadata": {
    "colab": {
      "name": "my \"Двумерные свёрточные нейронные сети. Регуляризация. Понятие предобученных нейронных сетей в Керас.  - соревнование Kaggle\"",
      "provenance": [],
      "collapsed_sections": [],
      "include_colab_link": true
    },
    "kernelspec": {
      "name": "python3",
      "display_name": "Python 3"
    },
    "language_info": {
      "name": "python"
    },
    "accelerator": "GPU"
  },
  "cells": [
    {
      "cell_type": "markdown",
      "metadata": {
        "id": "view-in-github",
        "colab_type": "text"
      },
      "source": [
        "<a href=\"https://colab.research.google.com/github/KY-39/platform_udt3/blob/main/%D0%94%D0%B2%D1%83%D0%BC%D0%B5%D1%80%D0%BD%D1%8B%D0%B5_%D1%81%D0%B2%D1%91%D1%80%D1%82%D0%BE%D1%87%D0%BD%D1%8B%D0%B5_%D0%BD%D0%B5%D0%B9%D1%80%D0%BE%D0%BD%D0%BD%D1%8B%D0%B5_%D1%81%D0%B5%D1%82%D0%B8.ipynb\" target=\"_parent\"><img src=\"https://colab.research.google.com/assets/colab-badge.svg\" alt=\"Open In Colab\"/></a>"
      ]
    },
    {
      "cell_type": "markdown",
      "metadata": {
        "id": "uVQjRFc6abYJ"
      },
      "source": [
        "## ООО \"Университет Цифровых Технологий платформа 3\""
      ]
    },
    {
      "cell_type": "markdown",
      "metadata": {
        "id": "j8GnELe-FaWS"
      },
      "source": [
        "# Двумерные свёрточные нейронные сети. Регуляризация. Понятие предобученных нейронных сетей в Керас. - соревнование Kaggle"
      ]
    },
    {
      "cell_type": "markdown",
      "metadata": {
        "id": "X64oDHyrpn6w"
      },
      "source": [
        "## Установка и загрузка необходимых модулей"
      ]
    },
    {
      "cell_type": "code",
      "metadata": {
        "colab": {
          "base_uri": "https://localhost:8080/"
        },
        "id": "zQ1rPonrtEyZ",
        "outputId": "6452fc53-fbda-41e0-e3ac-32821360951c"
      },
      "source": [
        "# устанавливаем свежий Kaggle API\n",
        "!pip install --upgrade --force-reinstall --no-deps kaggle"
      ],
      "execution_count": null,
      "outputs": [
        {
          "output_type": "stream",
          "name": "stdout",
          "text": [
            "Collecting kaggle\n",
            "  Using cached kaggle-1.5.12-py3-none-any.whl\n",
            "Installing collected packages: kaggle\n",
            "  Attempting uninstall: kaggle\n",
            "    Found existing installation: kaggle 1.5.12\n",
            "    Uninstalling kaggle-1.5.12:\n",
            "      Successfully uninstalled kaggle-1.5.12\n",
            "Successfully installed kaggle-1.5.12\n"
          ]
        }
      ]
    },
    {
      "cell_type": "markdown",
      "metadata": {
        "id": "Y-gxdhg0jlsw"
      },
      "source": [
        "###! После установки свежего API Kaggle, рекомендуем перезапустить среду выполнения. Далее, последовательно выполнять ячейки. Иначе будут ошибки в ячейках."
      ]
    },
    {
      "cell_type": "code",
      "metadata": {
        "id": "UmLI37luQj2D"
      },
      "source": [
        "#from tensorflow.keras.datasets import mnist, cifar10 #Библиотеки с базами Mnist, Cifar10\n",
        "# Подлючаем классы создания последовательной (Sequential) и функциональной (Model) моделей \n",
        "from tensorflow.keras.models import Sequential, Model\n",
        "# Подключаем класс Dense - полносвязный слой, и Flatten - данные выстраиваем в линию, одномерные\n",
        "# Conv2D - свёрточный слой, Input - для подачи входной размерности, \n",
        "# MaxPooling1D, MaxPooling2D, AveragePooling2D - пулинговые слои для уменьшения размерности\n",
        "from tensorflow.keras.layers import AveragePooling2D, MaxPooling1D, MaxPooling2D \n",
        "from tensorflow.keras.layers import Dense, Flatten, Conv2D, Input\n",
        "from tensorflow.keras.applications import VGG16 # предобученная нейросеть \n",
        "# импортируем слои регуляризации Dropout, BatchNormalization для борьбы с переобучением\n",
        "from tensorflow.keras.layers import Dropout, BatchNormalization\n",
        "from tensorflow.keras.optimizers import Adam # Подключаем оптимизатор Adam\n",
        "from tensorflow.keras.preprocessing.image import ImageDataGenerator # для создания аугментированных изображениями\n",
        "from tensorflow.keras import utils #Утилиты для to_categorical\n",
        "# from tensorflow.keras.preprocessing import image #Для отрисовки изображения\n",
        "from sklearn.metrics import confusion_matrix # для построения матрицы ошибок\n",
        "from sklearn.utils import resample #для перемешивания выборок\n",
        "from sklearn.preprocessing import LabelBinarizer # для кодирования в бинарные метки по классам\n",
        "from sklearn.metrics import classification_report # возвращает точность, полноту, F-меру\n",
        "from sklearn.model_selection import train_test_split # функция разделения на обучающую и проверочную/тестовую выборку\n",
        "#import os #для вызова прямо в среде программирования команд операционной оболочки\n",
        "#import os.path # чтобы можно было добавлять цифры (переменные) в путь\n",
        "#from imutils import paths # для загрузки картинок из файлов\n",
        "#import glob # для получения списка имён файлов вместе с путём к ним\n",
        "import zipfile # для работы с архивами zip\n",
        "#import io # для работы с архивами, input - output\n",
        "import numpy as np # Подключаем библиотеку numpy\n",
        "# import pylab # Модуль для построения графиков\n",
        "import pandas as pd # Библиотека pandas\n",
        "# from mpl_toolkits.mplot3d import Axes3D # Модуль для трехмерной графики\n",
        "# from google.colab import files #Для загрузки своей картинки\n",
        "import matplotlib.pyplot as plt #Отрисовка изображений\n",
        "import seaborn as sns # seaborn, надстройка визуализации над matplotlib\n",
        "#from PIL import Image #Отрисовка изображений\n",
        "#import cv2 # для загрузки и качественной обработки картинок\n",
        "import random #Для генерации случайных выборок из датасета\n",
        "#import gc # для очистки памяти от лишних данных\n",
        "\n",
        "from google.colab import drive # для подключения Google Диска\n",
        "#Отрисовывать изображения в ноутбуке, а не в консоль или файл\n",
        "%matplotlib inline "
      ],
      "execution_count": null,
      "outputs": []
    },
    {
      "cell_type": "markdown",
      "metadata": {
        "id": "8USkuMZaxQP0"
      },
      "source": [
        "#Домашнее задание"
      ]
    },
    {
      "cell_type": "markdown",
      "metadata": {
        "id": "S2Q6N3YvxZHZ"
      },
      "source": [
        "##**Задание 1.** \n",
        "Загрузите из датасета по ссылке ниже базы рентгеновских снимков пневмонии - тренировочную и валидационную, а также базу для тестирования. С помощью методов, изученных в занятиях по работе с таблицами Pandas, Анализ и обработка данных, и данном занятии, обработайте датасет и подайте в нейронную сеть, постаравшись добиться максимальной точности распознавания. Для улучшения обучения можно использовать также дополнительные методы, не рассмотренные в занятиях, слои, функции активации, менять параметры оптимизатора Adam и прочие гиперпараметры. Результаты рекомендуется заносить в таблицу для себя, чтобы можно было потом воспроизвести лучший вариант. Предсказание Вашей сети необходимо отправить в виде специального файла с расширением csv, чтобы войти в рейтинговую таблицу соревнования. Ответ можно улучшить и подавать результат несколько раз.\n",
        "\n",
        "Ссылка на соревнование (не забудьте вначале зарегистрироваться на Каггл и войти в аккаунт, тогда ссылка приведёт на соревнование):\n",
        "\n",
        "https://www.kaggle.com/t/29db161288094323adb3a8e10ce0d1d9\n",
        "\n",
        "Таблица лидеров:\n",
        "\n",
        "https://www.kaggle.com/c/university-of-digital-technologies3/leaderboard\n",
        "\n",
        "Ссылка на датасет на Kaggle:\n",
        "\n",
        "https://www.kaggle.com/paultimothymooney/chest-xray-pneumonia"
      ]
    },
    {
      "cell_type": "markdown",
      "metadata": {
        "id": "dvoazCaTMb1m"
      },
      "source": [
        "Описание: Это датасет рентгеновских снимков грудной клетки больных и здоровых людей. Рентген здоровой грудной клетки показывает чистые легкие без каких-либо участков аномального помутнения на изображении. Бактериальная пневмония обычно проявляется фокальной долевой консолидацией, тогда как вирусная пневмония проявляется более диффузным «интерстициальным» паттерном в обоих легких.\n",
        "\n",
        "Содержание датасета:\n",
        "Набор данных содержится в 3 массивах (train, test, val) и содержит метки категорий изображений (Pneumonia/Normal). Меток нет только в тестовом наборе, их нужно спрогнозировать нейронной сетью и отослать на соревнование в виде файла csv. Существует 5 863 рентгеновских снимка (JPEG) и 2 категории (Pneumonia/Normal).\n",
        "\n",
        "Рентгеновские снимки грудной клетки (передне-задние) были отобраны из ретроспективных когорт педиатрических пациентов в возрасте от одного до пяти лет из Медицинского центра женщин и детей Гуанчжоу, Гуанчжоу. Все рентгеновские снимки грудной клетки выполнялись в рамках обычного клинического ухода за пациентами.\n",
        "\n",
        "Для анализа рентгенограмм грудной клетки все рентгенограммы грудной клетки изначально проверялись для контроля качества путем удаления всех изображений низкого качества или нечитаемых изображений. Затем диагнозы для изображений были оценены двумя опытными врачами, прежде чем они были допущены к обучению ИИ. Чтобы учесть любые ошибки в выставлении оценок, набор оценок был также проверен третьим экспертом.\n",
        "\n",
        "Данные: https://data.mendeley.com/datasets/rscbjbr9sj/2\n",
        "\n",
        "Лицензия: CC BY 4.0\n",
        "\n",
        "Ссылка для цитирования: http://www.cell.com/cell/fulltext/S0092-8674(18)30154-5"
      ]
    },
    {
      "cell_type": "markdown",
      "metadata": {
        "id": "MSVxut7ZBnPS"
      },
      "source": [
        "##Решение"
      ]
    },
    {
      "cell_type": "markdown",
      "metadata": {
        "id": "RWrlu3Vl2E3c"
      },
      "source": [
        "#### Создаём правильную папку для ключа Каггл"
      ]
    },
    {
      "cell_type": "code",
      "metadata": {
        "id": "SUpEMyAVEv3z",
        "colab": {
          "base_uri": "https://localhost:8080/"
        },
        "outputId": "a79d826a-0cd1-43be-e91f-cd6b37afb2e7"
      },
      "source": [
        "!mkdir ~/.kaggle"
      ],
      "execution_count": null,
      "outputs": [
        {
          "output_type": "stream",
          "name": "stdout",
          "text": [
            "mkdir: cannot create directory ‘/root/.kaggle’: File exists\n"
          ]
        }
      ]
    },
    {
      "cell_type": "code",
      "metadata": {
        "colab": {
          "base_uri": "https://localhost:8080/"
        },
        "id": "Ll5gq1rhE1ay",
        "outputId": "7a298311-dd0c-45b6-b05c-a2470fa61463"
      },
      "source": [
        "%cd ~/.kaggle"
      ],
      "execution_count": null,
      "outputs": [
        {
          "output_type": "stream",
          "name": "stdout",
          "text": [
            "/root/.kaggle\n"
          ]
        }
      ]
    },
    {
      "cell_type": "code",
      "metadata": {
        "colab": {
          "base_uri": "https://localhost:8080/"
        },
        "id": "O1SgDLkZES1J",
        "outputId": "2ee3f97b-546b-4217-c231-199ba40315a3"
      },
      "source": [
        "#запускаем - подключаем Google Drive - будем скачивать с него, т.к. намного быстрее\n",
        "#после запуска переходим по ссылке, которая появится, для идентификации\n",
        "#копируем оттуда код authorization code и вставляем здесь в окошко\n",
        "drive.mount('/content/drive')"
      ],
      "execution_count": null,
      "outputs": [
        {
          "output_type": "stream",
          "name": "stdout",
          "text": [
            "Mounted at /content/drive\n"
          ]
        }
      ]
    },
    {
      "cell_type": "markdown",
      "metadata": {
        "id": "hLdGz2mH1hTr"
      },
      "source": [
        "#### Устанавливаем ключ Каггл, чтобы участвовать в соревнованиях\n",
        "\n",
        "Нужно зарегистрироваться на Каггл (https://www.kaggle.com/) и скачать ключ для взаимодействия с API соревновательной системы Каггла. После регистрации, справа появятся Ваши имя и фамилия - ссылка на персональную страницу. Нажмите на них. Когда страница загрузится, справа увидите Account. Нажимаете на надпись, затем прокручиваете страницу вниз, до вкладки API, там нажимаете Create New API Token. \n",
        "Ключ - это файл kaggle.json, который скачается после нажатия. Нужно скопировать его в папку Google Drive, предварительно её создав: My Drive/datasets/kaggle/ (из Колаба её адрес, который будем указывать для загрузки, такой: /content/drive/My Drive/datasets/kaggle/)."
      ]
    },
    {
      "cell_type": "code",
      "metadata": {
        "id": "AvC38DWIKTk9"
      },
      "source": [
        "# нужно зарегистрироваться на Каггл и скачать ключ для взаимодействия с API\n",
        "# соревновательной системы Каггла kaggle.json. Нужно скопировать его в папку\n",
        "# Google Drive, предварительно её создав: /content/drive/My Drive/datasets/kaggle/\n",
        "!cp '/content/drive/My Drive/datasets/kaggle/kaggle.json' '/root/.kaggle/kaggle.json'"
      ],
      "execution_count": null,
      "outputs": []
    },
    {
      "cell_type": "code",
      "metadata": {
        "colab": {
          "base_uri": "https://localhost:8080/"
        },
        "id": "lM42Vv3Dn-zR",
        "outputId": "b185eb84-39f6-4af0-b767-59d57a6188a2"
      },
      "source": [
        "!kaggle --version"
      ],
      "execution_count": null,
      "outputs": [
        {
          "output_type": "stream",
          "name": "stdout",
          "text": [
            "Kaggle API 1.5.12\n"
          ]
        }
      ]
    },
    {
      "cell_type": "code",
      "metadata": {
        "id": "hfTt9PCBOHnE",
        "colab": {
          "base_uri": "https://localhost:8080/"
        },
        "outputId": "addcf32e-50c4-4ca4-9a2b-7aef4ca14bf5"
      },
      "source": [
        "!ls"
      ],
      "execution_count": null,
      "outputs": [
        {
          "output_type": "stream",
          "name": "stdout",
          "text": [
            "kaggle.json\n"
          ]
        }
      ]
    },
    {
      "cell_type": "markdown",
      "metadata": {
        "id": "1xkp9LMs9vZn"
      },
      "source": [
        "###Скачиваем датасет, обрабатываем"
      ]
    },
    {
      "cell_type": "code",
      "metadata": {
        "colab": {
          "base_uri": "https://localhost:8080/"
        },
        "id": "-4scLEgcpCJ8",
        "outputId": "f5ab30ed-7ff3-48f1-8ad8-9c8ef732d17a"
      },
      "source": [
        "# скачиваем данные с Каггл\n",
        "!kaggle competitions download -c university-of-digital-technologies3"
      ],
      "execution_count": null,
      "outputs": [
        {
          "output_type": "stream",
          "name": "stdout",
          "text": [
            "Downloading university-of-digital-technologies3.zip to /root/.kaggle\n",
            " 96% 218M/226M [00:01<00:00, 143MB/s]\n",
            "100% 226M/226M [00:01<00:00, 154MB/s]\n"
          ]
        }
      ]
    },
    {
      "cell_type": "code",
      "metadata": {
        "id": "i8bslcO1ipFZ"
      },
      "source": [
        "# загрузили из архива, распаковали\n",
        "z = zipfile.ZipFile('/root/.kaggle/university-of-digital-technologies3.zip', 'r') \n",
        "z.extractall()"
      ],
      "execution_count": null,
      "outputs": []
    },
    {
      "cell_type": "code",
      "metadata": {
        "id": "nLWZa496s4AK"
      },
      "source": [
        "# удаляем архив, чтобы не занимал место на диске\n",
        "!rm university-of-digital-technologies3.zip"
      ],
      "execution_count": null,
      "outputs": []
    },
    {
      "cell_type": "code",
      "metadata": {
        "colab": {
          "base_uri": "https://localhost:8080/"
        },
        "id": "CpVSw-IPLu3a",
        "outputId": "9e2ac817-e066-43ae-8bbd-4e0141aca375"
      },
      "source": [
        "!ls"
      ],
      "execution_count": null,
      "outputs": [
        {
          "output_type": "stream",
          "name": "stdout",
          "text": [
            "kaggle.json\t      test_pneumonia.npz   val_pneumonia.npz\n",
            "sampleSubmission.csv  train_pneumonia.npz\n"
          ]
        }
      ]
    },
    {
      "cell_type": "code",
      "metadata": {
        "id": "VwT1sV8WTo7F"
      },
      "source": [
        "# разархивируем архив Numpy\n",
        "train = np.load('train_pneumonia.npz')\n",
        "test = np.load('test_pneumonia.npz')\n",
        "val = np.load('val_pneumonia.npz')"
      ],
      "execution_count": null,
      "outputs": []
    },
    {
      "cell_type": "code",
      "metadata": {
        "id": "LlBEUnx4ajCw",
        "colab": {
          "base_uri": "https://localhost:8080/"
        },
        "outputId": "4b99631f-59e9-491c-a08a-05a237ebc5b6"
      },
      "source": [
        "train.files"
      ],
      "execution_count": null,
      "outputs": [
        {
          "output_type": "execute_result",
          "data": {
            "text/plain": [
              "['X_train', 'Y_train', 'Y_train_cat']"
            ]
          },
          "metadata": {},
          "execution_count": 14
        }
      ]
    },
    {
      "cell_type": "code",
      "metadata": {
        "id": "_kjZVFvNb7qf"
      },
      "source": [
        "# извлекаем выборки\n",
        "X_train = train['X_train']\n",
        "Y_train = train['Y_train']\n",
        "Y_train_cat = train['Y_train_cat']\n",
        "\n",
        "X_val = val['X_val']\n",
        "Y_val = val['Y_val']\n",
        "Y_val_cat = val['Y_val_cat']\n",
        "\n",
        "X_test = test['X_test']"
      ],
      "execution_count": null,
      "outputs": []
    },
    {
      "cell_type": "code",
      "metadata": {
        "id": "7zWl5n__e98d",
        "colab": {
          "base_uri": "https://localhost:8080/"
        },
        "outputId": "7bc7d45b-aa50-4e6d-f88b-575e319ef1da"
      },
      "source": [
        "X_train_c = np.expand_dims(X_train, axis = 3)\n",
        "print(X_train_c.shape)\n",
        "X_test_c = np.expand_dims(X_test, axis = 3)\n",
        "print(X_test_c.shape)\n",
        "X_val_c = np.expand_dims(X_val, axis = 3)\n",
        "print(X_val_c.shape)"
      ],
      "execution_count": null,
      "outputs": [
        {
          "output_type": "stream",
          "name": "stdout",
          "text": [
            "(2532, 192, 192, 1)\n",
            "(1661, 192, 192, 1)\n",
            "(1663, 192, 192, 1)\n"
          ]
        }
      ]
    },
    {
      "cell_type": "code",
      "metadata": {
        "colab": {
          "base_uri": "https://localhost:8080/"
        },
        "id": "IkEHgQmd15LM",
        "outputId": "9f7fa1c1-c559-4c42-86e7-cec54f862ad7"
      },
      "source": [
        "print(Y_train.shape)\n",
        "print(Y_val.shape)"
      ],
      "execution_count": null,
      "outputs": [
        {
          "output_type": "stream",
          "name": "stdout",
          "text": [
            "(2532,)\n",
            "(1663,)\n"
          ]
        }
      ]
    },
    {
      "cell_type": "markdown",
      "metadata": {
        "id": "MXNesB4he98j"
      },
      "source": [
        "###Создаём и обучаем нейронную сеть"
      ]
    },
    {
      "cell_type": "code",
      "metadata": {
        "id": "0Tsc6tX2nT_N"
      },
      "source": [
        "IMG_SIZE = 192"
      ],
      "execution_count": null,
      "outputs": []
    },
    {
      "cell_type": "code",
      "metadata": {
        "id": "hX8aQ-r-e98j",
        "colab": {
          "base_uri": "https://localhost:8080/"
        },
        "outputId": "271bc580-2816-40b4-86d0-5a829543fc55"
      },
      "source": [
        "model_2dc = Sequential() # Создаём свёрточную сеть\n",
        "# Добавляем свёрточный слой на 16 нейронов (фильтра, ядра), матрица 3x3 с relu-активацией\n",
        "model_2dc.add(Conv2D(16, 3, padding = 'same', input_shape=(IMG_SIZE,IMG_SIZE,1), activation=\"relu\"))\n",
        "model_2dc.add(Conv2D(16, 3, padding = 'same', activation=\"relu\"))\n",
        "model_2dc.add(MaxPooling2D()) # пулинг слой уменьшения размерности \n",
        "model_2dc.add(Flatten()) # Вытягиваем данные в одномерный вектор только для классификационного слоя\n",
        "model_2dc.add(Dense(10, activation=\"relu\")) # Добавляем полносвязный слой с relu-активацией\n",
        "model_2dc.add(Dense(1, activation=\"sigmoid\")) # Добавляем полносвязный слой с softmax-активацией\n",
        "model_2dc.compile(loss='binary_crossentropy', optimizer=Adam(lr=0.001), metrics=[\"accuracy\"]) # Компилируем модель\n",
        "\n",
        "print(model_2dc.summary()) #Вывод структуры модели\n"
      ],
      "execution_count": null,
      "outputs": [
        {
          "output_type": "stream",
          "name": "stdout",
          "text": [
            "Model: \"sequential\"\n",
            "_________________________________________________________________\n",
            " Layer (type)                Output Shape              Param #   \n",
            "=================================================================\n",
            " conv2d (Conv2D)             (None, 192, 192, 16)      160       \n",
            "                                                                 \n",
            " conv2d_1 (Conv2D)           (None, 192, 192, 16)      2320      \n",
            "                                                                 \n",
            " max_pooling2d (MaxPooling2D  (None, 96, 96, 16)       0         \n",
            " )                                                               \n",
            "                                                                 \n",
            " flatten (Flatten)           (None, 147456)            0         \n",
            "                                                                 \n",
            " dense (Dense)               (None, 10)                1474570   \n",
            "                                                                 \n",
            " dense_1 (Dense)             (None, 1)                 11        \n",
            "                                                                 \n",
            "=================================================================\n",
            "Total params: 1,477,061\n",
            "Trainable params: 1,477,061\n",
            "Non-trainable params: 0\n",
            "_________________________________________________________________\n",
            "None\n"
          ]
        },
        {
          "output_type": "stream",
          "name": "stderr",
          "text": [
            "/usr/local/lib/python3.7/dist-packages/keras/optimizer_v2/adam.py:105: UserWarning: The `lr` argument is deprecated, use `learning_rate` instead.\n",
            "  super(Adam, self).__init__(name, **kwargs)\n"
          ]
        }
      ]
    },
    {
      "cell_type": "code",
      "metadata": {
        "id": "ztK9QCwQe98k",
        "colab": {
          "base_uri": "https://localhost:8080/"
        },
        "outputId": "0ce482ff-cead-476a-cc03-880ee9b36785"
      },
      "source": [
        "my_model_2dc = model_2dc.fit(X_train_c, Y_train, batch_size=128, epochs=25, validation_data=(X_val_c, Y_val), verbose=1)"
      ],
      "execution_count": null,
      "outputs": [
        {
          "output_type": "stream",
          "name": "stdout",
          "text": [
            "Epoch 1/25\n",
            "20/20 [==============================] - 21s 359ms/step - loss: 0.8220 - accuracy: 0.6106 - val_loss: 0.3625 - val_accuracy: 0.9212\n",
            "Epoch 2/25\n",
            "20/20 [==============================] - 5s 240ms/step - loss: 0.3844 - accuracy: 0.8633 - val_loss: 0.3435 - val_accuracy: 0.8587\n",
            "Epoch 3/25\n",
            "20/20 [==============================] - 5s 240ms/step - loss: 0.2375 - accuracy: 0.9036 - val_loss: 0.2413 - val_accuracy: 0.9068\n",
            "Epoch 4/25\n",
            "20/20 [==============================] - 5s 239ms/step - loss: 0.1520 - accuracy: 0.9471 - val_loss: 0.2040 - val_accuracy: 0.9236\n",
            "Epoch 5/25\n",
            "20/20 [==============================] - 5s 241ms/step - loss: 0.1195 - accuracy: 0.9601 - val_loss: 0.2223 - val_accuracy: 0.9104\n",
            "Epoch 6/25\n",
            "20/20 [==============================] - 5s 240ms/step - loss: 0.0878 - accuracy: 0.9727 - val_loss: 0.2300 - val_accuracy: 0.9333\n",
            "Epoch 7/25\n",
            "20/20 [==============================] - 5s 241ms/step - loss: 0.0825 - accuracy: 0.9743 - val_loss: 0.2108 - val_accuracy: 0.9357\n",
            "Epoch 8/25\n",
            "20/20 [==============================] - 5s 241ms/step - loss: 0.0761 - accuracy: 0.9739 - val_loss: 0.2449 - val_accuracy: 0.9014\n",
            "Epoch 9/25\n",
            "20/20 [==============================] - 5s 240ms/step - loss: 0.0613 - accuracy: 0.9791 - val_loss: 0.2217 - val_accuracy: 0.9369\n",
            "Epoch 10/25\n",
            "20/20 [==============================] - 5s 242ms/step - loss: 0.0562 - accuracy: 0.9783 - val_loss: 0.2225 - val_accuracy: 0.9284\n",
            "Epoch 11/25\n",
            "20/20 [==============================] - 5s 241ms/step - loss: 0.0505 - accuracy: 0.9838 - val_loss: 0.2645 - val_accuracy: 0.9369\n",
            "Epoch 12/25\n",
            "20/20 [==============================] - 5s 242ms/step - loss: 0.0392 - accuracy: 0.9882 - val_loss: 0.2404 - val_accuracy: 0.9381\n",
            "Epoch 13/25\n",
            "20/20 [==============================] - 5s 243ms/step - loss: 0.0293 - accuracy: 0.9953 - val_loss: 0.2427 - val_accuracy: 0.9351\n",
            "Epoch 14/25\n",
            "20/20 [==============================] - 5s 244ms/step - loss: 0.0291 - accuracy: 0.9917 - val_loss: 0.2791 - val_accuracy: 0.9387\n",
            "Epoch 15/25\n",
            "20/20 [==============================] - 5s 241ms/step - loss: 0.0226 - accuracy: 0.9945 - val_loss: 0.2462 - val_accuracy: 0.9321\n",
            "Epoch 16/25\n",
            "20/20 [==============================] - 5s 243ms/step - loss: 0.0199 - accuracy: 0.9953 - val_loss: 0.2814 - val_accuracy: 0.9423\n",
            "Epoch 17/25\n",
            "20/20 [==============================] - 5s 242ms/step - loss: 0.0182 - accuracy: 0.9968 - val_loss: 0.2633 - val_accuracy: 0.9369\n",
            "Epoch 18/25\n",
            "20/20 [==============================] - 5s 242ms/step - loss: 0.0126 - accuracy: 0.9992 - val_loss: 0.2696 - val_accuracy: 0.9369\n",
            "Epoch 19/25\n",
            "20/20 [==============================] - 5s 244ms/step - loss: 0.0133 - accuracy: 0.9980 - val_loss: 0.2860 - val_accuracy: 0.9417\n",
            "Epoch 20/25\n",
            "20/20 [==============================] - 5s 243ms/step - loss: 0.0101 - accuracy: 0.9992 - val_loss: 0.2740 - val_accuracy: 0.9345\n",
            "Epoch 21/25\n",
            "20/20 [==============================] - 5s 243ms/step - loss: 0.0099 - accuracy: 0.9980 - val_loss: 0.3646 - val_accuracy: 0.9357\n",
            "Epoch 22/25\n",
            "20/20 [==============================] - 5s 243ms/step - loss: 0.0104 - accuracy: 0.9988 - val_loss: 0.3564 - val_accuracy: 0.9369\n",
            "Epoch 23/25\n",
            "20/20 [==============================] - 5s 243ms/step - loss: 0.0133 - accuracy: 0.9980 - val_loss: 0.3073 - val_accuracy: 0.9369\n",
            "Epoch 24/25\n",
            "20/20 [==============================] - 5s 243ms/step - loss: 0.0053 - accuracy: 1.0000 - val_loss: 0.3162 - val_accuracy: 0.9387\n",
            "Epoch 25/25\n",
            "20/20 [==============================] - 5s 243ms/step - loss: 0.0042 - accuracy: 1.0000 - val_loss: 0.3253 - val_accuracy: 0.9411\n"
          ]
        }
      ]
    },
    {
      "cell_type": "markdown",
      "metadata": {
        "id": "J8UwHSEye98k"
      },
      "source": [
        "###Выводим графики точности"
      ]
    },
    {
      "cell_type": "code",
      "metadata": {
        "id": "xRFSAFd3e98l",
        "colab": {
          "base_uri": "https://localhost:8080/",
          "height": 279
        },
        "outputId": "6633dea9-de6f-435a-a096-d2a1596029b0"
      },
      "source": [
        "# Выводим график точности на обучающей выборке\n",
        "# label - имя графика в легенде\n",
        "plt.plot(my_model_2dc.history['accuracy'], \n",
        "         label='Доля верных ответов на обучающем наборе')\n",
        "\n",
        "# Выводим график точности на проверочной выборке\n",
        "plt.plot(my_model_2dc.history['val_accuracy'], \n",
        "         label='Доля верных ответов на проверочном наборе')\n",
        "\n",
        "# Выводим подписи осей\n",
        "plt.xlabel('Эпоха обучения')\n",
        "plt.ylabel('Доля верных ответов')\n",
        "\n",
        "# Выводим легенду\n",
        "plt.legend()\n",
        "plt.show()"
      ],
      "execution_count": null,
      "outputs": [
        {
          "output_type": "display_data",
          "data": {
            "image/png": "[encoded data removed]",
            "text/plain": [
              "<Figure size 432x288 with 1 Axes>"
            ]
          },
          "metadata": {
            "needs_background": "light"
          }
        }
      ]
    },
    {
      "cell_type": "markdown",
      "metadata": {
        "id": "A98XdpWS-y4R"
      },
      "source": [
        "###Делаем предсказания моделью"
      ]
    },
    {
      "cell_type": "code",
      "metadata": {
        "id": "BDiBoffySPo1"
      },
      "source": [
        "y_pred = model_2dc.predict(X_test_c)"
      ],
      "execution_count": null,
      "outputs": []
    },
    {
      "cell_type": "code",
      "metadata": {
        "colab": {
          "base_uri": "https://localhost:8080/"
        },
        "id": "rtaWbDttv0dd",
        "outputId": "4d94aab8-de31-433b-faee-6d7af1cd0c53"
      },
      "source": [
        "y_pred.shape"
      ],
      "execution_count": null,
      "outputs": [
        {
          "output_type": "execute_result",
          "data": {
            "text/plain": [
              "(1661, 1)"
            ]
          },
          "metadata": {},
          "execution_count": 23
        }
      ]
    },
    {
      "cell_type": "code",
      "metadata": {
        "colab": {
          "base_uri": "https://localhost:8080/"
        },
        "id": "PG_202VjuOMN",
        "outputId": "99f3e290-9d6f-4d6b-c0ee-64c49a66d156"
      },
      "source": [
        "y_pred[0]"
      ],
      "execution_count": null,
      "outputs": [
        {
          "output_type": "execute_result",
          "data": {
            "text/plain": [
              "array([0.99982435], dtype=float32)"
            ]
          },
          "metadata": {},
          "execution_count": 24
        }
      ]
    },
    {
      "cell_type": "code",
      "metadata": {
        "colab": {
          "base_uri": "https://localhost:8080/"
        },
        "id": "IXjHwlQavpP2",
        "outputId": "2fc17ec8-f4a0-45bf-bd8f-585477b85e68"
      },
      "source": [
        "# переводим данные в формат 0 - 1\n",
        "y = (y_pred > .5).astype('float32')\n",
        "y = y.reshape(y.shape[0])\n",
        "y"
      ],
      "execution_count": null,
      "outputs": [
        {
          "output_type": "execute_result",
          "data": {
            "text/plain": [
              "array([1., 1., 1., ..., 1., 1., 1.], dtype=float32)"
            ]
          },
          "metadata": {},
          "execution_count": 25
        }
      ]
    },
    {
      "cell_type": "code",
      "metadata": {
        "colab": {
          "base_uri": "https://localhost:8080/"
        },
        "id": "EPDgX8yPtgpY",
        "outputId": "b0a73cd1-2051-48a5-d968-685fcb26c54a"
      },
      "source": [
        "# убеждаемся, что есть все типы ответов\n",
        "np.unique(y)"
      ],
      "execution_count": null,
      "outputs": [
        {
          "output_type": "execute_result",
          "data": {
            "text/plain": [
              "array([0., 1.], dtype=float32)"
            ]
          },
          "metadata": {},
          "execution_count": 26
        }
      ]
    },
    {
      "cell_type": "markdown",
      "metadata": {
        "id": "zCBqQF1k-47m"
      },
      "source": [
        "###Переводим ответ в правильный формат, отсылаем для подсчёта рейтинга"
      ]
    },
    {
      "cell_type": "code",
      "metadata": {
        "id": "TgviiwL6fqUk",
        "colab": {
          "base_uri": "https://localhost:8080/",
          "height": 206
        },
        "outputId": "80f763ae-6562-4b30-e917-6ac5a196e079"
      },
      "source": [
        "# создаём датафрейм в нужном формате\n",
        "submission = pd.DataFrame({\"Id\":range(1,len(y_pred)+1),\"Label\":y})\n",
        "submission.head()"
      ],
      "execution_count": null,
      "outputs": [
        {
          "output_type": "execute_result",
          "data": {
            "text/html": [
              "<div>\n",
              "<style scoped>\n",
              "    .dataframe tbody tr th:only-of-type {\n",
              "        vertical-align: middle;\n",
              "    }\n",
              "\n",
              "    .dataframe tbody tr th {\n",
              "        vertical-align: top;\n",
              "    }\n",
              "\n",
              "    .dataframe thead th {\n",
              "        text-align: right;\n",
              "    }\n",
              "</style>\n",
              "<table border=\"1\" class=\"dataframe\">\n",
              "  <thead>\n",
              "    <tr style=\"text-align: right;\">\n",
              "      <th></th>\n",
              "      <th>Id</th>\n",
              "      <th>Label</th>\n",
              "    </tr>\n",
              "  </thead>\n",
              "  <tbody>\n",
              "    <tr>\n",
              "      <th>0</th>\n",
              "      <td>1</td>\n",
              "      <td>1.0</td>\n",
              "    </tr>\n",
              "    <tr>\n",
              "      <th>1</th>\n",
              "      <td>2</td>\n",
              "      <td>1.0</td>\n",
              "    </tr>\n",
              "    <tr>\n",
              "      <th>2</th>\n",
              "      <td>3</td>\n",
              "      <td>1.0</td>\n",
              "    </tr>\n",
              "    <tr>\n",
              "      <th>3</th>\n",
              "      <td>4</td>\n",
              "      <td>0.0</td>\n",
              "    </tr>\n",
              "    <tr>\n",
              "      <th>4</th>\n",
              "      <td>5</td>\n",
              "      <td>1.0</td>\n",
              "    </tr>\n",
              "  </tbody>\n",
              "</table>\n",
              "</div>"
            ],
            "text/plain": [
              "   Id  Label\n",
              "0   1    1.0\n",
              "1   2    1.0\n",
              "2   3    1.0\n",
              "3   4    0.0\n",
              "4   5    1.0"
            ]
          },
          "metadata": {},
          "execution_count": 27
        }
      ]
    },
    {
      "cell_type": "code",
      "metadata": {
        "id": "A5Sqf5jqfqUl"
      },
      "source": [
        "# сохраняем его как csv\n",
        "submission = submission.to_csv('./submission.csv', sep=',', index=False, header=True)"
      ],
      "execution_count": null,
      "outputs": []
    },
    {
      "cell_type": "code",
      "metadata": {
        "id": "V6akP-p6O1YJ",
        "colab": {
          "base_uri": "https://localhost:8080/"
        },
        "outputId": "9867136a-888a-4fae-babe-015282514eac"
      },
      "source": [
        "# отправляем на соревнование\n",
        "!kaggle competitions submit -c university-of-digital-technologies3 -f submission.csv -m \"Message\""
      ],
      "execution_count": null,
      "outputs": [
        {
          "output_type": "stream",
          "name": "stdout",
          "text": [
            "100% 13.5k/13.5k [00:01<00:00, 11.0kB/s]\n",
            "Successfully submitted to Университет Цифровых Технологий"
          ]
        }
      ]
    },
    {
      "cell_type": "markdown",
      "metadata": {
        "id": "2yIk2nTJlPb3"
      },
      "source": [
        "### Смотрим своё место в таблице лидеров:\n",
        "\n",
        "https://www.kaggle.com/c/university-of-digital-technologies3/leaderboard"
      ]
    },
    {
      "cell_type": "markdown",
      "metadata": {
        "id": "lhzFGDvXoWGy"
      },
      "source": [
        "# Литература"
      ]
    },
    {
      "cell_type": "markdown",
      "metadata": {
        "id": "8xIFojRrobXf"
      },
      "source": [
        "\n",
        "1. https://www.kaggle.com/paultimothymooney/chest-xray-pneumonia\n",
        "\n",
        "2. https://creativecommons.org/licenses/by/4.0/\n",
        "\n",
        "3. https://cs.stanford.edu/~acoates/stl10/\n",
        "\n",
        "4. https://www.tensorflow.org/datasets/catalog/overview\n",
        "\n",
        "5. https://keras.io/api/datasets/\n",
        "\n",
        "6. https://en.wikipedia.org/wiki/Sensitivity_and_specificity\n",
        "\n",
        "7. https://en.m.wikipedia.org/wiki/Batch_normalization#:~:text=Batch%20normalization%20(also%20known%20as,and%20Christian%20Szegedy%20in%202015.)\n",
        "\n",
        "8. https://jmlr.org/papers/v15/srivastava14a.html\n",
        "\n",
        "9. https://www.kaggle.com/paultimothymooney/chest-xray-pneumonia\n",
        "\n",
        "10. https://neurohive.io/ru/osnovy-data-science/glubokaya-svertochnaja-nejronnaja-set/\n",
        "\n",
        "11. https://ru.wikipedia.org/wiki/%D0%A1%D0%B2%D1%91%D1%80%D1%82%D0%BE%D1%87%D0%BD%D0%B0%D1%8F_%D0%BD%D0%B5%D0%B9%D1%80%D0%BE%D0%BD%D0%BD%D0%B0%D1%8F_%D1%81%D0%B5%D1%82%D1%8C\n",
        "\n",
        "12. Автор: Max La - собственная работа, CC BY-SA 3.0, https://commons.wikimedia.org/w/index.php?curid=33394271\n",
        "\n",
        "13. Y. LeCun, B. Boser, J. S. Denker, D. Henderson, R. E. Howard, W. Hubbard and L. D. Jackel: Backpropagation Applied to Handwritten Zip Code Recognition, Neural Computation, 1(4):541-551, Winter 1989.\n",
        "\n",
        "\n",
        "\n",
        "\n",
        "\n",
        "\n"
      ]
    },
    {
      "cell_type": "markdown",
      "metadata": {
        "id": "pYDE0hwOdiqe"
      },
      "source": [
        "# The End"
      ]
    }
  ]
}