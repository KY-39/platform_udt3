{
  "nbformat": 4,
  "nbformat_minor": 0,
  "metadata": {
    "colab": {
      "name": "Копия блокнота \"Домашнее задание \"Анализ тональности текста.\" - на Kaggle\"",
      "provenance": [],
      "collapsed_sections": [],
      "include_colab_link": true
    },
    "kernelspec": {
      "name": "python3",
      "display_name": "Python 3"
    },
    "language_info": {
      "name": "python"
    }
  },
  "cells": [
    {
      "cell_type": "markdown",
      "metadata": {
        "id": "view-in-github",
        "colab_type": "text"
      },
      "source": [
        "<a href=\"https://colab.research.google.com/github/KY-39/platform_udt3/blob/main/%D0%90%D0%BD%D0%B0%D0%BB%D0%B8%D0%B7_%D1%82%D0%BE%D0%BD%D0%B0%D0%BB%D1%8C%D0%BD%D0%BE%D1%81%D1%82%D0%B8_%D1%82%D0%B5%D0%BA%D1%81%D1%82%D0%B0.ipynb\" target=\"_parent\"><img src=\"https://colab.research.google.com/assets/colab-badge.svg\" alt=\"Open In Colab\"/></a>"
      ]
    },
    {
      "cell_type": "markdown",
      "metadata": {
        "id": "WDgBKZKb-3Zt"
      },
      "source": [
        "# ООО \"Университет Цифровых технологий платформа 3\""
      ]
    },
    {
      "cell_type": "markdown",
      "metadata": {
        "id": "1_Z31sIPgDie"
      },
      "source": [
        "## Домашнее задание к уроку \"Нейронные сети для работы с текстами. Часть 1.\""
      ]
    },
    {
      "cell_type": "markdown",
      "metadata": {
        "id": "hIvkno0cgO2w"
      },
      "source": [
        "Определение тональности текста.\n",
        "Цель состоит в том, чтобы определить тональность текста на основе предоставленных данных. Данные представляют набор текстовых данных отзывов на покупку мобильных телефонов и аксессуаров. Где 1 — положительный отзыв, 0 — отрицательный отзыв.\n",
        "\n",
        "Загрузите из датасета текстовую базу отзывов на покупку мобильных телефонов и аксессуаров, а также базу для тестирования. Подайте дата сет в нейронную сеть, постаравшись добиться максимальной точности распознавания. Для улучшения обучения можно использовать также дополнительные методы, не рассмотренные в занятиях, слои, функции активации, менять параметры оптимизатора Adam и прочие гипер параметры. Результаты рекомендуется заносить в таблицу для себя, чтобы можно было потом воспроизвести лучший вариант. Предсказание Вашей сети необходимо отправить в виде специального файла с расширением csv, чтобы войти в рейтинговую таблицу соревнования. Ответ можно улучшить и подавать результат несколько раз."
      ]
    },
    {
      "cell_type": "markdown",
      "metadata": {
        "id": "fR--WFB2V85g"
      },
      "source": [
        "Содержание датасета: Набор текстовых данных содержат отзывы покупателей на покупку мобильных телефонов и аксессуаров и анализ тональности по 5-ти бальной шкале. После загрузки необходимо преобразовать шкалу тональности в двумерную, позитивная и негативная, с кодированием где 1 — положительный отзыв, 0 — отрицательный отзыв."
      ]
    },
    {
      "cell_type": "code",
      "metadata": {
        "id": "9SZ7CD8Ff68Q",
        "colab": {
          "base_uri": "https://localhost:8080/"
        },
        "outputId": "eb88106e-1d2f-400c-8c2b-1afc58aaf0b7"
      },
      "source": [
        "import numpy as np\n",
        "import pandas as pd\n",
        "import seaborn as sns\n",
        "from pprint import pprint\n",
        "from google.colab import files\n",
        "\n",
        "from sklearn.preprocessing import OneHotEncoder\n",
        "from sklearn.model_selection import train_test_split\n",
        "import tensorflow as tf # импортируем tensorflow\n",
        "from tensorflow.keras.preprocessing.text import Tokenizer,tokenizer_from_json\n",
        "from tensorflow.keras.preprocessing.sequence import pad_sequences\n",
        "from tensorflow.keras.models import Sequential, load_model\n",
        "from tensorflow.keras.layers import Input, Dense, Dropout, BatchNormalization, Embedding, SpatialDropout1D, Flatten\n",
        "from tensorflow.keras.optimizers import Adam\n",
        "from tensorflow.keras.metrics import Accuracy\n",
        "import zipfile # для работы с архивами zip\n",
        "\n",
        "import os\n",
        "#Отрисовывать изображения в ноутбуке, а не в консоль или файл\n",
        "%matplotlib inline\n",
        "# устанавливаем свежий Kaggle API\n",
        "!pip install --upgrade --force-reinstall --no-deps kaggle\n"
      ],
      "execution_count": null,
      "outputs": [
        {
          "output_type": "stream",
          "name": "stdout",
          "text": [
            "Collecting kaggle\n",
            "  Downloading kaggle-1.5.12.tar.gz (58 kB)\n",
            "\u001b[?25l\r\u001b[K     |█████▋                          | 10 kB 17.9 MB/s eta 0:00:01\r\u001b[K     |███████████▏                    | 20 kB 24.6 MB/s eta 0:00:01\r\u001b[K     |████████████████▊               | 30 kB 19.6 MB/s eta 0:00:01\r\u001b[K     |██████████████████████▎         | 40 kB 16.5 MB/s eta 0:00:01\r\u001b[K     |███████████████████████████▉    | 51 kB 5.6 MB/s eta 0:00:01\r\u001b[K     |████████████████████████████████| 58 kB 3.3 MB/s \n",
            "\u001b[?25hBuilding wheels for collected packages: kaggle\n",
            "  Building wheel for kaggle (setup.py) ... \u001b[?25l\u001b[?25hdone\n",
            "  Created wheel for kaggle: filename=kaggle-1.5.12-py3-none-any.whl size=73051 sha256=014f23aa2478d4104a56ad0e1e2f7b4724a549a7a61333147c4257a1b8713e36\n",
            "  Stored in directory: /root/.cache/pip/wheels/62/d6/58/5853130f941e75b2177d281eb7e44b4a98ed46dd155f556dc5\n",
            "Successfully built kaggle\n",
            "Installing collected packages: kaggle\n",
            "  Attempting uninstall: kaggle\n",
            "    Found existing installation: kaggle 1.5.12\n",
            "    Uninstalling kaggle-1.5.12:\n",
            "      Successfully uninstalled kaggle-1.5.12\n",
            "Successfully installed kaggle-1.5.12\n"
          ]
        }
      ]
    },
    {
      "cell_type": "code",
      "metadata": {
        "colab": {
          "base_uri": "https://localhost:8080/"
        },
        "id": "ksq7-sCeG3Xz",
        "outputId": "2e9e46c5-b0c9-41fe-9dfd-6bbe2113763a"
      },
      "source": [
        "from google.colab import drive\n",
        "drive.mount('/content/drive')"
      ],
      "execution_count": null,
      "outputs": [
        {
          "output_type": "stream",
          "name": "stdout",
          "text": [
            "Mounted at /content/drive\n"
          ]
        }
      ]
    },
    {
      "cell_type": "markdown",
      "metadata": {
        "id": "ggeiqxNlA3GC"
      },
      "source": [
        "##Анализ тональности текста\n"
      ]
    },
    {
      "cell_type": "markdown",
      "metadata": {
        "id": "Id-9iPlKA9Bh"
      },
      "source": [
        "### Ссылка на сревнование: \n",
        "https://www.kaggle.com/t/82c8fec502b3466bbf725731055646c2\n",
        "\n",
        "\n"
      ]
    },
    {
      "cell_type": "markdown",
      "metadata": {
        "id": "dOcndqbYBF8n"
      },
      "source": [
        "###Устанавливаем ключ Каггл, чтобы участвовать в соревнованиях. Это нужно сделать один раз.\n",
        "Нужно зарегистрироваться на Каггл (https://www.kaggle.com/) и скачать ключ для взаимодействия с API соревновательной системы Каггла. После регистрации, справа появятся Ваши имя и фамилия - ссылка на персональную страницу. Нажмите на них. Когда страница загрузится, справа увидите Account. Нажимаете на надпись, затем прокручиваете страницу вниз, до вкладки API, там нажимаете Create New API Token. Ключ - это файл kaggle.json, который скачается после нажатия. Нужно скопировать его в папку Google Drive, предварительно её создав: My Drive/datasets/kaggle/ (из Колаба её адрес, который будем указывать для загрузки, такой: /content/drive/My Drive/datasets/kaggle/)."
      ]
    },
    {
      "cell_type": "code",
      "metadata": {
        "id": "YOHiripkBPHC"
      },
      "source": [
        "def Init_Kaggle():\n",
        "    try:\n",
        "        # Создаём правильную папку для ключа Каггл\n",
        "        # в Колабе, она должна быть такой по требованию Каггл\n",
        "        !mkdir ~/.kaggle\n",
        "        # переходим в папку, теперь это путь по умолчанию\n",
        "        %cd ~/.kaggle\n",
        "        # запускаем - подключаем Google Drive - будем скачивать с него, так намного быстрее и удобнее\n",
        "        # после запуска переходим по ссылке, которая появится, для идентификации\n",
        "        # копируем оттуда код authorization code и вставляем здесь в окошко\n",
        "        drive.mount('/content/drive')\n",
        "        # нужно зарегистрироваться на Каггл и скачать ключ для взаимодействия с API\n",
        "        # соревновательной системы Каггла kaggle.json. Нужно скопировать его в папку\n",
        "        # Google Drive, предварительно её создав: /content/drive/My Drive/datasets/kaggle/\n",
        "        !cp '/content/drive/My Drive/datasets/kaggle/kaggle.json' '/root/.kaggle/kaggle.json'\n",
        "        # выводим версию API Kaggle:\n",
        "        !kaggle --version\n",
        "        !ls\n",
        "        print(' Ключи Kaggle успешно установлены! ')\n",
        "    except:\n",
        "        print(' При установке ключей Kaggle произошла ошибка! ') "
      ],
      "execution_count": null,
      "outputs": []
    },
    {
      "cell_type": "code",
      "metadata": {
        "id": "4kgsRWMgBW-7"
      },
      "source": [
        "def Load_data_from_Kaggle():\n",
        "    # считаем заполненную базу данных из kaggle\n",
        "    %cd ~/.kaggle\n",
        "    print('скачиваем данные с Каггл:')\n",
        "    !kaggle competitions download -c udt-3-text-work\n",
        "    print('загружаем из архива, распаковываем:')\n",
        "    z = zipfile.ZipFile('udt-3-text-work.zip', 'r')\n",
        "    z.extractall()\n",
        "    # удаляем архив, чтобы не занимал место на диске\n",
        "    !rm udt-3-text-work.zip\n",
        "    #Считываем данные с помощью pandas из двух файлов\n",
        "    reviews = pd.read_csv('reviews_mobile_phone_train.csv')\n",
        "    test_data = pd.read_csv('reviews_mobile_phone_test.csv')\n",
        "    \n",
        "    return reviews, test_data"
      ],
      "execution_count": null,
      "outputs": []
    },
    {
      "cell_type": "code",
      "metadata": {
        "colab": {
          "base_uri": "https://localhost:8080/"
        },
        "id": "lKYgNBLXEsAG",
        "outputId": "86396b86-48ef-4f2a-dc20-0a8ef912c3fd"
      },
      "source": [
        "Init_Kaggle() # устанавливаем кючи кагл"
      ],
      "execution_count": null,
      "outputs": [
        {
          "output_type": "stream",
          "name": "stdout",
          "text": [
            "mkdir: cannot create directory ‘/root/.kaggle’: File exists\n",
            "/root/.kaggle\n",
            "Drive already mounted at /content/drive; to attempt to forcibly remount, call drive.mount(\"/content/drive\", force_remount=True).\n",
            "Kaggle API 1.5.12\n",
            "kaggle.json\n",
            " Ключи Kaggle успешно установлены! \n"
          ]
        }
      ]
    },
    {
      "cell_type": "code",
      "metadata": {
        "colab": {
          "base_uri": "https://localhost:8080/",
          "height": 310
        },
        "id": "Iu1TGRMUEs5e",
        "outputId": "89ebfca4-5ab0-4212-8d4b-b6d4871e9d34"
      },
      "source": [
        "reviews, test_data = Load_data_from_Kaggle() # считаем заполненную базу данных из kaggle\n",
        "reviews.head()"
      ],
      "execution_count": null,
      "outputs": [
        {
          "output_type": "stream",
          "name": "stdout",
          "text": [
            "/root/.kaggle\n",
            "скачиваем данные с Каггл:\n",
            "Downloading udt-3-text-work.zip to /root/.kaggle\n",
            " 47% 10.0M/21.2M [00:00<00:00, 33.1MB/s]\n",
            "100% 21.2M/21.2M [00:00<00:00, 66.3MB/s]\n",
            "загружаем из архива, распаковываем:\n"
          ]
        },
        {
          "output_type": "execute_result",
          "data": {
            "text/html": [
              "\n",
              "  <div id=\"df-244f4be9-a8aa-4c5e-9421-e3c2070403da\">\n",
              "    <div class=\"colab-df-container\">\n",
              "      <div>\n",
              "<style scoped>\n",
              "    .dataframe tbody tr th:only-of-type {\n",
              "        vertical-align: middle;\n",
              "    }\n",
              "\n",
              "    .dataframe tbody tr th {\n",
              "        vertical-align: top;\n",
              "    }\n",
              "\n",
              "    .dataframe thead th {\n",
              "        text-align: right;\n",
              "    }\n",
              "</style>\n",
              "<table border=\"1\" class=\"dataframe\">\n",
              "  <thead>\n",
              "    <tr style=\"text-align: right;\">\n",
              "      <th></th>\n",
              "      <th>text</th>\n",
              "      <th>label</th>\n",
              "    </tr>\n",
              "  </thead>\n",
              "  <tbody>\n",
              "    <tr>\n",
              "      <th>0</th>\n",
              "      <td>Хорошее соотношение Цена-Качество! Минимум пон...</td>\n",
              "      <td>5</td>\n",
              "    </tr>\n",
              "    <tr>\n",
              "      <th>1</th>\n",
              "      <td>Крупный экран, кнопки клавиатуры и цифры на эк...</td>\n",
              "      <td>2</td>\n",
              "    </tr>\n",
              "    <tr>\n",
              "      <th>2</th>\n",
              "      <td>Пользуюсь Sharp Aquos S2. Достойный агрегат, м...</td>\n",
              "      <td>5</td>\n",
              "    </tr>\n",
              "    <tr>\n",
              "      <th>3</th>\n",
              "      <td>-Большой и яркий экран-Долго держит заряд-Стил...</td>\n",
              "      <td>5</td>\n",
              "    </tr>\n",
              "    <tr>\n",
              "      <th>4</th>\n",
              "      <td>Тонкий корпус, звук с динамиков и в наушниках,...</td>\n",
              "      <td>4</td>\n",
              "    </tr>\n",
              "  </tbody>\n",
              "</table>\n",
              "</div>\n",
              "      <button class=\"colab-df-convert\" onclick=\"convertToInteractive('df-244f4be9-a8aa-4c5e-9421-e3c2070403da')\"\n",
              "              title=\"Convert this dataframe to an interactive table.\"\n",
              "              style=\"display:none;\">\n",
              "        \n",
              "  <svg xmlns=\"http://www.w3.org/2000/svg\" height=\"24px\"viewBox=\"0 0 24 24\"\n",
              "       width=\"24px\">\n",
              "    <path d=\"M0 0h24v24H0V0z\" fill=\"none\"/>\n",
              "    <path d=\"M18.56 5.44l.94 2.06.94-2.06 2.06-.94-2.06-.94-.94-2.06-.94 2.06-2.06.94zm-11 1L8.5 8.5l.94-2.06 2.06-.94-2.06-.94L8.5 2.5l-.94 2.06-2.06.94zm10 10l.94 2.06.94-2.06 2.06-.94-2.06-.94-.94-2.06-.94 2.06-2.06.94z\"/><path d=\"M17.41 7.96l-1.37-1.37c-.4-.4-.92-.59-1.43-.59-.52 0-1.04.2-1.43.59L10.3 9.45l-7.72 7.72c-.78.78-.78 2.05 0 2.83L4 21.41c.39.39.9.59 1.41.59.51 0 1.02-.2 1.41-.59l7.78-7.78 2.81-2.81c.8-.78.8-2.07 0-2.86zM5.41 20L4 18.59l7.72-7.72 1.47 1.35L5.41 20z\"/>\n",
              "  </svg>\n",
              "      </button>\n",
              "      \n",
              "  <style>\n",
              "    .colab-df-container {\n",
              "      display:flex;\n",
              "      flex-wrap:wrap;\n",
              "      gap: 12px;\n",
              "    }\n",
              "\n",
              "    .colab-df-convert {\n",
              "      background-color: #E8F0FE;\n",
              "      border: none;\n",
              "      border-radius: 50%;\n",
              "      cursor: pointer;\n",
              "      display: none;\n",
              "      fill: #1967D2;\n",
              "      height: 32px;\n",
              "      padding: 0 0 0 0;\n",
              "      width: 32px;\n",
              "    }\n",
              "\n",
              "    .colab-df-convert:hover {\n",
              "      background-color: #E2EBFA;\n",
              "      box-shadow: 0px 1px 2px rgba(60, 64, 67, 0.3), 0px 1px 3px 1px rgba(60, 64, 67, 0.15);\n",
              "      fill: #174EA6;\n",
              "    }\n",
              "\n",
              "    [theme=dark] .colab-df-convert {\n",
              "      background-color: #3B4455;\n",
              "      fill: #D2E3FC;\n",
              "    }\n",
              "\n",
              "    [theme=dark] .colab-df-convert:hover {\n",
              "      background-color: #434B5C;\n",
              "      box-shadow: 0px 1px 3px 1px rgba(0, 0, 0, 0.15);\n",
              "      filter: drop-shadow(0px 1px 2px rgba(0, 0, 0, 0.3));\n",
              "      fill: #FFFFFF;\n",
              "    }\n",
              "  </style>\n",
              "\n",
              "      <script>\n",
              "        const buttonEl =\n",
              "          document.querySelector('#df-244f4be9-a8aa-4c5e-9421-e3c2070403da button.colab-df-convert');\n",
              "        buttonEl.style.display =\n",
              "          google.colab.kernel.accessAllowed ? 'block' : 'none';\n",
              "\n",
              "        async function convertToInteractive(key) {\n",
              "          const element = document.querySelector('#df-244f4be9-a8aa-4c5e-9421-e3c2070403da');\n",
              "          const dataTable =\n",
              "            await google.colab.kernel.invokeFunction('convertToInteractive',\n",
              "                                                     [key], {});\n",
              "          if (!dataTable) return;\n",
              "\n",
              "          const docLinkHtml = 'Like what you see? Visit the ' +\n",
              "            '<a target=\"_blank\" href=https://colab.research.google.com/notebooks/data_table.ipynb>data table notebook</a>'\n",
              "            + ' to learn more about interactive tables.';\n",
              "          element.innerHTML = '';\n",
              "          dataTable['output_type'] = 'display_data';\n",
              "          await google.colab.output.renderOutput(dataTable, element);\n",
              "          const docLink = document.createElement('div');\n",
              "          docLink.innerHTML = docLinkHtml;\n",
              "          element.appendChild(docLink);\n",
              "        }\n",
              "      </script>\n",
              "    </div>\n",
              "  </div>\n",
              "  "
            ],
            "text/plain": [
              "                                                text  label\n",
              "0  Хорошее соотношение Цена-Качество! Минимум пон...      5\n",
              "1  Крупный экран, кнопки клавиатуры и цифры на эк...      2\n",
              "2  Пользуюсь Sharp Aquos S2. Достойный агрегат, м...      5\n",
              "3  -Большой и яркий экран-Долго держит заряд-Стил...      5\n",
              "4  Тонкий корпус, звук с динамиков и в наушниках,...      4"
            ]
          },
          "metadata": {},
          "execution_count": 9
        }
      ]
    },
    {
      "cell_type": "code",
      "metadata": {
        "colab": {
          "base_uri": "https://localhost:8080/"
        },
        "id": "Ma8ozy93auCy",
        "outputId": "59c91f0a-603d-4dbf-f923-daf938c0eb85"
      },
      "source": [
        "# выведем информацию о колонках\n",
        "reviews.info()"
      ],
      "execution_count": null,
      "outputs": [
        {
          "output_type": "stream",
          "name": "stdout",
          "text": [
            "<class 'pandas.core.frame.DataFrame'>\n",
            "RangeIndex: 53265 entries, 0 to 53264\n",
            "Data columns (total 2 columns):\n",
            " #   Column  Non-Null Count  Dtype \n",
            "---  ------  --------------  ----- \n",
            " 0   text    53265 non-null  object\n",
            " 1   label   53265 non-null  int64 \n",
            "dtypes: int64(1), object(1)\n",
            "memory usage: 832.4+ KB\n"
          ]
        }
      ]
    },
    {
      "cell_type": "code",
      "metadata": {
        "colab": {
          "base_uri": "https://localhost:8080/"
        },
        "id": "PEXX3FTPjXco",
        "outputId": "46b3a096-bc00-4917-ac9f-2fff27c7caf3"
      },
      "source": [
        "# посмотрим, сколько у нас отзывов с какими оценками\n",
        "reviews['label'].value_counts()"
      ],
      "execution_count": null,
      "outputs": [
        {
          "output_type": "execute_result",
          "data": {
            "text/plain": [
              "5    24823\n",
              "4    12043\n",
              "3     6606\n",
              "1     5030\n",
              "2     4763\n",
              "Name: label, dtype: int64"
            ]
          },
          "metadata": {},
          "execution_count": 11
        }
      ]
    },
    {
      "cell_type": "code",
      "metadata": {
        "id": "Cdo8Zgs-C3j2"
      },
      "source": [
        "def Data_Update(reviews): #преодбработка данных\n",
        "    global NUM_WORDS\n",
        "    global tokenizer\n",
        "    # создадим словарь для преобразования оценки из шкалы  5-1 в  шкалу positive - negative\n",
        "    # используем 0 для класса негативных отзывов, 1 для класса позитивных отзывов\n",
        "    label_to_binary = {5: 1, \n",
        "                    4: 1, \n",
        "                    3: 0, \n",
        "                    2: 0, \n",
        "                    1: 0}\n",
        "    # создадим новую колонку в DataFramкe\n",
        "    reviews['is_positive'] = reviews['label'].apply(lambda x: label_to_binary[x])\n",
        "    # выделим наши тексты (признаковые описания) и класс, который нужно предсказывать\n",
        "    X = reviews['text']\n",
        "    Y = reviews['is_positive']\n",
        "    # разделим наши данные на обучающую и валидационную выборки\n",
        "    train_index, val_index = train_test_split(np.arange(reviews.shape[0]))\n",
        "    x_train_raw, x_val_raw = X[train_index], X[val_index]\n",
        "    y_train, y_val = Y[train_index], Y[val_index] \n",
        "    NUM_WORDS = 5000 # константа, максимальное количество слов, которые будет учитывать наша модель\n",
        "\n",
        "    # создадим наш Токенайзер\n",
        "    tokenizer = Tokenizer(num_words=NUM_WORDS, # максимальное количество слов, которые будет учитывать наш токенайзер\n",
        "                        filters='\"#$%&()*+,-–—./…:;<=>?@[\\\\]^_`{|}~«»\\t\\n\\xa0\\ufeff', # символы, которые он токенайзер будет фильтровать\n",
        "                        lower=True,  #приводятся ли все символы к нижнему регситру\n",
        "                        split=' ',  # символ, по которому происходит разделение на слова (токены)\n",
        "                        char_level=False,  # являются ли токенами отдельные буквы\n",
        "                        oov_token='UNKNOWN' # токен для неизвестных слов \n",
        "                        )\n",
        "    tokenizer.fit_on_texts(x_train_raw) # обучим наш токенайзер на обучающих текстах\n",
        "    # Преобразуем наши текстовые данные в формат One Hot Encoding\n",
        "    x_train_01 = tokenizer.texts_to_matrix(x_train_raw)\n",
        "    x_val_01 = tokenizer.texts_to_matrix(x_val_raw)\n",
        "    return x_train_01, y_train, x_val_01, y_val\n"
      ],
      "execution_count": null,
      "outputs": []
    },
    {
      "cell_type": "code",
      "metadata": {
        "id": "ZhnLtU0kBs0e"
      },
      "source": [
        "x_train_01, y_train, x_val_01, y_val = Data_Update(reviews)"
      ],
      "execution_count": null,
      "outputs": []
    },
    {
      "cell_type": "markdown",
      "metadata": {
        "id": "NWNcIDLgkGde"
      },
      "source": [
        "# Создание и обучение модели"
      ]
    },
    {
      "cell_type": "code",
      "metadata": {
        "id": "flxFIw-iD2Zc"
      },
      "source": [
        "# создадим простую модель с полносвязными слоем\n",
        "def Dense_model():\n",
        "    model01 = Sequential()\n",
        "    model01.add(Dense(64, input_dim=NUM_WORDS, activation='relu'))\n",
        "    model01.add(BatchNormalization())\n",
        "    model01.add(Dropout(0.4))\n",
        "    model01.add(Dense(128, activation='relu'))\n",
        "    model01.add(Dense(1 ,activation='sigmoid'))\n",
        "    model01.compile(optimizer=Adam(learning_rate=0.001),  loss='binary_crossentropy',  metrics=['accuracy'])\n",
        "\n",
        "    return model01"
      ],
      "execution_count": null,
      "outputs": []
    },
    {
      "cell_type": "code",
      "metadata": {
        "colab": {
          "base_uri": "https://localhost:8080/"
        },
        "id": "PLJEwGR2ECmW",
        "outputId": "b9631b75-762b-4d78-8a6e-548629230346"
      },
      "source": [
        "# обучим нашу модель\n",
        "model_text_tonality = Dense_model()\n",
        "model_text_tonality.fit(x = x_train_01,  y = y_train, epochs = 20, verbose = 1, validation_data= (x_val_01, y_val))"
      ],
      "execution_count": null,
      "outputs": [
        {
          "output_type": "stream",
          "name": "stdout",
          "text": [
            "Epoch 1/20\n",
            "1249/1249 [==============================] - 15s 10ms/step - loss: 0.3843 - accuracy: 0.8284 - val_loss: 0.3179 - val_accuracy: 0.8669\n",
            "Epoch 2/20\n",
            "1249/1249 [==============================] - 8s 6ms/step - loss: 0.2900 - accuracy: 0.8772 - val_loss: 0.3104 - val_accuracy: 0.8698\n",
            "Epoch 3/20\n",
            "1249/1249 [==============================] - 8s 6ms/step - loss: 0.2493 - accuracy: 0.8963 - val_loss: 0.3166 - val_accuracy: 0.8666\n",
            "Epoch 4/20\n",
            "1249/1249 [==============================] - 7s 6ms/step - loss: 0.2104 - accuracy: 0.9142 - val_loss: 0.3321 - val_accuracy: 0.8666\n",
            "Epoch 5/20\n",
            "1249/1249 [==============================] - 7s 6ms/step - loss: 0.1748 - accuracy: 0.9308 - val_loss: 0.3701 - val_accuracy: 0.8640\n",
            "Epoch 6/20\n",
            "1249/1249 [==============================] - 8s 6ms/step - loss: 0.1597 - accuracy: 0.9365 - val_loss: 0.3856 - val_accuracy: 0.8651\n",
            "Epoch 7/20\n",
            "1249/1249 [==============================] - 7s 6ms/step - loss: 0.1379 - accuracy: 0.9461 - val_loss: 0.3999 - val_accuracy: 0.8659\n",
            "Epoch 8/20\n",
            "1249/1249 [==============================] - 8s 6ms/step - loss: 0.1289 - accuracy: 0.9506 - val_loss: 0.4197 - val_accuracy: 0.8624\n",
            "Epoch 9/20\n",
            "1249/1249 [==============================] - 7s 6ms/step - loss: 0.1191 - accuracy: 0.9544 - val_loss: 0.4319 - val_accuracy: 0.8631\n",
            "Epoch 10/20\n",
            "1249/1249 [==============================] - 8s 6ms/step - loss: 0.1085 - accuracy: 0.9600 - val_loss: 0.4538 - val_accuracy: 0.8660\n",
            "Epoch 11/20\n",
            "1249/1249 [==============================] - 7s 6ms/step - loss: 0.0999 - accuracy: 0.9630 - val_loss: 0.4582 - val_accuracy: 0.8630\n",
            "Epoch 12/20\n",
            "1249/1249 [==============================] - 8s 6ms/step - loss: 0.0933 - accuracy: 0.9661 - val_loss: 0.4763 - val_accuracy: 0.8635\n",
            "Epoch 13/20\n",
            "1249/1249 [==============================] - 9s 7ms/step - loss: 0.0913 - accuracy: 0.9661 - val_loss: 0.4720 - val_accuracy: 0.8642\n",
            "Epoch 14/20\n",
            "1249/1249 [==============================] - 8s 6ms/step - loss: 0.0845 - accuracy: 0.9681 - val_loss: 0.4780 - val_accuracy: 0.8612\n",
            "Epoch 15/20\n",
            "1249/1249 [==============================] - 8s 6ms/step - loss: 0.0852 - accuracy: 0.9681 - val_loss: 0.5025 - val_accuracy: 0.8594\n",
            "Epoch 16/20\n",
            "1249/1249 [==============================] - 7s 6ms/step - loss: 0.0778 - accuracy: 0.9715 - val_loss: 0.4950 - val_accuracy: 0.8621\n",
            "Epoch 17/20\n",
            "1249/1249 [==============================] - 8s 6ms/step - loss: 0.0751 - accuracy: 0.9723 - val_loss: 0.5250 - val_accuracy: 0.8647\n",
            "Epoch 18/20\n",
            "1249/1249 [==============================] - 7s 6ms/step - loss: 0.0742 - accuracy: 0.9730 - val_loss: 0.5100 - val_accuracy: 0.8603\n",
            "Epoch 19/20\n",
            "1249/1249 [==============================] - 8s 6ms/step - loss: 0.0710 - accuracy: 0.9733 - val_loss: 0.5263 - val_accuracy: 0.8624\n",
            "Epoch 20/20\n",
            "1249/1249 [==============================] - 8s 6ms/step - loss: 0.0651 - accuracy: 0.9763 - val_loss: 0.5471 - val_accuracy: 0.8603\n"
          ]
        },
        {
          "output_type": "execute_result",
          "data": {
            "text/plain": [
              "<keras.callbacks.History at 0x7f25d0322190>"
            ]
          },
          "metadata": {},
          "execution_count": 15
        }
      ]
    },
    {
      "cell_type": "markdown",
      "metadata": {
        "id": "GtOvqcKeo2Dv"
      },
      "source": [
        "##Создадим предсказание обученной модели."
      ]
    },
    {
      "cell_type": "code",
      "metadata": {
        "id": "yRqlABSyKpuV"
      },
      "source": [
        "def Prediction_model(test_data): # предсказываем значения\n",
        "    try:\n",
        "        # x_test_raw = pd.Series(test_data_reviews)\n",
        "        x_test_raw = test_data['text']\n",
        "        x_test_tok = tokenizer.texts_to_matrix(x_test_raw)\n",
        "        \n",
        "        # получим предсказания модели\n",
        "        pred = model_text_tonality.predict(x_test_tok)\n",
        "        pred = np.round(pred).astype(np.int)\n",
        "        print('Прогноз тестовых данных сформирован успешно!')\n",
        "        return pred \n",
        "    except:\n",
        "        print('При формировании прогноза на тестовых данных произошла ошибка!')\n",
        "        return 0"
      ],
      "execution_count": null,
      "outputs": []
    },
    {
      "cell_type": "code",
      "metadata": {
        "id": "_Bx26Pc_oUNV"
      },
      "source": [
        "# оформить результат и отправить на Kaggle\n",
        "def Send_results(pred_data_my):\n",
        "    try:\n",
        "        predUnscaled = pred_data_my.squeeze()\n",
        "        # создаём датафрейм в нужном формате\n",
        "        submission = pd.DataFrame({\"Id\":range(1,len(predUnscaled)+1),\"Label\":predUnscaled})\n",
        "        \n",
        "        submission.head()\n",
        "        # сохраняем его как csv\n",
        "        submission = submission.to_csv('./Submission_review_phone.csv', sep=',', index=False, header=True)\n",
        "        # отправляем на соревнование\n",
        "        !kaggle competitions submit -c udt-3-text-work -f Submission_review_phone.csv -m \"Message\"\n",
        "        print('\\n Расчитанные данные успешно отправлены! ')\n",
        "        \n",
        "    except:\n",
        "        print('Отправка расчетных данных не прошла! ')  "
      ],
      "execution_count": null,
      "outputs": []
    },
    {
      "cell_type": "code",
      "metadata": {
        "colab": {
          "base_uri": "https://localhost:8080/"
        },
        "id": "VPygSRY2oWax",
        "outputId": "f9dc40f8-f556-4d61-bd15-811549e071bd"
      },
      "source": [
        "prediction_data = Prediction_model(test_data) # получим прогноз на тестовой выбоке"
      ],
      "execution_count": null,
      "outputs": [
        {
          "output_type": "stream",
          "name": "stdout",
          "text": [
            "Прогноз тестовых данных сформирован успешно!\n"
          ]
        }
      ]
    },
    {
      "cell_type": "code",
      "metadata": {
        "colab": {
          "base_uri": "https://localhost:8080/"
        },
        "id": "tAkzSV2goaiO",
        "outputId": "a1a7dfd4-02ee-4fce-d2e5-3bd9a473be2d"
      },
      "source": [
        "Send_results(prediction_data) # оформить результат и отправить на Kaggle"
      ],
      "execution_count": null,
      "outputs": [
        {
          "output_type": "stream",
          "name": "stdout",
          "text": [
            "100% 5.76k/5.76k [00:01<00:00, 3.69kB/s]\n",
            "Successfully submitted to Университет Цифровых Технологий платформа 3\n",
            " Расчитанные данные успешно отправлены! \n"
          ]
        }
      ]
    },
    {
      "cell_type": "markdown",
      "metadata": {
        "id": "X2OrarFaEENY"
      },
      "source": [
        "###Переходим по ссылке, чтобы увидеть таблицу лидеров.\n",
        "\n",
        "https://www.kaggle.com/c/udt-3-text-work/leaderboard"
      ]
    }
  ]
}