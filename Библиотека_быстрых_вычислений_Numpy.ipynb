{
  "nbformat": 4,
  "nbformat_minor": 0,
  "metadata": {
    "colab": {
      "name": "Копия блокнота \"Библиотека быстрых вычислений Numpy - д.з.\"",
      "provenance": [],
      "collapsed_sections": [],
      "include_colab_link": true
    },
    "kernelspec": {
      "name": "python3",
      "display_name": "Python 3"
    }
  },
  "cells": [
    {
      "cell_type": "markdown",
      "metadata": {
        "id": "view-in-github",
        "colab_type": "text"
      },
      "source": [
        "<a href=\"https://colab.research.google.com/github/KY-39/platforma_udt/blob/main/%D0%91%D0%B8%D0%B1%D0%BB%D0%B8%D0%BE%D1%82%D0%B5%D0%BA%D0%B0_%D0%B1%D1%8B%D1%81%D1%82%D1%80%D1%8B%D1%85_%D0%B2%D1%8B%D1%87%D0%B8%D1%81%D0%BB%D0%B5%D0%BD%D0%B8%D0%B9_Numpy.ipynb\" target=\"_parent\"><img src=\"https://colab.research.google.com/assets/colab-badge.svg\" alt=\"Open In Colab\"/></a>"
      ]
    },
    {
      "cell_type": "markdown",
      "metadata": {
        "id": "uVQjRFc6abYJ"
      },
      "source": [
        "## ООО \"Университет Цифровых Технологий платформа 3\""
      ]
    },
    {
      "cell_type": "markdown",
      "metadata": {
        "id": "j1VGVJNOVx9i"
      },
      "source": [
        "# Библиотека быстрых вычислений NUMPY"
      ]
    },
    {
      "cell_type": "markdown",
      "metadata": {
        "id": "HUpIXjuqtR1a"
      },
      "source": [
        "# Уровень базовый"
      ]
    },
    {
      "cell_type": "code",
      "metadata": {
        "id": "b_T4fN8akrFQ"
      },
      "source": [
        ""
      ],
      "execution_count": null,
      "outputs": []
    },
    {
      "cell_type": "markdown",
      "metadata": {
        "id": "4e0XGZoHtVCf"
      },
      "source": [
        "## Задание 1"
      ]
    },
    {
      "cell_type": "markdown",
      "metadata": {
        "id": "W9vgmv8St0uK"
      },
      "source": [
        "импортируйте библиотеку numpy,  выведите на экран номер версии библиотеки"
      ]
    },
    {
      "cell_type": "code",
      "metadata": {
        "id": "zPrzHRqst2IW"
      },
      "source": [
        "import numpy as np"
      ],
      "execution_count": null,
      "outputs": []
    },
    {
      "cell_type": "code",
      "metadata": {
        "id": "CzisPInOt2Q9",
        "colab": {
          "base_uri": "https://localhost:8080/"
        },
        "outputId": "5ee55a13-a3c6-4d1f-cd13-2ce20fd2a69d"
      },
      "source": [
        "print(np.__version__)"
      ],
      "execution_count": null,
      "outputs": [
        {
          "output_type": "stream",
          "name": "stdout",
          "text": [
            "1.19.5\n"
          ]
        }
      ]
    },
    {
      "cell_type": "markdown",
      "metadata": {
        "id": "aqamytiYt7Tq"
      },
      "source": [
        "## Задание 2"
      ]
    },
    {
      "cell_type": "markdown",
      "metadata": {
        "id": "mEQW5ak7t7UD"
      },
      "source": [
        "создайте 2-х мерный nd-array их списка списков  \n",
        "\n",
        "[[1, 2, 3, 4, 5], [2, 3, 4, 5, 6]]\n",
        "\n",
        "\n",
        "* Выведите на печать исходный список\n",
        "* Выведите на печать nd-array \n",
        "* Выведите на печать информацию о nd-array \n",
        "    - форму (shape), \n",
        "    - тип хранимых элементов, \n",
        "    - общее количество элементов\n"
      ]
    },
    {
      "cell_type": "code",
      "metadata": {
        "id": "2fOkggrgt5ST",
        "colab": {
          "base_uri": "https://localhost:8080/"
        },
        "outputId": "df781f90-8638-467d-a240-bd7361422d5b"
      },
      "source": [
        "data = [[1, 2, 3, 4, 5], [2, 3, 4, 5, 6]]\n",
        "nd = np.array(data)\n",
        "print(nd)"
      ],
      "execution_count": null,
      "outputs": [
        {
          "output_type": "stream",
          "name": "stdout",
          "text": [
            "[[1 2 3 4 5]\n",
            " [2 3 4 5 6]]\n"
          ]
        }
      ]
    },
    {
      "cell_type": "code",
      "metadata": {
        "id": "f0WEAqFWt5VO",
        "colab": {
          "base_uri": "https://localhost:8080/"
        },
        "outputId": "ce0900a8-3a67-4158-ce22-edffa65eaa07"
      },
      "source": [
        "print('форма (shape) - ', nd.shape)\n",
        "print('тип хранимых элементов - ', nd.dtype)\n",
        "print('общее количество элементов - ', nd.size)"
      ],
      "execution_count": null,
      "outputs": [
        {
          "output_type": "stream",
          "name": "stdout",
          "text": [
            "форма (shape) -  (2, 5)\n",
            "тип хранимых элементов -  int64\n",
            "общее количество элементов -  10\n"
          ]
        }
      ]
    },
    {
      "cell_type": "markdown",
      "metadata": {
        "id": "9QcZh76-ucQ6"
      },
      "source": [
        "## Задание 3"
      ]
    },
    {
      "cell_type": "markdown",
      "metadata": {
        "id": "c9rjv8feucRg"
      },
      "source": [
        "создайте \n",
        "* нулевой вектор (вектор, содержащий только 0) размерностью 1 и размером 10, \n",
        "* нулевой вектор размерности 2 и размером 4х4\n",
        "* создайте единичные вектора, форма которых совпадает с формой созданных нулевых векторов\n"
      ]
    },
    {
      "cell_type": "code",
      "metadata": {
        "id": "zfHm3TkyvCNa"
      },
      "source": [
        "zero1 = np.zeros(shape=10)\n",
        "zero2 = np.zeros(shape = (4, 4))"
      ],
      "execution_count": null,
      "outputs": []
    },
    {
      "cell_type": "code",
      "metadata": {
        "id": "9IEdoVgRvCVx",
        "colab": {
          "base_uri": "https://localhost:8080/"
        },
        "outputId": "28ccf189-44eb-472e-9867-44c5dccd4336"
      },
      "source": [
        "ones1 = np.ones_like(zero1)\n",
        "ones2 = np.ones_like(zero2)\n",
        "ones2"
      ],
      "execution_count": null,
      "outputs": [
        {
          "output_type": "execute_result",
          "data": {
            "text/plain": [
              "array([[1., 1., 1., 1.],\n",
              "       [1., 1., 1., 1.],\n",
              "       [1., 1., 1., 1.],\n",
              "       [1., 1., 1., 1.]])"
            ]
          },
          "metadata": {},
          "execution_count": 13
        }
      ]
    },
    {
      "cell_type": "markdown",
      "metadata": {
        "id": "riE2oYQ6vI_r"
      },
      "source": [
        "## Задание 4"
      ]
    },
    {
      "cell_type": "markdown",
      "metadata": {
        "id": "y3ijneJRvI_u"
      },
      "source": [
        "Создайте двумерную матрицу размером 10х10\n",
        " состоящую  из случайных целых чисел от 0 до 10\n"
      ]
    },
    {
      "cell_type": "code",
      "metadata": {
        "id": "bITLaYjjvCfN"
      },
      "source": [
        "matrix = np.random.randint(low=0, high=10, size=(10, 10))"
      ],
      "execution_count": null,
      "outputs": []
    },
    {
      "cell_type": "code",
      "metadata": {
        "id": "bfungHW3vChF",
        "colab": {
          "base_uri": "https://localhost:8080/"
        },
        "outputId": "3ad63404-a2f3-49b1-f3ed-4ac21c86d5a0"
      },
      "source": [
        "matrix"
      ],
      "execution_count": null,
      "outputs": [
        {
          "output_type": "execute_result",
          "data": {
            "text/plain": [
              "array([[2, 0, 5, 9, 4, 1, 6, 5, 1, 4],\n",
              "       [1, 0, 6, 4, 7, 5, 9, 6, 1, 4],\n",
              "       [2, 6, 9, 8, 7, 2, 2, 0, 6, 1],\n",
              "       [2, 0, 6, 7, 6, 9, 2, 3, 4, 5],\n",
              "       [4, 0, 7, 6, 6, 1, 3, 6, 7, 0],\n",
              "       [2, 2, 3, 5, 0, 4, 1, 5, 7, 7],\n",
              "       [7, 4, 6, 2, 8, 3, 5, 1, 5, 6],\n",
              "       [0, 5, 8, 7, 0, 3, 5, 5, 7, 0],\n",
              "       [2, 4, 3, 3, 3, 8, 7, 6, 4, 9],\n",
              "       [6, 0, 7, 1, 6, 7, 3, 3, 8, 7]])"
            ]
          },
          "metadata": {},
          "execution_count": 17
        }
      ]
    },
    {
      "cell_type": "markdown",
      "metadata": {
        "id": "IYFS93j7vQac"
      },
      "source": [
        "## Задание 5"
      ]
    },
    {
      "cell_type": "markdown",
      "metadata": {
        "id": "V1WwRarHvQad"
      },
      "source": [
        "Создайте матрицу размером 10*10, все элементы которой равны 9"
      ]
    },
    {
      "cell_type": "code",
      "metadata": {
        "id": "87F27SgsvQad"
      },
      "source": [
        "matrix1 = np.ones(shape = (10, 10)) * 9"
      ],
      "execution_count": null,
      "outputs": []
    },
    {
      "cell_type": "code",
      "metadata": {
        "id": "XnOfOKPuvQae",
        "colab": {
          "base_uri": "https://localhost:8080/"
        },
        "outputId": "a33a347f-d443-43a1-e446-24c57d531d9a"
      },
      "source": [
        "matrix1"
      ],
      "execution_count": null,
      "outputs": [
        {
          "output_type": "execute_result",
          "data": {
            "text/plain": [
              "array([[9., 9., 9., 9., 9., 9., 9., 9., 9., 9.],\n",
              "       [9., 9., 9., 9., 9., 9., 9., 9., 9., 9.],\n",
              "       [9., 9., 9., 9., 9., 9., 9., 9., 9., 9.],\n",
              "       [9., 9., 9., 9., 9., 9., 9., 9., 9., 9.],\n",
              "       [9., 9., 9., 9., 9., 9., 9., 9., 9., 9.],\n",
              "       [9., 9., 9., 9., 9., 9., 9., 9., 9., 9.],\n",
              "       [9., 9., 9., 9., 9., 9., 9., 9., 9., 9.],\n",
              "       [9., 9., 9., 9., 9., 9., 9., 9., 9., 9.],\n",
              "       [9., 9., 9., 9., 9., 9., 9., 9., 9., 9.],\n",
              "       [9., 9., 9., 9., 9., 9., 9., 9., 9., 9.]])"
            ]
          },
          "metadata": {},
          "execution_count": 19
        }
      ]
    },
    {
      "cell_type": "markdown",
      "metadata": {
        "id": "cWLVwITVvwnU"
      },
      "source": [
        "# Уровень Основной"
      ]
    },
    {
      "cell_type": "markdown",
      "metadata": {
        "id": "RO3SohhyvQlm"
      },
      "source": [
        "## Задание 1"
      ]
    },
    {
      "cell_type": "markdown",
      "metadata": {
        "id": "C7QC24eKvQln"
      },
      "source": [
        "Создайте вектор размерности 1 состоящий из чисел от 0 до 10. Преобразуйте его в 2-х мерный вектор - строку. Выведите результат."
      ]
    },
    {
      "cell_type": "code",
      "metadata": {
        "id": "4m463aPDvQln",
        "colab": {
          "base_uri": "https://localhost:8080/"
        },
        "outputId": "4478f8c4-c2cb-46ac-db61-461eb23fb01b"
      },
      "source": [
        "x = np.arange(10)\n",
        "x"
      ],
      "execution_count": null,
      "outputs": [
        {
          "output_type": "execute_result",
          "data": {
            "text/plain": [
              "array([0, 1, 2, 3, 4, 5, 6, 7, 8, 9])"
            ]
          },
          "metadata": {},
          "execution_count": 20
        }
      ]
    },
    {
      "cell_type": "code",
      "metadata": {
        "id": "Vpq_rOGFvQln",
        "colab": {
          "base_uri": "https://localhost:8080/"
        },
        "outputId": "57ce77ae-7e87-47b9-cdf7-8aa86fc9c478"
      },
      "source": [
        "y = x.reshape((1, -1))\n",
        "y"
      ],
      "execution_count": null,
      "outputs": [
        {
          "output_type": "execute_result",
          "data": {
            "text/plain": [
              "array([[0, 1, 2, 3, 4, 5, 6, 7, 8, 9]])"
            ]
          },
          "metadata": {},
          "execution_count": 21
        }
      ]
    },
    {
      "cell_type": "markdown",
      "metadata": {
        "id": "OTeJDitKvQus"
      },
      "source": [
        "## Задание 2"
      ]
    },
    {
      "cell_type": "markdown",
      "metadata": {
        "id": "A5tQQGGIvQus"
      },
      "source": [
        "Создайте вектор размерности 1 состоящий из чисел от 0 до 10. Преобразуйте его в 2-х мерный вектор - столбец. Выведите результат."
      ]
    },
    {
      "cell_type": "code",
      "metadata": {
        "id": "s7FhjfUGvQus",
        "colab": {
          "base_uri": "https://localhost:8080/"
        },
        "outputId": "4397da38-1e70-4c8a-e42f-0013bb661a4f"
      },
      "source": [
        "x = np.arange(10)\n",
        "x"
      ],
      "execution_count": null,
      "outputs": [
        {
          "output_type": "execute_result",
          "data": {
            "text/plain": [
              "array([0, 1, 2, 3, 4, 5, 6, 7, 8, 9])"
            ]
          },
          "metadata": {},
          "execution_count": 22
        }
      ]
    },
    {
      "cell_type": "code",
      "metadata": {
        "id": "s-KshGJjvQus",
        "colab": {
          "base_uri": "https://localhost:8080/"
        },
        "outputId": "73aabf37-1747-4260-fde1-0bbe87987244"
      },
      "source": [
        "y = x.reshape((-1, 1))\n",
        "y"
      ],
      "execution_count": null,
      "outputs": [
        {
          "output_type": "execute_result",
          "data": {
            "text/plain": [
              "array([[0],\n",
              "       [1],\n",
              "       [2],\n",
              "       [3],\n",
              "       [4],\n",
              "       [5],\n",
              "       [6],\n",
              "       [7],\n",
              "       [8],\n",
              "       [9]])"
            ]
          },
          "metadata": {},
          "execution_count": 23
        }
      ]
    },
    {
      "cell_type": "markdown",
      "metadata": {
        "id": "ptkyvuy3vQ3E"
      },
      "source": [
        "## Задание 3"
      ]
    },
    {
      "cell_type": "markdown",
      "metadata": {
        "id": "epHvf8HlvQ3E"
      },
      "source": [
        "без использования циклов создайте nd-array размерности 1 состоящий из чисел от 10 до 99"
      ]
    },
    {
      "cell_type": "code",
      "metadata": {
        "id": "cOJl70bhvQ3E"
      },
      "source": [
        "x = np.arange(start = 10 ,stop = 100)"
      ],
      "execution_count": null,
      "outputs": []
    },
    {
      "cell_type": "code",
      "metadata": {
        "id": "iMBgWRoTvQ3F",
        "colab": {
          "base_uri": "https://localhost:8080/"
        },
        "outputId": "fcad2526-847c-45f2-d707-743dc712ce07"
      },
      "source": [
        "x"
      ],
      "execution_count": null,
      "outputs": [
        {
          "output_type": "execute_result",
          "data": {
            "text/plain": [
              "array([10, 11, 12, 13, 14, 15, 16, 17, 18, 19, 20, 21, 22, 23, 24, 25, 26,\n",
              "       27, 28, 29, 30, 31, 32, 33, 34, 35, 36, 37, 38, 39, 40, 41, 42, 43,\n",
              "       44, 45, 46, 47, 48, 49, 50, 51, 52, 53, 54, 55, 56, 57, 58, 59, 60,\n",
              "       61, 62, 63, 64, 65, 66, 67, 68, 69, 70, 71, 72, 73, 74, 75, 76, 77,\n",
              "       78, 79, 80, 81, 82, 83, 84, 85, 86, 87, 88, 89, 90, 91, 92, 93, 94,\n",
              "       95, 96, 97, 98, 99])"
            ]
          },
          "metadata": {},
          "execution_count": 25
        }
      ]
    },
    {
      "cell_type": "markdown",
      "metadata": {
        "id": "Qvm5ztrLvQ-p"
      },
      "source": [
        "## Задание 4"
      ]
    },
    {
      "cell_type": "markdown",
      "metadata": {
        "id": "OcBOoawxvQ-p"
      },
      "source": [
        "без использования циклов создайте nd-array размерности 1, состоящий из чисел от 100 до 0 с шагом 2."
      ]
    },
    {
      "cell_type": "code",
      "metadata": {
        "id": "PLvPoe3EvQ-q"
      },
      "source": [
        "x = np.arange(start=100, stop=-2, step=-2)"
      ],
      "execution_count": null,
      "outputs": []
    },
    {
      "cell_type": "code",
      "metadata": {
        "id": "PyGdABgcvQ-q",
        "colab": {
          "base_uri": "https://localhost:8080/"
        },
        "outputId": "d38ce5f1-ccdd-45c6-fc7c-264e506fbe97"
      },
      "source": [
        "x"
      ],
      "execution_count": null,
      "outputs": [
        {
          "output_type": "execute_result",
          "data": {
            "text/plain": [
              "array([100,  98,  96,  94,  92,  90,  88,  86,  84,  82,  80,  78,  76,\n",
              "        74,  72,  70,  68,  66,  64,  62,  60,  58,  56,  54,  52,  50,\n",
              "        48,  46,  44,  42,  40,  38,  36,  34,  32,  30,  28,  26,  24,\n",
              "        22,  20,  18,  16,  14,  12,  10,   8,   6,   4,   2,   0])"
            ]
          },
          "metadata": {},
          "execution_count": 27
        }
      ]
    },
    {
      "cell_type": "markdown",
      "metadata": {
        "id": "5-AkBFttwRiD"
      },
      "source": [
        "## Задание 5 "
      ]
    },
    {
      "cell_type": "markdown",
      "metadata": {
        "id": "4qe4nKBgwRiV"
      },
      "source": [
        "создайте вектор размерности 1, состоящий из чисел от 0 до 99.  Без использования циклов разверните nd-array так, чтобы порядок следования изменился от последнего к первому (было 0, 1….99; стало 99, 98..1, 0)\n"
      ]
    },
    {
      "cell_type": "code",
      "metadata": {
        "id": "8LK3tOYNwRiX",
        "colab": {
          "base_uri": "https://localhost:8080/"
        },
        "outputId": "8c424374-c6d5-4be5-dff4-c436acdd3b6c"
      },
      "source": [
        "x = np.arange(0, 100, 1)"
      ],
      "execution_count": null,
      "outputs": [
        {
          "output_type": "execute_result",
          "data": {
            "text/plain": [
              "array([99, 98, 97, 96, 95, 94, 93, 92, 91, 90, 89, 88, 87, 86, 85, 84, 83,\n",
              "       82, 81, 80, 79, 78, 77, 76, 75, 74, 73, 72, 71, 70, 69, 68, 67, 66,\n",
              "       65, 64, 63, 62, 61, 60, 59, 58, 57, 56, 55, 54, 53, 52, 51, 50, 49,\n",
              "       48, 47, 46, 45, 44, 43, 42, 41, 40, 39, 38, 37, 36, 35, 34, 33, 32,\n",
              "       31, 30, 29, 28, 27, 26, 25, 24, 23, 22, 21, 20, 19, 18, 17, 16, 15,\n",
              "       14, 13, 12, 11, 10,  9,  8,  7,  6,  5,  4,  3,  2,  1,  0])"
            ]
          },
          "metadata": {},
          "execution_count": 30
        }
      ]
    },
    {
      "cell_type": "code",
      "metadata": {
        "id": "2u7GbeIUwRia",
        "colab": {
          "base_uri": "https://localhost:8080/"
        },
        "outputId": "ec2f12e6-cce5-4971-e1dd-403c70e71a02"
      },
      "source": [
        "x[::-1]"
      ],
      "execution_count": null,
      "outputs": [
        {
          "output_type": "execute_result",
          "data": {
            "text/plain": [
              "array([99, 98, 97, 96, 95, 94, 93, 92, 91, 90, 89, 88, 87, 86, 85, 84, 83,\n",
              "       82, 81, 80, 79, 78, 77, 76, 75, 74, 73, 72, 71, 70, 69, 68, 67, 66,\n",
              "       65, 64, 63, 62, 61, 60, 59, 58, 57, 56, 55, 54, 53, 52, 51, 50, 49,\n",
              "       48, 47, 46, 45, 44, 43, 42, 41, 40, 39, 38, 37, 36, 35, 34, 33, 32,\n",
              "       31, 30, 29, 28, 27, 26, 25, 24, 23, 22, 21, 20, 19, 18, 17, 16, 15,\n",
              "       14, 13, 12, 11, 10,  9,  8,  7,  6,  5,  4,  3,  2,  1,  0])"
            ]
          },
          "metadata": {},
          "execution_count": 31
        }
      ]
    },
    {
      "cell_type": "markdown",
      "metadata": {
        "id": "6R-VJ_JMwR5T"
      },
      "source": [
        "## Задание 6"
      ]
    },
    {
      "cell_type": "markdown",
      "metadata": {
        "id": "3p7YJKzPwR5V"
      },
      "source": [
        "без использования циклов создайте матрицу размера 5x5 состоящую из случайных чисел взятых из нормального распределения с mu = 0 и sigma=1"
      ]
    },
    {
      "cell_type": "code",
      "metadata": {
        "id": "nIyT9xsTwR5V"
      },
      "source": [
        "x = np.random.normal(loc=0, scale=1, size=(5, 5))"
      ],
      "execution_count": null,
      "outputs": []
    },
    {
      "cell_type": "code",
      "metadata": {
        "id": "NUdCIUmswR5Y",
        "colab": {
          "base_uri": "https://localhost:8080/"
        },
        "outputId": "29818cfa-cd79-462e-d3fd-53eb8a68d11e"
      },
      "source": [
        "x"
      ],
      "execution_count": null,
      "outputs": [
        {
          "output_type": "execute_result",
          "data": {
            "text/plain": [
              "array([[-1.13020488, -1.79637184, -0.14902254, -0.24186665,  0.61752553],\n",
              "       [-0.86474745,  0.81255554, -0.07179057,  0.18499922,  1.91100944],\n",
              "       [-0.76785095, -0.74600963, -1.94688621,  0.95338494, -1.51710996],\n",
              "       [-1.39992745, -0.08952398, -1.34860438,  0.36177936, -1.56363399],\n",
              "       [ 0.7996937 ,  2.0972506 ,  0.46944454, -1.79894482,  0.44469942]])"
            ]
          },
          "metadata": {},
          "execution_count": 33
        }
      ]
    },
    {
      "cell_type": "markdown",
      "metadata": {
        "id": "yVJcbMJNwSA7"
      },
      "source": [
        "## Задание 7"
      ]
    },
    {
      "cell_type": "markdown",
      "metadata": {
        "id": "FAZj3MupwSA8"
      },
      "source": [
        "создайте одномерный вектор  размером 16 и заполните его числами от 0 до 15  Измените его форму так, чтобы у итоговой таблицы стало 4 строки и 4 столбца."
      ]
    },
    {
      "cell_type": "code",
      "metadata": {
        "id": "4Gy_FCUbwSA8",
        "colab": {
          "base_uri": "https://localhost:8080/"
        },
        "outputId": "3d6ba6dd-ad01-4821-95c1-2c2a3a129d31"
      },
      "source": [
        "x = np.arange(start=0, stop=16, step=1)\n",
        "x"
      ],
      "execution_count": null,
      "outputs": [
        {
          "output_type": "execute_result",
          "data": {
            "text/plain": [
              "array([ 0,  1,  2,  3,  4,  5,  6,  7,  8,  9, 10, 11, 12, 13, 14, 15])"
            ]
          },
          "metadata": {},
          "execution_count": 34
        }
      ]
    },
    {
      "cell_type": "code",
      "metadata": {
        "id": "y2j6Xl6ZwSA9",
        "colab": {
          "base_uri": "https://localhost:8080/"
        },
        "outputId": "5aef6198-0188-4e4d-9902-f318bcb6eec4"
      },
      "source": [
        "y = x.reshape((4, 4))\n",
        "y"
      ],
      "execution_count": null,
      "outputs": [
        {
          "output_type": "execute_result",
          "data": {
            "text/plain": [
              "array([[ 0,  1,  2,  3],\n",
              "       [ 4,  5,  6,  7],\n",
              "       [ 8,  9, 10, 11],\n",
              "       [12, 13, 14, 15]])"
            ]
          },
          "metadata": {},
          "execution_count": 36
        }
      ]
    },
    {
      "cell_type": "markdown",
      "metadata": {
        "id": "CYVPMWcywSGz"
      },
      "source": [
        "## Задание 8"
      ]
    },
    {
      "cell_type": "markdown",
      "metadata": {
        "id": "01FLxIZQaeOn"
      },
      "source": [
        "С помощью reshape измените размерность единичной матрицы (8,8) на (8,8,1), а затем с помощью concatenate объедините её саму с собой вдоль каждой из осей по отдельности. Посмотрите все три результата с помощью shape для каждого случая объединения."
      ]
    },
    {
      "cell_type": "code",
      "metadata": {
        "id": "KHUC9a7_aeOn",
        "colab": {
          "base_uri": "https://localhost:8080/"
        },
        "outputId": "3ab2ab45-ce06-4f3f-98b4-4d811296f6d3"
      },
      "source": [
        "x = np.eye(8)\n",
        "x"
      ],
      "execution_count": null,
      "outputs": [
        {
          "output_type": "execute_result",
          "data": {
            "text/plain": [
              "array([[1., 0., 0., 0., 0., 0., 0., 0.],\n",
              "       [0., 1., 0., 0., 0., 0., 0., 0.],\n",
              "       [0., 0., 1., 0., 0., 0., 0., 0.],\n",
              "       [0., 0., 0., 1., 0., 0., 0., 0.],\n",
              "       [0., 0., 0., 0., 1., 0., 0., 0.],\n",
              "       [0., 0., 0., 0., 0., 1., 0., 0.],\n",
              "       [0., 0., 0., 0., 0., 0., 1., 0.],\n",
              "       [0., 0., 0., 0., 0., 0., 0., 1.]])"
            ]
          },
          "metadata": {},
          "execution_count": 37
        }
      ]
    },
    {
      "cell_type": "code",
      "metadata": {
        "id": "uyoccZauaeOo",
        "colab": {
          "base_uri": "https://localhost:8080/"
        },
        "outputId": "d8553fa4-df15-43ba-8491-30c58d4c4547"
      },
      "source": [
        "x = x.reshape(8,8,1)\n",
        "x.shape"
      ],
      "execution_count": null,
      "outputs": [
        {
          "output_type": "execute_result",
          "data": {
            "text/plain": [
              "(8, 8, 1)"
            ]
          },
          "metadata": {},
          "execution_count": 45
        }
      ]
    },
    {
      "cell_type": "code",
      "metadata": {
        "colab": {
          "base_uri": "https://localhost:8080/"
        },
        "id": "h-FVHb4nqmhK",
        "outputId": "b77923b9-9ddd-44cd-b419-0eed24ad00c6"
      },
      "source": [
        "y = np.concatenate((x, x), axis = 0)\n",
        "y.shape"
      ],
      "execution_count": null,
      "outputs": [
        {
          "output_type": "execute_result",
          "data": {
            "text/plain": [
              "(16, 8, 1)"
            ]
          },
          "metadata": {},
          "execution_count": 44
        }
      ]
    },
    {
      "cell_type": "code",
      "metadata": {
        "colab": {
          "base_uri": "https://localhost:8080/"
        },
        "id": "7_Gz5KPpq2vZ",
        "outputId": "57e57ed7-7654-4e80-e18b-a059959d02dd"
      },
      "source": [
        "y = np.concatenate((x, x), axis = 1)\n",
        "y.shape"
      ],
      "execution_count": null,
      "outputs": [
        {
          "output_type": "execute_result",
          "data": {
            "text/plain": [
              "(8, 16, 1)"
            ]
          },
          "metadata": {},
          "execution_count": 43
        }
      ]
    },
    {
      "cell_type": "code",
      "metadata": {
        "colab": {
          "base_uri": "https://localhost:8080/"
        },
        "id": "VLsB06Hgq8Mp",
        "outputId": "6f9db1a2-9e95-4d68-8c0b-c23aec88794e"
      },
      "source": [
        "y = np.concatenate((x, x), axis = 2)\n",
        "y.shape"
      ],
      "execution_count": null,
      "outputs": [
        {
          "output_type": "execute_result",
          "data": {
            "text/plain": [
              "(8, 8, 2)"
            ]
          },
          "metadata": {},
          "execution_count": 42
        }
      ]
    },
    {
      "cell_type": "markdown",
      "metadata": {
        "id": "RRgChVHIxhdG"
      },
      "source": [
        "# Уровень Продвинутый"
      ]
    },
    {
      "cell_type": "markdown",
      "metadata": {
        "id": "cdBA2Zv-wSKy"
      },
      "source": [
        "## Задание 1"
      ]
    },
    {
      "cell_type": "markdown",
      "metadata": {
        "id": "WRonwgJuwSKy"
      },
      "source": [
        "создайте двумерную матрицу размером 10x10, заполненную случайными целыми числами в интервале от -10 до 10. \n",
        "* напечатайте матрицу\n",
        "* найдите сумму квадратов всех элементов матрицы с помощью циклов\n",
        "* найдите сумму квадратов всех элементов матрицы без использования циклов, исключительно с помощью матричных операций\n",
        "* найдите среднее значение всех элементов nd-array c помощью циклов\n",
        "* найдите среднее значение всех элементов без использования циклов, с помощью матричных операций\n",
        "* напишите свои выводы\n"
      ]
    },
    {
      "cell_type": "code",
      "metadata": {
        "id": "KXjLC957wSKy",
        "colab": {
          "base_uri": "https://localhost:8080/"
        },
        "outputId": "f47c13e8-f8ad-4fb9-962b-80093b9ea6f7"
      },
      "source": [
        "x = np.random.randint(-10, 10, size=(10, 10))\n",
        "x"
      ],
      "execution_count": null,
      "outputs": [
        {
          "output_type": "execute_result",
          "data": {
            "text/plain": [
              "array([[ -4,  -2,   2,   4,   6,  -1,  -4,  -5,   3,   8],\n",
              "       [ -1,   5,  -5,  -7,   7,  -5,   3,   2,  -6,   1],\n",
              "       [  7,   5,   4,   9, -10,   3,   1,   3,   7,  -7],\n",
              "       [  5,  -8,  -1,   8,   4,  -4,   6,   4,   8,  -8],\n",
              "       [  1,   1,   8,  -6,   6,  -4, -10,  -4,   3,   7],\n",
              "       [ -7,   2,   5,   4,  -2, -10,  -3,   0,  -3,  -6],\n",
              "       [ -3,  -7,  -6,  -6,   5,   0,   3,  -5,  -3,  -7],\n",
              "       [ -8,   3,   0, -10,   8,  -4,  -8,   1,   8,   9],\n",
              "       [  6,   1,   9,  -2,   3,   4,   0,   8,   2,   7],\n",
              "       [  3,  -5,   4,   6,  -5,   1,  -9,   7,   6,  -2]])"
            ]
          },
          "metadata": {},
          "execution_count": 46
        }
      ]
    },
    {
      "cell_type": "code",
      "metadata": {
        "id": "PzL_nUdlwSKz",
        "colab": {
          "base_uri": "https://localhost:8080/"
        },
        "outputId": "7d2dda2c-7024-41f1-e255-f7a1137281f2"
      },
      "source": [
        "sum = 0\n",
        "\n",
        "for i in range(10):\n",
        "    for j in range(10):\n",
        "        sum += x[i, j] ** 2\n",
        "\n",
        "sum"
      ],
      "execution_count": null,
      "outputs": [
        {
          "output_type": "execute_result",
          "data": {
            "text/plain": [
              "3005"
            ]
          },
          "metadata": {},
          "execution_count": 48
        }
      ]
    },
    {
      "cell_type": "code",
      "metadata": {
        "colab": {
          "base_uri": "https://localhost:8080/"
        },
        "id": "P5U7kRQKsEFi",
        "outputId": "14043e34-b265-4301-e4c4-28007c71c267"
      },
      "source": [
        "(x * x).sum()"
      ],
      "execution_count": null,
      "outputs": [
        {
          "output_type": "execute_result",
          "data": {
            "text/plain": [
              "3005"
            ]
          },
          "metadata": {},
          "execution_count": 50
        }
      ]
    },
    {
      "cell_type": "code",
      "metadata": {
        "colab": {
          "base_uri": "https://localhost:8080/"
        },
        "id": "3Tb15i-msdMA",
        "outputId": "d52be024-0db5-4479-8a85-6ad3d73379d0"
      },
      "source": [
        "sum = 0\n",
        "\n",
        "for i in range(10):\n",
        "    for j in range(10):\n",
        "        sum += x[i, j]\n",
        "\n",
        "sum / (10 * 10)"
      ],
      "execution_count": null,
      "outputs": [
        {
          "output_type": "execute_result",
          "data": {
            "text/plain": [
              "0.33"
            ]
          },
          "metadata": {},
          "execution_count": 51
        }
      ]
    },
    {
      "cell_type": "code",
      "metadata": {
        "colab": {
          "base_uri": "https://localhost:8080/"
        },
        "id": "X1QlcHeUsxZz",
        "outputId": "3dcbe78c-016d-444b-8922-8539fee7d004"
      },
      "source": [
        "x.mean()"
      ],
      "execution_count": null,
      "outputs": [
        {
          "output_type": "execute_result",
          "data": {
            "text/plain": [
              "0.33"
            ]
          },
          "metadata": {},
          "execution_count": 52
        }
      ]
    },
    {
      "cell_type": "markdown",
      "metadata": {
        "id": "flsKS_KewSOl"
      },
      "source": [
        "## Задание 2"
      ]
    },
    {
      "cell_type": "markdown",
      "metadata": {
        "id": "KUozhPGnwSOl"
      },
      "source": [
        "создайте матрицу размером 5х5 так, чтобы на главной диагонали было число 10, а в остальных ячейках -3"
      ]
    },
    {
      "cell_type": "code",
      "metadata": {
        "id": "yF8Mx3n5wSOl",
        "colab": {
          "base_uri": "https://localhost:8080/"
        },
        "outputId": "ae2d9a6a-730d-4c6e-cc70-4379a7a0e70f"
      },
      "source": [
        "x = np.eye(5)\n",
        "x"
      ],
      "execution_count": null,
      "outputs": [
        {
          "output_type": "execute_result",
          "data": {
            "text/plain": [
              "array([[1., 0., 0., 0., 0.],\n",
              "       [0., 1., 0., 0., 0.],\n",
              "       [0., 0., 1., 0., 0.],\n",
              "       [0., 0., 0., 1., 0.],\n",
              "       [0., 0., 0., 0., 1.]])"
            ]
          },
          "metadata": {},
          "execution_count": 53
        }
      ]
    },
    {
      "cell_type": "code",
      "metadata": {
        "id": "vvBaY4LOwSOm",
        "colab": {
          "base_uri": "https://localhost:8080/"
        },
        "outputId": "782b46c7-2371-4a35-b6ea-6edf24136d41"
      },
      "source": [
        "y = x * 13 - 3\n",
        "y"
      ],
      "execution_count": null,
      "outputs": [
        {
          "output_type": "execute_result",
          "data": {
            "text/plain": [
              "array([[10., -3., -3., -3., -3.],\n",
              "       [-3., 10., -3., -3., -3.],\n",
              "       [-3., -3., 10., -3., -3.],\n",
              "       [-3., -3., -3., 10., -3.],\n",
              "       [-3., -3., -3., -3., 10.]])"
            ]
          },
          "metadata": {},
          "execution_count": 54
        }
      ]
    },
    {
      "cell_type": "markdown",
      "metadata": {
        "id": "gFMebwdWwSR1"
      },
      "source": [
        "## Задание 3"
      ]
    },
    {
      "cell_type": "markdown",
      "metadata": {
        "id": "OM7wFhNmnjAj"
      },
      "source": [
        "создайте единичную матрицу размером 5x5, так, чтобы все значения в первой строке (по индексу в нулевой) равнялись 0, во второй  1, в третьей  2 и т.д.\n"
      ]
    },
    {
      "cell_type": "code",
      "metadata": {
        "id": "Wi4ezfUTwSR2",
        "colab": {
          "base_uri": "https://localhost:8080/"
        },
        "outputId": "36a55e74-4324-448b-c9b5-cd84d452d45c"
      },
      "source": [
        "x = np.zeros(shape=(5, 5))\n",
        "x"
      ],
      "execution_count": null,
      "outputs": [
        {
          "output_type": "execute_result",
          "data": {
            "text/plain": [
              "array([[0., 0., 0., 0., 0.],\n",
              "       [0., 0., 0., 0., 0.],\n",
              "       [0., 0., 0., 0., 0.],\n",
              "       [0., 0., 0., 0., 0.],\n",
              "       [0., 0., 0., 0., 0.]])"
            ]
          },
          "metadata": {},
          "execution_count": 55
        }
      ]
    },
    {
      "cell_type": "code",
      "metadata": {
        "id": "FEILbd-owSR2",
        "colab": {
          "base_uri": "https://localhost:8080/"
        },
        "outputId": "637517e3-ce4b-40e0-86fa-d58954a3b2fd"
      },
      "source": [
        "y = x + np.arange(5).reshape(-1, 1)\n",
        "y"
      ],
      "execution_count": null,
      "outputs": [
        {
          "output_type": "execute_result",
          "data": {
            "text/plain": [
              "array([[0., 0., 0., 0., 0.],\n",
              "       [1., 1., 1., 1., 1.],\n",
              "       [2., 2., 2., 2., 2.],\n",
              "       [3., 3., 3., 3., 3.],\n",
              "       [4., 4., 4., 4., 4.]])"
            ]
          },
          "metadata": {},
          "execution_count": 56
        }
      ]
    },
    {
      "cell_type": "markdown",
      "metadata": {
        "id": "Bj4R50Zz3AYv"
      },
      "source": [
        "# Уровень Профессиональный"
      ]
    },
    {
      "cell_type": "markdown",
      "metadata": {
        "id": "OeidAc87wSVs"
      },
      "source": [
        "## Задание 1"
      ]
    },
    {
      "cell_type": "markdown",
      "metadata": {
        "id": "u0sb3wbNwSVt"
      },
      "source": [
        "выведите на печать “таблицу умножения” - матрицу размером 9x9\n",
        "\n",
        "[[ 1 2 3 4 5 6 7 8 9]\n",
        "\n",
        "[ 2 4 6 8 10 12 14 16 18]\n",
        "\n",
        "[ 3 6 9 12 15 18 21 24 27]\n",
        "\n",
        "[ 4 8 12 16 20 24 28 32 36]\n",
        "\n",
        "[ 5 10 15 20 25 30 35 40 45]\n",
        "\n",
        "[ 6 12 18 24 30 36 42 48 54]\n",
        "\n",
        "[ 7 14 21 28 35 42 49 56 63]\n",
        "\n",
        "[ 8 16 24 32 40 48 56 64 72]\n",
        "\n",
        "[ 9 18 27 36 45 54 63 72 81]]\n",
        "\n",
        "использовать циклы нельзя, только матричные операции"
      ]
    },
    {
      "cell_type": "code",
      "metadata": {
        "id": "Qq0jWIVBwSVt",
        "colab": {
          "base_uri": "https://localhost:8080/"
        },
        "outputId": "26c4c7b1-564a-4be6-b9c8-50bdc5b38a11"
      },
      "source": [
        "x = np.arange(1, 10)\n",
        "x"
      ],
      "execution_count": null,
      "outputs": [
        {
          "output_type": "execute_result",
          "data": {
            "text/plain": [
              "array([1, 2, 3, 4, 5, 6, 7, 8, 9])"
            ]
          },
          "metadata": {},
          "execution_count": 57
        }
      ]
    },
    {
      "cell_type": "code",
      "metadata": {
        "id": "7EfSmCBkwSVu",
        "colab": {
          "base_uri": "https://localhost:8080/"
        },
        "outputId": "51297940-9ebf-47ec-a430-94de7c516515"
      },
      "source": [
        "x.reshape((1, -1)) * x.reshape((-1, 1)) "
      ],
      "execution_count": null,
      "outputs": [
        {
          "output_type": "execute_result",
          "data": {
            "text/plain": [
              "array([[ 1,  2,  3,  4,  5,  6,  7,  8,  9],\n",
              "       [ 2,  4,  6,  8, 10, 12, 14, 16, 18],\n",
              "       [ 3,  6,  9, 12, 15, 18, 21, 24, 27],\n",
              "       [ 4,  8, 12, 16, 20, 24, 28, 32, 36],\n",
              "       [ 5, 10, 15, 20, 25, 30, 35, 40, 45],\n",
              "       [ 6, 12, 18, 24, 30, 36, 42, 48, 54],\n",
              "       [ 7, 14, 21, 28, 35, 42, 49, 56, 63],\n",
              "       [ 8, 16, 24, 32, 40, 48, 56, 64, 72],\n",
              "       [ 9, 18, 27, 36, 45, 54, 63, 72, 81]])"
            ]
          },
          "metadata": {},
          "execution_count": 58
        }
      ]
    },
    {
      "cell_type": "markdown",
      "metadata": {
        "id": "RH2f70yKwSYN"
      },
      "source": [
        "## Задание 2"
      ]
    },
    {
      "cell_type": "markdown",
      "metadata": {
        "id": "gLCbSFPswScV"
      },
      "source": [
        "создайте матрицу размером 10x10, на главной диагонали которой будут числа от 1 до 10, остальные значения равны -1"
      ]
    },
    {
      "cell_type": "code",
      "metadata": {
        "id": "HNtIUubxwScV",
        "colab": {
          "base_uri": "https://localhost:8080/"
        },
        "outputId": "9f5cf4c1-d02d-4c04-e2fc-05d04149189a"
      },
      "source": [
        "x = np.eye(10)\n",
        "x"
      ],
      "execution_count": null,
      "outputs": [
        {
          "output_type": "execute_result",
          "data": {
            "text/plain": [
              "array([[1., 0., 0., 0., 0., 0., 0., 0., 0., 0.],\n",
              "       [0., 1., 0., 0., 0., 0., 0., 0., 0., 0.],\n",
              "       [0., 0., 1., 0., 0., 0., 0., 0., 0., 0.],\n",
              "       [0., 0., 0., 1., 0., 0., 0., 0., 0., 0.],\n",
              "       [0., 0., 0., 0., 1., 0., 0., 0., 0., 0.],\n",
              "       [0., 0., 0., 0., 0., 1., 0., 0., 0., 0.],\n",
              "       [0., 0., 0., 0., 0., 0., 1., 0., 0., 0.],\n",
              "       [0., 0., 0., 0., 0., 0., 0., 1., 0., 0.],\n",
              "       [0., 0., 0., 0., 0., 0., 0., 0., 1., 0.],\n",
              "       [0., 0., 0., 0., 0., 0., 0., 0., 0., 1.]])"
            ]
          },
          "metadata": {},
          "execution_count": 59
        }
      ]
    },
    {
      "cell_type": "code",
      "metadata": {
        "id": "BsQ7ZRkNwScW",
        "colab": {
          "base_uri": "https://localhost:8080/"
        },
        "outputId": "f4fcfa98-a725-467f-cbb7-5749c9554509"
      },
      "source": [
        "y = x * np.arange(2, 12).reshape((-1, 1)) - 1\n",
        "y"
      ],
      "execution_count": null,
      "outputs": [
        {
          "output_type": "execute_result",
          "data": {
            "text/plain": [
              "array([[ 1., -1., -1., -1., -1., -1., -1., -1., -1., -1.],\n",
              "       [-1.,  2., -1., -1., -1., -1., -1., -1., -1., -1.],\n",
              "       [-1., -1.,  3., -1., -1., -1., -1., -1., -1., -1.],\n",
              "       [-1., -1., -1.,  4., -1., -1., -1., -1., -1., -1.],\n",
              "       [-1., -1., -1., -1.,  5., -1., -1., -1., -1., -1.],\n",
              "       [-1., -1., -1., -1., -1.,  6., -1., -1., -1., -1.],\n",
              "       [-1., -1., -1., -1., -1., -1.,  7., -1., -1., -1.],\n",
              "       [-1., -1., -1., -1., -1., -1., -1.,  8., -1., -1.],\n",
              "       [-1., -1., -1., -1., -1., -1., -1., -1.,  9., -1.],\n",
              "       [-1., -1., -1., -1., -1., -1., -1., -1., -1., 10.]])"
            ]
          },
          "metadata": {},
          "execution_count": 65
        }
      ]
    },
    {
      "cell_type": "markdown",
      "metadata": {
        "id": "nv4uOCSBwSed"
      },
      "source": [
        "## Задание 3"
      ]
    },
    {
      "cell_type": "markdown",
      "metadata": {
        "id": "k4sq0pJvwSed"
      },
      "source": [
        "создайте матрицу размером 10*10, заполненную случайными целыми числами в диапазоне от [-10 ,  +10], границы включены.  найдите\n",
        "* Максимальный элемент матрицы\n",
        "* Минимальный элемент матрицы\n",
        "* сумму всех элементов матрицы\n",
        "* среднее всех элементов матрицы\n",
        "* суммы по строкам и по столбцам\n",
        "* сумму и количество  всех элементов больших нуля\n",
        "* среднее всех элементов меньших нуля\n"
      ]
    },
    {
      "cell_type": "code",
      "metadata": {
        "id": "7Cr5bd6zwSed",
        "colab": {
          "base_uri": "https://localhost:8080/"
        },
        "outputId": "dd5d5638-7ace-4026-ee9b-2ddbab8b995b"
      },
      "source": [
        "x = np.random.randint(-10, 11, (10, 10))\n",
        "x"
      ],
      "execution_count": null,
      "outputs": [
        {
          "output_type": "execute_result",
          "data": {
            "text/plain": [
              "array([[ -7,   4,  -4,  -5,  -4,   1,   3,   3,   0,  -7],\n",
              "       [ -3,   1,   1,  -9,  -5,   9,   2,   1,   4,  -6],\n",
              "       [ -3,   3,   4,   0,   3, -10,  -7,   9,  -3,   1],\n",
              "       [ -4,   3,  -5,  -5,   4,   2,  10,   8,  -8,   8],\n",
              "       [ -5,   0,   9,  -4,   7,  -1,  -4,  -7,   4,   5],\n",
              "       [  9,   9,  -6,   2,   2,   3,  -2,   9,  -2,   5],\n",
              "       [  9,   6,   6,  -8,  -8,   0,   1,  -8,   2,  -4],\n",
              "       [  7,   3,  -9,  -5,  -3,  -8,  10,   5,  10, -10],\n",
              "       [ -9,   1,  -5, -10,   6,   1,   1,   6,  -5,   4],\n",
              "       [ -8,  -8,  -2,  -9, -10,  -5,  -8,  -2,   3,   9]])"
            ]
          },
          "metadata": {},
          "execution_count": 66
        }
      ]
    },
    {
      "cell_type": "code",
      "metadata": {
        "id": "hv1aXFoPwSee",
        "colab": {
          "base_uri": "https://localhost:8080/"
        },
        "outputId": "84b0d4f6-6719-4e1f-f944-afe4f7d70f5b"
      },
      "source": [
        "print(f'максимальный элемент матрицы {x.max()}')\n",
        "print(f'минимальный элемент матрицы {x.min()}')\n",
        "print(f'сумма всех элементов матрицы {x.sum()}')\n",
        "print(f'среднее значение элементов матрицы {x.mean()}')"
      ],
      "execution_count": null,
      "outputs": [
        {
          "output_type": "stream",
          "name": "stdout",
          "text": [
            "максимальный элемент матрицы 10\n",
            "минимальный элемент матрицы -10\n",
            "сумма всех элементов матрицы -32\n",
            "среднее значение элементов матрицы -0.32\n"
          ]
        }
      ]
    },
    {
      "cell_type": "code",
      "metadata": {
        "colab": {
          "base_uri": "https://localhost:8080/"
        },
        "id": "7iCo6_sn-oGy",
        "outputId": "94fc2623-eed6-42d5-a21b-f100fcef0ea6"
      },
      "source": [
        "x.sum(axis=0)"
      ],
      "execution_count": null,
      "outputs": [
        {
          "output_type": "execute_result",
          "data": {
            "text/plain": [
              "array([-14,  22, -11, -53,  -8,  -8,   6,  24,   5,   5])"
            ]
          },
          "metadata": {},
          "execution_count": 68
        }
      ]
    },
    {
      "cell_type": "code",
      "metadata": {
        "colab": {
          "base_uri": "https://localhost:8080/"
        },
        "id": "j27HNyrp-vVC",
        "outputId": "8aca5043-5fd7-4a71-b379-ed96f3703ea0"
      },
      "source": [
        "x.sum(axis=1)"
      ],
      "execution_count": null,
      "outputs": [
        {
          "output_type": "execute_result",
          "data": {
            "text/plain": [
              "array([-16,  -5,  -3,  13,   4,  29,  -4,   0, -10, -40])"
            ]
          },
          "metadata": {},
          "execution_count": 69
        }
      ]
    },
    {
      "cell_type": "code",
      "metadata": {
        "colab": {
          "base_uri": "https://localhost:8080/"
        },
        "id": "vFjmnRjC-2LZ",
        "outputId": "cf9b5169-5254-4f8b-a9e7-b9d3df91c612"
      },
      "source": [
        "(x > 0).sum()"
      ],
      "execution_count": null,
      "outputs": [
        {
          "output_type": "execute_result",
          "data": {
            "text/plain": [
              "50"
            ]
          },
          "metadata": {},
          "execution_count": 70
        }
      ]
    },
    {
      "cell_type": "code",
      "metadata": {
        "colab": {
          "base_uri": "https://localhost:8080/"
        },
        "id": "3C1KM5Ui_Cch",
        "outputId": "c3a7844e-ff34-4702-e5d9-bd0644a1db3d"
      },
      "source": [
        "x[x > 0].sum()"
      ],
      "execution_count": null,
      "outputs": [
        {
          "output_type": "execute_result",
          "data": {
            "text/plain": [
              "238"
            ]
          },
          "metadata": {},
          "execution_count": 71
        }
      ]
    },
    {
      "cell_type": "code",
      "metadata": {
        "colab": {
          "base_uri": "https://localhost:8080/"
        },
        "id": "5IC3Ea7n_Qgh",
        "outputId": "8871251e-425a-4c18-cd7b-7b117cf91ab4"
      },
      "source": [
        "x[x < 0].mean()"
      ],
      "execution_count": null,
      "outputs": [
        {
          "output_type": "execute_result",
          "data": {
            "text/plain": [
              "-5.869565217391305"
            ]
          },
          "metadata": {},
          "execution_count": 72
        }
      ]
    }
  ]
}