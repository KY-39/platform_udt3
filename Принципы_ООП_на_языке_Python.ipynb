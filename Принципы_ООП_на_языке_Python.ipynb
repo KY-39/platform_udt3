{
  "nbformat": 4,
  "nbformat_minor": 0,
  "metadata": {
    "colab": {
      "name": "my \"Принципы_ООП_на языке_Python - д.з.\"",
      "provenance": [],
      "collapsed_sections": [],
      "include_colab_link": true
    },
    "kernelspec": {
      "name": "python3",
      "display_name": "Python 3"
    }
  },
  "cells": [
    {
      "cell_type": "markdown",
      "metadata": {
        "id": "view-in-github",
        "colab_type": "text"
      },
      "source": [
        "<a href=\"https://colab.research.google.com/github/KY-39/platforma_udt/blob/main/%D0%9F%D1%80%D0%B8%D0%BD%D1%86%D0%B8%D0%BF%D1%8B_%D0%9E%D0%9E%D0%9F_%D0%BD%D0%B0_%D1%8F%D0%B7%D1%8B%D0%BA%D0%B5_Python.ipynb\" target=\"_parent\"><img src=\"https://colab.research.google.com/assets/colab-badge.svg\" alt=\"Open In Colab\"/></a>"
      ]
    },
    {
      "cell_type": "markdown",
      "metadata": {
        "id": "uVQjRFc6abYJ"
      },
      "source": [
        "## ООО \"Университет Цифровых Технологий платформа 3\""
      ]
    },
    {
      "cell_type": "markdown",
      "metadata": {
        "id": "dbydVIpyBl-h"
      },
      "source": [
        "# Принципы ООП на языке Python"
      ]
    },
    {
      "cell_type": "markdown",
      "metadata": {
        "id": "FYBU-IuA6i_N"
      },
      "source": [
        "# Домашнее задание"
      ]
    },
    {
      "cell_type": "markdown",
      "metadata": {
        "id": "yrp2bqXLHYK8"
      },
      "source": [
        "## Задание 1\n",
        "Создайте класс `Person` с 2-мя свойствами: `name` (имя) и `surname` (фамилия). Создайте не менее 6 объектов этого класса. Сами придумайте имена и фамилии."
      ]
    },
    {
      "cell_type": "code",
      "metadata": {
        "id": "IKhxaNDVGzIS",
        "colab": {
          "base_uri": "https://localhost:8080/",
          "height": 35
        },
        "outputId": "6450db0f-7cb3-4121-85b2-1762095d3f44"
      },
      "source": [
        "class Person:\n",
        "\n",
        "  def __init__(self, name, surname):\n",
        "    self.name = name\n",
        "    self.surname = surname\n",
        "\n",
        "person1 = Person('Али', 'Баба')\n",
        "person2 = Person('Змей', 'Горыныч')\n",
        "person3 = Person('Стив', 'Жобс')\n",
        "person4 = Person('Дядя', 'Джи-Ай')\n",
        "person5 = Person('Армен', 'Джигарханян')\n",
        "person6 = Person('Уокер', 'Крутой')\n",
        "\n",
        "' '.join([person3.name, person3.surname])"
      ],
      "execution_count": null,
      "outputs": [
        {
          "output_type": "execute_result",
          "data": {
            "application/vnd.google.colaboratory.intrinsic+json": {
              "type": "string"
            },
            "text/plain": [
              "'Стив Жобс'"
            ]
          },
          "metadata": {},
          "execution_count": 1
        }
      ]
    },
    {
      "cell_type": "markdown",
      "metadata": {
        "id": "3auCAjhKJM3o"
      },
      "source": [
        "## Задание 2\n",
        "Создайте класс `Employee` (сотрудник) не как расширение, а как композицию из класса `Person`. Т.е. класс `Person` должен входить как свойство класса `Employee`. Дополнительно добавьте свойства `position` (должность), `department` (подразделение), `chief` (руководитель), `salary` (оклад).\n",
        "\n",
        "Создайте из объектов `Person`, созданных в задании 1, сотрудников. Оставьте пустыми свойства department, chief, salary."
      ]
    },
    {
      "cell_type": "code",
      "metadata": {
        "colab": {
          "base_uri": "https://localhost:8080/",
          "height": 35
        },
        "id": "jafUNofkKY9J",
        "outputId": "03841e6f-2963-4970-ff97-832efbd5c0ce"
      },
      "source": [
        "class Employee:\n",
        "\n",
        "  def __init__(self, person, position=None, department=None, chief=None, salary=None):\n",
        "    self.person = person\n",
        "    self.position = position\n",
        "    self.department = department\n",
        "    self.chief = chief\n",
        "    self.salary = salary\n",
        "\n",
        "employer1 = Employee(person1)\n",
        "employer2 = Employee(person2)\n",
        "employer3 = Employee(person3, 'горничная')\n",
        "employer4 = Employee(person4)\n",
        "employer5 = Employee(person5)\n",
        "employer6 = Employee(person6)\n",
        "\n",
        "' '.join([employer3.person.name, employer3.person.surname, '-', employer3.position])"
      ],
      "execution_count": null,
      "outputs": [
        {
          "output_type": "execute_result",
          "data": {
            "application/vnd.google.colaboratory.intrinsic+json": {
              "type": "string"
            },
            "text/plain": [
              "'Стив Жобс - горничная'"
            ]
          },
          "metadata": {},
          "execution_count": 2
        }
      ]
    },
    {
      "cell_type": "markdown",
      "metadata": {
        "id": "Pdi2VTGWLtRQ"
      },
      "source": [
        "## Задание 3\n",
        "Создайте класс `Department` (подразделение) со свойствами `name` (название подразделения), `chief` (руководитель подразделения) и `staff` (персонал) - список, содержащий всех соотрудников данного подразделения (`Employee`) а также все структурные подразделения (объекты `Department`), входящие в данное подразделение как структурные единицы. \n",
        "\n",
        "Создайте полиморфный метод `add`, позволяющий добавить в список `staff` сотрудника либо целое подразделение.\n",
        "\n",
        "Создайте полиморфный метод `fire`, позволяющий очистить список `staff` от созданных в компании отделов и уволенных сотрудников."
      ]
    },
    {
      "cell_type": "code",
      "metadata": {
        "id": "-ul6y-zaMpUo"
      },
      "source": [
        "class Department:\n",
        "\n",
        "  def __init__(self, name, chief=None):\n",
        "    self.name = name\n",
        "    self.chief = chief\n",
        "    self.staff = []\n",
        "\n",
        "  def add(self, entity):\n",
        "    self.staff.append(entity)\n",
        "  \n",
        "  def fire(self):\n",
        "    self.staff = []"
      ],
      "execution_count": null,
      "outputs": []
    },
    {
      "cell_type": "markdown",
      "metadata": {
        "id": "MzUyx7GoO5uo"
      },
      "source": [
        "## Задание 4\n",
        "Создайте компанию (объект класса `Department`) с именем \"Анаконда\" и двумя отделами (объектами класса `Department`): \"отдел разработки\" и \"отдел продаж\"."
      ]
    },
    {
      "cell_type": "code",
      "metadata": {
        "id": "jl_wcRtFM1jo"
      },
      "source": [
        "company = Department('Анаконда')\n",
        "\n",
        "dep1 = Department('отдел разработки')\n",
        "dep2 = Department('отдел продаж')\n",
        "\n",
        "company.add(dep1)\n",
        "company.add(dep2)"
      ],
      "execution_count": null,
      "outputs": []
    },
    {
      "cell_type": "markdown",
      "metadata": {
        "id": "pWwoiMIsRZsr"
      },
      "source": [
        "## Задание 5\n",
        "\"примите на работу\" сотрудников, созданных в задании 2. Назначьте генерального директора компании и его секретаря, а также по 2 сотрудника в каждый отдел - начальника отдела и специалиста. Назначьте всем сотрудникам оклады на своё усмотрение. Назначьте руководителей всем сотрудникам. Назначьте всем сотрудникам их подразделение."
      ]
    },
    {
      "cell_type": "code",
      "metadata": {
        "id": "J0QWsC9ZQrSo"
      },
      "source": [
        "company.add(employer1)\n",
        "company.add(employer2)\n",
        "dep1.add(employer3)\n",
        "dep1.add(employer4)\n",
        "dep2.add(employer5)\n",
        "dep2.add(employer6)\n",
        "\n",
        "employer1.salary = 250.\n",
        "employer2.salary = 100.\n",
        "employer3.salary = 200.\n",
        "employer4.salary = 150.\n",
        "employer5.salary = 200.\n",
        "employer6.salary = 150.\n",
        "\n",
        "employer1.position = 'Ген. директор'\n",
        "employer2.position = 'Секретарь'\n",
        "employer3.position = 'Начальник отдела разработки'\n",
        "employer4.position = 'Программист'\n",
        "employer5.position = 'Начальник отдела продаж'\n",
        "employer6.position = 'Менеджер'\n",
        "\n",
        "employer1.chief = ' '.join([person1.name, person1.surname])\n",
        "employer2.chief = ' '.join([person1.name, person1.surname])\n",
        "employer3.chief = ' '.join([person3.name, person3.surname])\n",
        "employer4.chief = ' '.join([person3.name, person3.surname])\n",
        "employer5.chief = ' '.join([person5.name, person5.surname])\n",
        "employer6.chief = ' '.join([person5.name, person5.surname])\n",
        "\n",
        "employer1.department = company\n",
        "employer2.department = company\n",
        "employer3.department = dep1\n",
        "employer4.department = dep1\n",
        "employer5.department = dep2\n",
        "employer6.department = dep2"
      ],
      "execution_count": null,
      "outputs": []
    },
    {
      "cell_type": "markdown",
      "metadata": {
        "id": "o4p2-ypTAX5h"
      },
      "source": [
        "## Задание 6\n",
        "\n",
        "Создайте функцию, которая выведет на экран информацию о сотруднике, используя информацию из объектов и экземпляров, созданных в предыдущем задании: название компании, где он работает, порядковый номер сотрудника, фамилию, имя, должность, заработную плату, руководителя подразделения.\n",
        "\n",
        "Вызовите в цикле данную функцию для каждого сотрудника и распечатайте информацию по нему."
      ]
    },
    {
      "cell_type": "code",
      "metadata": {
        "id": "KzHR_lakTPOn"
      },
      "source": [
        "def emp_nfo(emp, num):\n",
        "    print('название компании:', company.name)\n",
        "    print(f'Порядковый номер сотрудника: {num + 1}')\n",
        "    print(f'Фамилия, имя: {emp.person.surname} {emp.person.name}')\n",
        "    print(f'Должность: {emp.position}')\n",
        "    print(f'Заработная плата: {emp.salary} тыс. рублей')\n",
        "    print(f'Руководитель подразделения: {emp.chief}')\n",
        "    print('****************************************************')"
      ],
      "execution_count": null,
      "outputs": []
    },
    {
      "cell_type": "code",
      "metadata": {
        "colab": {
          "base_uri": "https://localhost:8080/"
        },
        "id": "5xwZdJemTRHO",
        "outputId": "70219db6-28df-41bc-e08b-45f049f6dafc"
      },
      "source": [
        "for num, emp in enumerate([employer1, employer2, employer3, employer4, employer5, employer6]):\n",
        "    emp_nfo(emp, num)"
      ],
      "execution_count": null,
      "outputs": [
        {
          "output_type": "stream",
          "name": "stdout",
          "text": [
            "название компании: Анаконда\n",
            "Порядковый номер сотрудника: 1\n",
            "Фамилия, имя: Баба Али\n",
            "Должность: Ген. директор\n",
            "Заработная плата: 250.0 тыс. рублей\n",
            "Руководитель подразделения: Али Баба\n",
            "****************************************************\n",
            "название компании: Анаконда\n",
            "Порядковый номер сотрудника: 2\n",
            "Фамилия, имя: Горыныч Змей\n",
            "Должность: Секретарь\n",
            "Заработная плата: 100.0 тыс. рублей\n",
            "Руководитель подразделения: Али Баба\n",
            "****************************************************\n",
            "название компании: Анаконда\n",
            "Порядковый номер сотрудника: 3\n",
            "Фамилия, имя: Жобс Стив\n",
            "Должность: Начальник отдела разработки\n",
            "Заработная плата: 200.0 тыс. рублей\n",
            "Руководитель подразделения: Стив Жобс\n",
            "****************************************************\n",
            "название компании: Анаконда\n",
            "Порядковый номер сотрудника: 4\n",
            "Фамилия, имя: Джи-Ай Дядя\n",
            "Должность: Программист\n",
            "Заработная плата: 150.0 тыс. рублей\n",
            "Руководитель подразделения: Стив Жобс\n",
            "****************************************************\n",
            "название компании: Анаконда\n",
            "Порядковый номер сотрудника: 5\n",
            "Фамилия, имя: Джигарханян Армен\n",
            "Должность: Начальник отдела продаж\n",
            "Заработная плата: 200.0 тыс. рублей\n",
            "Руководитель подразделения: Армен Джигарханян\n",
            "****************************************************\n",
            "название компании: Анаконда\n",
            "Порядковый номер сотрудника: 6\n",
            "Фамилия, имя: Крутой Уокер\n",
            "Должность: Менеджер\n",
            "Заработная плата: 150.0 тыс. рублей\n",
            "Руководитель подразделения: Армен Джигарханян\n",
            "****************************************************\n"
          ]
        }
      ]
    },
    {
      "cell_type": "code",
      "metadata": {
        "id": "bHUau4dBXDrN"
      },
      "source": [
        ""
      ],
      "execution_count": null,
      "outputs": []
    },
    {
      "cell_type": "markdown",
      "metadata": {
        "id": "9O0m4okQWUEA"
      },
      "source": [
        "## Задание 7\n",
        "\"Увольте\" прежних сотрудников и \"наймите\" новых, с меньшим окладом.\n",
        "Напишите функцию, печатающую список всех сотрудников компании с указанием имени, фамилии, должности и оклада. В качестве аргумента функция должна получать объект - компанию."
      ]
    },
    {
      "cell_type": "code",
      "metadata": {
        "id": "UXxpFZd1UXUA"
      },
      "source": [
        "company.fire()"
      ],
      "execution_count": null,
      "outputs": []
    },
    {
      "cell_type": "code",
      "metadata": {
        "id": "C97P0nPVUYCG"
      },
      "source": [
        "dep1 = Department('отдел разработки')\n",
        "dep2 = Department('отдел продаж')\n",
        "company.add(dep1)\n",
        "company.add(dep2)\n",
        "\n",
        "employer1 = Employee(Person('Сергей', 'Сергеев'))\n",
        "employer2 = Employee(Person('Анна', 'Серова'))\n",
        "employer3 = Employee(Person('Василина', 'Васильчикова'))\n",
        "employer4 = Employee(Person('Пётр', 'Косой'))\n",
        "employer5 = Employee(Person('Ярослав', 'Мудров'))\n",
        "employer6 = Employee(Person('Маруся', 'Светличная'))\n",
        "\n",
        "company.add(employer1)\n",
        "company.add(employer2)\n",
        "dep1.add(employer3)\n",
        "dep1.add(employer4)\n",
        "dep2.add(employer5)\n",
        "dep2.add(employer6)\n",
        "\n",
        "employer1.salary = 250.\n",
        "employer2.salary = 100.\n",
        "employer3.salary = 200.\n",
        "employer4.salary = 150.\n",
        "employer5.salary = 200.\n",
        "employer6.salary = 150.\n",
        "\n",
        "employer1.position = 'Ген. директор'\n",
        "employer2.position = 'Секретарь'\n",
        "employer3.position = 'Начальник отдела разработки'\n",
        "employer4.position = 'Программист'\n",
        "employer5.position = 'Начальник отдела продаж'\n",
        "employer6.position = 'Менеджер'\n",
        "\n",
        "employer1.chief = ' '.join([person1.name, person1.surname])\n",
        "employer2.chief = ' '.join([person1.name, person1.surname])\n",
        "employer3.chief = ' '.join([person3.name, person3.surname])\n",
        "employer4.chief = ' '.join([person3.name, person3.surname])\n",
        "employer5.chief = ' '.join([person5.name, person5.surname])\n",
        "employer6.chief = ' '.join([person5.name, person5.surname])\n",
        "\n",
        "employer1.department = company\n",
        "employer2.department = company\n",
        "employer3.department = dep1\n",
        "employer4.department = dep1\n",
        "employer5.department = dep2\n",
        "employer6.department = dep2"
      ],
      "execution_count": null,
      "outputs": []
    },
    {
      "cell_type": "code",
      "metadata": {
        "colab": {
          "base_uri": "https://localhost:8080/"
        },
        "id": "v_n3JfKUVxg9",
        "outputId": "8a326908-f1dc-4923-93c5-d4ac3b9b628a"
      },
      "source": [
        "def list_staff(d):\n",
        "\n",
        "  def print_emp(e):\n",
        "    print(f'{e.person.name} {e.person.surname}, {e.position}, Оклад: {e.salary}')\n",
        "\n",
        "  for s in d.staff:\n",
        "    if isinstance(s, Employee):\n",
        "      print_emp(s)\n",
        "    if isinstance(s, Department):\n",
        "      list_staff(s)\n",
        "\n",
        "list_staff(company)"
      ],
      "execution_count": null,
      "outputs": [
        {
          "output_type": "stream",
          "name": "stdout",
          "text": [
            "Василина Васильчикова, Начальник отдела разработки, Оклад: 200.0\n",
            "Пётр Косой, Программист, Оклад: 150.0\n",
            "Ярослав Мудров, Начальник отдела продаж, Оклад: 200.0\n",
            "Маруся Светличная, Менеджер, Оклад: 150.0\n",
            "Сергей Сергеев, Ген. директор, Оклад: 250.0\n",
            "Анна Серова, Секретарь, Оклад: 100.0\n"
          ]
        }
      ]
    }
  ]
}