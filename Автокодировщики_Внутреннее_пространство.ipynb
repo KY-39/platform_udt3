{
  "nbformat": 4,
  "nbformat_minor": 0,
  "metadata": {
    "colab": {
      "name": "my \"Автокодировщики. Внутреннее пространство. - соревнование Kaggle\"",
      "provenance": [],
      "collapsed_sections": [],
      "include_colab_link": true
    },
    "kernelspec": {
      "name": "python3",
      "display_name": "Python 3"
    },
    "accelerator": "GPU"
  },
  "cells": [
    {
      "cell_type": "markdown",
      "metadata": {
        "id": "view-in-github",
        "colab_type": "text"
      },
      "source": [
        "<a href=\"https://colab.research.google.com/github/KY-39/platform_udt3/blob/main/%D0%90%D0%B2%D1%82%D0%BE%D0%BA%D0%BE%D0%B4%D0%B8%D1%80%D0%BE%D0%B2%D1%89%D0%B8%D0%BA%D0%B8_%D0%92%D0%BD%D1%83%D1%82%D1%80%D0%B5%D0%BD%D0%BD%D0%B5%D0%B5_%D0%BF%D1%80%D0%BE%D1%81%D1%82%D1%80%D0%B0%D0%BD%D1%81%D1%82%D0%B2%D0%BE.ipynb\" target=\"_parent\"><img src=\"https://colab.research.google.com/assets/colab-badge.svg\" alt=\"Open In Colab\"/></a>"
      ]
    },
    {
      "cell_type": "markdown",
      "metadata": {
        "id": "uVQjRFc6abYJ"
      },
      "source": [
        "## ООО \"Университет Цифровых Технологий платформа 3\""
      ]
    },
    {
      "cell_type": "markdown",
      "metadata": {
        "id": "OqxNE_33bjuB"
      },
      "source": [
        "# Автокодировщики. Внутреннее пространство. - соревнование Kaggle"
      ]
    },
    {
      "cell_type": "markdown",
      "metadata": {
        "id": "LIHVMw0XnXBp"
      },
      "source": [
        "! Не забудьте создать копию ноутбука и в ней работать, чтобы она у Вас сохранилась с Вашими данными работы и обучения в ячейках: Файл - сохранить копию на Диске.\n"
      ]
    },
    {
      "cell_type": "markdown",
      "metadata": {
        "id": "M77ZiM9UFnGz"
      },
      "source": [
        "### Установка и загрузка необходимых модулей"
      ]
    },
    {
      "cell_type": "code",
      "metadata": {
        "id": "GKPmn-wwtSTL",
        "colab": {
          "base_uri": "https://localhost:8080/"
        },
        "outputId": "3bf23b9a-0bc3-4bb6-a32a-9de16258bcda"
      },
      "source": [
        "# устанавливаем свежий Kaggle API\n",
        "!pip install --upgrade --force-reinstall --no-deps kaggle"
      ],
      "execution_count": null,
      "outputs": [
        {
          "output_type": "stream",
          "name": "stdout",
          "text": [
            "Collecting kaggle\n",
            "  Downloading kaggle-1.5.12.tar.gz (58 kB)\n",
            "\u001b[?25l\r\u001b[K     |█████▋                          | 10 kB 23.7 MB/s eta 0:00:01\r\u001b[K     |███████████▏                    | 20 kB 30.9 MB/s eta 0:00:01\r\u001b[K     |████████████████▊               | 30 kB 36.4 MB/s eta 0:00:01\r\u001b[K     |██████████████████████▎         | 40 kB 40.2 MB/s eta 0:00:01\r\u001b[K     |███████████████████████████▉    | 51 kB 39.9 MB/s eta 0:00:01\r\u001b[K     |████████████████████████████████| 58 kB 7.4 MB/s \n",
            "\u001b[?25hBuilding wheels for collected packages: kaggle\n",
            "  Building wheel for kaggle (setup.py) ... \u001b[?25l\u001b[?25hdone\n",
            "  Created wheel for kaggle: filename=kaggle-1.5.12-py3-none-any.whl size=73051 sha256=1ae06b8c46c7a9ee0ae9fcab1ed2d3f54437092a5b29f4aa26c7f7f3c359ecc6\n",
            "  Stored in directory: /root/.cache/pip/wheels/62/d6/58/5853130f941e75b2177d281eb7e44b4a98ed46dd155f556dc5\n",
            "Successfully built kaggle\n",
            "Installing collected packages: kaggle\n",
            "  Attempting uninstall: kaggle\n",
            "    Found existing installation: kaggle 1.5.12\n",
            "    Uninstalling kaggle-1.5.12:\n",
            "      Successfully uninstalled kaggle-1.5.12\n",
            "Successfully installed kaggle-1.5.12\n"
          ]
        }
      ]
    },
    {
      "cell_type": "markdown",
      "metadata": {
        "id": "i70Nwdf30uqS"
      },
      "source": [
        "! После установки рекомендуется перезапустить среду выполнения во избежание ошибок запуска ячеек."
      ]
    },
    {
      "cell_type": "code",
      "metadata": {
        "id": "nCnTHeB-Ysfj"
      },
      "source": [
        "import tensorflow as tf\n",
        "from tensorflow.keras.models import Model\n",
        "from tensorflow.keras.layers import Dense, Flatten, Reshape, Input, Conv2DTranspose, MaxPooling2D, Conv2D, BatchNormalization\n",
        "#from tensorflow.keras import backend as K \n",
        "from tensorflow.keras.optimizers import Adam \n",
        "#from tensorflow.keras.callbacks import ModelCheckpoint\n",
        "from tensorflow.keras import utils \n",
        "\n",
        "import matplotlib.pyplot as plt \n",
        "from tensorflow.keras.preprocessing import image \n",
        "import numpy as np \n",
        "import pandas as pd \n",
        "import random\n",
        "from PIL import Image \n",
        "from sklearn.model_selection import train_test_split\n",
        "from sklearn.utils import resample #для перемешивания выборок \n",
        "from skimage import color\n",
        "import cv2\n",
        "\n",
        "import os \n",
        "import time"
      ],
      "execution_count": null,
      "outputs": []
    },
    {
      "cell_type": "markdown",
      "metadata": {
        "id": "8DWgrLxLLzXd"
      },
      "source": [
        "# Определение мошеннических транзакций"
      ]
    },
    {
      "cell_type": "markdown",
      "metadata": {
        "id": "8USkuMZaxQP0"
      },
      "source": [
        "#Домашнее задание"
      ]
    },
    {
      "cell_type": "markdown",
      "metadata": {
        "id": "S2Q6N3YvxZHZ"
      },
      "source": [
        "##**Задание 1.** \n",
        "Загрузите из датасета по ссылке ниже базы транзакций - тренировочную и базу для тестирования. С помощью методов, изученных в занятиях по работе с таблицами Pandas, Анализ и обработка данных, и данном занятии, обработайте датасет и подайте в нейронную сеть, постаравшись добиться максимальной точности распознавания. Для улучшения обучения можно использовать также дополнительные методы, не рассмотренные в занятиях, слои, функции активации, менять параметры оптимизатора Adam и прочие гиперпараметры. Результаты рекомендуется заносить в таблицу для себя, чтобы можно было потом воспроизвести лучший вариант. Предсказание Вашей сети необходимо отправить в виде специального файла с расширением csv, чтобы войти в рейтинговую таблицу соревнования. Ответ можно улучшить и подавать результат несколько раз.\n",
        "\n",
        "Ссылка на соревнование:\n",
        "\n",
        "https://www.kaggle.com/t/15b5dc2793de454cb5499a2cdfe17311\n",
        "\n",
        "Ссылка на общемировое соревнование: \n",
        "\n",
        "https://www.kaggle.com/mlg-ulb/creditcardfraud\n"
      ]
    },
    {
      "cell_type": "markdown",
      "metadata": {
        "id": "dvoazCaTMb1m"
      },
      "source": [
        "Будем использовать датасет нормальных и мошеннических операций, ссылка на источники представлена ниже.\n",
        "\n",
        "Важно, чтобы компании, выпускающие кредитные карты, могли распознавать мошеннические транзакции по кредитным картам, чтобы с клиентов не взималась плата за товары, которые они не купили.\n",
        "\n",
        "**Содержание**\n",
        "\n",
        "Набор данных содержит транзакции, совершенные европейскими держателями кредитных карт в сентябре 2013 года.\n",
        "В этом наборе данных представлены транзакции, которые произошли за два дня, из которых у нас 492 мошенничества из 284 807 транзакций. Набор данных сильно несбалансирован, на положительный класс (мошенничество) приходится 0,172% всех транзакций.\n",
        "\n",
        "Он содержит только числовые входные переменные, которые являются результатом преобразования PCA. К сожалению, из-за проблем с конфиденциальностью мы не можем предоставить исходные функции и дополнительную справочную информацию о данных. Характеристики V1, V2,… V28 - это основные компоненты, полученные с помощью PCA, единственными функциями, которые не были преобразованы с помощью PCA, являются «Время» и «Сумма». Функция «Время» содержит секунды, прошедшие между каждой транзакцией и первой транзакцией в наборе данных. Функция «Сумма» - это сумма транзакции, эту функцию можно использовать для обучения, зависящего от стоимости, в зависимости от примера. Функция «Класс» - это переменная ответа, которая принимает значение 1 в случае мошенничества и 0 в противном случае.\n",
        "\n",
        "Учитывая коэффициент дисбаланса класса, мы рекомендуем измерять точность, используя площадь под кривой точности-отзыва (AUPRC). Точность матрицы неточностей не имеет значения для несбалансированной классификации.\n",
        "\n",
        "Представленный на соревнование датасет уже не имеет столбцов «Время» и «Сумма», а мошеннические операции смешаны с аналогичным числом нормальных и помещены в тестовую выборку для формирования ответов. Задача - обработать и подать данные так, чтобы получить наибольшее совпадение предсказанных меток с верными.\n",
        "\n",
        "Ссылка на источник:\n",
        "\n",
        "Сollaboration of Worldline and the Machine Learning Group (http://mlg.ulb.ac.be)\n",
        "\n",
        "https://www.researchgate.net/project/Fraud-detection-5\n",
        "\n",
        "Публикации по работе над датасетом:\n",
        "\n",
        "Andrea Dal Pozzolo, Olivier Caelen, Reid A. Johnson and Gianluca Bontempi. Calibrating Probability with Undersampling for Unbalanced Classification. In Symposium on Computational Intelligence and Data Mining (CIDM), IEEE, 2015\n",
        "\n",
        "Dal Pozzolo, Andrea; Caelen, Olivier; Le Borgne, Yann-Ael; Waterschoot, Serge; Bontempi, Gianluca. Learned lessons in credit card fraud detection from a practitioner perspective, Expert systems with applications,41,10,4915-4928,2014, Pergamon\n",
        "\n",
        "Dal Pozzolo, Andrea; Boracchi, Giacomo; Caelen, Olivier; Alippi, Cesare; Bontempi, Gianluca. Credit card fraud detection: a realistic modeling and a novel learning strategy, IEEE transactions on neural networks and learning systems,29,8,3784-3797,2018,IEEE\n",
        "\n",
        "Dal Pozzolo, Andrea Adaptive Machine learning for credit card fraud detection ULB MLG PhD thesis (supervised by G. Bontempi)\n",
        "\n",
        "Carcillo, Fabrizio; Dal Pozzolo, Andrea; Le Borgne, Yann-Aël; Caelen, Olivier; Mazzer, Yannis; Bontempi, Gianluca. Scarff: a scalable framework for streaming credit card fraud detection with Spark, Information fusion,41, 182-194,2018,Elsevier\n",
        "\n",
        "Carcillo, Fabrizio; Le Borgne, Yann-Aël; Caelen, Olivier; Bontempi, Gianluca. Streaming active learning strategies for real-life credit card fraud detection: assessment and visualization, International Journal of Data Science and Analytics, 5,4,285-300,2018,Springer International Publishing\n",
        "\n",
        "Bertrand Lebichot, Yann-Aël Le Borgne, Liyun He, Frederic Oblé, Gianluca Bontempi Deep-Learning Domain Adaptation Techniques for Credit Cards Fraud Detection, INNSBDDL 2019: Recent Advances in Big Data and Deep Learning, pp 78-88, 2019\n",
        "\n",
        "Fabrizio Carcillo, Yann-Aël Le Borgne, Olivier Caelen, Frederic Oblé, Gianluca Bontempi Combining Unsupervised and Supervised Learning in Credit Card Fraud Detection Information Sciences, 2019\n",
        "\n",
        "Yann-Aël Le Borgne, Gianluca Bontempi Machine Learning for Credit Card Fraud Detection - Practical Handbook\n"
      ]
    },
    {
      "cell_type": "markdown",
      "metadata": {
        "id": "MSVxut7ZBnPS"
      },
      "source": [
        "##Решение"
      ]
    },
    {
      "cell_type": "markdown",
      "metadata": {
        "id": "RWrlu3Vl2E3c"
      },
      "source": [
        "#### Создаём правильную папку для ключа Каггл"
      ]
    },
    {
      "cell_type": "code",
      "metadata": {
        "id": "SUpEMyAVEv3z"
      },
      "source": [
        "!mkdir ~/.kaggle # создаём папку для ключа kaggle в Колабе, она должна быть такой по требованию Каггл"
      ],
      "execution_count": null,
      "outputs": []
    },
    {
      "cell_type": "code",
      "metadata": {
        "colab": {
          "base_uri": "https://localhost:8080/"
        },
        "id": "Ll5gq1rhE1ay",
        "outputId": "401f46e2-48ce-4575-d670-f56e802602a0"
      },
      "source": [
        "# переходим в папку, теперь это путь по умолчанию\n",
        "%cd ~/.kaggle"
      ],
      "execution_count": null,
      "outputs": [
        {
          "output_type": "stream",
          "name": "stdout",
          "text": [
            "/root/.kaggle\n"
          ]
        }
      ]
    },
    {
      "cell_type": "code",
      "metadata": {
        "colab": {
          "base_uri": "https://localhost:8080/"
        },
        "id": "O1SgDLkZES1J",
        "outputId": "e55d90e1-be29-4785-a539-3ea2ec6eb3bb"
      },
      "source": [
        "#запускаем - подключаем Google Drive - будем скачивать с него, т.к. намного быстрее\n",
        "#после запуска переходим по ссылке, которая появится, для идентификации\n",
        "#копируем оттуда код authorization code и вставляем здесь в окошко\n",
        "from google.colab import drive\n",
        "drive.mount('/content/drive')"
      ],
      "execution_count": null,
      "outputs": [
        {
          "output_type": "stream",
          "name": "stdout",
          "text": [
            "Mounted at /content/drive\n"
          ]
        }
      ]
    },
    {
      "cell_type": "markdown",
      "metadata": {
        "id": "hLdGz2mH1hTr"
      },
      "source": [
        "#### Устанавливаем ключ Каггл, чтобы участвовать в соревнованиях\n",
        "\n",
        "Нужно зарегистрироваться на Каггл (https://www.kaggle.com/) и скачать ключ для взаимодействия с API соревновательной системы Каггла. После регистрации, справа появятся Ваши имя и фамилия - ссылка на персональную страницу. Нажмите на них. Когда страница загрузится, справа увидите Account. Нажимаете на надпись, затем прокручиваете страницу вниз, до вкладки API, там нажимаете Create New API Token. \n",
        "Ключ - это файл kaggle.json, который скачается после нажатия. Нужно скопировать его в папку Google Drive, предварительно её создав: My Drive/datasets/kaggle/ (из Колаба её адрес, который будем указывать для загрузки, такой: /content/drive/My Drive/datasets/kaggle/)."
      ]
    },
    {
      "cell_type": "code",
      "metadata": {
        "id": "AvC38DWIKTk9"
      },
      "source": [
        "# нужно зарегистрироваться на Каггл и скачать ключ для взаимодействия с API\n",
        "# соревновательной системы Каггла kaggle.json. Нужно скопировать его в папку\n",
        "# Google Drive, предварительно её создав: /content/drive/My Drive/datasets/kaggle/\n",
        "!cp '/content/drive/My Drive/datasets/kaggle/kaggle.json' '/root/.kaggle/kaggle.json'"
      ],
      "execution_count": null,
      "outputs": []
    },
    {
      "cell_type": "code",
      "metadata": {
        "colab": {
          "base_uri": "https://localhost:8080/"
        },
        "id": "lM42Vv3Dn-zR",
        "outputId": "eedc747a-bfba-4bf2-9434-f94fbb7dbab5"
      },
      "source": [
        "!kaggle --version"
      ],
      "execution_count": null,
      "outputs": [
        {
          "output_type": "stream",
          "name": "stdout",
          "text": [
            "Kaggle API 1.5.12\n"
          ]
        }
      ]
    },
    {
      "cell_type": "code",
      "metadata": {
        "id": "hfTt9PCBOHnE",
        "colab": {
          "base_uri": "https://localhost:8080/"
        },
        "outputId": "ff5a2f76-ef9c-4f92-9217-e4295f7223c4"
      },
      "source": [
        "!ls"
      ],
      "execution_count": null,
      "outputs": [
        {
          "output_type": "stream",
          "name": "stdout",
          "text": [
            "kaggle.json\t      submission.csv\t udt-3-autoencod.zip\n",
            "sampleSubmission.csv  train_test_fd.npz\n"
          ]
        }
      ]
    },
    {
      "cell_type": "markdown",
      "metadata": {
        "id": "WgbMKza8fqYv"
      },
      "source": [
        "###Подключаемся к системе соревнований, скачиваем датасет"
      ]
    },
    {
      "cell_type": "code",
      "metadata": {
        "colab": {
          "base_uri": "https://localhost:8080/"
        },
        "id": "3LTsZrt7OMch",
        "outputId": "b3e095d2-67fd-4b90-a24e-0416dfd5cf23"
      },
      "source": [
        "!kaggle competitions download -c udt-3-autoencod # скачиваем датасет и тестовые данные"
      ],
      "execution_count": null,
      "outputs": [
        {
          "output_type": "stream",
          "name": "stdout",
          "text": [
            "Downloading udt-3-autoencod.zip to /root/.kaggle\n",
            " 99% 59.0M/59.6M [00:01<00:00, 53.7MB/s]\n",
            "100% 59.6M/59.6M [00:01<00:00, 42.5MB/s]\n"
          ]
        }
      ]
    },
    {
      "cell_type": "markdown",
      "metadata": {
        "id": "K5w7lkJ39tGk"
      },
      "source": [
        "###Разархивируем датасет"
      ]
    },
    {
      "cell_type": "code",
      "metadata": {
        "colab": {
          "base_uri": "https://localhost:8080/"
        },
        "id": "Ryi1oXpzffef",
        "outputId": "30897c6a-bcb7-4bac-f16e-65b16228cbb8"
      },
      "source": [
        "# разархивируем данные\n",
        "import zipfile \n",
        "import io\n",
        "z = zipfile.ZipFile('udt-3-autoencod.zip', 'r') #загрузили из архива, распаковали\n",
        "z.extractall()\n",
        "!ls"
      ],
      "execution_count": null,
      "outputs": [
        {
          "output_type": "stream",
          "name": "stdout",
          "text": [
            "kaggle.json  sampleSubmission.csv  train_test_fd.npz  udt-3-autoencod.zip\n"
          ]
        }
      ]
    },
    {
      "cell_type": "code",
      "metadata": {
        "id": "VwT1sV8WTo7F"
      },
      "source": [
        "datasets = np.load('train_test_fd.npz')"
      ],
      "execution_count": null,
      "outputs": []
    },
    {
      "cell_type": "code",
      "metadata": {
        "id": "LlBEUnx4ajCw",
        "colab": {
          "base_uri": "https://localhost:8080/"
        },
        "outputId": "ec4bb076-719b-4295-f71b-41b64bfcfcfa"
      },
      "source": [
        "datasets.files"
      ],
      "execution_count": null,
      "outputs": [
        {
          "output_type": "execute_result",
          "data": {
            "text/plain": [
              "['x_train', 'x_test']"
            ]
          },
          "metadata": {},
          "execution_count": 91
        }
      ]
    },
    {
      "cell_type": "code",
      "metadata": {
        "id": "_kjZVFvNb7qf"
      },
      "source": [
        "x_train = datasets['x_train']\n",
        "x_test = datasets['x_test']"
      ],
      "execution_count": null,
      "outputs": []
    },
    {
      "cell_type": "markdown",
      "metadata": {
        "id": "j3GroYv0bQd5"
      },
      "source": [
        "Создадим энкодер в виде 2-х полносвязных слоев.\n",
        " \n",
        "Мы выбрали размерность скрытого пространства равной 2. Это сделано исключительно для возможности наглядного представления распределения точек. Однако для более точной работы автоэнкодера следует использовать скрытые пространства с большей размерностью, например 10."
      ]
    },
    {
      "cell_type": "code",
      "metadata": {
        "id": "wqkphoJC5zTE"
      },
      "source": [
        "latent_dim = 2\n",
        "inp = Input(shape=(29,))\n",
        "h1 = Dense(128, activation='relu')(inp)\n",
        "z = Dense(latent_dim)(h1)\n",
        "encoder = Model(inp, z)"
      ],
      "execution_count": null,
      "outputs": []
    },
    {
      "cell_type": "code",
      "metadata": {
        "colab": {
          "base_uri": "https://localhost:8080/"
        },
        "id": "TJoxBTHB-VmW",
        "outputId": "b95a511e-5bb6-49ea-e695-88683ecfb497"
      },
      "source": [
        "encoder.summary()"
      ],
      "execution_count": null,
      "outputs": [
        {
          "output_type": "stream",
          "name": "stdout",
          "text": [
            "Model: \"model_9\"\n",
            "_________________________________________________________________\n",
            " Layer (type)                Output Shape              Param #   \n",
            "=================================================================\n",
            " input_7 (InputLayer)        [(None, 29)]              0         \n",
            "                                                                 \n",
            " dense_12 (Dense)            (None, 128)               3840      \n",
            "                                                                 \n",
            " dense_13 (Dense)            (None, 2)                 258       \n",
            "                                                                 \n",
            "=================================================================\n",
            "Total params: 4,098\n",
            "Trainable params: 4,098\n",
            "Non-trainable params: 0\n",
            "_________________________________________________________________\n"
          ]
        }
      ]
    },
    {
      "cell_type": "markdown",
      "metadata": {
        "id": "yS0DZbqxLiSy"
      },
      "source": [
        "Аналогично создаем декодер"
      ]
    },
    {
      "cell_type": "code",
      "metadata": {
        "id": "d2EUinD5-V4L"
      },
      "source": [
        "inp_z = Input(shape=(latent_dim,))\n",
        "h2 = Dense(128, activation='relu')(inp_z)\n",
        "out = Dense(29)(h2) \n",
        "decoder = Model(inp_z, out)"
      ],
      "execution_count": null,
      "outputs": []
    },
    {
      "cell_type": "code",
      "metadata": {
        "colab": {
          "base_uri": "https://localhost:8080/"
        },
        "id": "GWoseXfq-V-v",
        "outputId": "17e9ff62-c2b6-4a26-d307-940340cdbe72"
      },
      "source": [
        "decoder.summary()"
      ],
      "execution_count": null,
      "outputs": [
        {
          "output_type": "stream",
          "name": "stdout",
          "text": [
            "Model: \"model_10\"\n",
            "_________________________________________________________________\n",
            " Layer (type)                Output Shape              Param #   \n",
            "=================================================================\n",
            " input_8 (InputLayer)        [(None, 2)]               0         \n",
            "                                                                 \n",
            " dense_14 (Dense)            (None, 128)               384       \n",
            "                                                                 \n",
            " dense_15 (Dense)            (None, 29)                3741      \n",
            "                                                                 \n",
            "=================================================================\n",
            "Total params: 4,125\n",
            "Trainable params: 4,125\n",
            "Non-trainable params: 0\n",
            "_________________________________________________________________\n"
          ]
        }
      ]
    },
    {
      "cell_type": "markdown",
      "metadata": {
        "id": "2nV9KlE1_nH_"
      },
      "source": [
        "Определим автоэнкодер как композицию энкодера и декодера:"
      ]
    },
    {
      "cell_type": "code",
      "metadata": {
        "id": "hrl1RFBL-WHq"
      },
      "source": [
        "ae = Model(inp, decoder(encoder(inp)))"
      ],
      "execution_count": null,
      "outputs": []
    },
    {
      "cell_type": "markdown",
      "metadata": {
        "id": "2gYBvQYfLolu"
      },
      "source": [
        "Компилируем автоэнкодер:"
      ]
    },
    {
      "cell_type": "code",
      "metadata": {
        "id": "_vr9OCcgr-mr",
        "colab": {
          "base_uri": "https://localhost:8080/"
        },
        "outputId": "1eb7fcd7-2fda-4d1a-f491-4837fc2523a6"
      },
      "source": [
        "ae.compile(optimizer=Adam(lr=0.001), loss='mse', metrics=['mae'])"
      ],
      "execution_count": null,
      "outputs": [
        {
          "output_type": "stream",
          "name": "stderr",
          "text": [
            "/usr/local/lib/python3.7/dist-packages/keras/optimizer_v2/adam.py:105: UserWarning: The `lr` argument is deprecated, use `learning_rate` instead.\n",
            "  super(Adam, self).__init__(name, **kwargs)\n"
          ]
        }
      ]
    },
    {
      "cell_type": "markdown",
      "metadata": {
        "id": "PqmUyJPTLskX"
      },
      "source": [
        "И запускаем обучение."
      ]
    },
    {
      "cell_type": "code",
      "metadata": {
        "colab": {
          "base_uri": "https://localhost:8080/"
        },
        "id": "fYAmPCVMAMC8",
        "outputId": "f6949e84-b9b5-413d-b25c-b0d58bb7400b"
      },
      "source": [
        "history = ae.fit(x_train, x_train, epochs=300, batch_size=1024, validation_split=0.1)"
      ],
      "execution_count": null,
      "outputs": [
        {
          "output_type": "stream",
          "name": "stdout",
          "text": [
            "Epoch 1/300\n",
            "250/250 [==============================] - 1s 4ms/step - loss: 0.8086 - mae: 0.5862 - val_loss: 0.6976 - val_mae: 0.5518\n",
            "Epoch 2/300\n",
            "250/250 [==============================] - 1s 3ms/step - loss: 0.6545 - mae: 0.5386 - val_loss: 0.6250 - val_mae: 0.5280\n",
            "Epoch 3/300\n",
            "250/250 [==============================] - 1s 3ms/step - loss: 0.6059 - mae: 0.5217 - val_loss: 0.5937 - val_mae: 0.5146\n",
            "Epoch 4/300\n",
            "250/250 [==============================] - 1s 3ms/step - loss: 0.5804 - mae: 0.5109 - val_loss: 0.5734 - val_mae: 0.5083\n",
            "Epoch 5/300\n",
            "250/250 [==============================] - 1s 3ms/step - loss: 0.5620 - mae: 0.5047 - val_loss: 0.5593 - val_mae: 0.5026\n",
            "Epoch 6/300\n",
            "250/250 [==============================] - 1s 3ms/step - loss: 0.5469 - mae: 0.4994 - val_loss: 0.5463 - val_mae: 0.4984\n",
            "Epoch 7/300\n",
            "250/250 [==============================] - 1s 3ms/step - loss: 0.5330 - mae: 0.4952 - val_loss: 0.5384 - val_mae: 0.4968\n",
            "Epoch 8/300\n",
            "250/250 [==============================] - 1s 3ms/step - loss: 0.5219 - mae: 0.4918 - val_loss: 0.5273 - val_mae: 0.4929\n",
            "Epoch 9/300\n",
            "250/250 [==============================] - 1s 3ms/step - loss: 0.5129 - mae: 0.4888 - val_loss: 0.5140 - val_mae: 0.4877\n",
            "Epoch 10/300\n",
            "250/250 [==============================] - 1s 3ms/step - loss: 0.5042 - mae: 0.4855 - val_loss: 0.5064 - val_mae: 0.4843\n",
            "Epoch 11/300\n",
            "250/250 [==============================] - 1s 3ms/step - loss: 0.4961 - mae: 0.4820 - val_loss: 0.4982 - val_mae: 0.4806\n",
            "Epoch 12/300\n",
            "250/250 [==============================] - 1s 3ms/step - loss: 0.4902 - mae: 0.4793 - val_loss: 0.4975 - val_mae: 0.4791\n",
            "Epoch 13/300\n",
            "250/250 [==============================] - 1s 3ms/step - loss: 0.4840 - mae: 0.4764 - val_loss: 0.4933 - val_mae: 0.4788\n",
            "Epoch 14/300\n",
            "250/250 [==============================] - 1s 3ms/step - loss: 0.4792 - mae: 0.4741 - val_loss: 0.4851 - val_mae: 0.4742\n",
            "Epoch 15/300\n",
            "250/250 [==============================] - 1s 3ms/step - loss: 0.4750 - mae: 0.4721 - val_loss: 0.4803 - val_mae: 0.4719\n",
            "Epoch 16/300\n",
            "250/250 [==============================] - 1s 3ms/step - loss: 0.4709 - mae: 0.4700 - val_loss: 0.4760 - val_mae: 0.4701\n",
            "Epoch 17/300\n",
            "250/250 [==============================] - 1s 3ms/step - loss: 0.4679 - mae: 0.4683 - val_loss: 0.4743 - val_mae: 0.4693\n",
            "Epoch 18/300\n",
            "250/250 [==============================] - 1s 3ms/step - loss: 0.4643 - mae: 0.4670 - val_loss: 0.4688 - val_mae: 0.4670\n",
            "Epoch 19/300\n",
            "250/250 [==============================] - 1s 3ms/step - loss: 0.4611 - mae: 0.4649 - val_loss: 0.4665 - val_mae: 0.4653\n",
            "Epoch 20/300\n",
            "250/250 [==============================] - 1s 3ms/step - loss: 0.4585 - mae: 0.4634 - val_loss: 0.4642 - val_mae: 0.4638\n",
            "Epoch 21/300\n",
            "250/250 [==============================] - 1s 3ms/step - loss: 0.4560 - mae: 0.4620 - val_loss: 0.4611 - val_mae: 0.4619\n",
            "Epoch 22/300\n",
            "250/250 [==============================] - 1s 3ms/step - loss: 0.4546 - mae: 0.4611 - val_loss: 0.4588 - val_mae: 0.4599\n",
            "Epoch 23/300\n",
            "250/250 [==============================] - 1s 3ms/step - loss: 0.4514 - mae: 0.4593 - val_loss: 0.4613 - val_mae: 0.4626\n",
            "Epoch 24/300\n",
            "250/250 [==============================] - 1s 3ms/step - loss: 0.4511 - mae: 0.4587 - val_loss: 0.4544 - val_mae: 0.4589\n",
            "Epoch 25/300\n",
            "250/250 [==============================] - 1s 4ms/step - loss: 0.4474 - mae: 0.4569 - val_loss: 0.4589 - val_mae: 0.4583\n",
            "Epoch 26/300\n",
            "250/250 [==============================] - 1s 3ms/step - loss: 0.4449 - mae: 0.4556 - val_loss: 0.4559 - val_mae: 0.4580\n",
            "Epoch 27/300\n",
            "250/250 [==============================] - 1s 4ms/step - loss: 0.4433 - mae: 0.4547 - val_loss: 0.4516 - val_mae: 0.4562\n",
            "Epoch 28/300\n",
            "250/250 [==============================] - 1s 3ms/step - loss: 0.4415 - mae: 0.4537 - val_loss: 0.4477 - val_mae: 0.4539\n",
            "Epoch 29/300\n",
            "250/250 [==============================] - 1s 3ms/step - loss: 0.4400 - mae: 0.4529 - val_loss: 0.4477 - val_mae: 0.4536\n",
            "Epoch 30/300\n",
            "250/250 [==============================] - 1s 3ms/step - loss: 0.4385 - mae: 0.4518 - val_loss: 0.4542 - val_mae: 0.4603\n",
            "Epoch 31/300\n",
            "250/250 [==============================] - 1s 3ms/step - loss: 0.4378 - mae: 0.4514 - val_loss: 0.4445 - val_mae: 0.4524\n",
            "Epoch 32/300\n",
            "250/250 [==============================] - 1s 3ms/step - loss: 0.4374 - mae: 0.4509 - val_loss: 0.4430 - val_mae: 0.4513\n",
            "Epoch 33/300\n",
            "250/250 [==============================] - 1s 3ms/step - loss: 0.4357 - mae: 0.4500 - val_loss: 0.4433 - val_mae: 0.4507\n",
            "Epoch 34/300\n",
            "250/250 [==============================] - 1s 3ms/step - loss: 0.4346 - mae: 0.4495 - val_loss: 0.4400 - val_mae: 0.4495\n",
            "Epoch 35/300\n",
            "250/250 [==============================] - 1s 3ms/step - loss: 0.4327 - mae: 0.4483 - val_loss: 0.4417 - val_mae: 0.4492\n",
            "Epoch 36/300\n",
            "250/250 [==============================] - 1s 3ms/step - loss: 0.4328 - mae: 0.4481 - val_loss: 0.4412 - val_mae: 0.4488\n",
            "Epoch 37/300\n",
            "250/250 [==============================] - 1s 3ms/step - loss: 0.4320 - mae: 0.4476 - val_loss: 0.4459 - val_mae: 0.4519\n",
            "Epoch 38/300\n",
            "250/250 [==============================] - 1s 3ms/step - loss: 0.4305 - mae: 0.4468 - val_loss: 0.4364 - val_mae: 0.4467\n",
            "Epoch 39/300\n",
            "250/250 [==============================] - 1s 3ms/step - loss: 0.4295 - mae: 0.4462 - val_loss: 0.4397 - val_mae: 0.4481\n",
            "Epoch 40/300\n",
            "250/250 [==============================] - 1s 3ms/step - loss: 0.4282 - mae: 0.4455 - val_loss: 0.4355 - val_mae: 0.4476\n",
            "Epoch 41/300\n",
            "250/250 [==============================] - 1s 3ms/step - loss: 0.4287 - mae: 0.4456 - val_loss: 0.4364 - val_mae: 0.4462\n",
            "Epoch 42/300\n",
            "250/250 [==============================] - 1s 3ms/step - loss: 0.4272 - mae: 0.4449 - val_loss: 0.4363 - val_mae: 0.4467\n",
            "Epoch 43/300\n",
            "250/250 [==============================] - 1s 3ms/step - loss: 0.4274 - mae: 0.4447 - val_loss: 0.4331 - val_mae: 0.4460\n",
            "Epoch 44/300\n",
            "250/250 [==============================] - 1s 3ms/step - loss: 0.4247 - mae: 0.4432 - val_loss: 0.4340 - val_mae: 0.4447\n",
            "Epoch 45/300\n",
            "250/250 [==============================] - 1s 3ms/step - loss: 0.4245 - mae: 0.4432 - val_loss: 0.4314 - val_mae: 0.4443\n",
            "Epoch 46/300\n",
            "250/250 [==============================] - 1s 3ms/step - loss: 0.4246 - mae: 0.4432 - val_loss: 0.4319 - val_mae: 0.4446\n",
            "Epoch 47/300\n",
            "250/250 [==============================] - 1s 3ms/step - loss: 0.4236 - mae: 0.4425 - val_loss: 0.4330 - val_mae: 0.4433\n",
            "Epoch 48/300\n",
            "250/250 [==============================] - 1s 3ms/step - loss: 0.4231 - mae: 0.4420 - val_loss: 0.4294 - val_mae: 0.4425\n",
            "Epoch 49/300\n",
            "250/250 [==============================] - 1s 3ms/step - loss: 0.4226 - mae: 0.4417 - val_loss: 0.4298 - val_mae: 0.4421\n",
            "Epoch 50/300\n",
            "250/250 [==============================] - 1s 3ms/step - loss: 0.4206 - mae: 0.4407 - val_loss: 0.4374 - val_mae: 0.4470\n",
            "Epoch 51/300\n",
            "250/250 [==============================] - 1s 4ms/step - loss: 0.4209 - mae: 0.4409 - val_loss: 0.4346 - val_mae: 0.4448\n",
            "Epoch 52/300\n",
            "250/250 [==============================] - 1s 3ms/step - loss: 0.4207 - mae: 0.4406 - val_loss: 0.4300 - val_mae: 0.4422\n",
            "Epoch 53/300\n",
            "250/250 [==============================] - 1s 3ms/step - loss: 0.4187 - mae: 0.4395 - val_loss: 0.4282 - val_mae: 0.4419\n",
            "Epoch 54/300\n",
            "250/250 [==============================] - 1s 3ms/step - loss: 0.4188 - mae: 0.4396 - val_loss: 0.4279 - val_mae: 0.4411\n",
            "Epoch 55/300\n",
            "250/250 [==============================] - 1s 3ms/step - loss: 0.4181 - mae: 0.4394 - val_loss: 0.4290 - val_mae: 0.4412\n",
            "Epoch 56/300\n",
            "250/250 [==============================] - 1s 3ms/step - loss: 0.4180 - mae: 0.4389 - val_loss: 0.4249 - val_mae: 0.4395\n",
            "Epoch 57/300\n",
            "250/250 [==============================] - 1s 3ms/step - loss: 0.4171 - mae: 0.4385 - val_loss: 0.4265 - val_mae: 0.4401\n",
            "Epoch 58/300\n",
            "250/250 [==============================] - 1s 3ms/step - loss: 0.4168 - mae: 0.4383 - val_loss: 0.4242 - val_mae: 0.4396\n",
            "Epoch 59/300\n",
            "250/250 [==============================] - 1s 3ms/step - loss: 0.4166 - mae: 0.4380 - val_loss: 0.4229 - val_mae: 0.4384\n",
            "Epoch 60/300\n",
            "250/250 [==============================] - 1s 3ms/step - loss: 0.4165 - mae: 0.4380 - val_loss: 0.4249 - val_mae: 0.4387\n",
            "Epoch 61/300\n",
            "250/250 [==============================] - 1s 3ms/step - loss: 0.4156 - mae: 0.4375 - val_loss: 0.4248 - val_mae: 0.4390\n",
            "Epoch 62/300\n",
            "250/250 [==============================] - 1s 3ms/step - loss: 0.4157 - mae: 0.4371 - val_loss: 0.4263 - val_mae: 0.4401\n",
            "Epoch 63/300\n",
            "250/250 [==============================] - 1s 3ms/step - loss: 0.4142 - mae: 0.4367 - val_loss: 0.4250 - val_mae: 0.4392\n",
            "Epoch 64/300\n",
            "250/250 [==============================] - 1s 3ms/step - loss: 0.4142 - mae: 0.4365 - val_loss: 0.4274 - val_mae: 0.4403\n",
            "Epoch 65/300\n",
            "250/250 [==============================] - 1s 3ms/step - loss: 0.4142 - mae: 0.4365 - val_loss: 0.4220 - val_mae: 0.4366\n",
            "Epoch 66/300\n",
            "250/250 [==============================] - 1s 3ms/step - loss: 0.4124 - mae: 0.4357 - val_loss: 0.4242 - val_mae: 0.4377\n",
            "Epoch 67/300\n",
            "250/250 [==============================] - 1s 3ms/step - loss: 0.4121 - mae: 0.4354 - val_loss: 0.4267 - val_mae: 0.4395\n",
            "Epoch 68/300\n",
            "250/250 [==============================] - 1s 3ms/step - loss: 0.4135 - mae: 0.4359 - val_loss: 0.4216 - val_mae: 0.4367\n",
            "Epoch 69/300\n",
            "250/250 [==============================] - 1s 3ms/step - loss: 0.4120 - mae: 0.4350 - val_loss: 0.4249 - val_mae: 0.4387\n",
            "Epoch 70/300\n",
            "250/250 [==============================] - 1s 3ms/step - loss: 0.4117 - mae: 0.4350 - val_loss: 0.4226 - val_mae: 0.4357\n",
            "Epoch 71/300\n",
            "250/250 [==============================] - 1s 3ms/step - loss: 0.4103 - mae: 0.4339 - val_loss: 0.4347 - val_mae: 0.4402\n",
            "Epoch 72/300\n",
            "250/250 [==============================] - 1s 3ms/step - loss: 0.4106 - mae: 0.4343 - val_loss: 0.4222 - val_mae: 0.4369\n",
            "Epoch 73/300\n",
            "250/250 [==============================] - 1s 3ms/step - loss: 0.4103 - mae: 0.4342 - val_loss: 0.4187 - val_mae: 0.4355\n",
            "Epoch 74/300\n",
            "250/250 [==============================] - 1s 3ms/step - loss: 0.4109 - mae: 0.4341 - val_loss: 0.4192 - val_mae: 0.4350\n",
            "Epoch 75/300\n",
            "250/250 [==============================] - 1s 3ms/step - loss: 0.4102 - mae: 0.4339 - val_loss: 0.4186 - val_mae: 0.4347\n",
            "Epoch 76/300\n",
            "250/250 [==============================] - 1s 3ms/step - loss: 0.4101 - mae: 0.4337 - val_loss: 0.4183 - val_mae: 0.4344\n",
            "Epoch 77/300\n",
            "250/250 [==============================] - 1s 3ms/step - loss: 0.4083 - mae: 0.4330 - val_loss: 0.4188 - val_mae: 0.4339\n",
            "Epoch 78/300\n",
            "250/250 [==============================] - 1s 3ms/step - loss: 0.4093 - mae: 0.4332 - val_loss: 0.4175 - val_mae: 0.4337\n",
            "Epoch 79/300\n",
            "250/250 [==============================] - 1s 3ms/step - loss: 0.4091 - mae: 0.4331 - val_loss: 0.4252 - val_mae: 0.4368\n",
            "Epoch 80/300\n",
            "250/250 [==============================] - 1s 3ms/step - loss: 0.4079 - mae: 0.4325 - val_loss: 0.4181 - val_mae: 0.4359\n",
            "Epoch 81/300\n",
            "250/250 [==============================] - 1s 3ms/step - loss: 0.4071 - mae: 0.4321 - val_loss: 0.4165 - val_mae: 0.4339\n",
            "Epoch 82/300\n",
            "250/250 [==============================] - 1s 3ms/step - loss: 0.4071 - mae: 0.4319 - val_loss: 0.4193 - val_mae: 0.4357\n",
            "Epoch 83/300\n",
            "250/250 [==============================] - 1s 3ms/step - loss: 0.4069 - mae: 0.4320 - val_loss: 0.4134 - val_mae: 0.4319\n",
            "Epoch 84/300\n",
            "250/250 [==============================] - 1s 3ms/step - loss: 0.4063 - mae: 0.4315 - val_loss: 0.4141 - val_mae: 0.4325\n",
            "Epoch 85/300\n",
            "250/250 [==============================] - 1s 3ms/step - loss: 0.4070 - mae: 0.4316 - val_loss: 0.4147 - val_mae: 0.4330\n",
            "Epoch 86/300\n",
            "250/250 [==============================] - 1s 3ms/step - loss: 0.4061 - mae: 0.4312 - val_loss: 0.4153 - val_mae: 0.4334\n",
            "Epoch 87/300\n",
            "250/250 [==============================] - 1s 3ms/step - loss: 0.4066 - mae: 0.4315 - val_loss: 0.4144 - val_mae: 0.4321\n",
            "Epoch 88/300\n",
            "250/250 [==============================] - 1s 3ms/step - loss: 0.4054 - mae: 0.4308 - val_loss: 0.4156 - val_mae: 0.4314\n",
            "Epoch 89/300\n",
            "250/250 [==============================] - 1s 3ms/step - loss: 0.4045 - mae: 0.4303 - val_loss: 0.4138 - val_mae: 0.4317\n",
            "Epoch 90/300\n",
            "250/250 [==============================] - 1s 3ms/step - loss: 0.4052 - mae: 0.4307 - val_loss: 0.4134 - val_mae: 0.4321\n",
            "Epoch 91/300\n",
            "250/250 [==============================] - 1s 3ms/step - loss: 0.4048 - mae: 0.4303 - val_loss: 0.4277 - val_mae: 0.4392\n",
            "Epoch 92/300\n",
            "250/250 [==============================] - 1s 3ms/step - loss: 0.4044 - mae: 0.4301 - val_loss: 0.4318 - val_mae: 0.4387\n",
            "Epoch 93/300\n",
            "250/250 [==============================] - 1s 3ms/step - loss: 0.4054 - mae: 0.4305 - val_loss: 0.4115 - val_mae: 0.4297\n",
            "Epoch 94/300\n",
            "250/250 [==============================] - 1s 3ms/step - loss: 0.4038 - mae: 0.4299 - val_loss: 0.4147 - val_mae: 0.4317\n",
            "Epoch 95/300\n",
            "250/250 [==============================] - 1s 3ms/step - loss: 0.4027 - mae: 0.4292 - val_loss: 0.4130 - val_mae: 0.4310\n",
            "Epoch 96/300\n",
            "250/250 [==============================] - 1s 3ms/step - loss: 0.4036 - mae: 0.4293 - val_loss: 0.4165 - val_mae: 0.4324\n",
            "Epoch 97/300\n",
            "250/250 [==============================] - 1s 3ms/step - loss: 0.4038 - mae: 0.4297 - val_loss: 0.4120 - val_mae: 0.4311\n",
            "Epoch 98/300\n",
            "250/250 [==============================] - 1s 3ms/step - loss: 0.4033 - mae: 0.4292 - val_loss: 0.4123 - val_mae: 0.4310\n",
            "Epoch 99/300\n",
            "250/250 [==============================] - 1s 3ms/step - loss: 0.4029 - mae: 0.4292 - val_loss: 0.4122 - val_mae: 0.4303\n",
            "Epoch 100/300\n",
            "250/250 [==============================] - 1s 3ms/step - loss: 0.4019 - mae: 0.4287 - val_loss: 0.4133 - val_mae: 0.4310\n",
            "Epoch 101/300\n",
            "250/250 [==============================] - 1s 3ms/step - loss: 0.4030 - mae: 0.4290 - val_loss: 0.4178 - val_mae: 0.4328\n",
            "Epoch 102/300\n",
            "250/250 [==============================] - 1s 3ms/step - loss: 0.4026 - mae: 0.4289 - val_loss: 0.4128 - val_mae: 0.4305\n",
            "Epoch 103/300\n",
            "250/250 [==============================] - 1s 3ms/step - loss: 0.4015 - mae: 0.4284 - val_loss: 0.4124 - val_mae: 0.4312\n",
            "Epoch 104/300\n",
            "250/250 [==============================] - 1s 3ms/step - loss: 0.4023 - mae: 0.4288 - val_loss: 0.4109 - val_mae: 0.4288\n",
            "Epoch 105/300\n",
            "250/250 [==============================] - 1s 3ms/step - loss: 0.4025 - mae: 0.4288 - val_loss: 0.4110 - val_mae: 0.4302\n",
            "Epoch 106/300\n",
            "250/250 [==============================] - 1s 4ms/step - loss: 0.4009 - mae: 0.4280 - val_loss: 0.4104 - val_mae: 0.4299\n",
            "Epoch 107/300\n",
            "250/250 [==============================] - 1s 4ms/step - loss: 0.4007 - mae: 0.4279 - val_loss: 0.4118 - val_mae: 0.4306\n",
            "Epoch 108/300\n",
            "250/250 [==============================] - 1s 4ms/step - loss: 0.4014 - mae: 0.4284 - val_loss: 0.4123 - val_mae: 0.4299\n",
            "Epoch 109/300\n",
            "250/250 [==============================] - 1s 3ms/step - loss: 0.4011 - mae: 0.4282 - val_loss: 0.4109 - val_mae: 0.4299\n",
            "Epoch 110/300\n",
            "250/250 [==============================] - 1s 3ms/step - loss: 0.4001 - mae: 0.4276 - val_loss: 0.4133 - val_mae: 0.4303\n",
            "Epoch 111/300\n",
            "250/250 [==============================] - 1s 3ms/step - loss: 0.4002 - mae: 0.4277 - val_loss: 0.4101 - val_mae: 0.4291\n",
            "Epoch 112/300\n",
            "250/250 [==============================] - 1s 3ms/step - loss: 0.4000 - mae: 0.4275 - val_loss: 0.4100 - val_mae: 0.4289\n",
            "Epoch 113/300\n",
            "250/250 [==============================] - 1s 3ms/step - loss: 0.4008 - mae: 0.4278 - val_loss: 0.4097 - val_mae: 0.4291\n",
            "Epoch 114/300\n",
            "250/250 [==============================] - 1s 3ms/step - loss: 0.3994 - mae: 0.4272 - val_loss: 0.4101 - val_mae: 0.4286\n",
            "Epoch 115/300\n",
            "250/250 [==============================] - 1s 3ms/step - loss: 0.4001 - mae: 0.4274 - val_loss: 0.4113 - val_mae: 0.4302\n",
            "Epoch 116/300\n",
            "250/250 [==============================] - 1s 3ms/step - loss: 0.4006 - mae: 0.4277 - val_loss: 0.4090 - val_mae: 0.4289\n",
            "Epoch 117/300\n",
            "250/250 [==============================] - 1s 4ms/step - loss: 0.3989 - mae: 0.4269 - val_loss: 0.4347 - val_mae: 0.4371\n",
            "Epoch 118/300\n",
            "250/250 [==============================] - 1s 3ms/step - loss: 0.4015 - mae: 0.4279 - val_loss: 0.4129 - val_mae: 0.4312\n",
            "Epoch 119/300\n",
            "250/250 [==============================] - 1s 4ms/step - loss: 0.3986 - mae: 0.4266 - val_loss: 0.4079 - val_mae: 0.4289\n",
            "Epoch 120/300\n",
            "250/250 [==============================] - 1s 3ms/step - loss: 0.3985 - mae: 0.4267 - val_loss: 0.4095 - val_mae: 0.4290\n",
            "Epoch 121/300\n",
            "250/250 [==============================] - 1s 3ms/step - loss: 0.3985 - mae: 0.4266 - val_loss: 0.4139 - val_mae: 0.4313\n",
            "Epoch 122/300\n",
            "250/250 [==============================] - 1s 4ms/step - loss: 0.3985 - mae: 0.4268 - val_loss: 0.4072 - val_mae: 0.4282\n",
            "Epoch 123/300\n",
            "250/250 [==============================] - 1s 3ms/step - loss: 0.3977 - mae: 0.4261 - val_loss: 0.4065 - val_mae: 0.4279\n",
            "Epoch 124/300\n",
            "250/250 [==============================] - 1s 3ms/step - loss: 0.3988 - mae: 0.4266 - val_loss: 0.4138 - val_mae: 0.4298\n",
            "Epoch 125/300\n",
            "250/250 [==============================] - 1s 3ms/step - loss: 0.3981 - mae: 0.4263 - val_loss: 0.4113 - val_mae: 0.4288\n",
            "Epoch 126/300\n",
            "250/250 [==============================] - 1s 3ms/step - loss: 0.3991 - mae: 0.4268 - val_loss: 0.4097 - val_mae: 0.4290\n",
            "Epoch 127/300\n",
            "250/250 [==============================] - 1s 3ms/step - loss: 0.3979 - mae: 0.4260 - val_loss: 0.4093 - val_mae: 0.4287\n",
            "Epoch 128/300\n",
            "250/250 [==============================] - 1s 3ms/step - loss: 0.3970 - mae: 0.4259 - val_loss: 0.4079 - val_mae: 0.4279\n",
            "Epoch 129/300\n",
            "250/250 [==============================] - 1s 3ms/step - loss: 0.3982 - mae: 0.4262 - val_loss: 0.4071 - val_mae: 0.4266\n",
            "Epoch 130/300\n",
            "250/250 [==============================] - 1s 3ms/step - loss: 0.3970 - mae: 0.4258 - val_loss: 0.4078 - val_mae: 0.4277\n",
            "Epoch 131/300\n",
            "250/250 [==============================] - 1s 3ms/step - loss: 0.3980 - mae: 0.4261 - val_loss: 0.4057 - val_mae: 0.4266\n",
            "Epoch 132/300\n",
            "250/250 [==============================] - 1s 3ms/step - loss: 0.3971 - mae: 0.4257 - val_loss: 0.4066 - val_mae: 0.4272\n",
            "Epoch 133/300\n",
            "250/250 [==============================] - 1s 3ms/step - loss: 0.3968 - mae: 0.4258 - val_loss: 0.4098 - val_mae: 0.4281\n",
            "Epoch 134/300\n",
            "250/250 [==============================] - 1s 3ms/step - loss: 0.3970 - mae: 0.4256 - val_loss: 0.4079 - val_mae: 0.4273\n",
            "Epoch 135/300\n",
            "250/250 [==============================] - 1s 3ms/step - loss: 0.3963 - mae: 0.4254 - val_loss: 0.4055 - val_mae: 0.4264\n",
            "Epoch 136/300\n",
            "250/250 [==============================] - 1s 3ms/step - loss: 0.3972 - mae: 0.4258 - val_loss: 0.4065 - val_mae: 0.4278\n",
            "Epoch 137/300\n",
            "250/250 [==============================] - 1s 3ms/step - loss: 0.3980 - mae: 0.4260 - val_loss: 0.4076 - val_mae: 0.4274\n",
            "Epoch 138/300\n",
            "250/250 [==============================] - 1s 3ms/step - loss: 0.3960 - mae: 0.4254 - val_loss: 0.4100 - val_mae: 0.4280\n",
            "Epoch 139/300\n",
            "250/250 [==============================] - 1s 3ms/step - loss: 0.3964 - mae: 0.4252 - val_loss: 0.4066 - val_mae: 0.4264\n",
            "Epoch 140/300\n",
            "250/250 [==============================] - 1s 3ms/step - loss: 0.3957 - mae: 0.4251 - val_loss: 0.4101 - val_mae: 0.4289\n",
            "Epoch 141/300\n",
            "250/250 [==============================] - 1s 3ms/step - loss: 0.3954 - mae: 0.4249 - val_loss: 0.4070 - val_mae: 0.4273\n",
            "Epoch 142/300\n",
            "250/250 [==============================] - 1s 3ms/step - loss: 0.3954 - mae: 0.4250 - val_loss: 0.4053 - val_mae: 0.4258\n",
            "Epoch 143/300\n",
            "250/250 [==============================] - 1s 3ms/step - loss: 0.3951 - mae: 0.4247 - val_loss: 0.4059 - val_mae: 0.4260\n",
            "Epoch 144/300\n",
            "250/250 [==============================] - 1s 3ms/step - loss: 0.3949 - mae: 0.4247 - val_loss: 0.4053 - val_mae: 0.4264\n",
            "Epoch 145/300\n",
            "250/250 [==============================] - 1s 3ms/step - loss: 0.3949 - mae: 0.4248 - val_loss: 0.4042 - val_mae: 0.4255\n",
            "Epoch 146/300\n",
            "250/250 [==============================] - 1s 3ms/step - loss: 0.3962 - mae: 0.4251 - val_loss: 0.4076 - val_mae: 0.4275\n",
            "Epoch 147/300\n",
            "250/250 [==============================] - 1s 3ms/step - loss: 0.3948 - mae: 0.4246 - val_loss: 0.4112 - val_mae: 0.4330\n",
            "Epoch 148/300\n",
            "250/250 [==============================] - 1s 3ms/step - loss: 0.3946 - mae: 0.4245 - val_loss: 0.4096 - val_mae: 0.4298\n",
            "Epoch 149/300\n",
            "250/250 [==============================] - 1s 3ms/step - loss: 0.3949 - mae: 0.4246 - val_loss: 0.4045 - val_mae: 0.4255\n",
            "Epoch 150/300\n",
            "250/250 [==============================] - 1s 3ms/step - loss: 0.3954 - mae: 0.4249 - val_loss: 0.4087 - val_mae: 0.4302\n",
            "Epoch 151/300\n",
            "250/250 [==============================] - 1s 3ms/step - loss: 0.3945 - mae: 0.4245 - val_loss: 0.4074 - val_mae: 0.4286\n",
            "Epoch 152/300\n",
            "250/250 [==============================] - 1s 3ms/step - loss: 0.3947 - mae: 0.4246 - val_loss: 0.4045 - val_mae: 0.4255\n",
            "Epoch 153/300\n",
            "250/250 [==============================] - 1s 3ms/step - loss: 0.3941 - mae: 0.4242 - val_loss: 0.4062 - val_mae: 0.4266\n",
            "Epoch 154/300\n",
            "250/250 [==============================] - 1s 3ms/step - loss: 0.3943 - mae: 0.4243 - val_loss: 0.4091 - val_mae: 0.4286\n",
            "Epoch 155/300\n",
            "250/250 [==============================] - 1s 3ms/step - loss: 0.3942 - mae: 0.4242 - val_loss: 0.4064 - val_mae: 0.4266\n",
            "Epoch 156/300\n",
            "250/250 [==============================] - 1s 3ms/step - loss: 0.3941 - mae: 0.4243 - val_loss: 0.4054 - val_mae: 0.4259\n",
            "Epoch 157/300\n",
            "250/250 [==============================] - 1s 3ms/step - loss: 0.3944 - mae: 0.4242 - val_loss: 0.4049 - val_mae: 0.4257\n",
            "Epoch 158/300\n",
            "250/250 [==============================] - 1s 4ms/step - loss: 0.3934 - mae: 0.4240 - val_loss: 0.4019 - val_mae: 0.4249\n",
            "Epoch 159/300\n",
            "250/250 [==============================] - 1s 3ms/step - loss: 0.3939 - mae: 0.4241 - val_loss: 0.4038 - val_mae: 0.4255\n",
            "Epoch 160/300\n",
            "250/250 [==============================] - 1s 3ms/step - loss: 0.3936 - mae: 0.4239 - val_loss: 0.4059 - val_mae: 0.4257\n",
            "Epoch 161/300\n",
            "250/250 [==============================] - 1s 3ms/step - loss: 0.3951 - mae: 0.4245 - val_loss: 0.4055 - val_mae: 0.4271\n",
            "Epoch 162/300\n",
            "250/250 [==============================] - 1s 3ms/step - loss: 0.3928 - mae: 0.4236 - val_loss: 0.4055 - val_mae: 0.4271\n",
            "Epoch 163/300\n",
            "250/250 [==============================] - 1s 3ms/step - loss: 0.3924 - mae: 0.4233 - val_loss: 0.4056 - val_mae: 0.4266\n",
            "Epoch 164/300\n",
            "250/250 [==============================] - 1s 3ms/step - loss: 0.3933 - mae: 0.4236 - val_loss: 0.4036 - val_mae: 0.4257\n",
            "Epoch 165/300\n",
            "250/250 [==============================] - 1s 3ms/step - loss: 0.3921 - mae: 0.4234 - val_loss: 0.4046 - val_mae: 0.4253\n",
            "Epoch 166/300\n",
            "250/250 [==============================] - 1s 3ms/step - loss: 0.3937 - mae: 0.4237 - val_loss: 0.4034 - val_mae: 0.4252\n",
            "Epoch 167/300\n",
            "250/250 [==============================] - 1s 3ms/step - loss: 0.3932 - mae: 0.4235 - val_loss: 0.4038 - val_mae: 0.4247\n",
            "Epoch 168/300\n",
            "250/250 [==============================] - 1s 3ms/step - loss: 0.3923 - mae: 0.4234 - val_loss: 0.4036 - val_mae: 0.4261\n",
            "Epoch 169/300\n",
            "250/250 [==============================] - 1s 3ms/step - loss: 0.3917 - mae: 0.4230 - val_loss: 0.4029 - val_mae: 0.4246\n",
            "Epoch 170/300\n",
            "250/250 [==============================] - 1s 3ms/step - loss: 0.3922 - mae: 0.4233 - val_loss: 0.4047 - val_mae: 0.4257\n",
            "Epoch 171/300\n",
            "250/250 [==============================] - 1s 3ms/step - loss: 0.3923 - mae: 0.4232 - val_loss: 0.4042 - val_mae: 0.4255\n",
            "Epoch 172/300\n",
            "250/250 [==============================] - 1s 3ms/step - loss: 0.3923 - mae: 0.4231 - val_loss: 0.4025 - val_mae: 0.4258\n",
            "Epoch 173/300\n",
            "250/250 [==============================] - 1s 3ms/step - loss: 0.3927 - mae: 0.4233 - val_loss: 0.4029 - val_mae: 0.4242\n",
            "Epoch 174/300\n",
            "250/250 [==============================] - 1s 3ms/step - loss: 0.3923 - mae: 0.4232 - val_loss: 0.4032 - val_mae: 0.4258\n",
            "Epoch 175/300\n",
            "250/250 [==============================] - 1s 3ms/step - loss: 0.3916 - mae: 0.4230 - val_loss: 0.4031 - val_mae: 0.4259\n",
            "Epoch 176/300\n",
            "250/250 [==============================] - 1s 3ms/step - loss: 0.3914 - mae: 0.4228 - val_loss: 0.4037 - val_mae: 0.4250\n",
            "Epoch 177/300\n",
            "250/250 [==============================] - 1s 3ms/step - loss: 0.3920 - mae: 0.4230 - val_loss: 0.4028 - val_mae: 0.4250\n",
            "Epoch 178/300\n",
            "250/250 [==============================] - 1s 3ms/step - loss: 0.3915 - mae: 0.4229 - val_loss: 0.4023 - val_mae: 0.4250\n",
            "Epoch 179/300\n",
            "250/250 [==============================] - 1s 3ms/step - loss: 0.3909 - mae: 0.4224 - val_loss: 0.4017 - val_mae: 0.4245\n",
            "Epoch 180/300\n",
            "250/250 [==============================] - 1s 3ms/step - loss: 0.3912 - mae: 0.4228 - val_loss: 0.4002 - val_mae: 0.4236\n",
            "Epoch 181/300\n",
            "250/250 [==============================] - 1s 3ms/step - loss: 0.3908 - mae: 0.4223 - val_loss: 0.4024 - val_mae: 0.4237\n",
            "Epoch 182/300\n",
            "250/250 [==============================] - 1s 3ms/step - loss: 0.3918 - mae: 0.4230 - val_loss: 0.4056 - val_mae: 0.4265\n",
            "Epoch 183/300\n",
            "250/250 [==============================] - 1s 3ms/step - loss: 0.3913 - mae: 0.4226 - val_loss: 0.4007 - val_mae: 0.4243\n",
            "Epoch 184/300\n",
            "250/250 [==============================] - 1s 4ms/step - loss: 0.3909 - mae: 0.4224 - val_loss: 0.4018 - val_mae: 0.4237\n",
            "Epoch 185/300\n",
            "250/250 [==============================] - 1s 3ms/step - loss: 0.3914 - mae: 0.4226 - val_loss: 0.4007 - val_mae: 0.4232\n",
            "Epoch 186/300\n",
            "250/250 [==============================] - 1s 3ms/step - loss: 0.3892 - mae: 0.4218 - val_loss: 0.4025 - val_mae: 0.4247\n",
            "Epoch 187/300\n",
            "250/250 [==============================] - 1s 3ms/step - loss: 0.3897 - mae: 0.4218 - val_loss: 0.4010 - val_mae: 0.4248\n",
            "Epoch 188/300\n",
            "250/250 [==============================] - 1s 3ms/step - loss: 0.3890 - mae: 0.4218 - val_loss: 0.4020 - val_mae: 0.4253\n",
            "Epoch 189/300\n",
            "250/250 [==============================] - 1s 3ms/step - loss: 0.3898 - mae: 0.4219 - val_loss: 0.4073 - val_mae: 0.4281\n",
            "Epoch 190/300\n",
            "250/250 [==============================] - 1s 3ms/step - loss: 0.3900 - mae: 0.4220 - val_loss: 0.4038 - val_mae: 0.4248\n",
            "Epoch 191/300\n",
            "250/250 [==============================] - 1s 3ms/step - loss: 0.3896 - mae: 0.4219 - val_loss: 0.4010 - val_mae: 0.4235\n",
            "Epoch 192/300\n",
            "250/250 [==============================] - 1s 3ms/step - loss: 0.3895 - mae: 0.4220 - val_loss: 0.3999 - val_mae: 0.4241\n",
            "Epoch 193/300\n",
            "250/250 [==============================] - 1s 3ms/step - loss: 0.3889 - mae: 0.4217 - val_loss: 0.4000 - val_mae: 0.4237\n",
            "Epoch 194/300\n",
            "250/250 [==============================] - 1s 3ms/step - loss: 0.3886 - mae: 0.4213 - val_loss: 0.4004 - val_mae: 0.4235\n",
            "Epoch 195/300\n",
            "250/250 [==============================] - 1s 3ms/step - loss: 0.3891 - mae: 0.4217 - val_loss: 0.4003 - val_mae: 0.4238\n",
            "Epoch 196/300\n",
            "250/250 [==============================] - 1s 3ms/step - loss: 0.3885 - mae: 0.4216 - val_loss: 0.3988 - val_mae: 0.4229\n",
            "Epoch 197/300\n",
            "250/250 [==============================] - 1s 3ms/step - loss: 0.3891 - mae: 0.4218 - val_loss: 0.4021 - val_mae: 0.4232\n",
            "Epoch 198/300\n",
            "250/250 [==============================] - 1s 3ms/step - loss: 0.3885 - mae: 0.4216 - val_loss: 0.4000 - val_mae: 0.4227\n",
            "Epoch 199/300\n",
            "250/250 [==============================] - 1s 3ms/step - loss: 0.3884 - mae: 0.4213 - val_loss: 0.3991 - val_mae: 0.4225\n",
            "Epoch 200/300\n",
            "250/250 [==============================] - 1s 3ms/step - loss: 0.3884 - mae: 0.4213 - val_loss: 0.4006 - val_mae: 0.4257\n",
            "Epoch 201/300\n",
            "250/250 [==============================] - 1s 4ms/step - loss: 0.3878 - mae: 0.4212 - val_loss: 0.3990 - val_mae: 0.4233\n",
            "Epoch 202/300\n",
            "250/250 [==============================] - 1s 3ms/step - loss: 0.3887 - mae: 0.4214 - val_loss: 0.3994 - val_mae: 0.4232\n",
            "Epoch 203/300\n",
            "250/250 [==============================] - 1s 3ms/step - loss: 0.3881 - mae: 0.4214 - val_loss: 0.4003 - val_mae: 0.4238\n",
            "Epoch 204/300\n",
            "250/250 [==============================] - 1s 3ms/step - loss: 0.3877 - mae: 0.4210 - val_loss: 0.3981 - val_mae: 0.4233\n",
            "Epoch 205/300\n",
            "250/250 [==============================] - 1s 3ms/step - loss: 0.3875 - mae: 0.4211 - val_loss: 0.3967 - val_mae: 0.4220\n",
            "Epoch 206/300\n",
            "250/250 [==============================] - 1s 3ms/step - loss: 0.3869 - mae: 0.4209 - val_loss: 0.3976 - val_mae: 0.4232\n",
            "Epoch 207/300\n",
            "250/250 [==============================] - 1s 4ms/step - loss: 0.3868 - mae: 0.4208 - val_loss: 0.3980 - val_mae: 0.4213\n",
            "Epoch 208/300\n",
            "250/250 [==============================] - 1s 3ms/step - loss: 0.3866 - mae: 0.4206 - val_loss: 0.4007 - val_mae: 0.4249\n",
            "Epoch 209/300\n",
            "250/250 [==============================] - 1s 3ms/step - loss: 0.3878 - mae: 0.4210 - val_loss: 0.3981 - val_mae: 0.4230\n",
            "Epoch 210/300\n",
            "250/250 [==============================] - 1s 3ms/step - loss: 0.3862 - mae: 0.4204 - val_loss: 0.3972 - val_mae: 0.4221\n",
            "Epoch 211/300\n",
            "250/250 [==============================] - 1s 3ms/step - loss: 0.3860 - mae: 0.4202 - val_loss: 0.3990 - val_mae: 0.4230\n",
            "Epoch 212/300\n",
            "250/250 [==============================] - 1s 3ms/step - loss: 0.3862 - mae: 0.4203 - val_loss: 0.3972 - val_mae: 0.4225\n",
            "Epoch 213/300\n",
            "250/250 [==============================] - 1s 3ms/step - loss: 0.3871 - mae: 0.4207 - val_loss: 0.3962 - val_mae: 0.4216\n",
            "Epoch 214/300\n",
            "250/250 [==============================] - 1s 3ms/step - loss: 0.3856 - mae: 0.4200 - val_loss: 0.3969 - val_mae: 0.4233\n",
            "Epoch 215/300\n",
            "250/250 [==============================] - 1s 3ms/step - loss: 0.3861 - mae: 0.4204 - val_loss: 0.3970 - val_mae: 0.4218\n",
            "Epoch 216/300\n",
            "250/250 [==============================] - 1s 3ms/step - loss: 0.3864 - mae: 0.4202 - val_loss: 0.3963 - val_mae: 0.4216\n",
            "Epoch 217/300\n",
            "250/250 [==============================] - 1s 4ms/step - loss: 0.3854 - mae: 0.4200 - val_loss: 0.3984 - val_mae: 0.4243\n",
            "Epoch 218/300\n",
            "250/250 [==============================] - 1s 4ms/step - loss: 0.3844 - mae: 0.4195 - val_loss: 0.4010 - val_mae: 0.4243\n",
            "Epoch 219/300\n",
            "250/250 [==============================] - 1s 3ms/step - loss: 0.3849 - mae: 0.4196 - val_loss: 0.4023 - val_mae: 0.4250\n",
            "Epoch 220/300\n",
            "250/250 [==============================] - 1s 3ms/step - loss: 0.3864 - mae: 0.4201 - val_loss: 0.3990 - val_mae: 0.4240\n",
            "Epoch 221/300\n",
            "250/250 [==============================] - 1s 3ms/step - loss: 0.3845 - mae: 0.4194 - val_loss: 0.4000 - val_mae: 0.4253\n",
            "Epoch 222/300\n",
            "250/250 [==============================] - 1s 4ms/step - loss: 0.3839 - mae: 0.4193 - val_loss: 0.3988 - val_mae: 0.4238\n",
            "Epoch 223/300\n",
            "250/250 [==============================] - 1s 3ms/step - loss: 0.3838 - mae: 0.4192 - val_loss: 0.3941 - val_mae: 0.4205\n",
            "Epoch 224/300\n",
            "250/250 [==============================] - 1s 3ms/step - loss: 0.3840 - mae: 0.4192 - val_loss: 0.3940 - val_mae: 0.4208\n",
            "Epoch 225/300\n",
            "250/250 [==============================] - 1s 3ms/step - loss: 0.3834 - mae: 0.4190 - val_loss: 0.3943 - val_mae: 0.4221\n",
            "Epoch 226/300\n",
            "250/250 [==============================] - 1s 3ms/step - loss: 0.3833 - mae: 0.4190 - val_loss: 0.3947 - val_mae: 0.4209\n",
            "Epoch 227/300\n",
            "250/250 [==============================] - 1s 3ms/step - loss: 0.3827 - mae: 0.4187 - val_loss: 0.3948 - val_mae: 0.4212\n",
            "Epoch 228/300\n",
            "250/250 [==============================] - 1s 4ms/step - loss: 0.3835 - mae: 0.4188 - val_loss: 0.3949 - val_mae: 0.4211\n",
            "Epoch 229/300\n",
            "250/250 [==============================] - 1s 4ms/step - loss: 0.3833 - mae: 0.4187 - val_loss: 0.3960 - val_mae: 0.4198\n",
            "Epoch 230/300\n",
            "250/250 [==============================] - 1s 3ms/step - loss: 0.3842 - mae: 0.4192 - val_loss: 0.3963 - val_mae: 0.4225\n",
            "Epoch 231/300\n",
            "250/250 [==============================] - 1s 3ms/step - loss: 0.3840 - mae: 0.4191 - val_loss: 0.3999 - val_mae: 0.4243\n",
            "Epoch 232/300\n",
            "250/250 [==============================] - 1s 3ms/step - loss: 0.3833 - mae: 0.4188 - val_loss: 0.3923 - val_mae: 0.4197\n",
            "Epoch 233/300\n",
            "250/250 [==============================] - 1s 3ms/step - loss: 0.3820 - mae: 0.4181 - val_loss: 0.3928 - val_mae: 0.4207\n",
            "Epoch 234/300\n",
            "250/250 [==============================] - 1s 3ms/step - loss: 0.3823 - mae: 0.4185 - val_loss: 0.3932 - val_mae: 0.4196\n",
            "Epoch 235/300\n",
            "250/250 [==============================] - 1s 3ms/step - loss: 0.3825 - mae: 0.4183 - val_loss: 0.3995 - val_mae: 0.4263\n",
            "Epoch 236/300\n",
            "250/250 [==============================] - 1s 3ms/step - loss: 0.3842 - mae: 0.4192 - val_loss: 0.3923 - val_mae: 0.4194\n",
            "Epoch 237/300\n",
            "250/250 [==============================] - 1s 3ms/step - loss: 0.3809 - mae: 0.4176 - val_loss: 0.3925 - val_mae: 0.4188\n",
            "Epoch 238/300\n",
            "250/250 [==============================] - 1s 3ms/step - loss: 0.3816 - mae: 0.4178 - val_loss: 0.3936 - val_mae: 0.4197\n",
            "Epoch 239/300\n",
            "250/250 [==============================] - 1s 3ms/step - loss: 0.3814 - mae: 0.4178 - val_loss: 0.3959 - val_mae: 0.4224\n",
            "Epoch 240/300\n",
            "250/250 [==============================] - 1s 3ms/step - loss: 0.3823 - mae: 0.4184 - val_loss: 0.3926 - val_mae: 0.4191\n",
            "Epoch 241/300\n",
            "250/250 [==============================] - 1s 3ms/step - loss: 0.3823 - mae: 0.4182 - val_loss: 0.3915 - val_mae: 0.4192\n",
            "Epoch 242/300\n",
            "250/250 [==============================] - 1s 3ms/step - loss: 0.3810 - mae: 0.4176 - val_loss: 0.3926 - val_mae: 0.4200\n",
            "Epoch 243/300\n",
            "250/250 [==============================] - 1s 3ms/step - loss: 0.3806 - mae: 0.4173 - val_loss: 0.3925 - val_mae: 0.4201\n",
            "Epoch 244/300\n",
            "250/250 [==============================] - 1s 3ms/step - loss: 0.3811 - mae: 0.4177 - val_loss: 0.3923 - val_mae: 0.4197\n",
            "Epoch 245/300\n",
            "250/250 [==============================] - 1s 3ms/step - loss: 0.3805 - mae: 0.4174 - val_loss: 0.3922 - val_mae: 0.4195\n",
            "Epoch 246/300\n",
            "250/250 [==============================] - 1s 3ms/step - loss: 0.3806 - mae: 0.4174 - val_loss: 0.3912 - val_mae: 0.4185\n",
            "Epoch 247/300\n",
            "250/250 [==============================] - 1s 3ms/step - loss: 0.3803 - mae: 0.4171 - val_loss: 0.3903 - val_mae: 0.4195\n",
            "Epoch 248/300\n",
            "250/250 [==============================] - 1s 3ms/step - loss: 0.3798 - mae: 0.4170 - val_loss: 0.3899 - val_mae: 0.4184\n",
            "Epoch 249/300\n",
            "250/250 [==============================] - 1s 3ms/step - loss: 0.3796 - mae: 0.4170 - val_loss: 0.3947 - val_mae: 0.4184\n",
            "Epoch 250/300\n",
            "250/250 [==============================] - 1s 3ms/step - loss: 0.3801 - mae: 0.4170 - val_loss: 0.3961 - val_mae: 0.4208\n",
            "Epoch 251/300\n",
            "250/250 [==============================] - 1s 3ms/step - loss: 0.3815 - mae: 0.4177 - val_loss: 0.3943 - val_mae: 0.4211\n",
            "Epoch 252/300\n",
            "250/250 [==============================] - 1s 3ms/step - loss: 0.3811 - mae: 0.4175 - val_loss: 0.3940 - val_mae: 0.4199\n",
            "Epoch 253/300\n",
            "250/250 [==============================] - 1s 3ms/step - loss: 0.3803 - mae: 0.4171 - val_loss: 0.3910 - val_mae: 0.4188\n",
            "Epoch 254/300\n",
            "250/250 [==============================] - 1s 3ms/step - loss: 0.3789 - mae: 0.4165 - val_loss: 0.3927 - val_mae: 0.4198\n",
            "Epoch 255/300\n",
            "250/250 [==============================] - 1s 3ms/step - loss: 0.3797 - mae: 0.4170 - val_loss: 0.3939 - val_mae: 0.4201\n",
            "Epoch 256/300\n",
            "250/250 [==============================] - 1s 3ms/step - loss: 0.3808 - mae: 0.4172 - val_loss: 0.3909 - val_mae: 0.4192\n",
            "Epoch 257/300\n",
            "250/250 [==============================] - 1s 3ms/step - loss: 0.3791 - mae: 0.4166 - val_loss: 0.3882 - val_mae: 0.4178\n",
            "Epoch 258/300\n",
            "250/250 [==============================] - 1s 3ms/step - loss: 0.3788 - mae: 0.4164 - val_loss: 0.3906 - val_mae: 0.4178\n",
            "Epoch 259/300\n",
            "250/250 [==============================] - 1s 3ms/step - loss: 0.3790 - mae: 0.4164 - val_loss: 0.3916 - val_mae: 0.4186\n",
            "Epoch 260/300\n",
            "250/250 [==============================] - 1s 3ms/step - loss: 0.3801 - mae: 0.4167 - val_loss: 0.3909 - val_mae: 0.4197\n",
            "Epoch 261/300\n",
            "250/250 [==============================] - 1s 3ms/step - loss: 0.3784 - mae: 0.4160 - val_loss: 0.3894 - val_mae: 0.4179\n",
            "Epoch 262/300\n",
            "250/250 [==============================] - 1s 3ms/step - loss: 0.3783 - mae: 0.4161 - val_loss: 0.3891 - val_mae: 0.4177\n",
            "Epoch 263/300\n",
            "250/250 [==============================] - 1s 3ms/step - loss: 0.3799 - mae: 0.4165 - val_loss: 0.3900 - val_mae: 0.4180\n",
            "Epoch 264/300\n",
            "250/250 [==============================] - 1s 3ms/step - loss: 0.3780 - mae: 0.4159 - val_loss: 0.3911 - val_mae: 0.4186\n",
            "Epoch 265/300\n",
            "250/250 [==============================] - 1s 3ms/step - loss: 0.3777 - mae: 0.4158 - val_loss: 0.3908 - val_mae: 0.4179\n",
            "Epoch 266/300\n",
            "250/250 [==============================] - 1s 3ms/step - loss: 0.3784 - mae: 0.4159 - val_loss: 0.3903 - val_mae: 0.4183\n",
            "Epoch 267/300\n",
            "250/250 [==============================] - 1s 4ms/step - loss: 0.3777 - mae: 0.4157 - val_loss: 0.3950 - val_mae: 0.4235\n",
            "Epoch 268/300\n",
            "250/250 [==============================] - 1s 3ms/step - loss: 0.3785 - mae: 0.4163 - val_loss: 0.3909 - val_mae: 0.4178\n",
            "Epoch 269/300\n",
            "250/250 [==============================] - 1s 3ms/step - loss: 0.3779 - mae: 0.4157 - val_loss: 0.3911 - val_mae: 0.4188\n",
            "Epoch 270/300\n",
            "250/250 [==============================] - 1s 3ms/step - loss: 0.3782 - mae: 0.4158 - val_loss: 0.4001 - val_mae: 0.4247\n",
            "Epoch 271/300\n",
            "250/250 [==============================] - 1s 4ms/step - loss: 0.3803 - mae: 0.4169 - val_loss: 0.3901 - val_mae: 0.4173\n",
            "Epoch 272/300\n",
            "250/250 [==============================] - 1s 4ms/step - loss: 0.3775 - mae: 0.4154 - val_loss: 0.3957 - val_mae: 0.4228\n",
            "Epoch 273/300\n",
            "250/250 [==============================] - 1s 3ms/step - loss: 0.3774 - mae: 0.4155 - val_loss: 0.3901 - val_mae: 0.4188\n",
            "Epoch 274/300\n",
            "250/250 [==============================] - 1s 3ms/step - loss: 0.3775 - mae: 0.4154 - val_loss: 0.3907 - val_mae: 0.4175\n",
            "Epoch 275/300\n",
            "250/250 [==============================] - 1s 3ms/step - loss: 0.3772 - mae: 0.4153 - val_loss: 0.3873 - val_mae: 0.4165\n",
            "Epoch 276/300\n",
            "250/250 [==============================] - 1s 4ms/step - loss: 0.3776 - mae: 0.4156 - val_loss: 0.3911 - val_mae: 0.4200\n",
            "Epoch 277/300\n",
            "250/250 [==============================] - 1s 4ms/step - loss: 0.3770 - mae: 0.4154 - val_loss: 0.3898 - val_mae: 0.4173\n",
            "Epoch 278/300\n",
            "250/250 [==============================] - 1s 4ms/step - loss: 0.3766 - mae: 0.4150 - val_loss: 0.3873 - val_mae: 0.4170\n",
            "Epoch 279/300\n",
            "250/250 [==============================] - 1s 4ms/step - loss: 0.3773 - mae: 0.4155 - val_loss: 0.3892 - val_mae: 0.4170\n",
            "Epoch 280/300\n",
            "250/250 [==============================] - 1s 4ms/step - loss: 0.3777 - mae: 0.4153 - val_loss: 0.3944 - val_mae: 0.4203\n",
            "Epoch 281/300\n",
            "250/250 [==============================] - 1s 3ms/step - loss: 0.3775 - mae: 0.4153 - val_loss: 0.3890 - val_mae: 0.4176\n",
            "Epoch 282/300\n",
            "250/250 [==============================] - 1s 4ms/step - loss: 0.3762 - mae: 0.4147 - val_loss: 0.3900 - val_mae: 0.4189\n",
            "Epoch 283/300\n",
            "250/250 [==============================] - 1s 4ms/step - loss: 0.3760 - mae: 0.4149 - val_loss: 0.3906 - val_mae: 0.4185\n",
            "Epoch 284/300\n",
            "250/250 [==============================] - 1s 4ms/step - loss: 0.3772 - mae: 0.4151 - val_loss: 0.3877 - val_mae: 0.4170\n",
            "Epoch 285/300\n",
            "250/250 [==============================] - 1s 4ms/step - loss: 0.3766 - mae: 0.4150 - val_loss: 0.3900 - val_mae: 0.4167\n",
            "Epoch 286/300\n",
            "250/250 [==============================] - 1s 3ms/step - loss: 0.3759 - mae: 0.4145 - val_loss: 0.3914 - val_mae: 0.4176\n",
            "Epoch 287/300\n",
            "250/250 [==============================] - 1s 3ms/step - loss: 0.3769 - mae: 0.4151 - val_loss: 0.3892 - val_mae: 0.4165\n",
            "Epoch 288/300\n",
            "250/250 [==============================] - 1s 3ms/step - loss: 0.3757 - mae: 0.4143 - val_loss: 0.3932 - val_mae: 0.4187\n",
            "Epoch 289/300\n",
            "250/250 [==============================] - 1s 3ms/step - loss: 0.3763 - mae: 0.4147 - val_loss: 0.3893 - val_mae: 0.4174\n",
            "Epoch 290/300\n",
            "250/250 [==============================] - 1s 3ms/step - loss: 0.3759 - mae: 0.4147 - val_loss: 0.3874 - val_mae: 0.4163\n",
            "Epoch 291/300\n",
            "250/250 [==============================] - 1s 3ms/step - loss: 0.3754 - mae: 0.4145 - val_loss: 0.3871 - val_mae: 0.4172\n",
            "Epoch 292/300\n",
            "250/250 [==============================] - 1s 3ms/step - loss: 0.3753 - mae: 0.4144 - val_loss: 0.3896 - val_mae: 0.4188\n",
            "Epoch 293/300\n",
            "250/250 [==============================] - 1s 4ms/step - loss: 0.3757 - mae: 0.4146 - val_loss: 0.3863 - val_mae: 0.4164\n",
            "Epoch 294/300\n",
            "250/250 [==============================] - 1s 3ms/step - loss: 0.3767 - mae: 0.4148 - val_loss: 0.3886 - val_mae: 0.4173\n",
            "Epoch 295/300\n",
            "250/250 [==============================] - 1s 4ms/step - loss: 0.3763 - mae: 0.4147 - val_loss: 0.3867 - val_mae: 0.4161\n",
            "Epoch 296/300\n",
            "250/250 [==============================] - 1s 4ms/step - loss: 0.3755 - mae: 0.4144 - val_loss: 0.3870 - val_mae: 0.4155\n",
            "Epoch 297/300\n",
            "250/250 [==============================] - 1s 4ms/step - loss: 0.3752 - mae: 0.4141 - val_loss: 0.3863 - val_mae: 0.4159\n",
            "Epoch 298/300\n",
            "250/250 [==============================] - 1s 4ms/step - loss: 0.3749 - mae: 0.4140 - val_loss: 0.3920 - val_mae: 0.4193\n",
            "Epoch 299/300\n",
            "250/250 [==============================] - 1s 3ms/step - loss: 0.3754 - mae: 0.4144 - val_loss: 0.3880 - val_mae: 0.4170\n",
            "Epoch 300/300\n",
            "250/250 [==============================] - 1s 4ms/step - loss: 0.3747 - mae: 0.4140 - val_loss: 0.3934 - val_mae: 0.4207\n"
          ]
        }
      ]
    },
    {
      "cell_type": "code",
      "metadata": {
        "id": "xRFSAFd3e98l",
        "colab": {
          "base_uri": "https://localhost:8080/",
          "height": 279
        },
        "outputId": "2a77a43f-b616-4332-c5b3-593dbbe51d7e"
      },
      "source": [
        "# Выводим график точности на обучающей выборке\n",
        "# label - имя графика в легенде\n",
        "plt.plot(history.history['loss'], \n",
        "         label='Погрешность на обучающем наборе')\n",
        "\n",
        "# Выводим график точности на проверочной выборке\n",
        "plt.plot(history.history['val_loss'], \n",
        "         label='Погрешность на проверочном наборе')\n",
        "\n",
        "# Выводим подписи осей\n",
        "plt.xlabel('Эпоха обучения')\n",
        "plt.ylabel('Доля верных ответов')\n",
        "\n",
        "# Выводим легенду\n",
        "plt.legend()\n",
        "plt.show()"
      ],
      "execution_count": null,
      "outputs": [
        {
          "output_type": "display_data",
          "data": {
            "image/png": "[encoded data removed]",
            "text/plain": [
              "<Figure size 432x288 with 1 Axes>"
            ]
          },
          "metadata": {
            "needs_background": "light"
          }
        }
      ]
    },
    {
      "cell_type": "markdown",
      "metadata": {
        "id": "A98XdpWS-y4R"
      },
      "source": [
        "###Делаем предсказания моделью"
      ]
    },
    {
      "cell_type": "markdown",
      "metadata": {
        "id": "ScIDqnrDI51e"
      },
      "source": [
        "####Создадим функцию для проверки транзакции:"
      ]
    },
    {
      "cell_type": "code",
      "metadata": {
        "id": "AxbEcTc2Xj-Y"
      },
      "source": [
        "def detectFraud(ae, x, std, threshold=2):\n",
        "    \"\"\"\n",
        "    :param ae: автоэнкодер (модель keras)\n",
        "    :param x: данные для проверки (размерности (1, 29))\n",
        "    :param std: среднеквадратичная ошибка автоэнкодера на нормальных данных\n",
        "    :param threshold: порог - параметр критерия. Операция считается мошеннической, если ошибка восстановления превышает среднюю более чем threshold раз.\n",
        "    :return: True for fraud, False for normal. \n",
        "    \"\"\"\n",
        "    pred = ae.predict(x)\n",
        "    e = (pred - x)**2\n",
        "    mse = e.mean()\n",
        "    return mse > threshold * std"
      ],
      "execution_count": null,
      "outputs": []
    },
    {
      "cell_type": "markdown",
      "metadata": {
        "id": "GPYL-41RI4Cm"
      },
      "source": [
        "####Применим нашу функцию ко всем тестовым операциям для разделения на нормальные и мошеннические"
      ]
    },
    {
      "cell_type": "code",
      "metadata": {
        "colab": {
          "base_uri": "https://localhost:8080/"
        },
        "id": "eU2sanwpXkLs",
        "outputId": "e4d59eb0-10c5-4e28-abff-15b1082e03ba"
      },
      "source": [
        "%%time\n",
        "threshold = 2\n",
        "std = 0.32\n",
        "count = 0\n",
        "detect_list = []\n",
        "for x in x_test:\n",
        "    x = x.reshape(1, 29)\n",
        "    if detectFraud(ae, x, std, threshold=threshold):\n",
        "        detect_list.append(1)\n",
        "        count += 1\n",
        "    else:\n",
        "        detect_list.append(0)\n",
        "print(\"Выявлено мошеннических операций: %d, всего: %d (%.1f%% всех тестовых данных)\" % (count, len(x_test), 100 * count / len(x_test)))"
      ],
      "execution_count": null,
      "outputs": [
        {
          "output_type": "stream",
          "name": "stdout",
          "text": [
            "Выявлено мошеннических операций: 504, всего: 984 (51.2% всех тестовых данных)\n",
            "CPU times: user 37 s, sys: 1.47 s, total: 38.4 s\n",
            "Wall time: 39.7 s\n"
          ]
        }
      ]
    },
    {
      "cell_type": "markdown",
      "metadata": {
        "id": "2dOvXk0YJIVC"
      },
      "source": [
        "и к нормальным операциям:"
      ]
    },
    {
      "cell_type": "code",
      "metadata": {
        "colab": {
          "base_uri": "https://localhost:8080/"
        },
        "id": "9Fv-aiaPGI0O",
        "outputId": "03d7d4cf-66ee-4cda-bbde-316b893c65e9"
      },
      "source": [
        "%%time\n",
        "count = 0\n",
        "x_train_short = x_train[:len(x_test)] # укоротили массив для увеличения скорости обработки\n",
        "for x in x_train_short:\n",
        "    x = x.reshape(1, 29)\n",
        "    if detectFraud(ae, x, std, threshold=threshold):\n",
        "        count += 1\n",
        "print(\"Выявлено мошеннических операций: %d, всего: %d (%.1f%% всех нормальных данных)\" % (count, len(x_train_short), 100 * count / len(x_train_short)))"
      ],
      "execution_count": null,
      "outputs": [
        {
          "output_type": "stream",
          "name": "stdout",
          "text": [
            "Выявлено мошеннических операций: 129, всего: 984 (13.1% всех нормальных данных)\n",
            "CPU times: user 35.4 s, sys: 1.48 s, total: 36.8 s\n",
            "Wall time: 36.5 s\n"
          ]
        }
      ]
    },
    {
      "cell_type": "markdown",
      "metadata": {
        "id": "zRk3EaaZIXO9"
      },
      "source": [
        "С уменьшением порога threshold увеличивается процент выявленных мошеннических транзакций, однако одновременно с этим увеличивается число ложных срабатываний на нормальных операциях."
      ]
    },
    {
      "cell_type": "markdown",
      "metadata": {
        "id": "zCBqQF1k-47m"
      },
      "source": [
        "###Переводим ответ в правильный формат, отсылаем для подсчёта рейтинга"
      ]
    },
    {
      "cell_type": "code",
      "metadata": {
        "id": "TgviiwL6fqUk",
        "colab": {
          "base_uri": "https://localhost:8080/",
          "height": 206
        },
        "outputId": "41240af0-01d5-4dee-d1c0-728fe8547d7c"
      },
      "source": [
        "submission = pd.DataFrame({\"Id\":range(1,len(x_test)+1),\"Label\":detect_list})\n",
        "submission.head()"
      ],
      "execution_count": null,
      "outputs": [
        {
          "output_type": "execute_result",
          "data": {
            "text/html": [
              "\n",
              "  <div id=\"df-d9e23769-f141-4885-b582-9a300d3bfee2\">\n",
              "    <div class=\"colab-df-container\">\n",
              "      <div>\n",
              "<style scoped>\n",
              "    .dataframe tbody tr th:only-of-type {\n",
              "        vertical-align: middle;\n",
              "    }\n",
              "\n",
              "    .dataframe tbody tr th {\n",
              "        vertical-align: top;\n",
              "    }\n",
              "\n",
              "    .dataframe thead th {\n",
              "        text-align: right;\n",
              "    }\n",
              "</style>\n",
              "<table border=\"1\" class=\"dataframe\">\n",
              "  <thead>\n",
              "    <tr style=\"text-align: right;\">\n",
              "      <th></th>\n",
              "      <th>Id</th>\n",
              "      <th>Label</th>\n",
              "    </tr>\n",
              "  </thead>\n",
              "  <tbody>\n",
              "    <tr>\n",
              "      <th>0</th>\n",
              "      <td>1</td>\n",
              "      <td>1</td>\n",
              "    </tr>\n",
              "    <tr>\n",
              "      <th>1</th>\n",
              "      <td>2</td>\n",
              "      <td>1</td>\n",
              "    </tr>\n",
              "    <tr>\n",
              "      <th>2</th>\n",
              "      <td>3</td>\n",
              "      <td>0</td>\n",
              "    </tr>\n",
              "    <tr>\n",
              "      <th>3</th>\n",
              "      <td>4</td>\n",
              "      <td>1</td>\n",
              "    </tr>\n",
              "    <tr>\n",
              "      <th>4</th>\n",
              "      <td>5</td>\n",
              "      <td>1</td>\n",
              "    </tr>\n",
              "  </tbody>\n",
              "</table>\n",
              "</div>\n",
              "      <button class=\"colab-df-convert\" onclick=\"convertToInteractive('df-d9e23769-f141-4885-b582-9a300d3bfee2')\"\n",
              "              title=\"Convert this dataframe to an interactive table.\"\n",
              "              style=\"display:none;\">\n",
              "        \n",
              "  <svg xmlns=\"http://www.w3.org/2000/svg\" height=\"24px\"viewBox=\"0 0 24 24\"\n",
              "       width=\"24px\">\n",
              "    <path d=\"M0 0h24v24H0V0z\" fill=\"none\"/>\n",
              "    <path d=\"M18.56 5.44l.94 2.06.94-2.06 2.06-.94-2.06-.94-.94-2.06-.94 2.06-2.06.94zm-11 1L8.5 8.5l.94-2.06 2.06-.94-2.06-.94L8.5 2.5l-.94 2.06-2.06.94zm10 10l.94 2.06.94-2.06 2.06-.94-2.06-.94-.94-2.06-.94 2.06-2.06.94z\"/><path d=\"M17.41 7.96l-1.37-1.37c-.4-.4-.92-.59-1.43-.59-.52 0-1.04.2-1.43.59L10.3 9.45l-7.72 7.72c-.78.78-.78 2.05 0 2.83L4 21.41c.39.39.9.59 1.41.59.51 0 1.02-.2 1.41-.59l7.78-7.78 2.81-2.81c.8-.78.8-2.07 0-2.86zM5.41 20L4 18.59l7.72-7.72 1.47 1.35L5.41 20z\"/>\n",
              "  </svg>\n",
              "      </button>\n",
              "      \n",
              "  <style>\n",
              "    .colab-df-container {\n",
              "      display:flex;\n",
              "      flex-wrap:wrap;\n",
              "      gap: 12px;\n",
              "    }\n",
              "\n",
              "    .colab-df-convert {\n",
              "      background-color: #E8F0FE;\n",
              "      border: none;\n",
              "      border-radius: 50%;\n",
              "      cursor: pointer;\n",
              "      display: none;\n",
              "      fill: #1967D2;\n",
              "      height: 32px;\n",
              "      padding: 0 0 0 0;\n",
              "      width: 32px;\n",
              "    }\n",
              "\n",
              "    .colab-df-convert:hover {\n",
              "      background-color: #E2EBFA;\n",
              "      box-shadow: 0px 1px 2px rgba(60, 64, 67, 0.3), 0px 1px 3px 1px rgba(60, 64, 67, 0.15);\n",
              "      fill: #174EA6;\n",
              "    }\n",
              "\n",
              "    [theme=dark] .colab-df-convert {\n",
              "      background-color: #3B4455;\n",
              "      fill: #D2E3FC;\n",
              "    }\n",
              "\n",
              "    [theme=dark] .colab-df-convert:hover {\n",
              "      background-color: #434B5C;\n",
              "      box-shadow: 0px 1px 3px 1px rgba(0, 0, 0, 0.15);\n",
              "      filter: drop-shadow(0px 1px 2px rgba(0, 0, 0, 0.3));\n",
              "      fill: #FFFFFF;\n",
              "    }\n",
              "  </style>\n",
              "\n",
              "      <script>\n",
              "        const buttonEl =\n",
              "          document.querySelector('#df-d9e23769-f141-4885-b582-9a300d3bfee2 button.colab-df-convert');\n",
              "        buttonEl.style.display =\n",
              "          google.colab.kernel.accessAllowed ? 'block' : 'none';\n",
              "\n",
              "        async function convertToInteractive(key) {\n",
              "          const element = document.querySelector('#df-d9e23769-f141-4885-b582-9a300d3bfee2');\n",
              "          const dataTable =\n",
              "            await google.colab.kernel.invokeFunction('convertToInteractive',\n",
              "                                                     [key], {});\n",
              "          if (!dataTable) return;\n",
              "\n",
              "          const docLinkHtml = 'Like what you see? Visit the ' +\n",
              "            '<a target=\"_blank\" href=https://colab.research.google.com/notebooks/data_table.ipynb>data table notebook</a>'\n",
              "            + ' to learn more about interactive tables.';\n",
              "          element.innerHTML = '';\n",
              "          dataTable['output_type'] = 'display_data';\n",
              "          await google.colab.output.renderOutput(dataTable, element);\n",
              "          const docLink = document.createElement('div');\n",
              "          docLink.innerHTML = docLinkHtml;\n",
              "          element.appendChild(docLink);\n",
              "        }\n",
              "      </script>\n",
              "    </div>\n",
              "  </div>\n",
              "  "
            ],
            "text/plain": [
              "   Id  Label\n",
              "0   1      1\n",
              "1   2      1\n",
              "2   3      0\n",
              "3   4      1\n",
              "4   5      1"
            ]
          },
          "metadata": {},
          "execution_count": 126
        }
      ]
    },
    {
      "cell_type": "markdown",
      "metadata": {
        "id": "sUZBHVjZK8et"
      },
      "source": [
        "Посмотрим распределение точек в скрытом пространстве"
      ]
    },
    {
      "cell_type": "code",
      "metadata": {
        "id": "DrNMeCzRXjsF"
      },
      "source": [
        "z_clean = encoder.predict(x_test[submission[\"Label\"]==0])\n",
        "z_fraud = encoder.predict(x_test[submission[\"Label\"]==1])"
      ],
      "execution_count": null,
      "outputs": []
    },
    {
      "cell_type": "code",
      "metadata": {
        "colab": {
          "base_uri": "https://localhost:8080/",
          "height": 716
        },
        "id": "Yh7zPTghROZy",
        "outputId": "e12261e4-967d-4583-da2c-9a7c5d4b2319"
      },
      "source": [
        "plt.figure(figsize=(12, 12))\n",
        "plt.scatter(z_clean[:, 0], z_clean[:, 1], label='normal')\n",
        "plt.scatter(z_fraud[:, 0], z_fraud[:, 1], label='fraud')\n",
        "plt.grid()\n",
        "plt.legend()\n",
        "plt.title('Распределение в скрытом пространстве')\n",
        "plt.show()"
      ],
      "execution_count": null,
      "outputs": [
        {
          "output_type": "display_data",
          "data": {
            "image/png": "[encoded data removed]",
            "text/plain": [
              "<Figure size 864x864 with 1 Axes>"
            ]
          },
          "metadata": {
            "needs_background": "light"
          }
        }
      ]
    },
    {
      "cell_type": "code",
      "metadata": {
        "id": "NUdWbDZax-C7"
      },
      "source": [
        "submission = submission.to_csv('./submission.csv', sep=',', index=False, header=True)"
      ],
      "execution_count": null,
      "outputs": []
    },
    {
      "cell_type": "code",
      "metadata": {
        "colab": {
          "base_uri": "https://localhost:8080/"
        },
        "id": "RgB5YhGDtCPW",
        "outputId": "d8f23dc0-6fee-49ac-cb52-6719be148b30"
      },
      "source": [
        "!kaggle competitions submit -c udt-3-autoencod -f submission.csv -m \"Message\""
      ],
      "execution_count": null,
      "outputs": [
        {
          "output_type": "stream",
          "name": "stdout",
          "text": [
            "100% 5.67k/5.67k [00:00<00:00, 14.1kB/s]\n",
            "Successfully submitted to Университет Цифровых Технологий платформа 3"
          ]
        }
      ]
    },
    {
      "cell_type": "markdown",
      "metadata": {
        "id": "X2OrarFaEENY"
      },
      "source": [
        "###Переходим по ссылке, чтобы увидеть таблицу лидеров.\n",
        "\n",
        "https://www.kaggle.com/c/udt-3-autoencod/leaderboard"
      ]
    },
    {
      "cell_type": "markdown",
      "metadata": {
        "id": "tGSUYQ147JnJ"
      },
      "source": [
        "#Литература\n",
        "\n",
        "1. https://www.tensorflow.org/tutorials/generative/autoencoder\n",
        "2. https://medium.com/analytics-vidhya/autoencoders-with-tensorflow-2f0a7315d161\n",
        "3. https://www.pyimagesearch.com/2020/02/17/autoencoders-with-keras-tensorflow-and-deep-learning/\n",
        "4. https://blog.keras.io/building-autoencoders-in-keras.html\n",
        "5. https://lilianweng.github.io/lil-log/2018/08/12/from-autoencoder-to-beta-vae.html\n"
      ]
    },
    {
      "cell_type": "markdown",
      "metadata": {
        "id": "fN_Wfcx8uC6f"
      },
      "source": [
        "##End"
      ]
    }
  ]
}